{
 "cells": [
  {
   "metadata": {},
   "cell_type": "markdown",
   "source": [
    "# Lab work #0\n",
    "# First Name, Last Name\n",
    "# Group No"
   ],
   "id": "19856d7f209c154"
  },
  {
   "metadata": {},
   "cell_type": "markdown",
   "source": "# 1. Using Numpy",
   "id": "439d8f9fb8e9d3e6"
  },
  {
   "metadata": {},
   "cell_type": "markdown",
   "source": [
    "**Task 1.1**: Create a NumPy array containing the numbers from 1 to 10. Perform the following operations:\n",
    "1. Find the sum of all elements in the array.\n",
    "2. Find the mean of all elements in the array.\n",
    "3. Find the maximum and minimum elements in the array.\n",
    "4. Sort the array in ascending order."
   ],
   "id": "9664209f0ca75c49"
  },
  {
   "metadata": {},
   "cell_type": "code",
   "outputs": [],
   "execution_count": null,
   "source": "# Your solution here\n",
   "id": "c99356f977a4f1e"
  },
  {
   "metadata": {},
   "cell_type": "code",
   "outputs": [],
   "execution_count": null,
   "source": "",
   "id": "d91cf8c78b0521f9"
  },
  {
   "metadata": {},
   "cell_type": "markdown",
   "source": [
    "**Task 1.2**: Create a 2x3 NumPy matrix containing the numbers from -10 to 10. Perform the following operations:\n",
    "1. Find the transpose of the matrix.\n",
    "2. Find the determinant of the matrix (It must throw an error for [non-square matrices](https://math.stackexchange.com/questions/854180/determinant-of-a-non-square-matrix)).\n",
    "3. Multiply the matrix by a scalar (e.g., 2).\n",
    "4. Add two matrices element-wise."
   ],
   "id": "cd68a7218384fad0"
  },
  {
   "metadata": {},
   "cell_type": "code",
   "outputs": [],
   "execution_count": null,
   "source": "# Your solution here\n",
   "id": "52c65df4d8dd8dbe"
  },
  {
   "metadata": {},
   "cell_type": "code",
   "outputs": [],
   "execution_count": null,
   "source": "",
   "id": "77c6c9b1315a44cc"
  },
  {
   "metadata": {},
   "cell_type": "markdown",
   "source": "# 2. Using Pandas",
   "id": "3916e844ece5ca62"
  },
  {
   "metadata": {},
   "cell_type": "markdown",
   "source": [
    "**Task 2.1**: Data Loading and Inspection\n",
    "\n",
    "Load the Iris dataset into a Pandas DataFrame and inspect the first few rows.\n",
    "\n",
    "Steps:\n",
    "1. Load the Iris dataset from a CSV file or directly from a URL.\n",
    "2. Display the first 5 rows of the DataFrame using the head() method.\n",
    "3. Use the info() method to get a concise summary of the DataFrame."
   ],
   "id": "e1417975a59963f2"
  },
  {
   "metadata": {},
   "cell_type": "code",
   "outputs": [],
   "execution_count": null,
   "source": "# Your solution here\n",
   "id": "550fd340ee6baca9"
  },
  {
   "metadata": {},
   "cell_type": "code",
   "outputs": [],
   "execution_count": null,
   "source": "",
   "id": "ed865753712fce90"
  },
  {
   "metadata": {},
   "cell_type": "markdown",
   "source": [
    "**Task 2.2**: Data Cleaning & Preprocessing\n",
    "\n",
    "Handle missing values and ensure data types are appropriate.\n",
    "\n",
    "Steps:\n",
    "1. Check for any missing values in the DataFrame using isnull().sum().\n",
    "2. If there are missing values, fill them with the mean of the respective column.\n",
    "3. Convert any necessary columns to the appropriate data type (e.g., categorical to numerical)."
   ],
   "id": "903f1945d7f09d14"
  },
  {
   "metadata": {},
   "cell_type": "code",
   "outputs": [],
   "execution_count": null,
   "source": "# Your solution here\n",
   "id": "76c5158f25ac450b"
  },
  {
   "metadata": {},
   "cell_type": "code",
   "outputs": [],
   "execution_count": null,
   "source": "",
   "id": "e911325ce4e90769"
  },
  {
   "metadata": {},
   "cell_type": "markdown",
   "source": [
    "**Task 2.3**: Data Analysis\n",
    "\n",
    "Perform basic statistical analysis on the dataset.\n",
    "\n",
    "Steps:\n",
    "1. Calculate the mean, median, and standard deviation of each numerical column.\n",
    "2. Group the data by the 'species' column and calculate the mean of each numerical column for each species.\n",
    "3. Use the describe() method to get a statistical summary of the DataFrame."
   ],
   "id": "391997c9d1cc0bf"
  },
  {
   "metadata": {},
   "cell_type": "code",
   "outputs": [],
   "execution_count": null,
   "source": "# Your solution here\n",
   "id": "338b55a9f6640d7a"
  },
  {
   "metadata": {},
   "cell_type": "code",
   "outputs": [],
   "execution_count": null,
   "source": "",
   "id": "3e9bfaf22af06104"
  },
  {
   "metadata": {},
   "cell_type": "markdown",
   "source": [
    "**Task 2.4**: Data Visualization\n",
    "\n",
    "Visualize the distribution of data using Pandas' built-in plotting capabilities.\n",
    "\n",
    "Steps:\n",
    "1. Create a histogram for each numerical column to visualize the distribution of data.\n",
    "2. Create a box plot for each numerical column to identify any outliers.\n",
    "3. Use a pair plot to visualize relationships between different numerical features."
   ],
   "id": "7d52507129b99a39"
  },
  {
   "metadata": {},
   "cell_type": "code",
   "outputs": [],
   "execution_count": null,
   "source": "# Your solution here\n",
   "id": "100c960551125ef9"
  },
  {
   "metadata": {},
   "cell_type": "code",
   "outputs": [],
   "execution_count": null,
   "source": "",
   "id": "aa81bcd0fac28d23"
  },
  {
   "metadata": {},
   "cell_type": "markdown",
   "source": "# 3. Using Matplotlib & Seaborn",
   "id": "68a1ded63fbb918"
  },
  {
   "metadata": {},
   "cell_type": "markdown",
   "source": [
    "**Task 3.1**: Basic Plotting with Matplotlib\n",
    "\n",
    "Create basic plots to visualize the Iris dataset.\n",
    "\n",
    "Steps:\n",
    "1. Create a scatter plot of sepal_length vs. sepal_width using Matplotlib.\n",
    "2. Color the points by species to visualize the separation between different classes.\n",
    "3. Add titles, labels, and a legend to the plot."
   ],
   "id": "f833b6d128a4da4e"
  },
  {
   "metadata": {},
   "cell_type": "code",
   "outputs": [],
   "execution_count": null,
   "source": "# Your solution here\n",
   "id": "98c96d6e0cd7cfdd"
  },
  {
   "metadata": {},
   "cell_type": "code",
   "outputs": [],
   "execution_count": null,
   "source": "",
   "id": "8224ba01a60cbc11"
  },
  {
   "metadata": {},
   "cell_type": "markdown",
   "source": [
    "**Task 3.2**: Advanced Visualizations with Seaborn\n",
    "\n",
    "Use Seaborn to create more complex and informative visualizations.\n",
    "\n",
    "Steps:\n",
    "\n",
    "1. Create a pair plot using Seaborn to visualize relationships between all pairs of features in the dataset.\n",
    "2. Use different colors to represent different species in the pair plot.\n",
    "3. Create a violin plot to visualize the distribution of petal_length for each species."
   ],
   "id": "86002ad433df1384"
  },
  {
   "metadata": {},
   "cell_type": "code",
   "outputs": [],
   "execution_count": null,
   "source": "# Your solution here\n",
   "id": "ddadbbbb01dcef26"
  },
  {
   "metadata": {},
   "cell_type": "code",
   "outputs": [],
   "execution_count": null,
   "source": "",
   "id": "736d102a39c4292b"
  },
  {
   "metadata": {},
   "cell_type": "markdown",
   "source": [
    "**Task 3.3**: Combining Matplotlib and Seaborn\n",
    "\n",
    "Combine the strengths of Matplotlib and Seaborn to create customized visualizations.\n",
    "\n",
    "Steps:\n",
    "\n",
    "1. Create a heatmap using Seaborn to visualize the correlation matrix of the numerical features in the dataset.\n",
    "2. Customize the heatmap by adjusting the color palette and adding annotations.\n",
    "3. Use Matplotlib to add a title and adjust the layout of the heatmap for better readability."
   ],
   "id": "ad09e48db7bce107"
  },
  {
   "metadata": {},
   "cell_type": "code",
   "outputs": [],
   "execution_count": null,
   "source": "# Your solution here\n",
   "id": "fb061361f532ae6d"
  },
  {
   "metadata": {},
   "cell_type": "code",
   "outputs": [],
   "execution_count": null,
   "source": "",
   "id": "d74b043169773a56"
  },
  {
   "metadata": {},
   "cell_type": "markdown",
   "source": "# BONUS TASK",
   "id": "c05fa96be2bc2a83"
  },
  {
   "metadata": {},
   "cell_type": "markdown",
   "source": "**Bonus Task** Found a code for making __interactive__ 3D plots using `Plotly`",
   "id": "73eb7e6525ae3b9e"
  },
  {
   "metadata": {},
   "cell_type": "code",
   "outputs": [],
   "execution_count": null,
   "source": "# Your solution here\n",
   "id": "56d4a9c26460f435"
  },
  {
   "metadata": {},
   "cell_type": "code",
   "outputs": [],
   "execution_count": null,
   "source": "",
   "id": "f08eb87a0570b8e0"
  },
  {
   "metadata": {},
   "cell_type": "code",
   "outputs": [],
   "execution_count": null,
   "source": "",
   "id": "5c87e93b04857c9"
  }
 ],
 "metadata": {
  "kernelspec": {
   "display_name": "Python 3",
   "language": "python",
   "name": "python3"
  },
  "language_info": {
   "codemirror_mode": {
    "name": "ipython",
    "version": 2
   },
   "file_extension": ".py",
   "mimetype": "text/x-python",
   "name": "python",
   "nbconvert_exporter": "python",
   "pygments_lexer": "ipython2",
   "version": "2.7.6"
  }
 },
 "nbformat": 4,
 "nbformat_minor": 5
}
