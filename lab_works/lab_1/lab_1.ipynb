{
 "cells": [
  {
   "metadata": {},
   "cell_type": "markdown",
   "source": [
    "# Lab work #1\n",
    "# First Name, Last Name\n",
    "# Group No"
   ],
   "id": "9fe758273bebea45"
  },
  {
   "metadata": {},
   "cell_type": "markdown",
   "source": [
    "# List of source datasets\n",
    "1. [Car Price Dataset](https://www.kaggle.com/datasets/asinow/car-price-dataset)\n",
    "2. [Diabetes Dataset](https://www.kaggle.com/datasets/asinow/diabetes-dataset)\n",
    "3. [U.S Post College Salaries](https://www.kaggle.com/datasets/rathoddharmendra/post-college-salaries)\n",
    "4. [Red Wine Quality](https://www.kaggle.com/datasets/uciml/red-wine-quality-cortez-et-al-2009)\n",
    "5. [Arrest Data in Los Angeles](https://www.kaggle.com/datasets/arsri1/arrest-data-in-los-angeles)\n",
    "6. [Daily Climate time series data](https://www.kaggle.com/datasets/sumanthvrao/daily-climate-time-series-data)\n",
    "7. [Digital Literacy Education Dataset](https://www.kaggle.com/datasets/ziya07/digital-literacy-education-dataset)\n",
    "8. [Global Country Information Dataset 2023](https://www.kaggle.com/datasets/nelgiriyewithana/countries-of-the-world-2023)\n",
    "9. [College Basketball Dataset](https://www.kaggle.com/datasets/andrewsundberg/college-basketball-dataset)\n",
    "10. [Pulsar Dataset HTRU2](https://www.kaggle.com/datasets/charitarth/pulsar-dataset-htru2)\n",
    "11. [Travel Review Rating Dataset](https://www.kaggle.com/datasets/wirachleelakiatiwong/travel-review-rating-dataset)\n",
    "12. [School Attendance by District 2021-2022](https://www.kaggle.com/datasets/usmanlovescode/school-attendance-b-district-2021-2022)"
   ],
   "id": "ce8228341dd57faa"
  },
  {
   "metadata": {},
   "cell_type": "markdown",
   "source": [
    "## Task 1: Data Cleaning and Preparation\n",
    "**Objective:** Clean and prepare a dataset for analysis.\n",
    "\n",
    "**Instructions:**\n",
    "1. Load a dataset of your choice (from proposed Datasets).\n",
    "2. Handle missing values by either removing them or imputing with appropriate values.\n",
    "3. Remove any duplicate rows.\n",
    "4. Convert categorical variables into numerical format using techniques like one-hot encoding (but be aware of sparse and non-sparse one-hot encoding).\n",
    "5. Normalize or standardize numerical features.\n",
    "6. Save the cleaned dataset to a new CSV file."
   ],
   "id": "f39ac66a6e452abc"
  },
  {
   "metadata": {},
   "cell_type": "code",
   "outputs": [],
   "execution_count": null,
   "source": "",
   "id": "82f43ce09fb0ebd0"
  },
  {
   "metadata": {},
   "cell_type": "code",
   "outputs": [],
   "execution_count": null,
   "source": "",
   "id": "33e6721d4de0c60e"
  },
  {
   "metadata": {},
   "cell_type": "code",
   "outputs": [],
   "execution_count": null,
   "source": "",
   "id": "4f2ddeafe755dea5"
  },
  {
   "metadata": {},
   "cell_type": "code",
   "outputs": [],
   "execution_count": null,
   "source": "",
   "id": "f453a45e38519b51"
  },
  {
   "metadata": {},
   "cell_type": "markdown",
   "source": [
    "## Task 2: Exploratory Data Analysis (EDA)\n",
    "**Objective:** Perform exploratory data analysis to understand the dataset.\n",
    "\n",
    "**Instructions:**\n",
    "1. Use the cleaned dataset from Task 1.\n",
    "2. Calculate basic statistics (mean, median, mode, standard deviation) for numerical features.\n",
    "3. Visualize the distribution of numerical features using histograms and box plots.\n",
    "4. Create scatter plots to visualize relationships between pairs of numerical features.\n",
    "5. Use Seaborn to create a pair plot or heatmap to visualize correlations between features.\n",
    "6. Summarize your findings in a short report."
   ],
   "id": "9f38cab01035be76"
  },
  {
   "metadata": {},
   "cell_type": "code",
   "outputs": [],
   "execution_count": null,
   "source": "",
   "id": "fb316d388faf96ba"
  },
  {
   "metadata": {},
   "cell_type": "code",
   "outputs": [],
   "execution_count": null,
   "source": "",
   "id": "4c6deca0957638d7"
  },
  {
   "metadata": {},
   "cell_type": "code",
   "outputs": [],
   "execution_count": null,
   "source": "",
   "id": "7b5ba4376ac54510"
  },
  {
   "metadata": {},
   "cell_type": "markdown",
   "source": [
    "## Task 3: Feature Engineering\n",
    "**Objective:** Create new features to improve the dataset's predictive power.\n",
    "\n",
    "**Instructions:**\n",
    "1. Use the cleaned dataset from Task 1.\n",
    "2. Create new features based on existing ones (e.g., age groups, interaction terms).\n",
    "3. Use domain knowledge to generate meaningful features.\n",
    "4. Analyze the impact of the new features on the dataset's distribution and correlations.\n",
    "5. Visualize the new features using appropriate plots."
   ],
   "id": "5d4381dcc7b03e8"
  },
  {
   "metadata": {},
   "cell_type": "code",
   "outputs": [],
   "execution_count": null,
   "source": "",
   "id": "2d36be5b79772f2b"
  },
  {
   "metadata": {},
   "cell_type": "code",
   "outputs": [],
   "execution_count": null,
   "source": "",
   "id": "e2a9dbb316f686c9"
  },
  {
   "metadata": {},
   "cell_type": "code",
   "outputs": [],
   "execution_count": null,
   "source": "",
   "id": "dbc1830b20db3ab8"
  },
  {
   "metadata": {},
   "cell_type": "markdown",
   "source": [
    "## Task 4: Data Visualization\n",
    "**Objective:** Create insightful visualizations to communicate findings.\n",
    "\n",
    "**Instructions:**\n",
    "1. Use the dataset with new features from Task 3.\n",
    "2. Create a bar chart to compare categorical features.\n",
    "3. Use a line plot to show trends over time (if applicable).\n",
    "4. Create a heatmap to visualize correlations between features.\n",
    "5. Use Seaborn to create a violin plot or swarm plot to compare distributions across categories.\n",
    "6. Combine multiple plots into a single figure using Matplotlib's subplot functionality."
   ],
   "id": "1524ea1e6efb470f"
  },
  {
   "metadata": {},
   "cell_type": "code",
   "outputs": [],
   "execution_count": null,
   "source": "",
   "id": "ce53dae43410eac"
  },
  {
   "metadata": {},
   "cell_type": "code",
   "outputs": [],
   "execution_count": null,
   "source": "",
   "id": "94ace3960d944584"
  },
  {
   "metadata": {},
   "cell_type": "code",
   "outputs": [],
   "execution_count": null,
   "source": "",
   "id": "5814744fde63578e"
  },
  {
   "metadata": {},
   "cell_type": "code",
   "outputs": [],
   "execution_count": null,
   "source": "",
   "id": "84a4b02146038a39"
  }
 ],
 "metadata": {
  "kernelspec": {
   "display_name": "Python 3",
   "language": "python",
   "name": "python3"
  },
  "language_info": {
   "codemirror_mode": {
    "name": "ipython",
    "version": 2
   },
   "file_extension": ".py",
   "mimetype": "text/x-python",
   "name": "python",
   "nbconvert_exporter": "python",
   "pygments_lexer": "ipython2",
   "version": "2.7.6"
  }
 },
 "nbformat": 4,
 "nbformat_minor": 5
}
