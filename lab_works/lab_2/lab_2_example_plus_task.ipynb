{
 "cells": [
  {
   "metadata": {},
   "cell_type": "markdown",
   "source": [
    "# Example of the solution the regression problem\n",
    "# Laptop price prediction\n",
    "[source of the data + code of example](https://www.kaggle.com/datasets/anubhavgoyal10/laptop-prices-dataset/data)"
   ],
   "id": "450b4526183225cd"
  },
  {
   "metadata": {},
   "cell_type": "markdown",
   "source": "## 0. Import the dependencies",
   "id": "b6cd48ce980255f3"
  },
  {
   "metadata": {
    "ExecuteTime": {
     "end_time": "2025-03-17T08:42:36.761072Z",
     "start_time": "2025-03-17T08:42:36.700050Z"
    }
   },
   "cell_type": "code",
   "source": [
    "import os\n",
    "\n",
    "import numpy as np # linear algebra\n",
    "import pandas as pd \n",
    "\n",
    "import seaborn as sns\n",
    "import matplotlib.pyplot as plt\n",
    "%matplotlib inline\n",
    "\n",
    "import warnings\n",
    "warnings.filterwarnings('ignore')"
   ],
   "id": "bc9ed387ed7d57ef",
   "outputs": [],
   "execution_count": 1
  },
  {
   "metadata": {
    "ExecuteTime": {
     "end_time": "2025-03-17T09:08:07.281948Z",
     "start_time": "2025-03-17T09:08:07.277307Z"
    }
   },
   "cell_type": "code",
   "source": [
    "from sklearn.model_selection import train_test_split\n",
    "from sklearn.preprocessing import MinMaxScaler, StandardScaler\n",
    "from sklearn.pipeline import Pipeline\n",
    "from sklearn.compose import ColumnTransformer\n",
    "from sklearn.preprocessing import LabelEncoder, OneHotEncoder\n",
    "from sklearn import metrics\n",
    "from sklearn.model_selection import RandomizedSearchCV\n",
    "from sklearn.linear_model import LinearRegression, Lasso, Ridge\n",
    "from sklearn.linear_model import BayesianRidge\n",
    "from sklearn.tree import DecisionTreeRegressor\n",
    "from sklearn.ensemble import RandomForestRegressor, GradientBoostingRegressor\n",
    "from xgboost import XGBRegressor\n",
    "from sklearn.svm import SVR\n",
    "from sklearn.neighbors import KNeighborsRegressor\n",
    "from sklearn import tree\n",
    "\n",
    "from sklearn.model_selection import GridSearchCV"
   ],
   "id": "38a974426925be49",
   "outputs": [],
   "execution_count": 43
  },
  {
   "metadata": {},
   "cell_type": "markdown",
   "source": "## 1. Load the data",
   "id": "b6db32b73ff7a1da"
  },
  {
   "metadata": {
    "ExecuteTime": {
     "end_time": "2025-03-17T08:46:09.818095Z",
     "start_time": "2025-03-17T08:46:09.736727Z"
    }
   },
   "cell_type": "code",
   "source": [
    "df = pd.read_csv(\"./src/laptop_price.csv\")\n",
    "df.head()"
   ],
   "id": "df2ddddf48931c34",
   "outputs": [
    {
     "data": {
      "text/plain": [
       "    brand processor_brand processor_name processor_gnrtn ram_gb ram_type  \\\n",
       "0    ASUS           Intel        Core i3            10th   4 GB     DDR4   \n",
       "1  Lenovo           Intel        Core i3            10th   4 GB     DDR4   \n",
       "2  Lenovo           Intel        Core i3            10th   4 GB     DDR4   \n",
       "3    ASUS           Intel        Core i5            10th   8 GB     DDR4   \n",
       "4    ASUS           Intel   Celeron Dual   Not Available   4 GB     DDR4   \n",
       "\n",
       "      ssd      hdd       os  os_bit graphic_card_gb  weight     warranty  \\\n",
       "0    0 GB  1024 GB  Windows  64-bit            0 GB  Casual  No warranty   \n",
       "1    0 GB  1024 GB  Windows  64-bit            0 GB  Casual  No warranty   \n",
       "2    0 GB  1024 GB  Windows  64-bit            0 GB  Casual  No warranty   \n",
       "3  512 GB     0 GB  Windows  32-bit            2 GB  Casual  No warranty   \n",
       "4    0 GB   512 GB  Windows  64-bit            0 GB  Casual  No warranty   \n",
       "\n",
       "  Touchscreen msoffice  Price   rating  Number of Ratings  Number of Reviews  \n",
       "0          No       No  34649  2 stars                  3                  0  \n",
       "1          No       No  38999  3 stars                 65                  5  \n",
       "2          No       No  39999  3 stars                  8                  1  \n",
       "3          No       No  69990  3 stars                  0                  0  \n",
       "4          No       No  26990  3 stars                  0                  0  "
      ],
      "text/html": [
       "<div>\n",
       "<style scoped>\n",
       "    .dataframe tbody tr th:only-of-type {\n",
       "        vertical-align: middle;\n",
       "    }\n",
       "\n",
       "    .dataframe tbody tr th {\n",
       "        vertical-align: top;\n",
       "    }\n",
       "\n",
       "    .dataframe thead th {\n",
       "        text-align: right;\n",
       "    }\n",
       "</style>\n",
       "<table border=\"1\" class=\"dataframe\">\n",
       "  <thead>\n",
       "    <tr style=\"text-align: right;\">\n",
       "      <th></th>\n",
       "      <th>brand</th>\n",
       "      <th>processor_brand</th>\n",
       "      <th>processor_name</th>\n",
       "      <th>processor_gnrtn</th>\n",
       "      <th>ram_gb</th>\n",
       "      <th>ram_type</th>\n",
       "      <th>ssd</th>\n",
       "      <th>hdd</th>\n",
       "      <th>os</th>\n",
       "      <th>os_bit</th>\n",
       "      <th>graphic_card_gb</th>\n",
       "      <th>weight</th>\n",
       "      <th>warranty</th>\n",
       "      <th>Touchscreen</th>\n",
       "      <th>msoffice</th>\n",
       "      <th>Price</th>\n",
       "      <th>rating</th>\n",
       "      <th>Number of Ratings</th>\n",
       "      <th>Number of Reviews</th>\n",
       "    </tr>\n",
       "  </thead>\n",
       "  <tbody>\n",
       "    <tr>\n",
       "      <th>0</th>\n",
       "      <td>ASUS</td>\n",
       "      <td>Intel</td>\n",
       "      <td>Core i3</td>\n",
       "      <td>10th</td>\n",
       "      <td>4 GB</td>\n",
       "      <td>DDR4</td>\n",
       "      <td>0 GB</td>\n",
       "      <td>1024 GB</td>\n",
       "      <td>Windows</td>\n",
       "      <td>64-bit</td>\n",
       "      <td>0 GB</td>\n",
       "      <td>Casual</td>\n",
       "      <td>No warranty</td>\n",
       "      <td>No</td>\n",
       "      <td>No</td>\n",
       "      <td>34649</td>\n",
       "      <td>2 stars</td>\n",
       "      <td>3</td>\n",
       "      <td>0</td>\n",
       "    </tr>\n",
       "    <tr>\n",
       "      <th>1</th>\n",
       "      <td>Lenovo</td>\n",
       "      <td>Intel</td>\n",
       "      <td>Core i3</td>\n",
       "      <td>10th</td>\n",
       "      <td>4 GB</td>\n",
       "      <td>DDR4</td>\n",
       "      <td>0 GB</td>\n",
       "      <td>1024 GB</td>\n",
       "      <td>Windows</td>\n",
       "      <td>64-bit</td>\n",
       "      <td>0 GB</td>\n",
       "      <td>Casual</td>\n",
       "      <td>No warranty</td>\n",
       "      <td>No</td>\n",
       "      <td>No</td>\n",
       "      <td>38999</td>\n",
       "      <td>3 stars</td>\n",
       "      <td>65</td>\n",
       "      <td>5</td>\n",
       "    </tr>\n",
       "    <tr>\n",
       "      <th>2</th>\n",
       "      <td>Lenovo</td>\n",
       "      <td>Intel</td>\n",
       "      <td>Core i3</td>\n",
       "      <td>10th</td>\n",
       "      <td>4 GB</td>\n",
       "      <td>DDR4</td>\n",
       "      <td>0 GB</td>\n",
       "      <td>1024 GB</td>\n",
       "      <td>Windows</td>\n",
       "      <td>64-bit</td>\n",
       "      <td>0 GB</td>\n",
       "      <td>Casual</td>\n",
       "      <td>No warranty</td>\n",
       "      <td>No</td>\n",
       "      <td>No</td>\n",
       "      <td>39999</td>\n",
       "      <td>3 stars</td>\n",
       "      <td>8</td>\n",
       "      <td>1</td>\n",
       "    </tr>\n",
       "    <tr>\n",
       "      <th>3</th>\n",
       "      <td>ASUS</td>\n",
       "      <td>Intel</td>\n",
       "      <td>Core i5</td>\n",
       "      <td>10th</td>\n",
       "      <td>8 GB</td>\n",
       "      <td>DDR4</td>\n",
       "      <td>512 GB</td>\n",
       "      <td>0 GB</td>\n",
       "      <td>Windows</td>\n",
       "      <td>32-bit</td>\n",
       "      <td>2 GB</td>\n",
       "      <td>Casual</td>\n",
       "      <td>No warranty</td>\n",
       "      <td>No</td>\n",
       "      <td>No</td>\n",
       "      <td>69990</td>\n",
       "      <td>3 stars</td>\n",
       "      <td>0</td>\n",
       "      <td>0</td>\n",
       "    </tr>\n",
       "    <tr>\n",
       "      <th>4</th>\n",
       "      <td>ASUS</td>\n",
       "      <td>Intel</td>\n",
       "      <td>Celeron Dual</td>\n",
       "      <td>Not Available</td>\n",
       "      <td>4 GB</td>\n",
       "      <td>DDR4</td>\n",
       "      <td>0 GB</td>\n",
       "      <td>512 GB</td>\n",
       "      <td>Windows</td>\n",
       "      <td>64-bit</td>\n",
       "      <td>0 GB</td>\n",
       "      <td>Casual</td>\n",
       "      <td>No warranty</td>\n",
       "      <td>No</td>\n",
       "      <td>No</td>\n",
       "      <td>26990</td>\n",
       "      <td>3 stars</td>\n",
       "      <td>0</td>\n",
       "      <td>0</td>\n",
       "    </tr>\n",
       "  </tbody>\n",
       "</table>\n",
       "</div>"
      ]
     },
     "execution_count": 3,
     "metadata": {},
     "output_type": "execute_result"
    }
   ],
   "execution_count": 3
  },
  {
   "metadata": {},
   "cell_type": "markdown",
   "source": "## 2. Preprocess the data",
   "id": "c038d32dd15f123d"
  },
  {
   "metadata": {
    "ExecuteTime": {
     "end_time": "2025-03-17T08:46:52.357812Z",
     "start_time": "2025-03-17T08:46:52.353448Z"
    }
   },
   "cell_type": "code",
   "source": "df.columns",
   "id": "585e372bccaa481",
   "outputs": [
    {
     "data": {
      "text/plain": [
       "Index(['brand', 'processor_brand', 'processor_name', 'processor_gnrtn',\n",
       "       'ram_gb', 'ram_type', 'ssd', 'hdd', 'os', 'os_bit', 'graphic_card_gb',\n",
       "       'weight', 'warranty', 'Touchscreen', 'msoffice', 'Price', 'rating',\n",
       "       'Number of Ratings', 'Number of Reviews'],\n",
       "      dtype='object')"
      ]
     },
     "execution_count": 4,
     "metadata": {},
     "output_type": "execute_result"
    }
   ],
   "execution_count": 4
  },
  {
   "metadata": {
    "ExecuteTime": {
     "end_time": "2025-03-17T08:46:55.281218Z",
     "start_time": "2025-03-17T08:46:55.275498Z"
    }
   },
   "cell_type": "code",
   "source": [
    "# select few feature to predict the price of laptop\n",
    "selected_columns = ['brand', 'processor_brand', 'processor_name', 'processor_gnrtn',\n",
    "                    'ram_gb', 'ram_type', 'ssd', 'hdd', 'os', 'os_bit', 'graphic_card_gb',\n",
    "                    'weight', 'warranty', 'Touchscreen', 'Price']\n",
    "df_train = df[selected_columns]"
   ],
   "id": "da668238e05aa0c",
   "outputs": [],
   "execution_count": 5
  },
  {
   "metadata": {
    "ExecuteTime": {
     "end_time": "2025-03-17T08:47:09.431431Z",
     "start_time": "2025-03-17T08:47:09.425476Z"
    }
   },
   "cell_type": "code",
   "source": [
    "# check Null values in data column\n",
    "print(df_train.isnull().sum())"
   ],
   "id": "db1f8aa78291e37d",
   "outputs": [
    {
     "name": "stdout",
     "output_type": "stream",
     "text": [
      "brand              0\n",
      "processor_brand    0\n",
      "processor_name     0\n",
      "processor_gnrtn    0\n",
      "ram_gb             0\n",
      "ram_type           0\n",
      "ssd                0\n",
      "hdd                0\n",
      "os                 0\n",
      "os_bit             0\n",
      "graphic_card_gb    0\n",
      "weight             0\n",
      "warranty           0\n",
      "Touchscreen        0\n",
      "Price              0\n",
      "dtype: int64\n"
     ]
    }
   ],
   "execution_count": 6
  },
  {
   "metadata": {
    "ExecuteTime": {
     "end_time": "2025-03-17T08:47:13.535370Z",
     "start_time": "2025-03-17T08:47:13.525705Z"
    }
   },
   "cell_type": "code",
   "source": [
    "# checking for duplicated rows\n",
    "df_train.duplicated().sum()"
   ],
   "id": "2b62d88f3853703e",
   "outputs": [
    {
     "data": {
      "text/plain": [
       "np.int64(41)"
      ]
     },
     "execution_count": 7,
     "metadata": {},
     "output_type": "execute_result"
    }
   ],
   "execution_count": 7
  },
  {
   "metadata": {
    "ExecuteTime": {
     "end_time": "2025-03-17T08:47:17.135881Z",
     "start_time": "2025-03-17T08:47:17.124142Z"
    }
   },
   "cell_type": "code",
   "source": [
    "# check overview of columns, their data types, and non-null counts.\n",
    "df_train.info()"
   ],
   "id": "389b3829166814df",
   "outputs": [
    {
     "name": "stdout",
     "output_type": "stream",
     "text": [
      "<class 'pandas.core.frame.DataFrame'>\n",
      "RangeIndex: 823 entries, 0 to 822\n",
      "Data columns (total 15 columns):\n",
      " #   Column           Non-Null Count  Dtype \n",
      "---  ------           --------------  ----- \n",
      " 0   brand            823 non-null    object\n",
      " 1   processor_brand  823 non-null    object\n",
      " 2   processor_name   823 non-null    object\n",
      " 3   processor_gnrtn  823 non-null    object\n",
      " 4   ram_gb           823 non-null    object\n",
      " 5   ram_type         823 non-null    object\n",
      " 6   ssd              823 non-null    object\n",
      " 7   hdd              823 non-null    object\n",
      " 8   os               823 non-null    object\n",
      " 9   os_bit           823 non-null    object\n",
      " 10  graphic_card_gb  823 non-null    object\n",
      " 11  weight           823 non-null    object\n",
      " 12  warranty         823 non-null    object\n",
      " 13  Touchscreen      823 non-null    object\n",
      " 14  Price            823 non-null    int64 \n",
      "dtypes: int64(1), object(14)\n",
      "memory usage: 96.6+ KB\n"
     ]
    }
   ],
   "execution_count": 8
  },
  {
   "metadata": {
    "ExecuteTime": {
     "end_time": "2025-03-17T08:47:52.649425Z",
     "start_time": "2025-03-17T08:47:52.642730Z"
    }
   },
   "cell_type": "code",
   "source": [
    "# make to different variables for categorical and numerical feature identification\n",
    "cat_val = df_train.select_dtypes(include=['object']).columns\n",
    "num_val = df_train.select_dtypes(include=['int', \"float\"]).columns\n",
    "\n",
    "print(cat_val,'\\n',num_val)"
   ],
   "id": "a3b28076323cc7f1",
   "outputs": [
    {
     "name": "stdout",
     "output_type": "stream",
     "text": [
      "Index(['brand', 'processor_brand', 'processor_name', 'processor_gnrtn',\n",
      "       'ram_gb', 'ram_type', 'ssd', 'hdd', 'os', 'os_bit', 'graphic_card_gb',\n",
      "       'weight', 'warranty', 'Touchscreen'],\n",
      "      dtype='object') \n",
      " Index(['Price'], dtype='object')\n"
     ]
    }
   ],
   "execution_count": 9
  },
  {
   "metadata": {
    "ExecuteTime": {
     "end_time": "2025-03-17T08:48:31.463810Z",
     "start_time": "2025-03-17T08:48:31.455709Z"
    }
   },
   "cell_type": "code",
   "source": [
    "# check all unique values in features\n",
    "for column in df_train.columns:\n",
    "    unique_values = df_train[column].unique()\n",
    "    print(f\"Unique values in column '{column}': {unique_values}\")"
   ],
   "id": "1643f42615ad0ed2",
   "outputs": [
    {
     "name": "stdout",
     "output_type": "stream",
     "text": [
      "Unique values in column 'brand': ['ASUS' 'Lenovo' 'acer' 'Avita' 'HP' 'DELL' 'MSI' 'APPLE']\n",
      "Unique values in column 'processor_brand': ['Intel' 'AMD' 'M1']\n",
      "Unique values in column 'processor_name': ['Core i3' 'Core i5' 'Celeron Dual' 'Ryzen 5' 'Core i7' 'Core i9' 'M1'\n",
      " 'Pentium Quad' 'Ryzen 3' 'Ryzen 7' 'Ryzen 9']\n",
      "Unique values in column 'processor_gnrtn': ['10th' 'Not Available' '11th' '7th' '8th' '9th' '4th' '12th']\n",
      "Unique values in column 'ram_gb': ['4 GB' '8 GB' '16 GB' '32 GB']\n",
      "Unique values in column 'ram_type': ['DDR4' 'LPDDR4' 'LPDDR4X' 'DDR5' 'DDR3' 'LPDDR3']\n",
      "Unique values in column 'ssd': ['0 GB' '512 GB' '256 GB' '128 GB' '1024 GB' '2048 GB' '3072 GB']\n",
      "Unique values in column 'hdd': ['1024 GB' '0 GB' '512 GB' '2048 GB']\n",
      "Unique values in column 'os': ['Windows' 'DOS' 'Mac']\n",
      "Unique values in column 'os_bit': ['64-bit' '32-bit']\n",
      "Unique values in column 'graphic_card_gb': ['0 GB' '2 GB' '4 GB' '6 GB' '8 GB']\n",
      "Unique values in column 'weight': ['Casual' 'ThinNlight' 'Gaming']\n",
      "Unique values in column 'warranty': ['No warranty' '1 year' '2 years' '3 years']\n",
      "Unique values in column 'Touchscreen': ['No' 'Yes']\n",
      "Unique values in column 'Price': [ 34649  38999  39999  69990  26990  22990  21990  58799  49999  59990\n",
      "  93700  72990  17490  35990  56490  65390  31999  32490  31799  29890\n",
      "  23990  32955  46200  34429  37990  33980  39990  39490  53990  38990\n",
      "  37890  41990  45990  42490  36990  38940  42990  49990  41490  38490\n",
      "  44990  36490  38970  44900  44427  40200  40990  71999  41998  39998\n",
      "  48490  44376  43900  46690  43990  48500  48990  23490  54238  51990\n",
      "  43970  54990  41250  60790  45650  45490  38799  69267  51649  47990\n",
      "  44890  50990  48900  41790  57999  45930  55490  32890  42190  43690\n",
      "  43800  34990  38900  40890  39790  35590  33990  43400  24990  40750\n",
      "  43000  38000  49279  41500  36999  42900  21490  41480  32990  38680\n",
      "  40390  20490  44490  41890  43590  44690  41390  44290  48999  46390\n",
      "  18990  17990  26470  27990  29999  25990  16990 119990  94190 106167\n",
      "  68090 139990  55990 102551  46990  76012  49490  86867  81998 136590\n",
      "  59490  49800  61999  52990  67990  57990  62300  61990  63990  65990\n",
      "  71990  76990  89990  71890  64990  55999  73490  74490  58340  82990\n",
      "  64190  70090  97990  66999  60990  59999  79990  69490  89390  74990\n",
      "  66490  89702  70990  58990  57500  56541  61290  84990  72500  87990\n",
      "  68990  77990 105990 111890  71090  53400  74500 114990 159990 172090\n",
      " 147000 106490 111999  70798  99500  62998  88990 113590  73990  61000\n",
      "  99990  70799  53690  53190  58999  82000  89998  69899  76300  72900\n",
      "  73519 126000 114999 109999 129999 149990  71290  79500  70980  94000\n",
      "  85990  86990  91999  78900 132790  65556  70190  79590  86999  78000\n",
      "  73063 100990  75990  84086 179990  84500  74190 155411 125394  52490\n",
      "  56990  58090  61597  81990  61249  83990 291190 145990  46790  44599\n",
      "  72964  48790  56491  62490  60190  54490  55790  69900  74590  77900\n",
      "  67490  74999  68900  71695  62317 207290  93190  94990 102990 104000\n",
      "  90190  88488 109990 239759  78990 121890  92000 162990 135300 174527\n",
      " 162299 109190  99999 104990 244801  86000 162399 119599 211753 110999\n",
      "  66990 134990  98990 144690 194990 124990 122410 154990 122990 224990\n",
      " 279990 121990 116990 151098 129990 149999 171990  93955 234990 128500\n",
      " 120980 157249 229900 131500 165990 167990 165000  62990 136990 233990\n",
      "  93990 116941  82500  98912  92990 169990 192990 299990 269990 265998\n",
      " 441990 109590 146490 112990 132990 125990 103990 101990 131990 128990\n",
      " 184990 225990 243990 309990  58100  30990  36000  30780  33690  40590\n",
      "  34500  43490  42090  37390  52632  32917  41999  44390  49970  47490\n",
      "  67500  62450  98020  49890  73999  76190  74798  68100  55090  91990\n",
      "  84208  53490  76498  98920  52380  52500  75999  80990  59900  54590\n",
      "  75500  51890  57900  81978  68500  80000  75100 106990  81490  84988\n",
      "  90990  72400 111990 109000  78988  73138  89570  73400  84190  95990\n",
      " 130990  77988  76000 111000  84970  80490 135990 199990 146990 141990\n",
      " 142990 130500 138990 144990  57490]\n"
     ]
    }
   ],
   "execution_count": 10
  },
  {
   "metadata": {
    "ExecuteTime": {
     "end_time": "2025-03-17T08:50:06.790419Z",
     "start_time": "2025-03-17T08:50:06.767278Z"
    }
   },
   "cell_type": "code",
   "source": [
    "# Removed units ('GB', 'years', 'bit', etc.) from certain columns using string manipulation (str.replace) \n",
    "# and transformed them into appropriate numeric types (astype or pd.to_numeric)\n",
    "df_train['ram_gb'] = df_train['ram_gb'].str.replace('GB','')\n",
    "df_train['ssd'] = df_train['ssd'].str.replace('GB','')\n",
    "df_train['hdd'] = df_train['hdd'].str.replace('GB','')\n",
    "df_train['graphic_card_gb'] = df_train['graphic_card_gb'].str.replace('GB','')\n",
    "df_train['os_bit'] = df_train['os_bit'].str.replace('-bit','')\n",
    "df_train['warranty'] = df_train['warranty'].str.replace(r'\\byears?\\b', '', regex=True)\n",
    "df_train['processor_gnrtn'] = df_train['processor_gnrtn'].str.replace('th','')\n",
    "\n",
    "\n",
    "df_train['ram_gb'] = df_train['ram_gb'].astype('int32')\n",
    "df_train['ssd'] = df_train['ssd'].astype('int32')\n",
    "df_train['hdd'] = df_train['hdd'].astype('int32')\n",
    "df_train['graphic_card_gb'] = df_train['graphic_card_gb'].astype('int32')\n",
    "df_train['os_bit'] = df_train['os_bit'].astype('int32')\n",
    "\n",
    "df_train.head()"
   ],
   "id": "b53f9f0868051e1b",
   "outputs": [
    {
     "data": {
      "text/plain": [
       "    brand processor_brand processor_name processor_gnrtn  ram_gb ram_type  \\\n",
       "0    ASUS           Intel        Core i3              10       4     DDR4   \n",
       "1  Lenovo           Intel        Core i3              10       4     DDR4   \n",
       "2  Lenovo           Intel        Core i3              10       4     DDR4   \n",
       "3    ASUS           Intel        Core i5              10       8     DDR4   \n",
       "4    ASUS           Intel   Celeron Dual   Not Available       4     DDR4   \n",
       "\n",
       "   ssd   hdd       os  os_bit  graphic_card_gb  weight     warranty  \\\n",
       "0    0  1024  Windows      64                0  Casual  No warranty   \n",
       "1    0  1024  Windows      64                0  Casual  No warranty   \n",
       "2    0  1024  Windows      64                0  Casual  No warranty   \n",
       "3  512     0  Windows      32                2  Casual  No warranty   \n",
       "4    0   512  Windows      64                0  Casual  No warranty   \n",
       "\n",
       "  Touchscreen  Price  \n",
       "0          No  34649  \n",
       "1          No  38999  \n",
       "2          No  39999  \n",
       "3          No  69990  \n",
       "4          No  26990  "
      ],
      "text/html": [
       "<div>\n",
       "<style scoped>\n",
       "    .dataframe tbody tr th:only-of-type {\n",
       "        vertical-align: middle;\n",
       "    }\n",
       "\n",
       "    .dataframe tbody tr th {\n",
       "        vertical-align: top;\n",
       "    }\n",
       "\n",
       "    .dataframe thead th {\n",
       "        text-align: right;\n",
       "    }\n",
       "</style>\n",
       "<table border=\"1\" class=\"dataframe\">\n",
       "  <thead>\n",
       "    <tr style=\"text-align: right;\">\n",
       "      <th></th>\n",
       "      <th>brand</th>\n",
       "      <th>processor_brand</th>\n",
       "      <th>processor_name</th>\n",
       "      <th>processor_gnrtn</th>\n",
       "      <th>ram_gb</th>\n",
       "      <th>ram_type</th>\n",
       "      <th>ssd</th>\n",
       "      <th>hdd</th>\n",
       "      <th>os</th>\n",
       "      <th>os_bit</th>\n",
       "      <th>graphic_card_gb</th>\n",
       "      <th>weight</th>\n",
       "      <th>warranty</th>\n",
       "      <th>Touchscreen</th>\n",
       "      <th>Price</th>\n",
       "    </tr>\n",
       "  </thead>\n",
       "  <tbody>\n",
       "    <tr>\n",
       "      <th>0</th>\n",
       "      <td>ASUS</td>\n",
       "      <td>Intel</td>\n",
       "      <td>Core i3</td>\n",
       "      <td>10</td>\n",
       "      <td>4</td>\n",
       "      <td>DDR4</td>\n",
       "      <td>0</td>\n",
       "      <td>1024</td>\n",
       "      <td>Windows</td>\n",
       "      <td>64</td>\n",
       "      <td>0</td>\n",
       "      <td>Casual</td>\n",
       "      <td>No warranty</td>\n",
       "      <td>No</td>\n",
       "      <td>34649</td>\n",
       "    </tr>\n",
       "    <tr>\n",
       "      <th>1</th>\n",
       "      <td>Lenovo</td>\n",
       "      <td>Intel</td>\n",
       "      <td>Core i3</td>\n",
       "      <td>10</td>\n",
       "      <td>4</td>\n",
       "      <td>DDR4</td>\n",
       "      <td>0</td>\n",
       "      <td>1024</td>\n",
       "      <td>Windows</td>\n",
       "      <td>64</td>\n",
       "      <td>0</td>\n",
       "      <td>Casual</td>\n",
       "      <td>No warranty</td>\n",
       "      <td>No</td>\n",
       "      <td>38999</td>\n",
       "    </tr>\n",
       "    <tr>\n",
       "      <th>2</th>\n",
       "      <td>Lenovo</td>\n",
       "      <td>Intel</td>\n",
       "      <td>Core i3</td>\n",
       "      <td>10</td>\n",
       "      <td>4</td>\n",
       "      <td>DDR4</td>\n",
       "      <td>0</td>\n",
       "      <td>1024</td>\n",
       "      <td>Windows</td>\n",
       "      <td>64</td>\n",
       "      <td>0</td>\n",
       "      <td>Casual</td>\n",
       "      <td>No warranty</td>\n",
       "      <td>No</td>\n",
       "      <td>39999</td>\n",
       "    </tr>\n",
       "    <tr>\n",
       "      <th>3</th>\n",
       "      <td>ASUS</td>\n",
       "      <td>Intel</td>\n",
       "      <td>Core i5</td>\n",
       "      <td>10</td>\n",
       "      <td>8</td>\n",
       "      <td>DDR4</td>\n",
       "      <td>512</td>\n",
       "      <td>0</td>\n",
       "      <td>Windows</td>\n",
       "      <td>32</td>\n",
       "      <td>2</td>\n",
       "      <td>Casual</td>\n",
       "      <td>No warranty</td>\n",
       "      <td>No</td>\n",
       "      <td>69990</td>\n",
       "    </tr>\n",
       "    <tr>\n",
       "      <th>4</th>\n",
       "      <td>ASUS</td>\n",
       "      <td>Intel</td>\n",
       "      <td>Celeron Dual</td>\n",
       "      <td>Not Available</td>\n",
       "      <td>4</td>\n",
       "      <td>DDR4</td>\n",
       "      <td>0</td>\n",
       "      <td>512</td>\n",
       "      <td>Windows</td>\n",
       "      <td>64</td>\n",
       "      <td>0</td>\n",
       "      <td>Casual</td>\n",
       "      <td>No warranty</td>\n",
       "      <td>No</td>\n",
       "      <td>26990</td>\n",
       "    </tr>\n",
       "  </tbody>\n",
       "</table>\n",
       "</div>"
      ]
     },
     "execution_count": 11,
     "metadata": {},
     "output_type": "execute_result"
    }
   ],
   "execution_count": 11
  },
  {
   "metadata": {
    "ExecuteTime": {
     "end_time": "2025-03-17T08:50:35.054773Z",
     "start_time": "2025-03-17T08:50:34.996246Z"
    }
   },
   "cell_type": "code",
   "source": [
    "# Convert to numeric, 'Not Available' becomes NaN\n",
    "df_train['processor_gnrtn'] = pd.to_numeric(df_train['processor_gnrtn'], errors='coerce')  # Convert to numeric, 'Not Available' becomes NaN\n",
    "median_value = df_train['processor_gnrtn'].median()"
   ],
   "id": "40a0a5e71602b0e4",
   "outputs": [],
   "execution_count": 12
  },
  {
   "metadata": {
    "ExecuteTime": {
     "end_time": "2025-03-17T08:50:40.777506Z",
     "start_time": "2025-03-17T08:50:40.772770Z"
    }
   },
   "cell_type": "code",
   "source": [
    "df_train['processor_gnrtn'].fillna(median_value, inplace=True)\n",
    "df_train['processor_gnrtn'] = df_train['processor_gnrtn'].astype(int)"
   ],
   "id": "748c1589fbfaa944",
   "outputs": [],
   "execution_count": 13
  },
  {
   "metadata": {
    "ExecuteTime": {
     "end_time": "2025-03-17T08:50:42.118085Z",
     "start_time": "2025-03-17T08:50:42.106726Z"
    }
   },
   "cell_type": "code",
   "source": "df_train.head()",
   "id": "af2c8d45d30eb6c4",
   "outputs": [
    {
     "data": {
      "text/plain": [
       "    brand processor_brand processor_name  processor_gnrtn  ram_gb ram_type  \\\n",
       "0    ASUS           Intel        Core i3               10       4     DDR4   \n",
       "1  Lenovo           Intel        Core i3               10       4     DDR4   \n",
       "2  Lenovo           Intel        Core i3               10       4     DDR4   \n",
       "3    ASUS           Intel        Core i5               10       8     DDR4   \n",
       "4    ASUS           Intel   Celeron Dual               11       4     DDR4   \n",
       "\n",
       "   ssd   hdd       os  os_bit  graphic_card_gb  weight     warranty  \\\n",
       "0    0  1024  Windows      64                0  Casual  No warranty   \n",
       "1    0  1024  Windows      64                0  Casual  No warranty   \n",
       "2    0  1024  Windows      64                0  Casual  No warranty   \n",
       "3  512     0  Windows      32                2  Casual  No warranty   \n",
       "4    0   512  Windows      64                0  Casual  No warranty   \n",
       "\n",
       "  Touchscreen  Price  \n",
       "0          No  34649  \n",
       "1          No  38999  \n",
       "2          No  39999  \n",
       "3          No  69990  \n",
       "4          No  26990  "
      ],
      "text/html": [
       "<div>\n",
       "<style scoped>\n",
       "    .dataframe tbody tr th:only-of-type {\n",
       "        vertical-align: middle;\n",
       "    }\n",
       "\n",
       "    .dataframe tbody tr th {\n",
       "        vertical-align: top;\n",
       "    }\n",
       "\n",
       "    .dataframe thead th {\n",
       "        text-align: right;\n",
       "    }\n",
       "</style>\n",
       "<table border=\"1\" class=\"dataframe\">\n",
       "  <thead>\n",
       "    <tr style=\"text-align: right;\">\n",
       "      <th></th>\n",
       "      <th>brand</th>\n",
       "      <th>processor_brand</th>\n",
       "      <th>processor_name</th>\n",
       "      <th>processor_gnrtn</th>\n",
       "      <th>ram_gb</th>\n",
       "      <th>ram_type</th>\n",
       "      <th>ssd</th>\n",
       "      <th>hdd</th>\n",
       "      <th>os</th>\n",
       "      <th>os_bit</th>\n",
       "      <th>graphic_card_gb</th>\n",
       "      <th>weight</th>\n",
       "      <th>warranty</th>\n",
       "      <th>Touchscreen</th>\n",
       "      <th>Price</th>\n",
       "    </tr>\n",
       "  </thead>\n",
       "  <tbody>\n",
       "    <tr>\n",
       "      <th>0</th>\n",
       "      <td>ASUS</td>\n",
       "      <td>Intel</td>\n",
       "      <td>Core i3</td>\n",
       "      <td>10</td>\n",
       "      <td>4</td>\n",
       "      <td>DDR4</td>\n",
       "      <td>0</td>\n",
       "      <td>1024</td>\n",
       "      <td>Windows</td>\n",
       "      <td>64</td>\n",
       "      <td>0</td>\n",
       "      <td>Casual</td>\n",
       "      <td>No warranty</td>\n",
       "      <td>No</td>\n",
       "      <td>34649</td>\n",
       "    </tr>\n",
       "    <tr>\n",
       "      <th>1</th>\n",
       "      <td>Lenovo</td>\n",
       "      <td>Intel</td>\n",
       "      <td>Core i3</td>\n",
       "      <td>10</td>\n",
       "      <td>4</td>\n",
       "      <td>DDR4</td>\n",
       "      <td>0</td>\n",
       "      <td>1024</td>\n",
       "      <td>Windows</td>\n",
       "      <td>64</td>\n",
       "      <td>0</td>\n",
       "      <td>Casual</td>\n",
       "      <td>No warranty</td>\n",
       "      <td>No</td>\n",
       "      <td>38999</td>\n",
       "    </tr>\n",
       "    <tr>\n",
       "      <th>2</th>\n",
       "      <td>Lenovo</td>\n",
       "      <td>Intel</td>\n",
       "      <td>Core i3</td>\n",
       "      <td>10</td>\n",
       "      <td>4</td>\n",
       "      <td>DDR4</td>\n",
       "      <td>0</td>\n",
       "      <td>1024</td>\n",
       "      <td>Windows</td>\n",
       "      <td>64</td>\n",
       "      <td>0</td>\n",
       "      <td>Casual</td>\n",
       "      <td>No warranty</td>\n",
       "      <td>No</td>\n",
       "      <td>39999</td>\n",
       "    </tr>\n",
       "    <tr>\n",
       "      <th>3</th>\n",
       "      <td>ASUS</td>\n",
       "      <td>Intel</td>\n",
       "      <td>Core i5</td>\n",
       "      <td>10</td>\n",
       "      <td>8</td>\n",
       "      <td>DDR4</td>\n",
       "      <td>512</td>\n",
       "      <td>0</td>\n",
       "      <td>Windows</td>\n",
       "      <td>32</td>\n",
       "      <td>2</td>\n",
       "      <td>Casual</td>\n",
       "      <td>No warranty</td>\n",
       "      <td>No</td>\n",
       "      <td>69990</td>\n",
       "    </tr>\n",
       "    <tr>\n",
       "      <th>4</th>\n",
       "      <td>ASUS</td>\n",
       "      <td>Intel</td>\n",
       "      <td>Celeron Dual</td>\n",
       "      <td>11</td>\n",
       "      <td>4</td>\n",
       "      <td>DDR4</td>\n",
       "      <td>0</td>\n",
       "      <td>512</td>\n",
       "      <td>Windows</td>\n",
       "      <td>64</td>\n",
       "      <td>0</td>\n",
       "      <td>Casual</td>\n",
       "      <td>No warranty</td>\n",
       "      <td>No</td>\n",
       "      <td>26990</td>\n",
       "    </tr>\n",
       "  </tbody>\n",
       "</table>\n",
       "</div>"
      ]
     },
     "execution_count": 14,
     "metadata": {},
     "output_type": "execute_result"
    }
   ],
   "execution_count": 14
  },
  {
   "metadata": {
    "ExecuteTime": {
     "end_time": "2025-03-17T08:50:45.913430Z",
     "start_time": "2025-03-17T08:50:45.902843Z"
    }
   },
   "cell_type": "code",
   "source": "df_train.info()",
   "id": "516b22ac809773d2",
   "outputs": [
    {
     "name": "stdout",
     "output_type": "stream",
     "text": [
      "<class 'pandas.core.frame.DataFrame'>\n",
      "RangeIndex: 823 entries, 0 to 822\n",
      "Data columns (total 15 columns):\n",
      " #   Column           Non-Null Count  Dtype \n",
      "---  ------           --------------  ----- \n",
      " 0   brand            823 non-null    object\n",
      " 1   processor_brand  823 non-null    object\n",
      " 2   processor_name   823 non-null    object\n",
      " 3   processor_gnrtn  823 non-null    int64 \n",
      " 4   ram_gb           823 non-null    int32 \n",
      " 5   ram_type         823 non-null    object\n",
      " 6   ssd              823 non-null    int32 \n",
      " 7   hdd              823 non-null    int32 \n",
      " 8   os               823 non-null    object\n",
      " 9   os_bit           823 non-null    int32 \n",
      " 10  graphic_card_gb  823 non-null    int32 \n",
      " 11  weight           823 non-null    object\n",
      " 12  warranty         823 non-null    object\n",
      " 13  Touchscreen      823 non-null    object\n",
      " 14  Price            823 non-null    int64 \n",
      "dtypes: int32(5), int64(2), object(8)\n",
      "memory usage: 80.5+ KB\n"
     ]
    }
   ],
   "execution_count": 15
  },
  {
   "metadata": {
    "ExecuteTime": {
     "end_time": "2025-03-17T08:50:47.000542Z",
     "start_time": "2025-03-17T08:50:46.991538Z"
    }
   },
   "cell_type": "code",
   "source": "df_train.isnull().sum()",
   "id": "4fab350b6b827f74",
   "outputs": [
    {
     "data": {
      "text/plain": [
       "brand              0\n",
       "processor_brand    0\n",
       "processor_name     0\n",
       "processor_gnrtn    0\n",
       "ram_gb             0\n",
       "ram_type           0\n",
       "ssd                0\n",
       "hdd                0\n",
       "os                 0\n",
       "os_bit             0\n",
       "graphic_card_gb    0\n",
       "weight             0\n",
       "warranty           0\n",
       "Touchscreen        0\n",
       "Price              0\n",
       "dtype: int64"
      ]
     },
     "execution_count": 16,
     "metadata": {},
     "output_type": "execute_result"
    }
   ],
   "execution_count": 16
  },
  {
   "metadata": {},
   "cell_type": "markdown",
   "source": "## 3. Do data visualization",
   "id": "c28149287e55b130"
  },
  {
   "metadata": {
    "ExecuteTime": {
     "end_time": "2025-03-17T08:50:59.561008Z",
     "start_time": "2025-03-17T08:50:59.273672Z"
    }
   },
   "cell_type": "code",
   "source": "sns.displot(df['Price'],color='blue')",
   "id": "5b1a9b41db11d91c",
   "outputs": [
    {
     "data": {
      "text/plain": [
       "<seaborn.axisgrid.FacetGrid at 0x13d11a3e550>"
      ]
     },
     "execution_count": 17,
     "metadata": {},
     "output_type": "execute_result"
    },
    {
     "data": {
      "text/plain": [
       "<Figure size 500x500 with 1 Axes>"
      ],
      "image/png": "[encoded data removed]"
     },
     "metadata": {},
     "output_type": "display_data"
    }
   ],
   "execution_count": 17
  },
  {
   "metadata": {
    "ExecuteTime": {
     "end_time": "2025-03-17T08:51:07.458236Z",
     "start_time": "2025-03-17T08:51:06.738304Z"
    }
   },
   "cell_type": "code",
   "source": [
    "def dataplot(col):\n",
    "    plt.figure(figsize= (10,6))\n",
    "    sns.countplot(data = df_train, x=col, palette = 'plasma')\n",
    "    plt.xticks(rotation = 'vertical')\n",
    "    plt.show()\n",
    "    \n",
    "features = ['brand', 'ram_gb', 'processor_name', 'processor_gnrtn', 'os']\n",
    "\n",
    "for col in features:\n",
    "    dataplot(col)"
   ],
   "id": "36b22a696c14a7",
   "outputs": [
    {
     "data": {
      "text/plain": [
       "<Figure size 1000x600 with 1 Axes>"
      ],
      "image/png": "[encoded data removed]"
     },
     "metadata": {},
     "output_type": "display_data"
    },
    {
     "data": {
      "text/plain": [
       "<Figure size 1000x600 with 1 Axes>"
      ],
      "image/png": "[encoded data removed]"
     },
     "metadata": {},
     "output_type": "display_data"
    },
    {
     "data": {
      "text/plain": [
       "<Figure size 1000x600 with 1 Axes>"
      ],
      "image/png": "[encoded data removed]"
     },
     "metadata": {},
     "output_type": "display_data"
    },
    {
     "data": {
      "text/plain": [
       "<Figure size 1000x600 with 1 Axes>"
      ],
      "image/png": "[encoded data removed]"
     },
     "metadata": {},
     "output_type": "display_data"
    },
    {
     "data": {
      "text/plain": [
       "<Figure size 1000x600 with 1 Axes>"
      ],
      "image/png": "[encoded data removed]"
     },
     "metadata": {},
     "output_type": "display_data"
    }
   ],
   "execution_count": 18
  },
  {
   "metadata": {
    "ExecuteTime": {
     "end_time": "2025-03-17T08:51:43.785896Z",
     "start_time": "2025-03-17T08:51:43.501008Z"
    }
   },
   "cell_type": "code",
   "source": [
    "plt.figure(figsize=(15,7))\n",
    "sns.barplot(x = df_train['brand'], y=df_train['Price'])\n",
    "plt.xticks(rotation = 'vertical')\n",
    "plt.show()"
   ],
   "id": "2798e4e1337fa343",
   "outputs": [
    {
     "data": {
      "text/plain": [
       "<Figure size 1500x700 with 1 Axes>"
      ],
      "image/png": "[encoded data removed]"
     },
     "metadata": {},
     "output_type": "display_data"
    }
   ],
   "execution_count": 19
  },
  {
   "metadata": {},
   "cell_type": "markdown",
   "source": "### Visualize the Touchscreen feature",
   "id": "4c34e38cbabcb843"
  },
  {
   "metadata": {
    "ExecuteTime": {
     "end_time": "2025-03-17T08:52:08.350691Z",
     "start_time": "2025-03-17T08:52:08.231813Z"
    }
   },
   "cell_type": "code",
   "source": "sns.countplot(df_train, x =df_train['Touchscreen'],palette='plasma')",
   "id": "4b85455710b4e8a8",
   "outputs": [
    {
     "data": {
      "text/plain": [
       "<Axes: xlabel='Touchscreen', ylabel='count'>"
      ]
     },
     "execution_count": 20,
     "metadata": {},
     "output_type": "execute_result"
    },
    {
     "data": {
      "text/plain": [
       "<Figure size 640x480 with 1 Axes>"
      ],
      "image/png": "[encoded data removed]"
     },
     "metadata": {},
     "output_type": "display_data"
    }
   ],
   "execution_count": 20
  },
  {
   "metadata": {
    "ExecuteTime": {
     "end_time": "2025-03-17T08:52:10.175610Z",
     "start_time": "2025-03-17T08:52:10.029015Z"
    }
   },
   "cell_type": "code",
   "source": "sns.barplot(x = df_train['Touchscreen'], y= df_train['Price'])",
   "id": "a25a1ea0c57ad18d",
   "outputs": [
    {
     "data": {
      "text/plain": [
       "<Axes: xlabel='Touchscreen', ylabel='Price'>"
      ]
     },
     "execution_count": 21,
     "metadata": {},
     "output_type": "execute_result"
    },
    {
     "data": {
      "text/plain": [
       "<Figure size 640x480 with 1 Axes>"
      ],
      "image/png": "[encoded data removed]"
     },
     "metadata": {},
     "output_type": "display_data"
    }
   ],
   "execution_count": 21
  },
  {
   "metadata": {},
   "cell_type": "markdown",
   "source": "### Visualize the Warranty feature",
   "id": "bc37857f2c56da7a"
  },
  {
   "metadata": {
    "ExecuteTime": {
     "end_time": "2025-03-17T08:52:21.890557Z",
     "start_time": "2025-03-17T08:52:21.768071Z"
    }
   },
   "cell_type": "code",
   "source": "sns.countplot(df_train, x =df_train['warranty'],palette='plasma')",
   "id": "fb745bb991f5262c",
   "outputs": [
    {
     "data": {
      "text/plain": [
       "<Axes: xlabel='warranty', ylabel='count'>"
      ]
     },
     "execution_count": 22,
     "metadata": {},
     "output_type": "execute_result"
    },
    {
     "data": {
      "text/plain": [
       "<Figure size 640x480 with 1 Axes>"
      ],
      "image/png": "[encoded data removed]"
     },
     "metadata": {},
     "output_type": "display_data"
    }
   ],
   "execution_count": 22
  },
  {
   "metadata": {
    "ExecuteTime": {
     "end_time": "2025-03-17T08:52:23.080006Z",
     "start_time": "2025-03-17T08:52:22.880344Z"
    }
   },
   "cell_type": "code",
   "source": "sns.barplot(x = df_train['warranty'], y= df_train['Price'])",
   "id": "d661e16d6454705e",
   "outputs": [
    {
     "data": {
      "text/plain": [
       "<Axes: xlabel='warranty', ylabel='Price'>"
      ]
     },
     "execution_count": 23,
     "metadata": {},
     "output_type": "execute_result"
    },
    {
     "data": {
      "text/plain": [
       "<Figure size 640x480 with 1 Axes>"
      ],
      "image/png": "[encoded data removed]"
     },
     "metadata": {},
     "output_type": "display_data"
    }
   ],
   "execution_count": 23
  },
  {
   "metadata": {},
   "cell_type": "markdown",
   "source": "### Visualize the Weight feature",
   "id": "9c73c43661418f1"
  },
  {
   "metadata": {
    "ExecuteTime": {
     "end_time": "2025-03-17T08:52:36.639889Z",
     "start_time": "2025-03-17T08:52:36.527254Z"
    }
   },
   "cell_type": "code",
   "source": "sns.countplot(df_train, x =df_train['weight'],palette='plasma')",
   "id": "aee3f64c64ce05a1",
   "outputs": [
    {
     "data": {
      "text/plain": [
       "<Axes: xlabel='weight', ylabel='count'>"
      ]
     },
     "execution_count": 24,
     "metadata": {},
     "output_type": "execute_result"
    },
    {
     "data": {
      "text/plain": [
       "<Figure size 640x480 with 1 Axes>"
      ],
      "image/png": "[encoded data removed]"
     },
     "metadata": {},
     "output_type": "display_data"
    }
   ],
   "execution_count": 24
  },
  {
   "metadata": {
    "ExecuteTime": {
     "end_time": "2025-03-17T08:52:37.650118Z",
     "start_time": "2025-03-17T08:52:37.488053Z"
    }
   },
   "cell_type": "code",
   "source": "sns.barplot(x = df_train['weight'], y= df_train['Price'])",
   "id": "f4d60fbf3c494101",
   "outputs": [
    {
     "data": {
      "text/plain": [
       "<Axes: xlabel='weight', ylabel='Price'>"
      ]
     },
     "execution_count": 25,
     "metadata": {},
     "output_type": "execute_result"
    },
    {
     "data": {
      "text/plain": [
       "<Figure size 640x480 with 1 Axes>"
      ],
      "image/png": "[encoded data removed]"
     },
     "metadata": {},
     "output_type": "display_data"
    }
   ],
   "execution_count": 25
  },
  {
   "metadata": {},
   "cell_type": "markdown",
   "source": "### Visualize the RAM",
   "id": "2c6b8d7ceec31add"
  },
  {
   "metadata": {
    "ExecuteTime": {
     "end_time": "2025-03-17T08:53:04.337117Z",
     "start_time": "2025-03-17T08:53:04.099011Z"
    }
   },
   "cell_type": "code",
   "source": "sns.countplot(df_train, x =df_train['ram_gb'],palette='plasma')",
   "id": "5d66d2e5b6d7d628",
   "outputs": [
    {
     "data": {
      "text/plain": [
       "<Axes: xlabel='ram_gb', ylabel='count'>"
      ]
     },
     "execution_count": 26,
     "metadata": {},
     "output_type": "execute_result"
    },
    {
     "data": {
      "text/plain": [
       "<Figure size 640x480 with 1 Axes>"
      ],
      "image/png": "[encoded data removed]"
     },
     "metadata": {},
     "output_type": "display_data"
    }
   ],
   "execution_count": 26
  },
  {
   "metadata": {
    "ExecuteTime": {
     "end_time": "2025-03-17T08:53:06.621279Z",
     "start_time": "2025-03-17T08:53:06.396474Z"
    }
   },
   "cell_type": "code",
   "source": "sns.barplot(x = df_train['ram_gb'], y= df_train['Price'])",
   "id": "8c4ee54150b54761",
   "outputs": [
    {
     "data": {
      "text/plain": [
       "<Axes: xlabel='ram_gb', ylabel='Price'>"
      ]
     },
     "execution_count": 27,
     "metadata": {},
     "output_type": "execute_result"
    },
    {
     "data": {
      "text/plain": [
       "<Figure size 640x480 with 1 Axes>"
      ],
      "image/png": "[encoded data removed]"
     },
     "metadata": {},
     "output_type": "display_data"
    }
   ],
   "execution_count": 27
  },
  {
   "metadata": {
    "ExecuteTime": {
     "end_time": "2025-03-17T08:53:11.794167Z",
     "start_time": "2025-03-17T08:53:11.777341Z"
    }
   },
   "cell_type": "code",
   "source": "df_train.sample(10)",
   "id": "68e4143245edbf3c",
   "outputs": [
    {
     "data": {
      "text/plain": [
       "    brand processor_brand processor_name  processor_gnrtn  ram_gb ram_type  \\\n",
       "417  acer           Intel        Core i5               11       8     DDR4   \n",
       "686  ASUS             AMD        Ryzen 5               11       8     DDR4   \n",
       "735    HP             AMD        Ryzen 5               11       4     DDR4   \n",
       "465  ASUS           Intel        Core i5               10       8     DDR4   \n",
       "57     HP           Intel        Core i3               11       4     DDR4   \n",
       "209  DELL           Intel        Core i5               11       8     DDR4   \n",
       "537    HP           Intel        Core i7               10      16     DDR4   \n",
       "18     HP           Intel   Celeron Dual               11       8     DDR4   \n",
       "725    HP             AMD        Ryzen 5               11       8     DDR4   \n",
       "533   MSI           Intel        Core i7               10      16     DDR4   \n",
       "\n",
       "      ssd   hdd       os  os_bit  graphic_card_gb      weight     warranty  \\\n",
       "417     0  1024  Windows      64                0  ThinNlight           1    \n",
       "686   512     0  Windows      64                0      Casual           1    \n",
       "735   256  1024  Windows      64                4      Gaming           1    \n",
       "465   256  1024  Windows      32                2      Casual  No warranty   \n",
       "57    256     0  Windows      64                0  ThinNlight           1    \n",
       "209   256     0  Windows      64                0  ThinNlight  No warranty   \n",
       "537  1024     0  Windows      64                6      Casual           1    \n",
       "18    256     0  Windows      64                0  ThinNlight  No warranty   \n",
       "725   512     0  Windows      64                4      Gaming           1    \n",
       "533  1024     0  Windows      64                6      Casual           2    \n",
       "\n",
       "    Touchscreen   Price  \n",
       "417          No   46990  \n",
       "686         Yes   62450  \n",
       "735          No   80000  \n",
       "465          No   58990  \n",
       "57           No   44900  \n",
       "209          No   55990  \n",
       "537          No  144690  \n",
       "18           No   32490  \n",
       "725          No   64990  \n",
       "533          No   84990  "
      ],
      "text/html": [
       "<div>\n",
       "<style scoped>\n",
       "    .dataframe tbody tr th:only-of-type {\n",
       "        vertical-align: middle;\n",
       "    }\n",
       "\n",
       "    .dataframe tbody tr th {\n",
       "        vertical-align: top;\n",
       "    }\n",
       "\n",
       "    .dataframe thead th {\n",
       "        text-align: right;\n",
       "    }\n",
       "</style>\n",
       "<table border=\"1\" class=\"dataframe\">\n",
       "  <thead>\n",
       "    <tr style=\"text-align: right;\">\n",
       "      <th></th>\n",
       "      <th>brand</th>\n",
       "      <th>processor_brand</th>\n",
       "      <th>processor_name</th>\n",
       "      <th>processor_gnrtn</th>\n",
       "      <th>ram_gb</th>\n",
       "      <th>ram_type</th>\n",
       "      <th>ssd</th>\n",
       "      <th>hdd</th>\n",
       "      <th>os</th>\n",
       "      <th>os_bit</th>\n",
       "      <th>graphic_card_gb</th>\n",
       "      <th>weight</th>\n",
       "      <th>warranty</th>\n",
       "      <th>Touchscreen</th>\n",
       "      <th>Price</th>\n",
       "    </tr>\n",
       "  </thead>\n",
       "  <tbody>\n",
       "    <tr>\n",
       "      <th>417</th>\n",
       "      <td>acer</td>\n",
       "      <td>Intel</td>\n",
       "      <td>Core i5</td>\n",
       "      <td>11</td>\n",
       "      <td>8</td>\n",
       "      <td>DDR4</td>\n",
       "      <td>0</td>\n",
       "      <td>1024</td>\n",
       "      <td>Windows</td>\n",
       "      <td>64</td>\n",
       "      <td>0</td>\n",
       "      <td>ThinNlight</td>\n",
       "      <td>1</td>\n",
       "      <td>No</td>\n",
       "      <td>46990</td>\n",
       "    </tr>\n",
       "    <tr>\n",
       "      <th>686</th>\n",
       "      <td>ASUS</td>\n",
       "      <td>AMD</td>\n",
       "      <td>Ryzen 5</td>\n",
       "      <td>11</td>\n",
       "      <td>8</td>\n",
       "      <td>DDR4</td>\n",
       "      <td>512</td>\n",
       "      <td>0</td>\n",
       "      <td>Windows</td>\n",
       "      <td>64</td>\n",
       "      <td>0</td>\n",
       "      <td>Casual</td>\n",
       "      <td>1</td>\n",
       "      <td>Yes</td>\n",
       "      <td>62450</td>\n",
       "    </tr>\n",
       "    <tr>\n",
       "      <th>735</th>\n",
       "      <td>HP</td>\n",
       "      <td>AMD</td>\n",
       "      <td>Ryzen 5</td>\n",
       "      <td>11</td>\n",
       "      <td>4</td>\n",
       "      <td>DDR4</td>\n",
       "      <td>256</td>\n",
       "      <td>1024</td>\n",
       "      <td>Windows</td>\n",
       "      <td>64</td>\n",
       "      <td>4</td>\n",
       "      <td>Gaming</td>\n",
       "      <td>1</td>\n",
       "      <td>No</td>\n",
       "      <td>80000</td>\n",
       "    </tr>\n",
       "    <tr>\n",
       "      <th>465</th>\n",
       "      <td>ASUS</td>\n",
       "      <td>Intel</td>\n",
       "      <td>Core i5</td>\n",
       "      <td>10</td>\n",
       "      <td>8</td>\n",
       "      <td>DDR4</td>\n",
       "      <td>256</td>\n",
       "      <td>1024</td>\n",
       "      <td>Windows</td>\n",
       "      <td>32</td>\n",
       "      <td>2</td>\n",
       "      <td>Casual</td>\n",
       "      <td>No warranty</td>\n",
       "      <td>No</td>\n",
       "      <td>58990</td>\n",
       "    </tr>\n",
       "    <tr>\n",
       "      <th>57</th>\n",
       "      <td>HP</td>\n",
       "      <td>Intel</td>\n",
       "      <td>Core i3</td>\n",
       "      <td>11</td>\n",
       "      <td>4</td>\n",
       "      <td>DDR4</td>\n",
       "      <td>256</td>\n",
       "      <td>0</td>\n",
       "      <td>Windows</td>\n",
       "      <td>64</td>\n",
       "      <td>0</td>\n",
       "      <td>ThinNlight</td>\n",
       "      <td>1</td>\n",
       "      <td>No</td>\n",
       "      <td>44900</td>\n",
       "    </tr>\n",
       "    <tr>\n",
       "      <th>209</th>\n",
       "      <td>DELL</td>\n",
       "      <td>Intel</td>\n",
       "      <td>Core i5</td>\n",
       "      <td>11</td>\n",
       "      <td>8</td>\n",
       "      <td>DDR4</td>\n",
       "      <td>256</td>\n",
       "      <td>0</td>\n",
       "      <td>Windows</td>\n",
       "      <td>64</td>\n",
       "      <td>0</td>\n",
       "      <td>ThinNlight</td>\n",
       "      <td>No warranty</td>\n",
       "      <td>No</td>\n",
       "      <td>55990</td>\n",
       "    </tr>\n",
       "    <tr>\n",
       "      <th>537</th>\n",
       "      <td>HP</td>\n",
       "      <td>Intel</td>\n",
       "      <td>Core i7</td>\n",
       "      <td>10</td>\n",
       "      <td>16</td>\n",
       "      <td>DDR4</td>\n",
       "      <td>1024</td>\n",
       "      <td>0</td>\n",
       "      <td>Windows</td>\n",
       "      <td>64</td>\n",
       "      <td>6</td>\n",
       "      <td>Casual</td>\n",
       "      <td>1</td>\n",
       "      <td>No</td>\n",
       "      <td>144690</td>\n",
       "    </tr>\n",
       "    <tr>\n",
       "      <th>18</th>\n",
       "      <td>HP</td>\n",
       "      <td>Intel</td>\n",
       "      <td>Celeron Dual</td>\n",
       "      <td>11</td>\n",
       "      <td>8</td>\n",
       "      <td>DDR4</td>\n",
       "      <td>256</td>\n",
       "      <td>0</td>\n",
       "      <td>Windows</td>\n",
       "      <td>64</td>\n",
       "      <td>0</td>\n",
       "      <td>ThinNlight</td>\n",
       "      <td>No warranty</td>\n",
       "      <td>No</td>\n",
       "      <td>32490</td>\n",
       "    </tr>\n",
       "    <tr>\n",
       "      <th>725</th>\n",
       "      <td>HP</td>\n",
       "      <td>AMD</td>\n",
       "      <td>Ryzen 5</td>\n",
       "      <td>11</td>\n",
       "      <td>8</td>\n",
       "      <td>DDR4</td>\n",
       "      <td>512</td>\n",
       "      <td>0</td>\n",
       "      <td>Windows</td>\n",
       "      <td>64</td>\n",
       "      <td>4</td>\n",
       "      <td>Gaming</td>\n",
       "      <td>1</td>\n",
       "      <td>No</td>\n",
       "      <td>64990</td>\n",
       "    </tr>\n",
       "    <tr>\n",
       "      <th>533</th>\n",
       "      <td>MSI</td>\n",
       "      <td>Intel</td>\n",
       "      <td>Core i7</td>\n",
       "      <td>10</td>\n",
       "      <td>16</td>\n",
       "      <td>DDR4</td>\n",
       "      <td>1024</td>\n",
       "      <td>0</td>\n",
       "      <td>Windows</td>\n",
       "      <td>64</td>\n",
       "      <td>6</td>\n",
       "      <td>Casual</td>\n",
       "      <td>2</td>\n",
       "      <td>No</td>\n",
       "      <td>84990</td>\n",
       "    </tr>\n",
       "  </tbody>\n",
       "</table>\n",
       "</div>"
      ]
     },
     "execution_count": 28,
     "metadata": {},
     "output_type": "execute_result"
    }
   ],
   "execution_count": 28
  },
  {
   "metadata": {},
   "cell_type": "markdown",
   "source": "### Visualize the Operating_system",
   "id": "42aa72fb503cc8e"
  },
  {
   "metadata": {
    "ExecuteTime": {
     "end_time": "2025-03-17T08:53:16.847866Z",
     "start_time": "2025-03-17T08:53:16.698681Z"
    }
   },
   "cell_type": "code",
   "source": "sns.countplot(df_train, x =df_train['os'],palette='plasma')",
   "id": "4c579d91d9fb1c2c",
   "outputs": [
    {
     "data": {
      "text/plain": [
       "<Axes: xlabel='os', ylabel='count'>"
      ]
     },
     "execution_count": 29,
     "metadata": {},
     "output_type": "execute_result"
    },
    {
     "data": {
      "text/plain": [
       "<Figure size 640x480 with 1 Axes>"
      ],
      "image/png": "[encoded data removed]"
     },
     "metadata": {},
     "output_type": "display_data"
    }
   ],
   "execution_count": 29
  },
  {
   "metadata": {
    "ExecuteTime": {
     "end_time": "2025-03-17T08:53:19.991566Z",
     "start_time": "2025-03-17T08:53:19.829314Z"
    }
   },
   "cell_type": "code",
   "source": "sns.barplot(x = df_train['os'], y= df_train['Price'])",
   "id": "4909e26d6a05b7a",
   "outputs": [
    {
     "data": {
      "text/plain": [
       "<Axes: xlabel='os', ylabel='Price'>"
      ]
     },
     "execution_count": 30,
     "metadata": {},
     "output_type": "execute_result"
    },
    {
     "data": {
      "text/plain": [
       "<Figure size 640x480 with 1 Axes>"
      ],
      "image/png": "[encoded data removed]"
     },
     "metadata": {},
     "output_type": "display_data"
    }
   ],
   "execution_count": 30
  },
  {
   "metadata": {},
   "cell_type": "markdown",
   "source": "### Visualize the Price",
   "id": "cfc67f286da85c03"
  },
  {
   "metadata": {
    "ExecuteTime": {
     "end_time": "2025-03-17T08:53:32.579632Z",
     "start_time": "2025-03-17T08:53:32.390600Z"
    }
   },
   "cell_type": "code",
   "source": "sns.distplot(df_train['Price'])",
   "id": "5d2bfc4dc2d723b1",
   "outputs": [
    {
     "data": {
      "text/plain": [
       "<Axes: xlabel='Price', ylabel='Density'>"
      ]
     },
     "execution_count": 31,
     "metadata": {},
     "output_type": "execute_result"
    },
    {
     "data": {
      "text/plain": [
       "<Figure size 640x480 with 1 Axes>"
      ],
      "image/png": "[encoded data removed]"
     },
     "metadata": {},
     "output_type": "display_data"
    }
   ],
   "execution_count": 31
  },
  {
   "metadata": {
    "ExecuteTime": {
     "end_time": "2025-03-17T08:53:51.430591Z",
     "start_time": "2025-03-17T08:53:51.264085Z"
    }
   },
   "cell_type": "code",
   "source": "sns.distplot(np.log(df_train['Price']))",
   "id": "e6253826d517d477",
   "outputs": [
    {
     "data": {
      "text/plain": [
       "<Axes: xlabel='Price', ylabel='Density'>"
      ]
     },
     "execution_count": 32,
     "metadata": {},
     "output_type": "execute_result"
    },
    {
     "data": {
      "text/plain": [
       "<Figure size 640x480 with 1 Axes>"
      ],
      "image/png": "[encoded data removed]"
     },
     "metadata": {},
     "output_type": "display_data"
    }
   ],
   "execution_count": 32
  },
  {
   "metadata": {
    "ExecuteTime": {
     "end_time": "2025-03-17T08:55:58.104726Z",
     "start_time": "2025-03-17T08:55:58.093632Z"
    }
   },
   "cell_type": "code",
   "source": "df_train.info()",
   "id": "69f619a8dffe2761",
   "outputs": [
    {
     "name": "stdout",
     "output_type": "stream",
     "text": [
      "<class 'pandas.core.frame.DataFrame'>\n",
      "RangeIndex: 823 entries, 0 to 822\n",
      "Data columns (total 15 columns):\n",
      " #   Column           Non-Null Count  Dtype \n",
      "---  ------           --------------  ----- \n",
      " 0   brand            823 non-null    object\n",
      " 1   processor_brand  823 non-null    object\n",
      " 2   processor_name   823 non-null    object\n",
      " 3   processor_gnrtn  823 non-null    int64 \n",
      " 4   ram_gb           823 non-null    int32 \n",
      " 5   ram_type         823 non-null    object\n",
      " 6   ssd              823 non-null    int32 \n",
      " 7   hdd              823 non-null    int32 \n",
      " 8   os               823 non-null    object\n",
      " 9   os_bit           823 non-null    int32 \n",
      " 10  graphic_card_gb  823 non-null    int32 \n",
      " 11  weight           823 non-null    object\n",
      " 12  warranty         823 non-null    object\n",
      " 13  Touchscreen      823 non-null    object\n",
      " 14  Price            823 non-null    int64 \n",
      "dtypes: int32(5), int64(2), object(8)\n",
      "memory usage: 80.5+ KB\n"
     ]
    }
   ],
   "execution_count": 33
  },
  {
   "metadata": {
    "ExecuteTime": {
     "end_time": "2025-03-17T08:55:59.350743Z",
     "start_time": "2025-03-17T08:55:59.040853Z"
    }
   },
   "cell_type": "code",
   "source": [
    "numeric_df = df_train.select_dtypes(include=['number'])\n",
    "sns.heatmap(numeric_df.corr(), annot=True)"
   ],
   "id": "e68c52975234fc19",
   "outputs": [
    {
     "data": {
      "text/plain": [
       "<Axes: >"
      ]
     },
     "execution_count": 34,
     "metadata": {},
     "output_type": "execute_result"
    },
    {
     "data": {
      "text/plain": [
       "<Figure size 640x480 with 2 Axes>"
      ],
      "image/png": "[encoded data removed]"
     },
     "metadata": {},
     "output_type": "display_data"
    }
   ],
   "execution_count": 34
  },
  {
   "metadata": {},
   "cell_type": "markdown",
   "source": "## 4. Final data preps",
   "id": "58f4956a070fa54c"
  },
  {
   "metadata": {
    "ExecuteTime": {
     "end_time": "2025-03-17T08:56:57.713410Z",
     "start_time": "2025-03-17T08:56:57.708865Z"
    }
   },
   "cell_type": "code",
   "source": [
    "x = df_train.drop(['Price'], axis=1)\n",
    "y = np.log(df_train['Price'])"
   ],
   "id": "1ee4c784821bdef",
   "outputs": [],
   "execution_count": 35
  },
  {
   "metadata": {
    "ExecuteTime": {
     "end_time": "2025-03-17T08:57:02.885071Z",
     "start_time": "2025-03-17T08:57:02.876679Z"
    }
   },
   "cell_type": "code",
   "source": [
    "X_train, X_test, y_train, y_test = train_test_split(x, y, test_size=0.15, random_state=8418)\n",
    "X_train.shape, X_test.shape"
   ],
   "id": "e1cbe4a194694d2b",
   "outputs": [
    {
     "data": {
      "text/plain": [
       "((699, 14), (124, 14))"
      ]
     },
     "execution_count": 36,
     "metadata": {},
     "output_type": "execute_result"
    }
   ],
   "execution_count": 36
  },
  {
   "metadata": {
    "ExecuteTime": {
     "end_time": "2025-03-17T08:57:05.109460Z",
     "start_time": "2025-03-17T08:57:05.103565Z"
    }
   },
   "cell_type": "code",
   "source": [
    "mapper = {i:value for i,value in enumerate(X_train.columns)}\n",
    "mapper"
   ],
   "id": "6cdfc4c40ef08bc0",
   "outputs": [
    {
     "data": {
      "text/plain": [
       "{0: 'brand',\n",
       " 1: 'processor_brand',\n",
       " 2: 'processor_name',\n",
       " 3: 'processor_gnrtn',\n",
       " 4: 'ram_gb',\n",
       " 5: 'ram_type',\n",
       " 6: 'ssd',\n",
       " 7: 'hdd',\n",
       " 8: 'os',\n",
       " 9: 'os_bit',\n",
       " 10: 'graphic_card_gb',\n",
       " 11: 'weight',\n",
       " 12: 'warranty',\n",
       " 13: 'Touchscreen'}"
      ]
     },
     "execution_count": 37,
     "metadata": {},
     "output_type": "execute_result"
    }
   ],
   "execution_count": 37
  },
  {
   "metadata": {
    "ExecuteTime": {
     "end_time": "2025-03-17T08:57:07.981922Z",
     "start_time": "2025-03-17T08:57:07.971215Z"
    }
   },
   "cell_type": "code",
   "source": "df_train.head()",
   "id": "149e4bb0eef891b6",
   "outputs": [
    {
     "data": {
      "text/plain": [
       "    brand processor_brand processor_name  processor_gnrtn  ram_gb ram_type  \\\n",
       "0    ASUS           Intel        Core i3               10       4     DDR4   \n",
       "1  Lenovo           Intel        Core i3               10       4     DDR4   \n",
       "2  Lenovo           Intel        Core i3               10       4     DDR4   \n",
       "3    ASUS           Intel        Core i5               10       8     DDR4   \n",
       "4    ASUS           Intel   Celeron Dual               11       4     DDR4   \n",
       "\n",
       "   ssd   hdd       os  os_bit  graphic_card_gb  weight     warranty  \\\n",
       "0    0  1024  Windows      64                0  Casual  No warranty   \n",
       "1    0  1024  Windows      64                0  Casual  No warranty   \n",
       "2    0  1024  Windows      64                0  Casual  No warranty   \n",
       "3  512     0  Windows      32                2  Casual  No warranty   \n",
       "4    0   512  Windows      64                0  Casual  No warranty   \n",
       "\n",
       "  Touchscreen  Price  \n",
       "0          No  34649  \n",
       "1          No  38999  \n",
       "2          No  39999  \n",
       "3          No  69990  \n",
       "4          No  26990  "
      ],
      "text/html": [
       "<div>\n",
       "<style scoped>\n",
       "    .dataframe tbody tr th:only-of-type {\n",
       "        vertical-align: middle;\n",
       "    }\n",
       "\n",
       "    .dataframe tbody tr th {\n",
       "        vertical-align: top;\n",
       "    }\n",
       "\n",
       "    .dataframe thead th {\n",
       "        text-align: right;\n",
       "    }\n",
       "</style>\n",
       "<table border=\"1\" class=\"dataframe\">\n",
       "  <thead>\n",
       "    <tr style=\"text-align: right;\">\n",
       "      <th></th>\n",
       "      <th>brand</th>\n",
       "      <th>processor_brand</th>\n",
       "      <th>processor_name</th>\n",
       "      <th>processor_gnrtn</th>\n",
       "      <th>ram_gb</th>\n",
       "      <th>ram_type</th>\n",
       "      <th>ssd</th>\n",
       "      <th>hdd</th>\n",
       "      <th>os</th>\n",
       "      <th>os_bit</th>\n",
       "      <th>graphic_card_gb</th>\n",
       "      <th>weight</th>\n",
       "      <th>warranty</th>\n",
       "      <th>Touchscreen</th>\n",
       "      <th>Price</th>\n",
       "    </tr>\n",
       "  </thead>\n",
       "  <tbody>\n",
       "    <tr>\n",
       "      <th>0</th>\n",
       "      <td>ASUS</td>\n",
       "      <td>Intel</td>\n",
       "      <td>Core i3</td>\n",
       "      <td>10</td>\n",
       "      <td>4</td>\n",
       "      <td>DDR4</td>\n",
       "      <td>0</td>\n",
       "      <td>1024</td>\n",
       "      <td>Windows</td>\n",
       "      <td>64</td>\n",
       "      <td>0</td>\n",
       "      <td>Casual</td>\n",
       "      <td>No warranty</td>\n",
       "      <td>No</td>\n",
       "      <td>34649</td>\n",
       "    </tr>\n",
       "    <tr>\n",
       "      <th>1</th>\n",
       "      <td>Lenovo</td>\n",
       "      <td>Intel</td>\n",
       "      <td>Core i3</td>\n",
       "      <td>10</td>\n",
       "      <td>4</td>\n",
       "      <td>DDR4</td>\n",
       "      <td>0</td>\n",
       "      <td>1024</td>\n",
       "      <td>Windows</td>\n",
       "      <td>64</td>\n",
       "      <td>0</td>\n",
       "      <td>Casual</td>\n",
       "      <td>No warranty</td>\n",
       "      <td>No</td>\n",
       "      <td>38999</td>\n",
       "    </tr>\n",
       "    <tr>\n",
       "      <th>2</th>\n",
       "      <td>Lenovo</td>\n",
       "      <td>Intel</td>\n",
       "      <td>Core i3</td>\n",
       "      <td>10</td>\n",
       "      <td>4</td>\n",
       "      <td>DDR4</td>\n",
       "      <td>0</td>\n",
       "      <td>1024</td>\n",
       "      <td>Windows</td>\n",
       "      <td>64</td>\n",
       "      <td>0</td>\n",
       "      <td>Casual</td>\n",
       "      <td>No warranty</td>\n",
       "      <td>No</td>\n",
       "      <td>39999</td>\n",
       "    </tr>\n",
       "    <tr>\n",
       "      <th>3</th>\n",
       "      <td>ASUS</td>\n",
       "      <td>Intel</td>\n",
       "      <td>Core i5</td>\n",
       "      <td>10</td>\n",
       "      <td>8</td>\n",
       "      <td>DDR4</td>\n",
       "      <td>512</td>\n",
       "      <td>0</td>\n",
       "      <td>Windows</td>\n",
       "      <td>32</td>\n",
       "      <td>2</td>\n",
       "      <td>Casual</td>\n",
       "      <td>No warranty</td>\n",
       "      <td>No</td>\n",
       "      <td>69990</td>\n",
       "    </tr>\n",
       "    <tr>\n",
       "      <th>4</th>\n",
       "      <td>ASUS</td>\n",
       "      <td>Intel</td>\n",
       "      <td>Celeron Dual</td>\n",
       "      <td>11</td>\n",
       "      <td>4</td>\n",
       "      <td>DDR4</td>\n",
       "      <td>0</td>\n",
       "      <td>512</td>\n",
       "      <td>Windows</td>\n",
       "      <td>64</td>\n",
       "      <td>0</td>\n",
       "      <td>Casual</td>\n",
       "      <td>No warranty</td>\n",
       "      <td>No</td>\n",
       "      <td>26990</td>\n",
       "    </tr>\n",
       "  </tbody>\n",
       "</table>\n",
       "</div>"
      ]
     },
     "execution_count": 38,
     "metadata": {},
     "output_type": "execute_result"
    }
   ],
   "execution_count": 38
  },
  {
   "metadata": {
    "ExecuteTime": {
     "end_time": "2025-03-17T08:57:09.115374Z",
     "start_time": "2025-03-17T08:57:09.107093Z"
    }
   },
   "cell_type": "code",
   "source": "df_train.info()",
   "id": "8c41b7092bd771c4",
   "outputs": [
    {
     "name": "stdout",
     "output_type": "stream",
     "text": [
      "<class 'pandas.core.frame.DataFrame'>\n",
      "RangeIndex: 823 entries, 0 to 822\n",
      "Data columns (total 15 columns):\n",
      " #   Column           Non-Null Count  Dtype \n",
      "---  ------           --------------  ----- \n",
      " 0   brand            823 non-null    object\n",
      " 1   processor_brand  823 non-null    object\n",
      " 2   processor_name   823 non-null    object\n",
      " 3   processor_gnrtn  823 non-null    int64 \n",
      " 4   ram_gb           823 non-null    int32 \n",
      " 5   ram_type         823 non-null    object\n",
      " 6   ssd              823 non-null    int32 \n",
      " 7   hdd              823 non-null    int32 \n",
      " 8   os               823 non-null    object\n",
      " 9   os_bit           823 non-null    int32 \n",
      " 10  graphic_card_gb  823 non-null    int32 \n",
      " 11  weight           823 non-null    object\n",
      " 12  warranty         823 non-null    object\n",
      " 13  Touchscreen      823 non-null    object\n",
      " 14  Price            823 non-null    int64 \n",
      "dtypes: int32(5), int64(2), object(8)\n",
      "memory usage: 80.5+ KB\n"
     ]
    }
   ],
   "execution_count": 39
  },
  {
   "metadata": {},
   "cell_type": "markdown",
   "source": "## 5.1 Test Linear Regression method",
   "id": "4b87cdff5505a30"
  },
  {
   "metadata": {
    "ExecuteTime": {
     "end_time": "2025-03-17T09:05:33.228649Z",
     "start_time": "2025-03-17T09:05:33.189288Z"
    }
   },
   "cell_type": "code",
   "source": [
    "encoding = ColumnTransformer(transformers = [\n",
    "    ('col_tnf', OneHotEncoder(sparse_output=False, drop='first'), [0, 1, 2, 5, 8, 11, 12, 13])\n",
    "], remainder='passthrough')\n",
    "\n",
    "lr = LinearRegression()\n",
    "\n",
    "pipe = Pipeline([\n",
    "    ('encoding', encoding),\n",
    "    ('lr', lr)\n",
    "])\n",
    "\n",
    "pipe.fit(X_train, y_train)\n",
    "\n",
    "y_train_pred = pipe.predict(X_train)\n",
    "y_pred = pipe.predict(X_test)\n",
    "\n",
    "print('Train R2 score', metrics.r2_score(y_train,y_train_pred))\n",
    "print('Train MAE', metrics.mean_absolute_error(y_train,y_train_pred))\n",
    "print(\"Train MAE on the orig price:\", np.exp(metrics.mean_absolute_error(y_train,y_train_pred)))\n",
    "print(\"Train RMSE on the orig price:\", np.exp(metrics.root_mean_squared_error(y_train,y_train_pred)))\n",
    "print(\"Train MSE on the orig price:\", np.exp(metrics.mean_squared_error(y_train,y_train_pred)), \"\\n\")\n",
    "\n",
    "print('Test R2 score', metrics.r2_score(y_test,y_pred))\n",
    "print('Test MAE', metrics.mean_absolute_error(y_test,y_pred))\n",
    "print(\"Test MAE on the orig price:\", np.exp(metrics.mean_absolute_error(y_test,y_pred)))\n",
    "print(\"Test RMSE on the orig price:\", np.exp(metrics.root_mean_squared_error(y_test,y_pred)))\n",
    "print(\"Test MSE on the orig price:\", np.exp(metrics.mean_squared_error(y_test,y_pred)), \"\\n\")"
   ],
   "id": "78f40ead6acd9fde",
   "outputs": [
    {
     "name": "stdout",
     "output_type": "stream",
     "text": [
      "Train R2 score 0.8663048188898103\n",
      "Train MAE 0.12809545829978325\n",
      "Train MAE on the orig price: 1.1366615012927748\n",
      "Train RMSE on the orig price: 1.1933665213991491\n",
      "Train MSE on the orig price: 1.0317440010987693 \n",
      "\n",
      "Test R2 score 0.8509808026096805\n",
      "Test MAE 0.14356278102642966\n",
      "Test MAE on the orig price: 1.154379281648378\n",
      "Test RMSE on the orig price: 1.2305226791572403\n",
      "Test MSE on the orig price: 1.0439702027769238 \n",
      "\n"
     ]
    }
   ],
   "execution_count": 42
  },
  {
   "metadata": {},
   "cell_type": "markdown",
   "source": "# Bayesian Regression",
   "id": "bf73b7148b670ac7"
  },
  {
   "metadata": {
    "ExecuteTime": {
     "end_time": "2025-03-17T09:08:31.710216Z",
     "start_time": "2025-03-17T09:08:31.669020Z"
    }
   },
   "cell_type": "code",
   "source": [
    "encoding = ColumnTransformer(transformers = [\n",
    "    ('col_tnf', OneHotEncoder(sparse_output=False, drop='first'), [0, 1, 2, 5, 8, 11, 12, 13])\n",
    "], remainder='passthrough')\n",
    "\n",
    "bayes = BayesianRidge()\n",
    "\n",
    "pipe = Pipeline([\n",
    "    ('encoding', encoding),\n",
    "    ('bayes', bayes)\n",
    "])\n",
    "\n",
    "pipe.fit(X_train, y_train)\n",
    "\n",
    "y_train_pred = pipe.predict(X_train)\n",
    "y_pred = pipe.predict(X_test)\n",
    "\n",
    "print('Train R2 score', metrics.r2_score(y_train,y_train_pred))\n",
    "print('Train MAE', metrics.mean_absolute_error(y_train,y_train_pred))\n",
    "print(\"Train MAE on the orig price:\", np.exp(metrics.mean_absolute_error(y_train,y_train_pred)))\n",
    "print(\"Train RMSE on the orig price:\", np.exp(metrics.root_mean_squared_error(y_train,y_train_pred)))\n",
    "print(\"Train MSE on the orig price:\", np.exp(metrics.mean_squared_error(y_train,y_train_pred)), \"\\n\")\n",
    "\n",
    "print('Test R2 score', metrics.r2_score(y_test,y_pred))\n",
    "print('Test MAE', metrics.mean_absolute_error(y_test,y_pred))\n",
    "print(\"Test MAE on the orig price:\", np.exp(metrics.mean_absolute_error(y_test,y_pred)))\n",
    "print(\"Test RMSE on the orig price:\", np.exp(metrics.root_mean_squared_error(y_test,y_pred)))\n",
    "print(\"Test MSE on the orig price:\", np.exp(metrics.mean_squared_error(y_test,y_pred)), \"\\n\")"
   ],
   "id": "59f419a7e4aa9623",
   "outputs": [
    {
     "name": "stdout",
     "output_type": "stream",
     "text": [
      "Train R2 score 0.8649355860842717\n",
      "Train MAE 0.12880107316124345\n",
      "Train MAE on the orig price: 1.1374638295746269\n",
      "Train RMSE on the orig price: 1.194444531382335\n",
      "Train MSE on the orig price: 1.0320742649278554 \n",
      "\n",
      "Test R2 score 0.8449611286839858\n",
      "Test MAE 0.1464893601339595\n",
      "Test MAE on the orig price: 1.1577626123138212\n",
      "Test RMSE on the orig price: 1.2356378607376977\n",
      "Test MSE on the orig price: 1.0457864596507775 \n",
      "\n"
     ]
    }
   ],
   "execution_count": 44
  },
  {
   "metadata": {},
   "cell_type": "markdown",
   "source": "## 5.2 Test Lasso Regression",
   "id": "5ed4088deb306a6b"
  },
  {
   "metadata": {
    "ExecuteTime": {
     "end_time": "2025-03-17T09:09:24.368921Z",
     "start_time": "2025-03-17T09:09:24.327846Z"
    }
   },
   "cell_type": "code",
   "source": [
    "encoding = ColumnTransformer(transformers = [\n",
    "    ('col_tnf', OneHotEncoder(sparse_output=False, drop='first'), [0, 1, 2, 5, 8, 11, 12, 13])\n",
    "], remainder='passthrough')\n",
    "\n",
    "lasso = Lasso(alpha=0.001)\n",
    "\n",
    "pipe = Pipeline([\n",
    "    ('encoding', encoding),\n",
    "    ('lasso', lasso)\n",
    "])\n",
    "\n",
    "pipe.fit(X_train, y_train)\n",
    "\n",
    "y_train_pred = pipe.predict(X_train)\n",
    "y_pred = pipe.predict(X_test)\n",
    "\n",
    "print('Train R2 score', metrics.r2_score(y_train,y_train_pred))\n",
    "print('Train MAE', metrics.mean_absolute_error(y_train,y_train_pred))\n",
    "print(\"Train MAE on the orig price:\", np.exp(metrics.mean_absolute_error(y_train,y_train_pred)))\n",
    "print(\"Train RMSE on the orig price:\", np.exp(metrics.root_mean_squared_error(y_train,y_train_pred)))\n",
    "print(\"Train MSE on the orig price:\", np.exp(metrics.mean_squared_error(y_train,y_train_pred)), \"\\n\")\n",
    "\n",
    "print('Test R2 score', metrics.r2_score(y_test,y_pred))\n",
    "print('Test MAE', metrics.mean_absolute_error(y_test,y_pred))\n",
    "print(\"Test MAE on the orig price:\", np.exp(metrics.mean_absolute_error(y_test,y_pred)))\n",
    "print(\"Test RMSE on the orig price:\", np.exp(metrics.root_mean_squared_error(y_test,y_pred)))\n",
    "print(\"Test MSE on the orig price:\", np.exp(metrics.mean_squared_error(y_test,y_pred)), \"\\n\")"
   ],
   "id": "f27b3a65dfacaab5",
   "outputs": [
    {
     "name": "stdout",
     "output_type": "stream",
     "text": [
      "Train R2 score 0.8539145775181127\n",
      "Train MAE 0.1343102892681184\n",
      "Train MAE on the orig price: 1.143747657214124\n",
      "Train RMSE on the orig price: 1.2029637979756893\n",
      "Train MSE on the orig price: 1.0347364243934019 \n",
      "\n",
      "Test R2 score 0.8227381157196224\n",
      "Test MAE 0.15846844070149596\n",
      "Test MAE on the orig price: 1.1717149451399707\n",
      "Test RMSE on the orig price: 1.2538815459758772\n",
      "Test MSE on the orig price: 1.0525189982869523 \n",
      "\n"
     ]
    }
   ],
   "execution_count": 45
  },
  {
   "metadata": {},
   "cell_type": "markdown",
   "source": "## 5.3. Decision Tree",
   "id": "9df6983e67977e66"
  },
  {
   "metadata": {
    "ExecuteTime": {
     "end_time": "2025-03-17T09:09:52.058833Z",
     "start_time": "2025-03-17T09:09:52.029177Z"
    }
   },
   "cell_type": "code",
   "source": [
    "encoding = ColumnTransformer(transformers = [\n",
    "    ('col_tnf', OneHotEncoder(sparse_output=False, drop='first'), [0, 1, 2, 5, 8, 11, 12, 13])\n",
    "], remainder='passthrough')\n",
    "\n",
    "dtr = DecisionTreeRegressor(max_depth=8)\n",
    "\n",
    "pipe = Pipeline([\n",
    "    ('encoding', encoding),\n",
    "    ('dtr', dtr)\n",
    "])\n",
    "\n",
    "pipe.fit(X_train, y_train)\n",
    "\n",
    "y_train_pred = pipe.predict(X_train)\n",
    "y_pred = pipe.predict(X_test)\n",
    "\n",
    "print('Train R2 score', metrics.r2_score(y_train,y_train_pred))\n",
    "print('Train MAE', metrics.mean_absolute_error(y_train,y_train_pred))\n",
    "print(\"Train MAE on the orig price:\", np.exp(metrics.mean_absolute_error(y_train,y_train_pred)), \"\\n\")\n",
    "\n",
    "print('Test R2 score', metrics.r2_score(y_test,y_pred))\n",
    "print('Test MAE', metrics.mean_absolute_error(y_test,y_pred))\n",
    "print(\"Test MAE on the orig price:\", np.exp(metrics.mean_absolute_error(y_test,y_pred)))"
   ],
   "id": "3a4ecfd64c342471",
   "outputs": [
    {
     "name": "stdout",
     "output_type": "stream",
     "text": [
      "Train R2 score 0.8929483768816412\n",
      "Train MAE 0.10792686622351404\n",
      "Train MAE on the orig price: 1.1139662738468588 \n",
      "\n",
      "Test R2 score 0.795922270050249\n",
      "Test MAE 0.1683954111668489\n",
      "Test MAE on the orig price: 1.1834044494815894\n"
     ]
    }
   ],
   "execution_count": 46
  },
  {
   "metadata": {},
   "cell_type": "markdown",
   "source": "## 5.4. Random Forest",
   "id": "5c6d4b7d4009d6ba"
  },
  {
   "metadata": {
    "ExecuteTime": {
     "end_time": "2025-03-17T09:10:32.744607Z",
     "start_time": "2025-03-17T09:10:32.514595Z"
    }
   },
   "cell_type": "code",
   "source": [
    "encoding = ColumnTransformer(transformers = [\n",
    "    ('col_tnf', OneHotEncoder(sparse_output=False, drop='first'), [0, 1, 2, 5, 8, 11, 12, 13])\n",
    "], remainder='passthrough')\n",
    "\n",
    "random = RandomForestRegressor(n_estimators=100,\n",
    "                              random_state=3,\n",
    "                              max_samples=0.5,\n",
    "                              max_features=0.75,\n",
    "                              max_depth=15)\n",
    "\n",
    "pipe = Pipeline([\n",
    "    ('encoding', encoding),\n",
    "    ('random', random)\n",
    "])\n",
    "\n",
    "pipe.fit(X_train, y_train)\n",
    "\n",
    "y_train_pred = pipe.predict(X_train)\n",
    "y_pred = pipe.predict(X_test)\n",
    "\n",
    "print('Train R2 score', metrics.r2_score(y_train,y_train_pred))\n",
    "print('Train MAE', metrics.mean_absolute_error(y_train,y_train_pred))\n",
    "print(\"Train MAE on the orig price:\", np.exp(metrics.mean_absolute_error(y_train,y_train_pred)), \"\\n\")\n",
    "\n",
    "print('Test R2 score', metrics.r2_score(y_test,y_pred))\n",
    "print('Test MAE', metrics.mean_absolute_error(y_test,y_pred))\n",
    "print(\"Test MAE on the orig price:\", np.exp(metrics.mean_absolute_error(y_test,y_pred)))"
   ],
   "id": "f056213410d9dc47",
   "outputs": [
    {
     "name": "stdout",
     "output_type": "stream",
     "text": [
      "Train R2 score 0.9350059476104549\n",
      "Train MAE 0.08463718344688273\n",
      "Train MAE on the orig price: 1.0883221337733728 \n",
      "\n",
      "Test R2 score 0.8583367845839139\n",
      "Test MAE 0.14201903920592035\n",
      "Test MAE on the orig price: 1.1525985928900564\n"
     ]
    }
   ],
   "execution_count": 47
  },
  {
   "metadata": {},
   "cell_type": "markdown",
   "source": "## 5.4.1 You can also tune hyperparameters of Random Forest",
   "id": "41ee2f5e3e0f5f7f"
  },
  {
   "metadata": {
    "ExecuteTime": {
     "end_time": "2025-03-17T09:10:55.210306Z",
     "start_time": "2025-03-17T09:10:55.204009Z"
    }
   },
   "cell_type": "code",
   "source": [
    "indexlist = [0, 1, 2, 5, 8, 11, 12, 13]\n",
    "transformlist = []\n",
    "for key,value in mapper.items():\n",
    "    if key in indexlist:\n",
    "        transformlist.append(value)\n",
    "        \n",
    "transformlist"
   ],
   "id": "fe45525a6f07832d",
   "outputs": [
    {
     "data": {
      "text/plain": [
       "['brand',\n",
       " 'processor_brand',\n",
       " 'processor_name',\n",
       " 'ram_type',\n",
       " 'os',\n",
       " 'weight',\n",
       " 'warranty',\n",
       " 'Touchscreen']"
      ]
     },
     "execution_count": 48,
     "metadata": {},
     "output_type": "execute_result"
    }
   ],
   "execution_count": 48
  },
  {
   "metadata": {
    "ExecuteTime": {
     "end_time": "2025-03-17T09:10:56.574340Z",
     "start_time": "2025-03-17T09:10:56.552766Z"
    }
   },
   "cell_type": "code",
   "source": [
    "x = pd.get_dummies(x,columns=transformlist,drop_first=True)\n",
    "x.head()"
   ],
   "id": "527c3f20a1435aab",
   "outputs": [
    {
     "data": {
      "text/plain": [
       "   processor_gnrtn  ram_gb  ssd   hdd  os_bit  graphic_card_gb  brand_ASUS  \\\n",
       "0               10       4    0  1024      64                0        True   \n",
       "1               10       4    0  1024      64                0       False   \n",
       "2               10       4    0  1024      64                0       False   \n",
       "3               10       8  512     0      32                2        True   \n",
       "4               11       4    0   512      64                0        True   \n",
       "\n",
       "   brand_Avita  brand_DELL  brand_HP  ...  ram_type_LPDDR4  ram_type_LPDDR4X  \\\n",
       "0        False       False     False  ...            False             False   \n",
       "1        False       False     False  ...            False             False   \n",
       "2        False       False     False  ...            False             False   \n",
       "3        False       False     False  ...            False             False   \n",
       "4        False       False     False  ...            False             False   \n",
       "\n",
       "   os_Mac  os_Windows  weight_Gaming  weight_ThinNlight  warranty_2   \\\n",
       "0   False        True          False              False        False   \n",
       "1   False        True          False              False        False   \n",
       "2   False        True          False              False        False   \n",
       "3   False        True          False              False        False   \n",
       "4   False        True          False              False        False   \n",
       "\n",
       "   warranty_3   warranty_No warranty  Touchscreen_Yes  \n",
       "0        False                  True            False  \n",
       "1        False                  True            False  \n",
       "2        False                  True            False  \n",
       "3        False                  True            False  \n",
       "4        False                  True            False  \n",
       "\n",
       "[5 rows x 38 columns]"
      ],
      "text/html": [
       "<div>\n",
       "<style scoped>\n",
       "    .dataframe tbody tr th:only-of-type {\n",
       "        vertical-align: middle;\n",
       "    }\n",
       "\n",
       "    .dataframe tbody tr th {\n",
       "        vertical-align: top;\n",
       "    }\n",
       "\n",
       "    .dataframe thead th {\n",
       "        text-align: right;\n",
       "    }\n",
       "</style>\n",
       "<table border=\"1\" class=\"dataframe\">\n",
       "  <thead>\n",
       "    <tr style=\"text-align: right;\">\n",
       "      <th></th>\n",
       "      <th>processor_gnrtn</th>\n",
       "      <th>ram_gb</th>\n",
       "      <th>ssd</th>\n",
       "      <th>hdd</th>\n",
       "      <th>os_bit</th>\n",
       "      <th>graphic_card_gb</th>\n",
       "      <th>brand_ASUS</th>\n",
       "      <th>brand_Avita</th>\n",
       "      <th>brand_DELL</th>\n",
       "      <th>brand_HP</th>\n",
       "      <th>...</th>\n",
       "      <th>ram_type_LPDDR4</th>\n",
       "      <th>ram_type_LPDDR4X</th>\n",
       "      <th>os_Mac</th>\n",
       "      <th>os_Windows</th>\n",
       "      <th>weight_Gaming</th>\n",
       "      <th>weight_ThinNlight</th>\n",
       "      <th>warranty_2</th>\n",
       "      <th>warranty_3</th>\n",
       "      <th>warranty_No warranty</th>\n",
       "      <th>Touchscreen_Yes</th>\n",
       "    </tr>\n",
       "  </thead>\n",
       "  <tbody>\n",
       "    <tr>\n",
       "      <th>0</th>\n",
       "      <td>10</td>\n",
       "      <td>4</td>\n",
       "      <td>0</td>\n",
       "      <td>1024</td>\n",
       "      <td>64</td>\n",
       "      <td>0</td>\n",
       "      <td>True</td>\n",
       "      <td>False</td>\n",
       "      <td>False</td>\n",
       "      <td>False</td>\n",
       "      <td>...</td>\n",
       "      <td>False</td>\n",
       "      <td>False</td>\n",
       "      <td>False</td>\n",
       "      <td>True</td>\n",
       "      <td>False</td>\n",
       "      <td>False</td>\n",
       "      <td>False</td>\n",
       "      <td>False</td>\n",
       "      <td>True</td>\n",
       "      <td>False</td>\n",
       "    </tr>\n",
       "    <tr>\n",
       "      <th>1</th>\n",
       "      <td>10</td>\n",
       "      <td>4</td>\n",
       "      <td>0</td>\n",
       "      <td>1024</td>\n",
       "      <td>64</td>\n",
       "      <td>0</td>\n",
       "      <td>False</td>\n",
       "      <td>False</td>\n",
       "      <td>False</td>\n",
       "      <td>False</td>\n",
       "      <td>...</td>\n",
       "      <td>False</td>\n",
       "      <td>False</td>\n",
       "      <td>False</td>\n",
       "      <td>True</td>\n",
       "      <td>False</td>\n",
       "      <td>False</td>\n",
       "      <td>False</td>\n",
       "      <td>False</td>\n",
       "      <td>True</td>\n",
       "      <td>False</td>\n",
       "    </tr>\n",
       "    <tr>\n",
       "      <th>2</th>\n",
       "      <td>10</td>\n",
       "      <td>4</td>\n",
       "      <td>0</td>\n",
       "      <td>1024</td>\n",
       "      <td>64</td>\n",
       "      <td>0</td>\n",
       "      <td>False</td>\n",
       "      <td>False</td>\n",
       "      <td>False</td>\n",
       "      <td>False</td>\n",
       "      <td>...</td>\n",
       "      <td>False</td>\n",
       "      <td>False</td>\n",
       "      <td>False</td>\n",
       "      <td>True</td>\n",
       "      <td>False</td>\n",
       "      <td>False</td>\n",
       "      <td>False</td>\n",
       "      <td>False</td>\n",
       "      <td>True</td>\n",
       "      <td>False</td>\n",
       "    </tr>\n",
       "    <tr>\n",
       "      <th>3</th>\n",
       "      <td>10</td>\n",
       "      <td>8</td>\n",
       "      <td>512</td>\n",
       "      <td>0</td>\n",
       "      <td>32</td>\n",
       "      <td>2</td>\n",
       "      <td>True</td>\n",
       "      <td>False</td>\n",
       "      <td>False</td>\n",
       "      <td>False</td>\n",
       "      <td>...</td>\n",
       "      <td>False</td>\n",
       "      <td>False</td>\n",
       "      <td>False</td>\n",
       "      <td>True</td>\n",
       "      <td>False</td>\n",
       "      <td>False</td>\n",
       "      <td>False</td>\n",
       "      <td>False</td>\n",
       "      <td>True</td>\n",
       "      <td>False</td>\n",
       "    </tr>\n",
       "    <tr>\n",
       "      <th>4</th>\n",
       "      <td>11</td>\n",
       "      <td>4</td>\n",
       "      <td>0</td>\n",
       "      <td>512</td>\n",
       "      <td>64</td>\n",
       "      <td>0</td>\n",
       "      <td>True</td>\n",
       "      <td>False</td>\n",
       "      <td>False</td>\n",
       "      <td>False</td>\n",
       "      <td>...</td>\n",
       "      <td>False</td>\n",
       "      <td>False</td>\n",
       "      <td>False</td>\n",
       "      <td>True</td>\n",
       "      <td>False</td>\n",
       "      <td>False</td>\n",
       "      <td>False</td>\n",
       "      <td>False</td>\n",
       "      <td>True</td>\n",
       "      <td>False</td>\n",
       "    </tr>\n",
       "  </tbody>\n",
       "</table>\n",
       "<p>5 rows × 38 columns</p>\n",
       "</div>"
      ]
     },
     "execution_count": 49,
     "metadata": {},
     "output_type": "execute_result"
    }
   ],
   "execution_count": 49
  },
  {
   "metadata": {
    "ExecuteTime": {
     "end_time": "2025-03-17T09:10:57.880014Z",
     "start_time": "2025-03-17T09:10:57.871211Z"
    }
   },
   "cell_type": "code",
   "source": [
    "X_train, X_test, y_train, y_test = train_test_split(x,y,\n",
    "                                                   test_size=0.15,random_state=4818)\n",
    "\n",
    "X_train.shape,X_test.shape"
   ],
   "id": "cba1e47cfd1e172",
   "outputs": [
    {
     "data": {
      "text/plain": [
       "((699, 38), (124, 38))"
      ]
     },
     "execution_count": 50,
     "metadata": {},
     "output_type": "execute_result"
    }
   ],
   "execution_count": 50
  },
  {
   "metadata": {
    "ExecuteTime": {
     "end_time": "2025-03-17T09:11:00.832087Z",
     "start_time": "2025-03-17T09:11:00.828327Z"
    }
   },
   "cell_type": "code",
   "source": "rfr = RandomForestRegressor()",
   "id": "5b556d65b4c93eb1",
   "outputs": [],
   "execution_count": 51
  },
  {
   "metadata": {
    "ExecuteTime": {
     "end_time": "2025-03-17T09:11:04.884534Z",
     "start_time": "2025-03-17T09:11:04.879503Z"
    }
   },
   "cell_type": "code",
   "source": [
    "param_grid = { \n",
    "            \"n_estimators\"      : [10,20,30],\n",
    "            \"max_features\"      : [\"sqrt\", \"log2\"],\n",
    "            \"min_samples_split\" : [2,4,8],\n",
    "            \"bootstrap\": [True, False],\n",
    "            }"
   ],
   "id": "b30b280bc91fd07d",
   "outputs": [],
   "execution_count": 52
  },
  {
   "metadata": {
    "ExecuteTime": {
     "end_time": "2025-03-17T09:11:06.564691Z",
     "start_time": "2025-03-17T09:11:06.560806Z"
    }
   },
   "cell_type": "code",
   "source": "grid_search = GridSearchCV(rfr, param_grid, cv=5, scoring='r2')",
   "id": "656b5680769fdb6b",
   "outputs": [],
   "execution_count": 53
  },
  {
   "metadata": {
    "ExecuteTime": {
     "end_time": "2025-03-17T09:11:16.169879Z",
     "start_time": "2025-03-17T09:11:10.030708Z"
    }
   },
   "cell_type": "code",
   "source": "grid_search.fit(X_train,y_train)",
   "id": "a733722a831cdcb5",
   "outputs": [
    {
     "data": {
      "text/plain": [
       "GridSearchCV(cv=5, estimator=RandomForestRegressor(),\n",
       "             param_grid={'bootstrap': [True, False],\n",
       "                         'max_features': ['sqrt', 'log2'],\n",
       "                         'min_samples_split': [2, 4, 8],\n",
       "                         'n_estimators': [10, 20, 30]},\n",
       "             scoring='r2')"
      ],
      "text/html": [
       "<style>#sk-container-id-1 {\n",
       "  /* Definition of color scheme common for light and dark mode */\n",
       "  --sklearn-color-text: #000;\n",
       "  --sklearn-color-text-muted: #666;\n",
       "  --sklearn-color-line: gray;\n",
       "  /* Definition of color scheme for unfitted estimators */\n",
       "  --sklearn-color-unfitted-level-0: #fff5e6;\n",
       "  --sklearn-color-unfitted-level-1: #f6e4d2;\n",
       "  --sklearn-color-unfitted-level-2: #ffe0b3;\n",
       "  --sklearn-color-unfitted-level-3: chocolate;\n",
       "  /* Definition of color scheme for fitted estimators */\n",
       "  --sklearn-color-fitted-level-0: #f0f8ff;\n",
       "  --sklearn-color-fitted-level-1: #d4ebff;\n",
       "  --sklearn-color-fitted-level-2: #b3dbfd;\n",
       "  --sklearn-color-fitted-level-3: cornflowerblue;\n",
       "\n",
       "  /* Specific color for light theme */\n",
       "  --sklearn-color-text-on-default-background: var(--sg-text-color, var(--theme-code-foreground, var(--jp-content-font-color1, black)));\n",
       "  --sklearn-color-background: var(--sg-background-color, var(--theme-background, var(--jp-layout-color0, white)));\n",
       "  --sklearn-color-border-box: var(--sg-text-color, var(--theme-code-foreground, var(--jp-content-font-color1, black)));\n",
       "  --sklearn-color-icon: #696969;\n",
       "\n",
       "  @media (prefers-color-scheme: dark) {\n",
       "    /* Redefinition of color scheme for dark theme */\n",
       "    --sklearn-color-text-on-default-background: var(--sg-text-color, var(--theme-code-foreground, var(--jp-content-font-color1, white)));\n",
       "    --sklearn-color-background: var(--sg-background-color, var(--theme-background, var(--jp-layout-color0, #111)));\n",
       "    --sklearn-color-border-box: var(--sg-text-color, var(--theme-code-foreground, var(--jp-content-font-color1, white)));\n",
       "    --sklearn-color-icon: #878787;\n",
       "  }\n",
       "}\n",
       "\n",
       "#sk-container-id-1 {\n",
       "  color: var(--sklearn-color-text);\n",
       "}\n",
       "\n",
       "#sk-container-id-1 pre {\n",
       "  padding: 0;\n",
       "}\n",
       "\n",
       "#sk-container-id-1 input.sk-hidden--visually {\n",
       "  border: 0;\n",
       "  clip: rect(1px 1px 1px 1px);\n",
       "  clip: rect(1px, 1px, 1px, 1px);\n",
       "  height: 1px;\n",
       "  margin: -1px;\n",
       "  overflow: hidden;\n",
       "  padding: 0;\n",
       "  position: absolute;\n",
       "  width: 1px;\n",
       "}\n",
       "\n",
       "#sk-container-id-1 div.sk-dashed-wrapped {\n",
       "  border: 1px dashed var(--sklearn-color-line);\n",
       "  margin: 0 0.4em 0.5em 0.4em;\n",
       "  box-sizing: border-box;\n",
       "  padding-bottom: 0.4em;\n",
       "  background-color: var(--sklearn-color-background);\n",
       "}\n",
       "\n",
       "#sk-container-id-1 div.sk-container {\n",
       "  /* jupyter's `normalize.less` sets `[hidden] { display: none; }`\n",
       "     but bootstrap.min.css set `[hidden] { display: none !important; }`\n",
       "     so we also need the `!important` here to be able to override the\n",
       "     default hidden behavior on the sphinx rendered scikit-learn.org.\n",
       "     See: https://github.com/scikit-learn/scikit-learn/issues/21755 */\n",
       "  display: inline-block !important;\n",
       "  position: relative;\n",
       "}\n",
       "\n",
       "#sk-container-id-1 div.sk-text-repr-fallback {\n",
       "  display: none;\n",
       "}\n",
       "\n",
       "div.sk-parallel-item,\n",
       "div.sk-serial,\n",
       "div.sk-item {\n",
       "  /* draw centered vertical line to link estimators */\n",
       "  background-image: linear-gradient(var(--sklearn-color-text-on-default-background), var(--sklearn-color-text-on-default-background));\n",
       "  background-size: 2px 100%;\n",
       "  background-repeat: no-repeat;\n",
       "  background-position: center center;\n",
       "}\n",
       "\n",
       "/* Parallel-specific style estimator block */\n",
       "\n",
       "#sk-container-id-1 div.sk-parallel-item::after {\n",
       "  content: \"\";\n",
       "  width: 100%;\n",
       "  border-bottom: 2px solid var(--sklearn-color-text-on-default-background);\n",
       "  flex-grow: 1;\n",
       "}\n",
       "\n",
       "#sk-container-id-1 div.sk-parallel {\n",
       "  display: flex;\n",
       "  align-items: stretch;\n",
       "  justify-content: center;\n",
       "  background-color: var(--sklearn-color-background);\n",
       "  position: relative;\n",
       "}\n",
       "\n",
       "#sk-container-id-1 div.sk-parallel-item {\n",
       "  display: flex;\n",
       "  flex-direction: column;\n",
       "}\n",
       "\n",
       "#sk-container-id-1 div.sk-parallel-item:first-child::after {\n",
       "  align-self: flex-end;\n",
       "  width: 50%;\n",
       "}\n",
       "\n",
       "#sk-container-id-1 div.sk-parallel-item:last-child::after {\n",
       "  align-self: flex-start;\n",
       "  width: 50%;\n",
       "}\n",
       "\n",
       "#sk-container-id-1 div.sk-parallel-item:only-child::after {\n",
       "  width: 0;\n",
       "}\n",
       "\n",
       "/* Serial-specific style estimator block */\n",
       "\n",
       "#sk-container-id-1 div.sk-serial {\n",
       "  display: flex;\n",
       "  flex-direction: column;\n",
       "  align-items: center;\n",
       "  background-color: var(--sklearn-color-background);\n",
       "  padding-right: 1em;\n",
       "  padding-left: 1em;\n",
       "}\n",
       "\n",
       "\n",
       "/* Toggleable style: style used for estimator/Pipeline/ColumnTransformer box that is\n",
       "clickable and can be expanded/collapsed.\n",
       "- Pipeline and ColumnTransformer use this feature and define the default style\n",
       "- Estimators will overwrite some part of the style using the `sk-estimator` class\n",
       "*/\n",
       "\n",
       "/* Pipeline and ColumnTransformer style (default) */\n",
       "\n",
       "#sk-container-id-1 div.sk-toggleable {\n",
       "  /* Default theme specific background. It is overwritten whether we have a\n",
       "  specific estimator or a Pipeline/ColumnTransformer */\n",
       "  background-color: var(--sklearn-color-background);\n",
       "}\n",
       "\n",
       "/* Toggleable label */\n",
       "#sk-container-id-1 label.sk-toggleable__label {\n",
       "  cursor: pointer;\n",
       "  display: flex;\n",
       "  width: 100%;\n",
       "  margin-bottom: 0;\n",
       "  padding: 0.5em;\n",
       "  box-sizing: border-box;\n",
       "  text-align: center;\n",
       "  align-items: start;\n",
       "  justify-content: space-between;\n",
       "  gap: 0.5em;\n",
       "}\n",
       "\n",
       "#sk-container-id-1 label.sk-toggleable__label .caption {\n",
       "  font-size: 0.6rem;\n",
       "  font-weight: lighter;\n",
       "  color: var(--sklearn-color-text-muted);\n",
       "}\n",
       "\n",
       "#sk-container-id-1 label.sk-toggleable__label-arrow:before {\n",
       "  /* Arrow on the left of the label */\n",
       "  content: \"▸\";\n",
       "  float: left;\n",
       "  margin-right: 0.25em;\n",
       "  color: var(--sklearn-color-icon);\n",
       "}\n",
       "\n",
       "#sk-container-id-1 label.sk-toggleable__label-arrow:hover:before {\n",
       "  color: var(--sklearn-color-text);\n",
       "}\n",
       "\n",
       "/* Toggleable content - dropdown */\n",
       "\n",
       "#sk-container-id-1 div.sk-toggleable__content {\n",
       "  max-height: 0;\n",
       "  max-width: 0;\n",
       "  overflow: hidden;\n",
       "  text-align: left;\n",
       "  /* unfitted */\n",
       "  background-color: var(--sklearn-color-unfitted-level-0);\n",
       "}\n",
       "\n",
       "#sk-container-id-1 div.sk-toggleable__content.fitted {\n",
       "  /* fitted */\n",
       "  background-color: var(--sklearn-color-fitted-level-0);\n",
       "}\n",
       "\n",
       "#sk-container-id-1 div.sk-toggleable__content pre {\n",
       "  margin: 0.2em;\n",
       "  border-radius: 0.25em;\n",
       "  color: var(--sklearn-color-text);\n",
       "  /* unfitted */\n",
       "  background-color: var(--sklearn-color-unfitted-level-0);\n",
       "}\n",
       "\n",
       "#sk-container-id-1 div.sk-toggleable__content.fitted pre {\n",
       "  /* unfitted */\n",
       "  background-color: var(--sklearn-color-fitted-level-0);\n",
       "}\n",
       "\n",
       "#sk-container-id-1 input.sk-toggleable__control:checked~div.sk-toggleable__content {\n",
       "  /* Expand drop-down */\n",
       "  max-height: 200px;\n",
       "  max-width: 100%;\n",
       "  overflow: auto;\n",
       "}\n",
       "\n",
       "#sk-container-id-1 input.sk-toggleable__control:checked~label.sk-toggleable__label-arrow:before {\n",
       "  content: \"▾\";\n",
       "}\n",
       "\n",
       "/* Pipeline/ColumnTransformer-specific style */\n",
       "\n",
       "#sk-container-id-1 div.sk-label input.sk-toggleable__control:checked~label.sk-toggleable__label {\n",
       "  color: var(--sklearn-color-text);\n",
       "  background-color: var(--sklearn-color-unfitted-level-2);\n",
       "}\n",
       "\n",
       "#sk-container-id-1 div.sk-label.fitted input.sk-toggleable__control:checked~label.sk-toggleable__label {\n",
       "  background-color: var(--sklearn-color-fitted-level-2);\n",
       "}\n",
       "\n",
       "/* Estimator-specific style */\n",
       "\n",
       "/* Colorize estimator box */\n",
       "#sk-container-id-1 div.sk-estimator input.sk-toggleable__control:checked~label.sk-toggleable__label {\n",
       "  /* unfitted */\n",
       "  background-color: var(--sklearn-color-unfitted-level-2);\n",
       "}\n",
       "\n",
       "#sk-container-id-1 div.sk-estimator.fitted input.sk-toggleable__control:checked~label.sk-toggleable__label {\n",
       "  /* fitted */\n",
       "  background-color: var(--sklearn-color-fitted-level-2);\n",
       "}\n",
       "\n",
       "#sk-container-id-1 div.sk-label label.sk-toggleable__label,\n",
       "#sk-container-id-1 div.sk-label label {\n",
       "  /* The background is the default theme color */\n",
       "  color: var(--sklearn-color-text-on-default-background);\n",
       "}\n",
       "\n",
       "/* On hover, darken the color of the background */\n",
       "#sk-container-id-1 div.sk-label:hover label.sk-toggleable__label {\n",
       "  color: var(--sklearn-color-text);\n",
       "  background-color: var(--sklearn-color-unfitted-level-2);\n",
       "}\n",
       "\n",
       "/* Label box, darken color on hover, fitted */\n",
       "#sk-container-id-1 div.sk-label.fitted:hover label.sk-toggleable__label.fitted {\n",
       "  color: var(--sklearn-color-text);\n",
       "  background-color: var(--sklearn-color-fitted-level-2);\n",
       "}\n",
       "\n",
       "/* Estimator label */\n",
       "\n",
       "#sk-container-id-1 div.sk-label label {\n",
       "  font-family: monospace;\n",
       "  font-weight: bold;\n",
       "  display: inline-block;\n",
       "  line-height: 1.2em;\n",
       "}\n",
       "\n",
       "#sk-container-id-1 div.sk-label-container {\n",
       "  text-align: center;\n",
       "}\n",
       "\n",
       "/* Estimator-specific */\n",
       "#sk-container-id-1 div.sk-estimator {\n",
       "  font-family: monospace;\n",
       "  border: 1px dotted var(--sklearn-color-border-box);\n",
       "  border-radius: 0.25em;\n",
       "  box-sizing: border-box;\n",
       "  margin-bottom: 0.5em;\n",
       "  /* unfitted */\n",
       "  background-color: var(--sklearn-color-unfitted-level-0);\n",
       "}\n",
       "\n",
       "#sk-container-id-1 div.sk-estimator.fitted {\n",
       "  /* fitted */\n",
       "  background-color: var(--sklearn-color-fitted-level-0);\n",
       "}\n",
       "\n",
       "/* on hover */\n",
       "#sk-container-id-1 div.sk-estimator:hover {\n",
       "  /* unfitted */\n",
       "  background-color: var(--sklearn-color-unfitted-level-2);\n",
       "}\n",
       "\n",
       "#sk-container-id-1 div.sk-estimator.fitted:hover {\n",
       "  /* fitted */\n",
       "  background-color: var(--sklearn-color-fitted-level-2);\n",
       "}\n",
       "\n",
       "/* Specification for estimator info (e.g. \"i\" and \"?\") */\n",
       "\n",
       "/* Common style for \"i\" and \"?\" */\n",
       "\n",
       ".sk-estimator-doc-link,\n",
       "a:link.sk-estimator-doc-link,\n",
       "a:visited.sk-estimator-doc-link {\n",
       "  float: right;\n",
       "  font-size: smaller;\n",
       "  line-height: 1em;\n",
       "  font-family: monospace;\n",
       "  background-color: var(--sklearn-color-background);\n",
       "  border-radius: 1em;\n",
       "  height: 1em;\n",
       "  width: 1em;\n",
       "  text-decoration: none !important;\n",
       "  margin-left: 0.5em;\n",
       "  text-align: center;\n",
       "  /* unfitted */\n",
       "  border: var(--sklearn-color-unfitted-level-1) 1pt solid;\n",
       "  color: var(--sklearn-color-unfitted-level-1);\n",
       "}\n",
       "\n",
       ".sk-estimator-doc-link.fitted,\n",
       "a:link.sk-estimator-doc-link.fitted,\n",
       "a:visited.sk-estimator-doc-link.fitted {\n",
       "  /* fitted */\n",
       "  border: var(--sklearn-color-fitted-level-1) 1pt solid;\n",
       "  color: var(--sklearn-color-fitted-level-1);\n",
       "}\n",
       "\n",
       "/* On hover */\n",
       "div.sk-estimator:hover .sk-estimator-doc-link:hover,\n",
       ".sk-estimator-doc-link:hover,\n",
       "div.sk-label-container:hover .sk-estimator-doc-link:hover,\n",
       ".sk-estimator-doc-link:hover {\n",
       "  /* unfitted */\n",
       "  background-color: var(--sklearn-color-unfitted-level-3);\n",
       "  color: var(--sklearn-color-background);\n",
       "  text-decoration: none;\n",
       "}\n",
       "\n",
       "div.sk-estimator.fitted:hover .sk-estimator-doc-link.fitted:hover,\n",
       ".sk-estimator-doc-link.fitted:hover,\n",
       "div.sk-label-container:hover .sk-estimator-doc-link.fitted:hover,\n",
       ".sk-estimator-doc-link.fitted:hover {\n",
       "  /* fitted */\n",
       "  background-color: var(--sklearn-color-fitted-level-3);\n",
       "  color: var(--sklearn-color-background);\n",
       "  text-decoration: none;\n",
       "}\n",
       "\n",
       "/* Span, style for the box shown on hovering the info icon */\n",
       ".sk-estimator-doc-link span {\n",
       "  display: none;\n",
       "  z-index: 9999;\n",
       "  position: relative;\n",
       "  font-weight: normal;\n",
       "  right: .2ex;\n",
       "  padding: .5ex;\n",
       "  margin: .5ex;\n",
       "  width: min-content;\n",
       "  min-width: 20ex;\n",
       "  max-width: 50ex;\n",
       "  color: var(--sklearn-color-text);\n",
       "  box-shadow: 2pt 2pt 4pt #999;\n",
       "  /* unfitted */\n",
       "  background: var(--sklearn-color-unfitted-level-0);\n",
       "  border: .5pt solid var(--sklearn-color-unfitted-level-3);\n",
       "}\n",
       "\n",
       ".sk-estimator-doc-link.fitted span {\n",
       "  /* fitted */\n",
       "  background: var(--sklearn-color-fitted-level-0);\n",
       "  border: var(--sklearn-color-fitted-level-3);\n",
       "}\n",
       "\n",
       ".sk-estimator-doc-link:hover span {\n",
       "  display: block;\n",
       "}\n",
       "\n",
       "/* \"?\"-specific style due to the `<a>` HTML tag */\n",
       "\n",
       "#sk-container-id-1 a.estimator_doc_link {\n",
       "  float: right;\n",
       "  font-size: 1rem;\n",
       "  line-height: 1em;\n",
       "  font-family: monospace;\n",
       "  background-color: var(--sklearn-color-background);\n",
       "  border-radius: 1rem;\n",
       "  height: 1rem;\n",
       "  width: 1rem;\n",
       "  text-decoration: none;\n",
       "  /* unfitted */\n",
       "  color: var(--sklearn-color-unfitted-level-1);\n",
       "  border: var(--sklearn-color-unfitted-level-1) 1pt solid;\n",
       "}\n",
       "\n",
       "#sk-container-id-1 a.estimator_doc_link.fitted {\n",
       "  /* fitted */\n",
       "  border: var(--sklearn-color-fitted-level-1) 1pt solid;\n",
       "  color: var(--sklearn-color-fitted-level-1);\n",
       "}\n",
       "\n",
       "/* On hover */\n",
       "#sk-container-id-1 a.estimator_doc_link:hover {\n",
       "  /* unfitted */\n",
       "  background-color: var(--sklearn-color-unfitted-level-3);\n",
       "  color: var(--sklearn-color-background);\n",
       "  text-decoration: none;\n",
       "}\n",
       "\n",
       "#sk-container-id-1 a.estimator_doc_link.fitted:hover {\n",
       "  /* fitted */\n",
       "  background-color: var(--sklearn-color-fitted-level-3);\n",
       "}\n",
       "</style><div id=\"sk-container-id-1\" class=\"sk-top-container\"><div class=\"sk-text-repr-fallback\"><pre>GridSearchCV(cv=5, estimator=RandomForestRegressor(),\n",
       "             param_grid={&#x27;bootstrap&#x27;: [True, False],\n",
       "                         &#x27;max_features&#x27;: [&#x27;sqrt&#x27;, &#x27;log2&#x27;],\n",
       "                         &#x27;min_samples_split&#x27;: [2, 4, 8],\n",
       "                         &#x27;n_estimators&#x27;: [10, 20, 30]},\n",
       "             scoring=&#x27;r2&#x27;)</pre><b>In a Jupyter environment, please rerun this cell to show the HTML representation or trust the notebook. <br />On GitHub, the HTML representation is unable to render, please try loading this page with nbviewer.org.</b></div><div class=\"sk-container\" hidden><div class=\"sk-item sk-dashed-wrapped\"><div class=\"sk-label-container\"><div class=\"sk-label fitted sk-toggleable\"><input class=\"sk-toggleable__control sk-hidden--visually\" id=\"sk-estimator-id-1\" type=\"checkbox\" ><label for=\"sk-estimator-id-1\" class=\"sk-toggleable__label fitted sk-toggleable__label-arrow\"><div><div>GridSearchCV</div></div><div><a class=\"sk-estimator-doc-link fitted\" rel=\"noreferrer\" target=\"_blank\" href=\"https://scikit-learn.org/1.6/modules/generated/sklearn.model_selection.GridSearchCV.html\">?<span>Documentation for GridSearchCV</span></a><span class=\"sk-estimator-doc-link fitted\">i<span>Fitted</span></span></div></label><div class=\"sk-toggleable__content fitted\"><pre>GridSearchCV(cv=5, estimator=RandomForestRegressor(),\n",
       "             param_grid={&#x27;bootstrap&#x27;: [True, False],\n",
       "                         &#x27;max_features&#x27;: [&#x27;sqrt&#x27;, &#x27;log2&#x27;],\n",
       "                         &#x27;min_samples_split&#x27;: [2, 4, 8],\n",
       "                         &#x27;n_estimators&#x27;: [10, 20, 30]},\n",
       "             scoring=&#x27;r2&#x27;)</pre></div> </div></div><div class=\"sk-parallel\"><div class=\"sk-parallel-item\"><div class=\"sk-item\"><div class=\"sk-label-container\"><div class=\"sk-label fitted sk-toggleable\"><input class=\"sk-toggleable__control sk-hidden--visually\" id=\"sk-estimator-id-2\" type=\"checkbox\" ><label for=\"sk-estimator-id-2\" class=\"sk-toggleable__label fitted sk-toggleable__label-arrow\"><div><div>best_estimator_: RandomForestRegressor</div></div></label><div class=\"sk-toggleable__content fitted\"><pre>RandomForestRegressor(bootstrap=False, max_features=&#x27;log2&#x27;, min_samples_split=4,\n",
       "                      n_estimators=30)</pre></div> </div></div><div class=\"sk-serial\"><div class=\"sk-item\"><div class=\"sk-estimator fitted sk-toggleable\"><input class=\"sk-toggleable__control sk-hidden--visually\" id=\"sk-estimator-id-3\" type=\"checkbox\" ><label for=\"sk-estimator-id-3\" class=\"sk-toggleable__label fitted sk-toggleable__label-arrow\"><div><div>RandomForestRegressor</div></div><div><a class=\"sk-estimator-doc-link fitted\" rel=\"noreferrer\" target=\"_blank\" href=\"https://scikit-learn.org/1.6/modules/generated/sklearn.ensemble.RandomForestRegressor.html\">?<span>Documentation for RandomForestRegressor</span></a></div></label><div class=\"sk-toggleable__content fitted\"><pre>RandomForestRegressor(bootstrap=False, max_features=&#x27;log2&#x27;, min_samples_split=4,\n",
       "                      n_estimators=30)</pre></div> </div></div></div></div></div></div></div></div></div>"
      ]
     },
     "execution_count": 54,
     "metadata": {},
     "output_type": "execute_result"
    }
   ],
   "execution_count": 54
  },
  {
   "metadata": {
    "ExecuteTime": {
     "end_time": "2025-03-17T09:11:31.309135Z",
     "start_time": "2025-03-17T09:11:31.303275Z"
    }
   },
   "cell_type": "code",
   "source": [
    "print('Best hyper parameter :' , grid_search.best_params_)\n",
    "print('Best model :' , grid_search.best_estimator_)"
   ],
   "id": "223a2fbb9fc1877d",
   "outputs": [
    {
     "name": "stdout",
     "output_type": "stream",
     "text": [
      "Best hyper parameter : {'bootstrap': False, 'max_features': 'log2', 'min_samples_split': 4, 'n_estimators': 30}\n",
      "Best model : RandomForestRegressor(bootstrap=False, max_features='log2', min_samples_split=4,\n",
      "                      n_estimators=30)\n"
     ]
    }
   ],
   "execution_count": 55
  },
  {
   "metadata": {
    "ExecuteTime": {
     "end_time": "2025-03-17T09:11:56.143580Z",
     "start_time": "2025-03-17T09:11:56.139797Z"
    }
   },
   "cell_type": "code",
   "source": [
    "rfr =  RandomForestRegressor(bootstrap=False, max_features='log2', min_samples_split=4,\n",
    "                      n_estimators=30)"
   ],
   "id": "8ad5f27a1766a935",
   "outputs": [],
   "execution_count": 56
  },
  {
   "metadata": {
    "ExecuteTime": {
     "end_time": "2025-03-17T09:11:57.589768Z",
     "start_time": "2025-03-17T09:11:57.540328Z"
    }
   },
   "cell_type": "code",
   "source": "rf_grid = rfr.fit(X_train,y_train)",
   "id": "7044fcdaa239bfa",
   "outputs": [],
   "execution_count": 57
  },
  {
   "metadata": {
    "ExecuteTime": {
     "end_time": "2025-03-17T09:12:00.601158Z",
     "start_time": "2025-03-17T09:12:00.579949Z"
    }
   },
   "cell_type": "code",
   "source": [
    "y_train_pred = rf_grid.predict(X_train)\n",
    "y_pred = rf_grid.predict(X_test)\n",
    "\n",
    "print('Train R2 score', metrics.r2_score(y_train,y_train_pred))\n",
    "print('Train MAE', metrics.mean_absolute_error(y_train,y_train_pred))\n",
    "print(\"Train MAE on the orig price:\", np.exp(metrics.mean_absolute_error(y_train,y_train_pred)), \"\\n\")\n",
    "\n",
    "print('Test R2 score', metrics.r2_score(y_test,y_pred))\n",
    "print('Test MAE', metrics.mean_absolute_error(y_test,y_pred))\n",
    "print(\"Test MAE on the orig price:\", np.exp(metrics.mean_absolute_error(y_test,y_pred)))"
   ],
   "id": "db4ce704eb6a331f",
   "outputs": [
    {
     "name": "stdout",
     "output_type": "stream",
     "text": [
      "Train R2 score 0.9703217123826874\n",
      "Train MAE 0.05791470933317571\n",
      "Train MAE on the orig price: 1.0596246157659974 \n",
      "\n",
      "Test R2 score 0.8677414841959912\n",
      "Test MAE 0.12529802428612247\n",
      "Test MAE on the orig price: 1.1334862091528806\n"
     ]
    }
   ],
   "execution_count": 58
  },
  {
   "metadata": {
    "ExecuteTime": {
     "end_time": "2025-03-17T09:12:20.375635Z",
     "start_time": "2025-03-17T09:12:17.526544Z"
    }
   },
   "cell_type": "code",
   "source": [
    "predicted = []\n",
    "testtrain = np.array(x)\n",
    "for i in range(len(testtrain)):\n",
    "    predicted.append(rfr.predict([testtrain[i]]))\n",
    "    \n",
    "predicted"
   ],
   "id": "6028203ca8d003b5",
   "outputs": [
    {
     "data": {
      "text/plain": [
       "[array([10.50365528]),\n",
       " array([10.57812194]),\n",
       " array([10.57812194]),\n",
       " array([11.19708112]),\n",
       " array([10.09628365]),\n",
       " array([10.09628365]),\n",
       " array([10.01298249]),\n",
       " array([11.04764097]),\n",
       " array([10.75076943]),\n",
       " array([11.08620029]),\n",
       " array([11.30436366]),\n",
       " array([11.08620029]),\n",
       " array([9.8614634]),\n",
       " array([10.09628365]),\n",
       " array([10.5818138]),\n",
       " array([10.91019345]),\n",
       " array([11.14476027]),\n",
       " array([10.41931207]),\n",
       " array([10.4741689]),\n",
       " array([10.41931207]),\n",
       " array([10.39142832]),\n",
       " array([10.43821466]),\n",
       " array([10.4685748]),\n",
       " array([10.80254923]),\n",
       " array([10.48514526]),\n",
       " array([10.56259357]),\n",
       " array([10.5343704]),\n",
       " array([10.48544806]),\n",
       " array([10.61912981]),\n",
       " array([10.61710499]),\n",
       " array([10.91019345]),\n",
       " array([10.56035993]),\n",
       " array([10.55030362]),\n",
       " array([10.64323869]),\n",
       " array([10.60421065]),\n",
       " array([10.54125804]),\n",
       " array([10.68982236]),\n",
       " array([10.64323869]),\n",
       " array([10.60421065]),\n",
       " array([10.65692835]),\n",
       " array([10.59060387]),\n",
       " array([10.89838761]),\n",
       " array([10.53908524]),\n",
       " array([10.59855231]),\n",
       " array([10.63862927]),\n",
       " array([10.64323869]),\n",
       " array([10.58674344]),\n",
       " array([10.68982236]),\n",
       " array([10.89120661]),\n",
       " array([10.68982236]),\n",
       " array([10.65692835]),\n",
       " array([10.60421065]),\n",
       " array([10.64323869]),\n",
       " array([10.63059011]),\n",
       " array([10.70254022]),\n",
       " array([10.54061365]),\n",
       " array([10.56935539]),\n",
       " array([10.67049061]),\n",
       " array([10.57466763]),\n",
       " array([10.68286708]),\n",
       " array([10.51591675]),\n",
       " array([10.62289819]),\n",
       " array([10.62911787]),\n",
       " array([10.59060387]),\n",
       " array([10.16295028]),\n",
       " array([11.05651065]),\n",
       " array([10.57618742]),\n",
       " array([10.62289819]),\n",
       " array([10.66545093]),\n",
       " array([10.59855231]),\n",
       " array([10.60653457]),\n",
       " array([10.62502485]),\n",
       " array([10.67049061]),\n",
       " array([10.62911787]),\n",
       " array([10.66545093]),\n",
       " array([10.67049061]),\n",
       " array([10.69789569]),\n",
       " array([10.75358428]),\n",
       " array([10.62911787]),\n",
       " array([10.59060387]),\n",
       " array([10.63430529]),\n",
       " array([10.51624896]),\n",
       " array([10.75547895]),\n",
       " array([10.72948068]),\n",
       " array([9.99609334]),\n",
       " array([10.94955181]),\n",
       " array([10.55697825]),\n",
       " array([10.66587782]),\n",
       " array([10.66587782]),\n",
       " array([10.59159274]),\n",
       " array([10.71275315]),\n",
       " array([10.88166425]),\n",
       " array([10.71275315]),\n",
       " array([10.71275315]),\n",
       " array([10.61127003]),\n",
       " array([10.73236327]),\n",
       " array([10.65926972]),\n",
       " array([10.66587782]),\n",
       " array([10.63260436]),\n",
       " array([10.68427305]),\n",
       " array([10.6693166]),\n",
       " array([10.63468803]),\n",
       " array([10.70592069]),\n",
       " array([10.89876233]),\n",
       " array([10.71275315]),\n",
       " array([10.6693166]),\n",
       " array([10.70206459]),\n",
       " array([10.71275315]),\n",
       " array([10.93600622]),\n",
       " array([10.71892998]),\n",
       " array([10.69531571]),\n",
       " array([10.69531571]),\n",
       " array([10.70592069]),\n",
       " array([10.68053694]),\n",
       " array([10.76717614]),\n",
       " array([10.59021744]),\n",
       " array([11.05373746]),\n",
       " array([10.70191428]),\n",
       " array([10.76717614]),\n",
       " array([10.59159274]),\n",
       " array([10.63260436]),\n",
       " array([10.70191428]),\n",
       " array([10.59159274]),\n",
       " array([10.75569578]),\n",
       " array([10.76717614]),\n",
       " array([10.59159274]),\n",
       " array([10.66066266]),\n",
       " array([10.97565642]),\n",
       " array([10.73236327]),\n",
       " array([10.95579407]),\n",
       " array([10.48195095]),\n",
       " array([10.55233374]),\n",
       " array([10.6395976]),\n",
       " array([10.6395976]),\n",
       " array([10.60287661]),\n",
       " array([10.6725697]),\n",
       " array([10.50996379]),\n",
       " array([10.66232762]),\n",
       " array([10.57414119]),\n",
       " array([10.50205461]),\n",
       " array([10.5544986]),\n",
       " array([10.64686419]),\n",
       " array([10.6289932]),\n",
       " array([10.53746028]),\n",
       " array([10.61098079]),\n",
       " array([10.61098079]),\n",
       " array([10.65572092]),\n",
       " array([10.61098079]),\n",
       " array([10.46035153]),\n",
       " array([10.55808067]),\n",
       " array([10.50205461]),\n",
       " array([10.46035153]),\n",
       " array([10.66322366]),\n",
       " array([9.99609334]),\n",
       " array([10.55808067]),\n",
       " array([10.64686419]),\n",
       " array([10.50365528]),\n",
       " array([10.60385682]),\n",
       " array([10.76482025]),\n",
       " array([10.57414119]),\n",
       " array([10.61678768]),\n",
       " array([10.54980266]),\n",
       " array([10.66232762]),\n",
       " array([9.99609334]),\n",
       " array([10.66232762]),\n",
       " array([10.52540634]),\n",
       " array([10.5544986]),\n",
       " array([9.99609334]),\n",
       " array([10.6332737]),\n",
       " array([10.46951481]),\n",
       " array([9.99609334]),\n",
       " array([10.63308317]),\n",
       " array([10.71758785]),\n",
       " array([10.71758785]),\n",
       " array([10.64019126]),\n",
       " array([10.68100782]),\n",
       " array([10.61861748]),\n",
       " array([10.74315434]),\n",
       " array([10.68100782]),\n",
       " array([10.69063971]),\n",
       " array([10.59547456]),\n",
       " array([10.68100782]),\n",
       " array([10.68100782]),\n",
       " array([10.66779743]),\n",
       " array([10.66779743]),\n",
       " array([10.77372042]),\n",
       " array([10.68100782]),\n",
       " array([10.64268968]),\n",
       " array([9.90641027]),\n",
       " array([9.99609334]),\n",
       " array([10.18799319]),\n",
       " array([10.18799319]),\n",
       " array([10.35884596]),\n",
       " array([10.43113486]),\n",
       " array([10.21175844]),\n",
       " array([10.21175844]),\n",
       " array([10.99315906]),\n",
       " array([11.51062995]),\n",
       " array([11.30683466]),\n",
       " array([11.44596295]),\n",
       " array([11.21862192]),\n",
       " array([11.13811354]),\n",
       " array([11.07136442]),\n",
       " array([11.36802156]),\n",
       " array([10.98654629]),\n",
       " array([11.17115072]),\n",
       " array([10.87208071]),\n",
       " array([11.27442616]),\n",
       " array([10.81647747]),\n",
       " array([10.93760145]),\n",
       " array([11.34508047]),\n",
       " array([11.64099572]),\n",
       " array([11.03067024]),\n",
       " array([10.81647747]),\n",
       " array([10.99774254]),\n",
       " array([10.92742679]),\n",
       " array([11.03558876]),\n",
       " array([10.94780409]),\n",
       " array([11.15265635]),\n",
       " array([11.05343879]),\n",
       " array([11.0508299]),\n",
       " array([10.98250671]),\n",
       " array([10.86745644]),\n",
       " array([11.05762246]),\n",
       " array([11.08066407]),\n",
       " array([11.17624155]),\n",
       " array([10.92050278]),\n",
       " array([10.93430631]),\n",
       " array([11.18127125]),\n",
       " array([10.84438914]),\n",
       " array([10.87025298]),\n",
       " array([11.18127125]),\n",
       " array([11.25365348]),\n",
       " array([11.3880211]),\n",
       " array([11.01602603]),\n",
       " array([11.05343879]),\n",
       " array([11.18532633]),\n",
       " array([11.18532633]),\n",
       " array([11.05762246]),\n",
       " array([11.02576449]),\n",
       " array([10.92742679]),\n",
       " array([11.27202906]),\n",
       " array([11.15265635]),\n",
       " array([11.03558876]),\n",
       " array([10.92050278]),\n",
       " array([11.13869929]),\n",
       " array([11.02576449]),\n",
       " array([11.32292594]),\n",
       " array([11.11233821]),\n",
       " array([11.13869929]),\n",
       " array([10.90071709]),\n",
       " array([10.98540496]),\n",
       " array([11.60739943]),\n",
       " array([10.92252367]),\n",
       " array([10.98250671]),\n",
       " array([10.98250671]),\n",
       " array([11.15265635]),\n",
       " array([11.11000024]),\n",
       " array([10.83312262]),\n",
       " array([11.0882685]),\n",
       " array([11.32020991]),\n",
       " array([11.05343879]),\n",
       " array([11.03558876]),\n",
       " array([11.02576449]),\n",
       " array([10.98250671]),\n",
       " array([11.02576449]),\n",
       " array([11.03558876]),\n",
       " array([11.34156373]),\n",
       " array([11.34819948]),\n",
       " array([11.3085626]),\n",
       " array([11.14812437]),\n",
       " array([11.11547529]),\n",
       " array([11.34156373]),\n",
       " array([11.20945754]),\n",
       " array([11.09493879]),\n",
       " array([11.04883354]),\n",
       " array([11.30025868]),\n",
       " array([11.04279991]),\n",
       " array([11.02221883]),\n",
       " array([11.09887204]),\n",
       " array([11.06699254]),\n",
       " array([10.98250671]),\n",
       " array([11.17624155]),\n",
       " array([11.36532427]),\n",
       " array([11.03558876]),\n",
       " array([11.06893442]),\n",
       " array([11.29305055]),\n",
       " array([10.92742679]),\n",
       " array([11.06699254]),\n",
       " array([11.14812437]),\n",
       " array([11.24808894]),\n",
       " array([11.45210904]),\n",
       " array([11.27785436]),\n",
       " array([11.06699254]),\n",
       " array([10.98250671]),\n",
       " array([11.31276391]),\n",
       " array([11.09003241]),\n",
       " array([11.53419258]),\n",
       " array([11.11233821]),\n",
       " array([11.20203651]),\n",
       " array([11.06699254]),\n",
       " array([11.04581628]),\n",
       " array([11.37951189]),\n",
       " array([10.93532135]),\n",
       " array([11.08800748]),\n",
       " array([10.87879368]),\n",
       " array([11.21554392]),\n",
       " array([11.50668316]),\n",
       " array([11.0694181]),\n",
       " array([11.85667293]),\n",
       " array([12.01705916]),\n",
       " array([11.15790052]),\n",
       " array([10.92795301]),\n",
       " array([11.64274207]),\n",
       " array([10.98250671]),\n",
       " array([11.29252407]),\n",
       " array([11.44230129]),\n",
       " array([11.2393188]),\n",
       " array([11.17624155]),\n",
       " array([10.94604667]),\n",
       " array([11.05343879]),\n",
       " array([10.92795301]),\n",
       " array([11.60739943]),\n",
       " array([11.1956491]),\n",
       " array([11.03825422]),\n",
       " array([11.15068708]),\n",
       " array([10.94387835]),\n",
       " array([11.26110073]),\n",
       " array([11.16684477]),\n",
       " array([11.01809949]),\n",
       " array([11.3315092]),\n",
       " array([10.94780409]),\n",
       " array([11.21554392]),\n",
       " array([11.67993702]),\n",
       " array([11.13285462]),\n",
       " array([11.11233821]),\n",
       " array([11.42658981]),\n",
       " array([11.45210904]),\n",
       " array([11.03558876]),\n",
       " array([11.45210904]),\n",
       " array([10.98250671]),\n",
       " array([11.21554392]),\n",
       " array([10.98250671]),\n",
       " array([11.04802187]),\n",
       " array([10.93593787]),\n",
       " array([10.87879368]),\n",
       " array([11.00829666]),\n",
       " array([11.28634442]),\n",
       " array([11.30612477]),\n",
       " array([11.3085626]),\n",
       " array([11.31904442]),\n",
       " array([11.45210904]),\n",
       " array([11.3085626]),\n",
       " array([11.11655708]),\n",
       " array([11.24453154]),\n",
       " array([11.24453154]),\n",
       " array([10.98777302]),\n",
       " array([11.09003241]),\n",
       " array([11.21554392]),\n",
       " array([11.36702842]),\n",
       " array([11.20891222]),\n",
       " array([11.67993702]),\n",
       " array([11.35632529]),\n",
       " array([11.57128227]),\n",
       " array([11.30025868]),\n",
       " array([11.25812416]),\n",
       " array([11.39926478]),\n",
       " array([11.30025868]),\n",
       " array([11.45210904]),\n",
       " array([11.67934912]),\n",
       " array([11.79230744]),\n",
       " array([11.19272496]),\n",
       " array([11.22656937]),\n",
       " array([11.13285462]),\n",
       " array([11.11233821]),\n",
       " array([11.45210904]),\n",
       " array([11.36371903]),\n",
       " array([11.2314297]),\n",
       " array([11.27785436]),\n",
       " array([11.28653538]),\n",
       " array([11.2997105]),\n",
       " array([11.47280561]),\n",
       " array([11.55787548]),\n",
       " array([11.05891491]),\n",
       " array([11.17624155]),\n",
       " array([11.21554392]),\n",
       " array([11.55787548]),\n",
       " array([11.06893442]),\n",
       " array([11.09066002]),\n",
       " array([11.13869929]),\n",
       " array([11.30025868]),\n",
       " array([11.09066002]),\n",
       " array([11.27014302]),\n",
       " array([11.09066002]),\n",
       " array([11.03745008]),\n",
       " array([11.31276391]),\n",
       " array([11.36056621]),\n",
       " array([11.31260024]),\n",
       " array([11.03745008]),\n",
       " array([11.03745008]),\n",
       " array([11.4214368]),\n",
       " array([11.19131831]),\n",
       " array([11.25889228]),\n",
       " array([11.2393188]),\n",
       " array([11.26127411]),\n",
       " array([11.2392137]),\n",
       " array([11.28324783]),\n",
       " array([12.06932219]),\n",
       " array([12.06932219]),\n",
       " array([11.31618869]),\n",
       " array([11.27914038]),\n",
       " array([11.30507576]),\n",
       " array([11.32523961]),\n",
       " array([11.10548569]),\n",
       " array([11.81872903]),\n",
       " array([11.81872903]),\n",
       " array([10.84285108]),\n",
       " array([10.83500979]),\n",
       " array([10.83628332]),\n",
       " array([11.06207614]),\n",
       " array([10.83100136]),\n",
       " array([10.92085837]),\n",
       " array([10.92713344]),\n",
       " array([10.90295939]),\n",
       " array([10.97122958]),\n",
       " array([11.03364732]),\n",
       " array([10.94886852]),\n",
       " array([11.01475625]),\n",
       " array([10.96842583]),\n",
       " array([11.17847495]),\n",
       " array([11.01475625]),\n",
       " array([10.94886852]),\n",
       " array([11.19782055]),\n",
       " array([12.02705646]),\n",
       " array([12.02705646]),\n",
       " array([12.17126532]),\n",
       " array([11.00647532]),\n",
       " array([10.85415781]),\n",
       " array([10.73355233]),\n",
       " array([11.06207614]),\n",
       " array([10.8315086]),\n",
       " array([10.99573179]),\n",
       " array([10.89356524]),\n",
       " array([10.99091322]),\n",
       " array([10.90195022]),\n",
       " array([10.97132233]),\n",
       " array([10.9740951]),\n",
       " array([10.92807949]),\n",
       " array([10.87457475]),\n",
       " array([11.07654522]),\n",
       " array([11.05552666]),\n",
       " array([11.04202292]),\n",
       " array([11.00971561]),\n",
       " array([10.92202183]),\n",
       " array([11.0249635]),\n",
       " array([10.928154]),\n",
       " array([11.05552666]),\n",
       " array([11.02031849]),\n",
       " array([10.99356231]),\n",
       " array([11.14944526]),\n",
       " array([11.07654522]),\n",
       " array([11.04202292]),\n",
       " array([10.97132233]),\n",
       " array([10.99356231]),\n",
       " array([11.18450028]),\n",
       " array([11.0046736]),\n",
       " array([10.97132233]),\n",
       " array([11.13490595]),\n",
       " array([11.13919855]),\n",
       " array([11.13490595]),\n",
       " array([10.99356231]),\n",
       " array([10.9740951]),\n",
       " array([11.18450028]),\n",
       " array([10.97132233]),\n",
       " array([11.13490595]),\n",
       " array([11.03714493]),\n",
       " array([11.03532081]),\n",
       " array([12.17126532]),\n",
       " array([11.43883114]),\n",
       " array([11.21168523]),\n",
       " array([11.21168523]),\n",
       " array([11.21168523]),\n",
       " array([11.21168523]),\n",
       " array([11.21168523]),\n",
       " array([11.21168523]),\n",
       " array([11.17104441]),\n",
       " array([11.12877174]),\n",
       " array([11.33815235]),\n",
       " array([11.18495584]),\n",
       " array([11.43335329]),\n",
       " array([11.53236594]),\n",
       " array([11.2023141]),\n",
       " array([11.20005693]),\n",
       " array([11.50962154]),\n",
       " array([11.51201835]),\n",
       " array([11.39306155]),\n",
       " array([10.98490938]),\n",
       " array([11.53581627]),\n",
       " array([11.49602133]),\n",
       " array([11.3537296]),\n",
       " array([11.53581627]),\n",
       " array([11.30887499]),\n",
       " array([11.42885716]),\n",
       " array([11.45312539]),\n",
       " array([11.51168806]),\n",
       " array([11.3444273]),\n",
       " array([11.53319539]),\n",
       " array([12.23868841]),\n",
       " array([11.28591733]),\n",
       " array([11.58711656]),\n",
       " array([11.76045115]),\n",
       " array([11.34649433]),\n",
       " array([11.42885716]),\n",
       " array([11.9757324]),\n",
       " array([11.55132083]),\n",
       " array([11.19742124]),\n",
       " array([11.70123662]),\n",
       " array([11.79473423]),\n",
       " array([11.66445351]),\n",
       " array([11.53581627]),\n",
       " array([11.53272586]),\n",
       " array([11.59133788]),\n",
       " array([11.51366452]),\n",
       " array([12.1564386]),\n",
       " array([11.51119116]),\n",
       " array([11.74878822]),\n",
       " array([11.95028735]),\n",
       " array([11.62544853]),\n",
       " array([12.14845368]),\n",
       " array([11.58469529]),\n",
       " array([11.49602133]),\n",
       " array([11.32739359]),\n",
       " array([11.11955497]),\n",
       " array([11.52232418]),\n",
       " array([11.64498659]),\n",
       " array([11.71068288]),\n",
       " array([11.56786056]),\n",
       " array([11.94773632]),\n",
       " array([11.52640813]),\n",
       " array([11.68694487]),\n",
       " array([11.98142454]),\n",
       " array([11.86696559]),\n",
       " array([11.48081845]),\n",
       " array([12.00767445]),\n",
       " array([11.87306034]),\n",
       " array([11.67580869]),\n",
       " array([12.24011291]),\n",
       " array([12.41575359]),\n",
       " array([11.68552327]),\n",
       " array([11.68552327]),\n",
       " array([11.89539544]),\n",
       " array([11.76610548]),\n",
       " array([11.89858961]),\n",
       " array([11.97957892]),\n",
       " array([11.78564849]),\n",
       " array([11.96607117]),\n",
       " array([11.46131095]),\n",
       " array([12.27395099]),\n",
       " array([11.89858961]),\n",
       " array([11.58924157]),\n",
       " array([11.71068288]),\n",
       " array([11.86005858]),\n",
       " array([11.90922238]),\n",
       " array([11.85111096]),\n",
       " array([11.86802419]),\n",
       " array([12.06761753]),\n",
       " array([12.06761753]),\n",
       " array([11.69357154]),\n",
       " array([12.06761753]),\n",
       " array([11.89858961]),\n",
       " array([11.16485373]),\n",
       " array([11.44107185]),\n",
       " array([11.58653849]),\n",
       " array([11.82475954]),\n",
       " array([12.20056006]),\n",
       " array([12.06241996]),\n",
       " array([12.19517807]),\n",
       " array([11.41745023]),\n",
       " array([11.64895929]),\n",
       " array([11.10198805]),\n",
       " array([11.23030442]),\n",
       " array([11.38724615]),\n",
       " array([11.65784022]),\n",
       " array([11.89802204]),\n",
       " array([11.46414826]),\n",
       " array([11.49264678]),\n",
       " array([11.65457733]),\n",
       " array([11.98271787]),\n",
       " array([11.89917101]),\n",
       " array([12.09019617]),\n",
       " array([12.48996876]),\n",
       " array([12.1119782]),\n",
       " array([11.89511282]),\n",
       " array([12.3513157]),\n",
       " array([11.98309671]),\n",
       " array([11.47999192]),\n",
       " array([12.02705646]),\n",
       " array([11.47999192]),\n",
       " array([11.8613462]),\n",
       " array([11.45300906]),\n",
       " array([11.45300906]),\n",
       " array([11.64042333]),\n",
       " array([11.45300906]),\n",
       " array([11.64042333]),\n",
       " array([11.64042333]),\n",
       " array([11.45300906]),\n",
       " array([12.03552929]),\n",
       " array([11.62372668]),\n",
       " array([11.62372668]),\n",
       " array([11.62372668]),\n",
       " array([11.62372668]),\n",
       " array([11.62372668]),\n",
       " array([12.03552929]),\n",
       " array([12.03552929]),\n",
       " array([12.03552929]),\n",
       " array([11.54889549]),\n",
       " array([11.62372668]),\n",
       " array([11.82764275]),\n",
       " array([12.27621737]),\n",
       " array([12.27621737]),\n",
       " array([12.27621737]),\n",
       " array([12.64429532]),\n",
       " array([12.27621737]),\n",
       " array([10.68474757]),\n",
       " array([10.98803548]),\n",
       " array([11.01225771]),\n",
       " array([10.41954954]),\n",
       " array([10.42131532]),\n",
       " array([10.44861319]),\n",
       " array([10.46793805]),\n",
       " array([10.42131532]),\n",
       " array([10.52657713]),\n",
       " array([10.266967]),\n",
       " array([10.20886208]),\n",
       " array([10.20886208]),\n",
       " array([10.29583015]),\n",
       " array([10.61819319]),\n",
       " array([10.5027698]),\n",
       " array([10.61803997]),\n",
       " array([10.61803997]),\n",
       " array([10.58993487]),\n",
       " array([10.47659041]),\n",
       " array([10.61803997]),\n",
       " array([10.52143116]),\n",
       " array([10.47659041]),\n",
       " array([10.53778498]),\n",
       " array([10.66039812]),\n",
       " array([10.65585366]),\n",
       " array([10.51352875]),\n",
       " array([10.68314122]),\n",
       " array([10.64348145]),\n",
       " array([10.63004121]),\n",
       " array([10.5472143]),\n",
       " array([10.60001512]),\n",
       " array([10.57693938]),\n",
       " array([10.59067128]),\n",
       " array([10.59151887]),\n",
       " array([10.59151887]),\n",
       " array([10.64401053]),\n",
       " array([10.49833653]),\n",
       " array([10.57693938]),\n",
       " array([10.65660902]),\n",
       " array([10.66957568]),\n",
       " array([10.69539337]),\n",
       " array([10.66957568]),\n",
       " array([10.69539337]),\n",
       " array([10.81189503]),\n",
       " array([10.74539167]),\n",
       " array([11.03828999]),\n",
       " array([11.00840566]),\n",
       " array([10.87931613]),\n",
       " array([10.860903]),\n",
       " array([10.85337396]),\n",
       " array([10.860903]),\n",
       " array([10.95010059]),\n",
       " array([10.91734822]),\n",
       " array([10.76779244]),\n",
       " array([11.02633635]),\n",
       " array([11.06866786]),\n",
       " array([10.78341685]),\n",
       " array([11.03828999]),\n",
       " array([11.10869235]),\n",
       " array([11.03828999]),\n",
       " array([10.93556843]),\n",
       " array([11.05071614]),\n",
       " array([10.89982304]),\n",
       " array([11.10536091]),\n",
       " array([11.03045974]),\n",
       " array([10.860903]),\n",
       " array([11.05202459]),\n",
       " array([11.03828999]),\n",
       " array([11.11370536]),\n",
       " array([11.38214523]),\n",
       " array([11.10521722]),\n",
       " array([10.86447531]),\n",
       " array([10.93556843]),\n",
       " array([10.93556843]),\n",
       " array([11.22418334]),\n",
       " array([11.01243793]),\n",
       " array([11.31716357]),\n",
       " array([11.23861196]),\n",
       " array([11.10089909]),\n",
       " array([11.16098911]),\n",
       " array([11.18067805]),\n",
       " array([10.89503698]),\n",
       " array([11.38245336]),\n",
       " array([11.25575184]),\n",
       " array([10.84933741]),\n",
       " array([10.89503698]),\n",
       " array([11.18853561]),\n",
       " array([11.38140704]),\n",
       " array([10.90708729]),\n",
       " array([10.84933741]),\n",
       " array([11.02922278]),\n",
       " array([11.0010589]),\n",
       " array([10.89503698]),\n",
       " array([10.89480455]),\n",
       " array([11.0010589]),\n",
       " array([11.10089909]),\n",
       " array([10.98440261]),\n",
       " array([10.89503698]),\n",
       " array([11.21602532]),\n",
       " array([10.860903]),\n",
       " array([11.14205575]),\n",
       " array([11.05071614]),\n",
       " array([11.05671139]),\n",
       " array([11.0824989]),\n",
       " array([11.27066176]),\n",
       " array([11.08750073]),\n",
       " array([10.80485438]),\n",
       " array([10.95296792]),\n",
       " array([11.12590256]),\n",
       " array([10.95296792]),\n",
       " array([10.92078703]),\n",
       " array([11.05930424]),\n",
       " array([11.18645703]),\n",
       " array([10.84132614]),\n",
       " array([11.04272062]),\n",
       " array([10.89652499]),\n",
       " array([11.11535629]),\n",
       " array([11.28694143]),\n",
       " array([11.31210349]),\n",
       " array([11.194702]),\n",
       " array([11.194702]),\n",
       " array([11.40871549]),\n",
       " array([11.27331469]),\n",
       " array([11.42875433]),\n",
       " array([11.30065156]),\n",
       " array([11.52268767]),\n",
       " array([11.15245348]),\n",
       " array([11.28047064]),\n",
       " array([11.15245348]),\n",
       " array([11.07634856]),\n",
       " array([11.1707779]),\n",
       " array([11.40482409]),\n",
       " array([11.39422047]),\n",
       " array([11.15245348]),\n",
       " array([11.1707779]),\n",
       " array([11.13135273]),\n",
       " array([11.26367185]),\n",
       " array([11.27641243]),\n",
       " array([11.01894806]),\n",
       " array([11.55675599]),\n",
       " array([11.48602251]),\n",
       " array([11.40026078]),\n",
       " array([11.2686585]),\n",
       " array([11.26649756]),\n",
       " array([11.40482409]),\n",
       " array([11.26367185]),\n",
       " array([11.34679567]),\n",
       " array([11.13135273]),\n",
       " array([11.27912279]),\n",
       " array([11.28166021]),\n",
       " array([11.3055547]),\n",
       " array([11.5875436]),\n",
       " array([11.27249039]),\n",
       " array([11.41500952]),\n",
       " array([11.34521982]),\n",
       " array([11.47943689]),\n",
       " array([11.6013644]),\n",
       " array([11.4560894]),\n",
       " array([11.4518812]),\n",
       " array([11.68856613]),\n",
       " array([11.4050076]),\n",
       " array([11.69337721]),\n",
       " array([11.4050076]),\n",
       " array([11.61316884]),\n",
       " array([11.32284081]),\n",
       " array([11.4050076]),\n",
       " array([11.60450425]),\n",
       " array([11.4050076]),\n",
       " array([11.38873618]),\n",
       " array([11.26679255]),\n",
       " array([11.41840758]),\n",
       " array([11.28910902]),\n",
       " array([11.00383896]),\n",
       " array([11.84456583]),\n",
       " array([11.74416781]),\n",
       " array([11.96525408]),\n",
       " array([11.71755762]),\n",
       " array([11.84456583]),\n",
       " array([11.69637641]),\n",
       " array([11.79394711]),\n",
       " array([11.75540212]),\n",
       " array([11.87248134]),\n",
       " array([11.87248134]),\n",
       " array([11.75940915]),\n",
       " array([11.85656719]),\n",
       " array([11.75540212]),\n",
       " array([11.87248134]),\n",
       " array([11.75540212]),\n",
       " array([11.87248134]),\n",
       " array([11.80122069]),\n",
       " array([11.93009934]),\n",
       " array([11.75540212]),\n",
       " array([11.7263688]),\n",
       " array([11.79089831]),\n",
       " array([11.87248134]),\n",
       " array([11.75540212]),\n",
       " array([11.75540212]),\n",
       " array([11.93009934]),\n",
       " array([11.93009934]),\n",
       " array([10.96144445])]"
      ]
     },
     "execution_count": 59,
     "metadata": {},
     "output_type": "execute_result"
    }
   ],
   "execution_count": 59
  },
  {
   "metadata": {
    "ExecuteTime": {
     "end_time": "2025-03-17T09:12:20.382104Z",
     "start_time": "2025-03-17T09:12:20.377164Z"
    }
   },
   "cell_type": "code",
   "source": "ans = [np.exp(predicted[i][0]) for i in range(len(predicted))]",
   "id": "4209f654623c462f",
   "outputs": [],
   "execution_count": 60
  },
  {
   "metadata": {
    "ExecuteTime": {
     "end_time": "2025-03-17T09:12:22.009569Z",
     "start_time": "2025-03-17T09:12:22.004921Z"
    }
   },
   "cell_type": "code",
   "source": "rounded_prices = [round(pred) for pred in ans]",
   "id": "e8722887b695bba1",
   "outputs": [],
   "execution_count": 61
  },
  {
   "metadata": {
    "ExecuteTime": {
     "end_time": "2025-03-17T09:12:22.629002Z",
     "start_time": "2025-03-17T09:12:22.616998Z"
    }
   },
   "cell_type": "code",
   "source": [
    "df_train['Predicted Price'] = np.array(rounded_prices)\n",
    "df_train"
   ],
   "id": "ed50ce4ab107c943",
   "outputs": [
    {
     "data": {
      "text/plain": [
       "      brand processor_brand processor_name  processor_gnrtn  ram_gb ram_type  \\\n",
       "0      ASUS           Intel        Core i3               10       4     DDR4   \n",
       "1    Lenovo           Intel        Core i3               10       4     DDR4   \n",
       "2    Lenovo           Intel        Core i3               10       4     DDR4   \n",
       "3      ASUS           Intel        Core i5               10       8     DDR4   \n",
       "4      ASUS           Intel   Celeron Dual               11       4     DDR4   \n",
       "..      ...             ...            ...              ...     ...      ...   \n",
       "818    ASUS             AMD        Ryzen 9               11       4     DDR4   \n",
       "819    ASUS             AMD        Ryzen 9               11       4     DDR4   \n",
       "820    ASUS             AMD        Ryzen 9               11       4     DDR4   \n",
       "821    ASUS             AMD        Ryzen 9               11       4     DDR4   \n",
       "822  Lenovo             AMD        Ryzen 5               10       8     DDR4   \n",
       "\n",
       "      ssd   hdd       os  os_bit  graphic_card_gb      weight     warranty  \\\n",
       "0       0  1024  Windows      64                0      Casual  No warranty   \n",
       "1       0  1024  Windows      64                0      Casual  No warranty   \n",
       "2       0  1024  Windows      64                0      Casual  No warranty   \n",
       "3     512     0  Windows      32                2      Casual  No warranty   \n",
       "4       0   512  Windows      64                0      Casual  No warranty   \n",
       "..    ...   ...      ...     ...              ...         ...          ...   \n",
       "818  1024     0  Windows      64                0      Casual           1    \n",
       "819  1024     0  Windows      64                0      Casual           1    \n",
       "820  1024     0  Windows      64                4      Casual           1    \n",
       "821  1024     0  Windows      64                4      Casual           1    \n",
       "822   512     0      DOS      64                0  ThinNlight  No warranty   \n",
       "\n",
       "    Touchscreen   Price  Predicted Price  \n",
       "0            No   34649            36448  \n",
       "1            No   38999            39266  \n",
       "2            No   39999            39266  \n",
       "3            No   69990            72917  \n",
       "4            No   26990            24253  \n",
       "..          ...     ...              ...  \n",
       "818          No  135990           127440  \n",
       "819          No  144990           127440  \n",
       "820          No  149990           151767  \n",
       "821          No  142990           151767  \n",
       "822          No   57490            57610  \n",
       "\n",
       "[823 rows x 16 columns]"
      ],
      "text/html": [
       "<div>\n",
       "<style scoped>\n",
       "    .dataframe tbody tr th:only-of-type {\n",
       "        vertical-align: middle;\n",
       "    }\n",
       "\n",
       "    .dataframe tbody tr th {\n",
       "        vertical-align: top;\n",
       "    }\n",
       "\n",
       "    .dataframe thead th {\n",
       "        text-align: right;\n",
       "    }\n",
       "</style>\n",
       "<table border=\"1\" class=\"dataframe\">\n",
       "  <thead>\n",
       "    <tr style=\"text-align: right;\">\n",
       "      <th></th>\n",
       "      <th>brand</th>\n",
       "      <th>processor_brand</th>\n",
       "      <th>processor_name</th>\n",
       "      <th>processor_gnrtn</th>\n",
       "      <th>ram_gb</th>\n",
       "      <th>ram_type</th>\n",
       "      <th>ssd</th>\n",
       "      <th>hdd</th>\n",
       "      <th>os</th>\n",
       "      <th>os_bit</th>\n",
       "      <th>graphic_card_gb</th>\n",
       "      <th>weight</th>\n",
       "      <th>warranty</th>\n",
       "      <th>Touchscreen</th>\n",
       "      <th>Price</th>\n",
       "      <th>Predicted Price</th>\n",
       "    </tr>\n",
       "  </thead>\n",
       "  <tbody>\n",
       "    <tr>\n",
       "      <th>0</th>\n",
       "      <td>ASUS</td>\n",
       "      <td>Intel</td>\n",
       "      <td>Core i3</td>\n",
       "      <td>10</td>\n",
       "      <td>4</td>\n",
       "      <td>DDR4</td>\n",
       "      <td>0</td>\n",
       "      <td>1024</td>\n",
       "      <td>Windows</td>\n",
       "      <td>64</td>\n",
       "      <td>0</td>\n",
       "      <td>Casual</td>\n",
       "      <td>No warranty</td>\n",
       "      <td>No</td>\n",
       "      <td>34649</td>\n",
       "      <td>36448</td>\n",
       "    </tr>\n",
       "    <tr>\n",
       "      <th>1</th>\n",
       "      <td>Lenovo</td>\n",
       "      <td>Intel</td>\n",
       "      <td>Core i3</td>\n",
       "      <td>10</td>\n",
       "      <td>4</td>\n",
       "      <td>DDR4</td>\n",
       "      <td>0</td>\n",
       "      <td>1024</td>\n",
       "      <td>Windows</td>\n",
       "      <td>64</td>\n",
       "      <td>0</td>\n",
       "      <td>Casual</td>\n",
       "      <td>No warranty</td>\n",
       "      <td>No</td>\n",
       "      <td>38999</td>\n",
       "      <td>39266</td>\n",
       "    </tr>\n",
       "    <tr>\n",
       "      <th>2</th>\n",
       "      <td>Lenovo</td>\n",
       "      <td>Intel</td>\n",
       "      <td>Core i3</td>\n",
       "      <td>10</td>\n",
       "      <td>4</td>\n",
       "      <td>DDR4</td>\n",
       "      <td>0</td>\n",
       "      <td>1024</td>\n",
       "      <td>Windows</td>\n",
       "      <td>64</td>\n",
       "      <td>0</td>\n",
       "      <td>Casual</td>\n",
       "      <td>No warranty</td>\n",
       "      <td>No</td>\n",
       "      <td>39999</td>\n",
       "      <td>39266</td>\n",
       "    </tr>\n",
       "    <tr>\n",
       "      <th>3</th>\n",
       "      <td>ASUS</td>\n",
       "      <td>Intel</td>\n",
       "      <td>Core i5</td>\n",
       "      <td>10</td>\n",
       "      <td>8</td>\n",
       "      <td>DDR4</td>\n",
       "      <td>512</td>\n",
       "      <td>0</td>\n",
       "      <td>Windows</td>\n",
       "      <td>32</td>\n",
       "      <td>2</td>\n",
       "      <td>Casual</td>\n",
       "      <td>No warranty</td>\n",
       "      <td>No</td>\n",
       "      <td>69990</td>\n",
       "      <td>72917</td>\n",
       "    </tr>\n",
       "    <tr>\n",
       "      <th>4</th>\n",
       "      <td>ASUS</td>\n",
       "      <td>Intel</td>\n",
       "      <td>Celeron Dual</td>\n",
       "      <td>11</td>\n",
       "      <td>4</td>\n",
       "      <td>DDR4</td>\n",
       "      <td>0</td>\n",
       "      <td>512</td>\n",
       "      <td>Windows</td>\n",
       "      <td>64</td>\n",
       "      <td>0</td>\n",
       "      <td>Casual</td>\n",
       "      <td>No warranty</td>\n",
       "      <td>No</td>\n",
       "      <td>26990</td>\n",
       "      <td>24253</td>\n",
       "    </tr>\n",
       "    <tr>\n",
       "      <th>...</th>\n",
       "      <td>...</td>\n",
       "      <td>...</td>\n",
       "      <td>...</td>\n",
       "      <td>...</td>\n",
       "      <td>...</td>\n",
       "      <td>...</td>\n",
       "      <td>...</td>\n",
       "      <td>...</td>\n",
       "      <td>...</td>\n",
       "      <td>...</td>\n",
       "      <td>...</td>\n",
       "      <td>...</td>\n",
       "      <td>...</td>\n",
       "      <td>...</td>\n",
       "      <td>...</td>\n",
       "      <td>...</td>\n",
       "    </tr>\n",
       "    <tr>\n",
       "      <th>818</th>\n",
       "      <td>ASUS</td>\n",
       "      <td>AMD</td>\n",
       "      <td>Ryzen 9</td>\n",
       "      <td>11</td>\n",
       "      <td>4</td>\n",
       "      <td>DDR4</td>\n",
       "      <td>1024</td>\n",
       "      <td>0</td>\n",
       "      <td>Windows</td>\n",
       "      <td>64</td>\n",
       "      <td>0</td>\n",
       "      <td>Casual</td>\n",
       "      <td>1</td>\n",
       "      <td>No</td>\n",
       "      <td>135990</td>\n",
       "      <td>127440</td>\n",
       "    </tr>\n",
       "    <tr>\n",
       "      <th>819</th>\n",
       "      <td>ASUS</td>\n",
       "      <td>AMD</td>\n",
       "      <td>Ryzen 9</td>\n",
       "      <td>11</td>\n",
       "      <td>4</td>\n",
       "      <td>DDR4</td>\n",
       "      <td>1024</td>\n",
       "      <td>0</td>\n",
       "      <td>Windows</td>\n",
       "      <td>64</td>\n",
       "      <td>0</td>\n",
       "      <td>Casual</td>\n",
       "      <td>1</td>\n",
       "      <td>No</td>\n",
       "      <td>144990</td>\n",
       "      <td>127440</td>\n",
       "    </tr>\n",
       "    <tr>\n",
       "      <th>820</th>\n",
       "      <td>ASUS</td>\n",
       "      <td>AMD</td>\n",
       "      <td>Ryzen 9</td>\n",
       "      <td>11</td>\n",
       "      <td>4</td>\n",
       "      <td>DDR4</td>\n",
       "      <td>1024</td>\n",
       "      <td>0</td>\n",
       "      <td>Windows</td>\n",
       "      <td>64</td>\n",
       "      <td>4</td>\n",
       "      <td>Casual</td>\n",
       "      <td>1</td>\n",
       "      <td>No</td>\n",
       "      <td>149990</td>\n",
       "      <td>151767</td>\n",
       "    </tr>\n",
       "    <tr>\n",
       "      <th>821</th>\n",
       "      <td>ASUS</td>\n",
       "      <td>AMD</td>\n",
       "      <td>Ryzen 9</td>\n",
       "      <td>11</td>\n",
       "      <td>4</td>\n",
       "      <td>DDR4</td>\n",
       "      <td>1024</td>\n",
       "      <td>0</td>\n",
       "      <td>Windows</td>\n",
       "      <td>64</td>\n",
       "      <td>4</td>\n",
       "      <td>Casual</td>\n",
       "      <td>1</td>\n",
       "      <td>No</td>\n",
       "      <td>142990</td>\n",
       "      <td>151767</td>\n",
       "    </tr>\n",
       "    <tr>\n",
       "      <th>822</th>\n",
       "      <td>Lenovo</td>\n",
       "      <td>AMD</td>\n",
       "      <td>Ryzen 5</td>\n",
       "      <td>10</td>\n",
       "      <td>8</td>\n",
       "      <td>DDR4</td>\n",
       "      <td>512</td>\n",
       "      <td>0</td>\n",
       "      <td>DOS</td>\n",
       "      <td>64</td>\n",
       "      <td>0</td>\n",
       "      <td>ThinNlight</td>\n",
       "      <td>No warranty</td>\n",
       "      <td>No</td>\n",
       "      <td>57490</td>\n",
       "      <td>57610</td>\n",
       "    </tr>\n",
       "  </tbody>\n",
       "</table>\n",
       "<p>823 rows × 16 columns</p>\n",
       "</div>"
      ]
     },
     "execution_count": 62,
     "metadata": {},
     "output_type": "execute_result"
    }
   ],
   "execution_count": 62
  },
  {
   "metadata": {
    "ExecuteTime": {
     "end_time": "2025-03-17T09:12:23.731946Z",
     "start_time": "2025-03-17T09:12:23.600802Z"
    }
   },
   "cell_type": "code",
   "source": [
    "sns.distplot(df_train['Price'],hist=False,color='orange',label='Actual')\n",
    "sns.distplot(df_train['Predicted Price'],hist=False,color='blue',label='Predicted')\n",
    "plt.legend()\n",
    "plt.show()"
   ],
   "id": "e1f1c63a5ad37bf3",
   "outputs": [
    {
     "data": {
      "text/plain": [
       "<Figure size 640x480 with 1 Axes>"
      ],
      "image/png": "[encoded data removed]"
     },
     "metadata": {},
     "output_type": "display_data"
    }
   ],
   "execution_count": 63
  },
  {
   "metadata": {
    "ExecuteTime": {
     "end_time": "2025-03-17T09:13:50.491558Z",
     "start_time": "2025-03-17T09:13:50.354575Z"
    }
   },
   "cell_type": "code",
   "source": "sns.scatterplot(df_train, x=\"Price\", y=\"Predicted Price\")",
   "id": "547acbb9553954a2",
   "outputs": [
    {
     "data": {
      "text/plain": [
       "<Axes: xlabel='Price', ylabel='Predicted Price'>"
      ]
     },
     "execution_count": 64,
     "metadata": {},
     "output_type": "execute_result"
    },
    {
     "data": {
      "text/plain": [
       "<Figure size 640x480 with 1 Axes>"
      ],
      "image/png": "[encoded data removed]"
     },
     "metadata": {},
     "output_type": "display_data"
    }
   ],
   "execution_count": 64
  },
  {
   "metadata": {
    "ExecuteTime": {
     "end_time": "2025-03-17T09:15:58.989411Z",
     "start_time": "2025-03-17T09:15:58.984634Z"
    }
   },
   "cell_type": "code",
   "source": [
    "df_train[\"log(Price)\"] = np.log(df_train[\"Price\"])\n",
    "df_train[\"log(Pred_Price)\"] = np.log(df_train[\"Predicted Price\"])"
   ],
   "id": "62f18ae30d970cca",
   "outputs": [],
   "execution_count": 65
  },
  {
   "metadata": {
    "ExecuteTime": {
     "end_time": "2025-03-17T09:16:18.192430Z",
     "start_time": "2025-03-17T09:16:18.047686Z"
    }
   },
   "cell_type": "code",
   "source": "sns.scatterplot(df_train, x=\"log(Price)\", y=\"log(Pred_Price)\")",
   "id": "706211ae708dddc9",
   "outputs": [
    {
     "data": {
      "text/plain": [
       "<Axes: xlabel='log(Price)', ylabel='log(Pred_Price)'>"
      ]
     },
     "execution_count": 66,
     "metadata": {},
     "output_type": "execute_result"
    },
    {
     "data": {
      "text/plain": [
       "<Figure size 640x480 with 1 Axes>"
      ],
      "image/png": "[encoded data removed]"
     },
     "metadata": {},
     "output_type": "display_data"
    }
   ],
   "execution_count": 66
  },
  {
   "metadata": {},
   "cell_type": "code",
   "source": "",
   "id": "fcf9b4c125a05f46",
   "outputs": [],
   "execution_count": null
  },
  {
   "metadata": {},
   "cell_type": "code",
   "source": "",
   "id": "9babfed883540858",
   "outputs": [],
   "execution_count": null
  },
  {
   "metadata": {},
   "cell_type": "markdown",
   "source": [
    "# The lab work task\n",
    "Solve the regression problem for the one of the presented datasets using the same steps into your work.\n",
    "To get you variant: (your_num % 9), where your_num is your number in the group list.\n",
    "\n",
    "In addition to presented in the example methods consider other ML methods like Support Vector Machine, Gradient Boosting Regression, Bayesian Ridge Regression.\n",
    "\n",
    "Present your work in the Jupyter Notebook variant\n",
    "\n",
    "P.s. in provided data sources you can find examples of solving this problem, but be ready to explain the code and results."
   ],
   "id": "19952dd618576545"
  },
  {
   "metadata": {},
   "cell_type": "markdown",
   "source": [
    "# Data to choose\n",
    "0. [Gold Price Prediction](https://www.kaggle.com/datasets/franciscogcc/financial-data)\n",
    "1. [Possum Regression](https://www.kaggle.com/datasets/abrambeyer/openintro-possum/data)\n",
    "2. [Student Performance](https://www.kaggle.com/datasets/nikhil7280/student-performance-multiple-linear-regression)\n",
    "3. [Boston House Prices](https://www.kaggle.com/datasets/fedesoriano/the-boston-houseprice-data/data)\n",
    "4. [Car Price](https://www.kaggle.com/datasets/hellbuoy/car-price-prediction)\n",
    "5. [Medical Cost](https://www.kaggle.com/datasets/mirichoi0218/insurance)\n",
    "6. [Crab Age Prediction](https://www.kaggle.com/datasets/sidhus/crab-age-prediction)\n",
    "7. [Calculate Concrete Strength](https://www.kaggle.com/datasets/prathamtripathi/regression-with-neural-networking)\n",
    "8. [Advertising dataset](https://www.kaggle.com/datasets/tawfikelmetwally/advertising-dataset)"
   ],
   "id": "ab2c69683a1d1b02"
  },
  {
   "metadata": {},
   "cell_type": "code",
   "source": "",
   "id": "d6fb578a323e2399",
   "outputs": [],
   "execution_count": null
  }
 ],
 "metadata": {
  "kernelspec": {
   "display_name": "Python 3",
   "language": "python",
   "name": "python3"
  },
  "language_info": {
   "codemirror_mode": {
    "name": "ipython",
    "version": 2
   },
   "file_extension": ".py",
   "mimetype": "text/x-python",
   "name": "python",
   "nbconvert_exporter": "python",
   "pygments_lexer": "ipython2",
   "version": "2.7.6"
  }
 },
 "nbformat": 4,
 "nbformat_minor": 5
}
