{
 "cells": [
  {
   "metadata": {},
   "cell_type": "markdown",
   "source": [
    "# Example of the solution the regression problem\n",
    "# Laptop price prediction\n",
    "[source of the data + code of example](https://www.kaggle.com/datasets/anubhavgoyal10/laptop-prices-dataset/data)"
   ],
   "id": "450b4526183225cd"
  },
  {
   "metadata": {},
   "cell_type": "markdown",
   "source": "## 0. Import the dependencies",
   "id": "b6cd48ce980255f3"
  },
  {
   "metadata": {},
   "cell_type": "code",
   "source": [
    "import os\n",
    "\n",
    "import numpy as np # linear algebra\n",
    "import pandas as pd\n",
    "\n",
    "import seaborn as sns\n",
    "import matplotlib.pyplot as plt\n",
    "%matplotlib inline\n",
    "\n",
    "import warnings\n",
    "warnings.filterwarnings('ignore')"
   ],
   "id": "bc9ed387ed7d57ef",
   "outputs": [],
   "execution_count": 1
  },
  {
   "metadata": {},
   "cell_type": "code",
   "source": [
    "from sklearn.model_selection import train_test_split\n",
    "from sklearn.preprocessing import MinMaxScaler, StandardScaler\n",
    "from sklearn.pipeline import Pipeline\n",
    "from sklearn.compose import ColumnTransformer\n",
    "from sklearn.preprocessing import LabelEncoder, OneHotEncoder\n",
    "from sklearn import metrics\n",
    "from sklearn.model_selection import RandomizedSearchCV\n",
    "from sklearn.linear_model import LinearRegression, Lasso, Ridge\n",
    "from sklearn.linear_model import BayesianRidge\n",
    "from sklearn.tree import DecisionTreeRegressor\n",
    "from sklearn.ensemble import RandomForestRegressor, GradientBoostingRegressor\n",
    "from xgboost import XGBRegressor\n",
    "from sklearn.svm import SVR\n",
    "from sklearn.neighbors import KNeighborsRegressor\n",
    "from sklearn import tree\n",
    "\n",
    "from sklearn.model_selection import GridSearchCV"
   ],
   "id": "38a974426925be49",
   "outputs": [],
   "execution_count": null
  },
  {
   "metadata": {},
   "cell_type": "markdown",
   "source": "## 1. Load the data",
   "id": "b6db32b73ff7a1da"
  },
  {
   "metadata": {},
   "cell_type": "code",
   "source": [
    "df = pd.read_csv(\"./src/laptop_price.csv\")\n",
    "df.head()"
   ],
   "id": "df2ddddf48931c34",
   "outputs": [],
   "execution_count": null
  },
  {
   "metadata": {},
   "cell_type": "markdown",
   "source": "## 2. Preprocess the data",
   "id": "c038d32dd15f123d"
  },
  {
   "metadata": {},
   "cell_type": "code",
   "source": "df.columns",
   "id": "585e372bccaa481",
   "outputs": [],
   "execution_count": null
  },
  {
   "metadata": {},
   "cell_type": "code",
   "source": [
    "# select few feature to predict the price of laptop\n",
    "selected_columns = ['brand', 'processor_brand', 'processor_name', 'processor_gnrtn',\n",
    "                    'ram_gb', 'ram_type', 'ssd', 'hdd', 'os', 'os_bit', 'graphic_card_gb',\n",
    "                    'weight', 'warranty', 'Touchscreen', 'Price']\n",
    "df_train = df[selected_columns]"
   ],
   "id": "da668238e05aa0c",
   "outputs": [],
   "execution_count": null
  },
  {
   "metadata": {},
   "cell_type": "code",
   "source": [
    "# check Null values in data column\n",
    "print(df_train.isnull().sum())"
   ],
   "id": "db1f8aa78291e37d",
   "outputs": [],
   "execution_count": null
  },
  {
   "metadata": {},
   "cell_type": "code",
   "source": [
    "# checking for duplicated rows\n",
    "df_train.duplicated().sum()"
   ],
   "id": "2b62d88f3853703e",
   "outputs": [],
   "execution_count": null
  },
  {
   "metadata": {},
   "cell_type": "code",
   "source": [
    "# check overview of columns, their data types, and non-null counts.\n",
    "df_train.info()"
   ],
   "id": "389b3829166814df",
   "outputs": [],
   "execution_count": null
  },
  {
   "metadata": {},
   "cell_type": "code",
   "source": [
    "# make to different variables for categorical and numerical feature identification\n",
    "cat_val = df_train.select_dtypes(include=['object']).columns\n",
    "num_val = df_train.select_dtypes(include=['int', \"float\"]).columns\n",
    "\n",
    "print(cat_val,'\\n',num_val)"
   ],
   "id": "a3b28076323cc7f1",
   "outputs": [],
   "execution_count": null
  },
  {
   "metadata": {},
   "cell_type": "code",
   "source": [
    "# check all unique values in features\n",
    "for column in df_train.columns:\n",
    "    unique_values = df_train[column].unique()\n",
    "    print(f\"Unique values in column '{column}': {unique_values}\")"
   ],
   "id": "1643f42615ad0ed2",
   "outputs": [],
   "execution_count": null
  },
  {
   "metadata": {},
   "cell_type": "code",
   "source": [
    "# Removed units ('GB', 'years', 'bit', etc.) from certain columns using string manipulation (str.replace) \n",
    "# and transformed them into appropriate numeric types (astype or pd.to_numeric)\n",
    "df_train['ram_gb'] = df_train['ram_gb'].str.replace('GB','')\n",
    "df_train['ssd'] = df_train['ssd'].str.replace('GB','')\n",
    "df_train['hdd'] = df_train['hdd'].str.replace('GB','')\n",
    "df_train['graphic_card_gb'] = df_train['graphic_card_gb'].str.replace('GB','')\n",
    "df_train['os_bit'] = df_train['os_bit'].str.replace('-bit','')\n",
    "df_train['warranty'] = df_train['warranty'].str.replace(r'\\byears?\\b', '', regex=True)\n",
    "df_train['processor_gnrtn'] = df_train['processor_gnrtn'].str.replace('th','')\n",
    "\n",
    "\n",
    "df_train['ram_gb'] = df_train['ram_gb'].astype('int32')\n",
    "df_train['ssd'] = df_train['ssd'].astype('int32')\n",
    "df_train['hdd'] = df_train['hdd'].astype('int32')\n",
    "df_train['graphic_card_gb'] = df_train['graphic_card_gb'].astype('int32')\n",
    "df_train['os_bit'] = df_train['os_bit'].astype('int32')\n",
    "\n",
    "df_train.head()"
   ],
   "id": "b53f9f0868051e1b",
   "outputs": [],
   "execution_count": null
  },
  {
   "metadata": {},
   "cell_type": "code",
   "source": [
    "# Convert to numeric, 'Not Available' becomes NaN\n",
    "df_train['processor_gnrtn'] = pd.to_numeric(df_train['processor_gnrtn'], errors='coerce')  # Convert to numeric, 'Not Available' becomes NaN\n",
    "median_value = df_train['processor_gnrtn'].median()"
   ],
   "id": "40a0a5e71602b0e4",
   "outputs": [],
   "execution_count": null
  },
  {
   "metadata": {},
   "cell_type": "code",
   "source": [
    "df_train['processor_gnrtn'].fillna(median_value, inplace=True)\n",
    "df_train['processor_gnrtn'] = df_train['processor_gnrtn'].astype(int)"
   ],
   "id": "748c1589fbfaa944",
   "outputs": [],
   "execution_count": null
  },
  {
   "metadata": {},
   "cell_type": "code",
   "source": "df_train.head()",
   "id": "af2c8d45d30eb6c4",
   "outputs": [],
   "execution_count": null
  },
  {
   "metadata": {},
   "cell_type": "code",
   "source": "df_train.info()",
   "id": "516b22ac809773d2",
   "outputs": [],
   "execution_count": null
  },
  {
   "metadata": {},
   "cell_type": "code",
   "source": "df_train.isnull().sum()",
   "id": "4fab350b6b827f74",
   "outputs": [],
   "execution_count": null
  },
  {
   "metadata": {},
   "cell_type": "markdown",
   "source": "## 3. Do data visualization",
   "id": "c28149287e55b130"
  },
  {
   "metadata": {},
   "cell_type": "code",
   "source": "sns.displot(df['Price'],color='blue')",
   "id": "5b1a9b41db11d91c",
   "outputs": [],
   "execution_count": null
  },
  {
   "metadata": {},
   "cell_type": "code",
   "source": [
    "def dataplot(col):\n",
    "    plt.figure(figsize= (10,6))\n",
    "    sns.countplot(data = df_train, x=col, palette = 'plasma')\n",
    "    plt.xticks(rotation = 'vertical')\n",
    "    plt.show()\n",
    "\n",
    "features = ['brand', 'ram_gb', 'processor_name', 'processor_gnrtn', 'os']\n",
    "\n",
    "for col in features:\n",
    "    dataplot(col)"
   ],
   "id": "36b22a696c14a7",
   "outputs": [],
   "execution_count": null
  },
  {
   "metadata": {},
   "cell_type": "code",
   "source": [
    "plt.figure(figsize=(15,7))\n",
    "sns.barplot(x = df_train['brand'], y=df_train['Price'])\n",
    "plt.xticks(rotation = 'vertical')\n",
    "plt.show()"
   ],
   "id": "2798e4e1337fa343",
   "outputs": [],
   "execution_count": null
  },
  {
   "metadata": {},
   "cell_type": "markdown",
   "source": "### Visualize the Touchscreen feature",
   "id": "4c34e38cbabcb843"
  },
  {
   "metadata": {},
   "cell_type": "code",
   "source": "sns.countplot(df_train, x =df_train['Touchscreen'],palette='plasma')",
   "id": "4b85455710b4e8a8",
   "outputs": [],
   "execution_count": null
  },
  {
   "metadata": {},
   "cell_type": "code",
   "source": "sns.barplot(x = df_train['Touchscreen'], y= df_train['Price'])",
   "id": "a25a1ea0c57ad18d",
   "outputs": [],
   "execution_count": null
  },
  {
   "metadata": {},
   "cell_type": "markdown",
   "source": "### Visualize the Warranty feature",
   "id": "bc37857f2c56da7a"
  },
  {
   "metadata": {},
   "cell_type": "code",
   "source": "sns.countplot(df_train, x =df_train['warranty'],palette='plasma')",
   "id": "fb745bb991f5262c",
   "outputs": [],
   "execution_count": null
  },
  {
   "metadata": {},
   "cell_type": "code",
   "source": "sns.barplot(x = df_train['warranty'], y= df_train['Price'])",
   "id": "d661e16d6454705e",
   "outputs": [],
   "execution_count": null
  },
  {
   "metadata": {},
   "cell_type": "markdown",
   "source": "### Visualize the Weight feature",
   "id": "9c73c43661418f1"
  },
  {
   "metadata": {},
   "cell_type": "code",
   "source": "sns.countplot(df_train, x =df_train['weight'],palette='plasma')",
   "id": "aee3f64c64ce05a1",
   "outputs": [],
   "execution_count": null
  },
  {
   "metadata": {},
   "cell_type": "code",
   "source": "sns.barplot(x = df_train['weight'], y= df_train['Price'])",
   "id": "f4d60fbf3c494101",
   "outputs": [],
   "execution_count": null
  },
  {
   "metadata": {},
   "cell_type": "markdown",
   "source": "### Visualize the RAM",
   "id": "2c6b8d7ceec31add"
  },
  {
   "metadata": {},
   "cell_type": "code",
   "source": "sns.countplot(df_train, x =df_train['ram_gb'],palette='plasma')",
   "id": "5d66d2e5b6d7d628",
   "outputs": [],
   "execution_count": null
  },
  {
   "metadata": {},
   "cell_type": "code",
   "source": "sns.barplot(x = df_train['ram_gb'], y= df_train['Price'])",
   "id": "8c4ee54150b54761",
   "outputs": [],
   "execution_count": null
  },
  {
   "metadata": {},
   "cell_type": "code",
   "source": "df_train.sample(10)",
   "id": "68e4143245edbf3c",
   "outputs": [],
   "execution_count": null
  },
  {
   "metadata": {},
   "cell_type": "markdown",
   "source": "### Visualize the Operating_system",
   "id": "42aa72fb503cc8e"
  },
  {
   "metadata": {},
   "cell_type": "code",
   "source": "sns.countplot(df_train, x =df_train['os'],palette='plasma')",
   "id": "4c579d91d9fb1c2c",
   "outputs": [],
   "execution_count": null
  },
  {
   "metadata": {},
   "cell_type": "code",
   "source": "sns.barplot(x = df_train['os'], y= df_train['Price'])",
   "id": "4909e26d6a05b7a",
   "outputs": [],
   "execution_count": null
  },
  {
   "metadata": {},
   "cell_type": "markdown",
   "source": "### Visualize the Price",
   "id": "cfc67f286da85c03"
  },
  {
   "metadata": {},
   "cell_type": "code",
   "source": "sns.distplot(df_train['Price'])",
   "id": "5d2bfc4dc2d723b1",
   "outputs": [],
   "execution_count": null
  },
  {
   "metadata": {},
   "cell_type": "code",
   "source": "sns.distplot(np.log(df_train['Price']))",
   "id": "e6253826d517d477",
   "outputs": [],
   "execution_count": null
  },
  {
   "metadata": {},
   "cell_type": "code",
   "source": "df_train.info()",
   "id": "69f619a8dffe2761",
   "outputs": [],
   "execution_count": null
  },
  {
   "metadata": {},
   "cell_type": "code",
   "source": [
    "numeric_df = df_train.select_dtypes(include=['number'])\n",
    "sns.heatmap(numeric_df.corr(), annot=True)"
   ],
   "id": "e68c52975234fc19",
   "outputs": [],
   "execution_count": null
  },
  {
   "metadata": {},
   "cell_type": "markdown",
   "source": "## 4. Final data preps",
   "id": "58f4956a070fa54c"
  },
  {
   "metadata": {},
   "cell_type": "code",
   "source": [
    "x = df_train.drop(['Price'], axis=1)\n",
    "y = np.log(df_train['Price'])"
   ],
   "id": "1ee4c784821bdef",
   "outputs": [],
   "execution_count": null
  },
  {
   "metadata": {},
   "cell_type": "code",
   "source": [
    "X_train, X_test, y_train, y_test = train_test_split(x, y, test_size=0.15, random_state=8418)\n",
    "X_train.shape, X_test.shape"
   ],
   "id": "e1cbe4a194694d2b",
   "outputs": [],
   "execution_count": null
  },
  {
   "metadata": {},
   "cell_type": "code",
   "source": [
    "mapper = {i:value for i,value in enumerate(X_train.columns)}\n",
    "mapper"
   ],
   "id": "6cdfc4c40ef08bc0",
   "outputs": [],
   "execution_count": null
  },
  {
   "metadata": {},
   "cell_type": "code",
   "source": "df_train.head()",
   "id": "149e4bb0eef891b6",
   "outputs": [],
   "execution_count": null
  },
  {
   "metadata": {},
   "cell_type": "code",
   "source": "df_train.info()",
   "id": "8c41b7092bd771c4",
   "outputs": [],
   "execution_count": null
  },
  {
   "metadata": {},
   "cell_type": "markdown",
   "source": "## 5.1 Test Linear Regression method",
   "id": "4b87cdff5505a30"
  },
  {
   "metadata": {},
   "cell_type": "code",
   "source": [
    "encoding = ColumnTransformer(transformers = [\n",
    "    ('col_tnf', OneHotEncoder(sparse_output=False, drop='first'), [0, 1, 2, 5, 8, 11, 12, 13])\n",
    "], remainder='passthrough')\n",
    "\n",
    "lr = LinearRegression()\n",
    "\n",
    "pipe = Pipeline([\n",
    "    ('encoding', encoding),\n",
    "    ('lr', lr)\n",
    "])\n",
    "\n",
    "pipe.fit(X_train, y_train)\n",
    "\n",
    "y_train_pred = pipe.predict(X_train)\n",
    "y_pred = pipe.predict(X_test)\n",
    "\n",
    "print('Train R2 score', metrics.r2_score(y_train,y_train_pred))\n",
    "print('Train MAE', metrics.mean_absolute_error(y_train,y_train_pred))\n",
    "print(\"Train MAE on the orig price:\", np.exp(metrics.mean_absolute_error(y_train,y_train_pred)))\n",
    "print(\"Train RMSE on the orig price:\", np.exp(metrics.root_mean_squared_error(y_train,y_train_pred)))\n",
    "print(\"Train MSE on the orig price:\", np.exp(metrics.mean_squared_error(y_train,y_train_pred)), \"\\n\")\n",
    "\n",
    "print('Test R2 score', metrics.r2_score(y_test,y_pred))\n",
    "print('Test MAE', metrics.mean_absolute_error(y_test,y_pred))\n",
    "print(\"Test MAE on the orig price:\", np.exp(metrics.mean_absolute_error(y_test,y_pred)))\n",
    "print(\"Test RMSE on the orig price:\", np.exp(metrics.root_mean_squared_error(y_test,y_pred)))\n",
    "print(\"Test MSE on the orig price:\", np.exp(metrics.mean_squared_error(y_test,y_pred)), \"\\n\")"
   ],
   "id": "78f40ead6acd9fde",
   "outputs": [],
   "execution_count": null
  },
  {
   "metadata": {},
   "cell_type": "markdown",
   "source": "# Bayesian Regression",
   "id": "bf73b7148b670ac7"
  },
  {
   "metadata": {},
   "cell_type": "code",
   "source": [
    "encoding = ColumnTransformer(transformers = [\n",
    "    ('col_tnf', OneHotEncoder(sparse_output=False, drop='first'), [0, 1, 2, 5, 8, 11, 12, 13])\n",
    "], remainder='passthrough')\n",
    "\n",
    "bayes = BayesianRidge()\n",
    "\n",
    "pipe = Pipeline([\n",
    "    ('encoding', encoding),\n",
    "    ('bayes', bayes)\n",
    "])\n",
    "\n",
    "pipe.fit(X_train, y_train)\n",
    "\n",
    "y_train_pred = pipe.predict(X_train)\n",
    "y_pred = pipe.predict(X_test)\n",
    "\n",
    "print('Train R2 score', metrics.r2_score(y_train,y_train_pred))\n",
    "print('Train MAE', metrics.mean_absolute_error(y_train,y_train_pred))\n",
    "print(\"Train MAE on the orig price:\", np.exp(metrics.mean_absolute_error(y_train,y_train_pred)))\n",
    "print(\"Train RMSE on the orig price:\", np.exp(metrics.root_mean_squared_error(y_train,y_train_pred)))\n",
    "print(\"Train MSE on the orig price:\", np.exp(metrics.mean_squared_error(y_train,y_train_pred)), \"\\n\")\n",
    "\n",
    "print('Test R2 score', metrics.r2_score(y_test,y_pred))\n",
    "print('Test MAE', metrics.mean_absolute_error(y_test,y_pred))\n",
    "print(\"Test MAE on the orig price:\", np.exp(metrics.mean_absolute_error(y_test,y_pred)))\n",
    "print(\"Test RMSE on the orig price:\", np.exp(metrics.root_mean_squared_error(y_test,y_pred)))\n",
    "print(\"Test MSE on the orig price:\", np.exp(metrics.mean_squared_error(y_test,y_pred)), \"\\n\")"
   ],
   "id": "59f419a7e4aa9623",
   "outputs": [],
   "execution_count": null
  },
  {
   "metadata": {},
   "cell_type": "markdown",
   "source": "## 5.2 Test Lasso Regression",
   "id": "5ed4088deb306a6b"
  },
  {
   "metadata": {},
   "cell_type": "code",
   "source": [
    "encoding = ColumnTransformer(transformers = [\n",
    "    ('col_tnf', OneHotEncoder(sparse_output=False, drop='first'), [0, 1, 2, 5, 8, 11, 12, 13])\n",
    "], remainder='passthrough')\n",
    "\n",
    "lasso = Lasso(alpha=0.001)\n",
    "\n",
    "pipe = Pipeline([\n",
    "    ('encoding', encoding),\n",
    "    ('lasso', lasso)\n",
    "])\n",
    "\n",
    "pipe.fit(X_train, y_train)\n",
    "\n",
    "y_train_pred = pipe.predict(X_train)\n",
    "y_pred = pipe.predict(X_test)\n",
    "\n",
    "print('Train R2 score', metrics.r2_score(y_train,y_train_pred))\n",
    "print('Train MAE', metrics.mean_absolute_error(y_train,y_train_pred))\n",
    "print(\"Train MAE on the orig price:\", np.exp(metrics.mean_absolute_error(y_train,y_train_pred)))\n",
    "print(\"Train RMSE on the orig price:\", np.exp(metrics.root_mean_squared_error(y_train,y_train_pred)))\n",
    "print(\"Train MSE on the orig price:\", np.exp(metrics.mean_squared_error(y_train,y_train_pred)), \"\\n\")\n",
    "\n",
    "print('Test R2 score', metrics.r2_score(y_test,y_pred))\n",
    "print('Test MAE', metrics.mean_absolute_error(y_test,y_pred))\n",
    "print(\"Test MAE on the orig price:\", np.exp(metrics.mean_absolute_error(y_test,y_pred)))\n",
    "print(\"Test RMSE on the orig price:\", np.exp(metrics.root_mean_squared_error(y_test,y_pred)))\n",
    "print(\"Test MSE on the orig price:\", np.exp(metrics.mean_squared_error(y_test,y_pred)), \"\\n\")"
   ],
   "id": "f27b3a65dfacaab5",
   "outputs": [],
   "execution_count": null
  },
  {
   "metadata": {},
   "cell_type": "markdown",
   "source": "## 5.3. Decision Tree",
   "id": "9df6983e67977e66"
  },
  {
   "metadata": {},
   "cell_type": "code",
   "source": [
    "encoding = ColumnTransformer(transformers = [\n",
    "    ('col_tnf', OneHotEncoder(sparse_output=False, drop='first'), [0, 1, 2, 5, 8, 11, 12, 13])\n",
    "], remainder='passthrough')\n",
    "\n",
    "dtr = DecisionTreeRegressor(max_depth=8)\n",
    "\n",
    "pipe = Pipeline([\n",
    "    ('encoding', encoding),\n",
    "    ('dtr', dtr)\n",
    "])\n",
    "\n",
    "pipe.fit(X_train, y_train)\n",
    "\n",
    "y_train_pred = pipe.predict(X_train)\n",
    "y_pred = pipe.predict(X_test)\n",
    "\n",
    "print('Train R2 score', metrics.r2_score(y_train,y_train_pred))\n",
    "print('Train MAE', metrics.mean_absolute_error(y_train,y_train_pred))\n",
    "print(\"Train MAE on the orig price:\", np.exp(metrics.mean_absolute_error(y_train,y_train_pred)), \"\\n\")\n",
    "\n",
    "print('Test R2 score', metrics.r2_score(y_test,y_pred))\n",
    "print('Test MAE', metrics.mean_absolute_error(y_test,y_pred))\n",
    "print(\"Test MAE on the orig price:\", np.exp(metrics.mean_absolute_error(y_test,y_pred)))"
   ],
   "id": "3a4ecfd64c342471",
   "outputs": [],
   "execution_count": null
  },
  {
   "metadata": {},
   "cell_type": "markdown",
   "source": "## 5.4. Random Forest",
   "id": "5c6d4b7d4009d6ba"
  },
  {
   "metadata": {},
   "cell_type": "code",
   "source": [
    "encoding = ColumnTransformer(transformers = [\n",
    "    ('col_tnf', OneHotEncoder(sparse_output=False, drop='first'), [0, 1, 2, 5, 8, 11, 12, 13])\n",
    "], remainder='passthrough')\n",
    "\n",
    "random = RandomForestRegressor(n_estimators=100,\n",
    "                              random_state=3,\n",
    "                              max_samples=0.5,\n",
    "                              max_features=0.75,\n",
    "                              max_depth=15)\n",
    "\n",
    "pipe = Pipeline([\n",
    "    ('encoding', encoding),\n",
    "    ('random', random)\n",
    "])\n",
    "\n",
    "pipe.fit(X_train, y_train)\n",
    "\n",
    "y_train_pred = pipe.predict(X_train)\n",
    "y_pred = pipe.predict(X_test)\n",
    "\n",
    "print('Train R2 score', metrics.r2_score(y_train,y_train_pred))\n",
    "print('Train MAE', metrics.mean_absolute_error(y_train,y_train_pred))\n",
    "print(\"Train MAE on the orig price:\", np.exp(metrics.mean_absolute_error(y_train,y_train_pred)), \"\\n\")\n",
    "\n",
    "print('Test R2 score', metrics.r2_score(y_test,y_pred))\n",
    "print('Test MAE', metrics.mean_absolute_error(y_test,y_pred))\n",
    "print(\"Test MAE on the orig price:\", np.exp(metrics.mean_absolute_error(y_test,y_pred)))"
   ],
   "id": "f056213410d9dc47",
   "outputs": [],
   "execution_count": null
  },
  {
   "metadata": {},
   "cell_type": "markdown",
   "source": "## 5.4.1 You can also tune hyperparameters of Random Forest",
   "id": "41ee2f5e3e0f5f7f"
  },
  {
   "metadata": {},
   "cell_type": "code",
   "source": [
    "indexlist = [0, 1, 2, 5, 8, 11, 12, 13]\n",
    "transformlist = []\n",
    "for key,value in mapper.items():\n",
    "    if key in indexlist:\n",
    "        transformlist.append(value)\n",
    "\n",
    "transformlist"
   ],
   "id": "fe45525a6f07832d",
   "outputs": [],
   "execution_count": null
  },
  {
   "metadata": {},
   "cell_type": "code",
   "source": [
    "x = pd.get_dummies(x,columns=transformlist,drop_first=True)\n",
    "x.head()"
   ],
   "id": "527c3f20a1435aab",
   "outputs": [],
   "execution_count": null
  },
  {
   "metadata": {},
   "cell_type": "code",
   "source": [
    "X_train, X_test, y_train, y_test = train_test_split(x,y,\n",
    "                                                   test_size=0.15,random_state=4818)\n",
    "\n",
    "X_train.shape,X_test.shape"
   ],
   "id": "cba1e47cfd1e172",
   "outputs": [],
   "execution_count": null
  },
  {
   "metadata": {},
   "cell_type": "code",
   "source": "rfr = RandomForestRegressor()",
   "id": "5b556d65b4c93eb1",
   "outputs": [],
   "execution_count": null
  },
  {
   "metadata": {},
   "cell_type": "code",
   "source": [
    "param_grid = { \n",
    "            \"n_estimators\"      : [10,20,30],\n",
    "            \"max_features\"      : [\"sqrt\", \"log2\"],\n",
    "            \"min_samples_split\" : [2,4,8],\n",
    "            \"bootstrap\": [True, False],\n",
    "            }"
   ],
   "id": "b30b280bc91fd07d",
   "outputs": [],
   "execution_count": null
  },
  {
   "metadata": {},
   "cell_type": "code",
   "source": "grid_search = GridSearchCV(rfr, param_grid, cv=5, scoring='r2')",
   "id": "656b5680769fdb6b",
   "outputs": [],
   "execution_count": null
  },
  {
   "metadata": {},
   "cell_type": "code",
   "source": "grid_search.fit(X_train,y_train)",
   "id": "a733722a831cdcb5",
   "outputs": [],
   "execution_count": null
  },
  {
   "metadata": {},
   "cell_type": "code",
   "source": [
    "print('Best hyper parameter :' , grid_search.best_params_)\n",
    "print('Best model :' , grid_search.best_estimator_)"
   ],
   "id": "223a2fbb9fc1877d",
   "outputs": [],
   "execution_count": null
  },
  {
   "metadata": {},
   "cell_type": "code",
   "source": [
    "rfr =  RandomForestRegressor(bootstrap=False, max_features='log2', min_samples_split=4,\n",
    "                      n_estimators=30)"
   ],
   "id": "8ad5f27a1766a935",
   "outputs": [],
   "execution_count": null
  },
  {
   "metadata": {},
   "cell_type": "code",
   "source": "rf_grid = rfr.fit(X_train,y_train)",
   "id": "7044fcdaa239bfa",
   "outputs": [],
   "execution_count": null
  },
  {
   "metadata": {},
   "cell_type": "code",
   "source": [
    "y_train_pred = rf_grid.predict(X_train)\n",
    "y_pred = rf_grid.predict(X_test)\n",
    "\n",
    "print('Train R2 score', metrics.r2_score(y_train,y_train_pred))\n",
    "print('Train MAE', metrics.mean_absolute_error(y_train,y_train_pred))\n",
    "print(\"Train MAE on the orig price:\", np.exp(metrics.mean_absolute_error(y_train,y_train_pred)), \"\\n\")\n",
    "\n",
    "print('Test R2 score', metrics.r2_score(y_test,y_pred))\n",
    "print('Test MAE', metrics.mean_absolute_error(y_test,y_pred))\n",
    "print(\"Test MAE on the orig price:\", np.exp(metrics.mean_absolute_error(y_test,y_pred)))"
   ],
   "id": "db4ce704eb6a331f",
   "outputs": [],
   "execution_count": null
  },
  {
   "metadata": {},
   "cell_type": "code",
   "source": [
    "predicted = []\n",
    "testtrain = np.array(x)\n",
    "for i in range(len(testtrain)):\n",
    "    predicted.append(rfr.predict([testtrain[i]]))\n",
    "    \n",
    "predicted"
   ],
   "id": "6028203ca8d003b5",
   "outputs": [],
   "execution_count": null
  },
  {
   "metadata": {},
   "cell_type": "code",
   "source": "ans = [np.exp(predicted[i][0]) for i in range(len(predicted))]",
   "id": "4209f654623c462f",
   "outputs": [],
   "execution_count": null
  },
  {
   "metadata": {},
   "cell_type": "code",
   "source": "rounded_prices = [round(pred) for pred in ans]",
   "id": "e8722887b695bba1",
   "outputs": [],
   "execution_count": null
  },
  {
   "metadata": {},
   "cell_type": "code",
   "source": [
    "df_train['Predicted Price'] = np.array(rounded_prices)\n",
    "df_train"
   ],
   "id": "ed50ce4ab107c943",
   "outputs": [],
   "execution_count": null
  },
  {
   "metadata": {},
   "cell_type": "code",
   "source": [
    "sns.distplot(df_train['Price'],hist=False,color='orange',label='Actual')\n",
    "sns.distplot(df_train['Predicted Price'],hist=False,color='blue',label='Predicted')\n",
    "plt.legend()\n",
    "plt.show()"
   ],
   "id": "e1f1c63a5ad37bf3",
   "outputs": [],
   "execution_count": null
  },
  {
   "metadata": {},
   "cell_type": "code",
   "source": "sns.scatterplot(df_train, x=\"Price\", y=\"Predicted Price\")",
   "id": "547acbb9553954a2",
   "outputs": [],
   "execution_count": null
  },
  {
   "metadata": {},
   "cell_type": "code",
   "source": [
    "df_train[\"log(Price)\"] = np.log(df_train[\"Price\"])\n",
    "df_train[\"log(Pred_Price)\"] = np.log(df_train[\"Predicted Price\"])"
   ],
   "id": "62f18ae30d970cca",
   "outputs": [],
   "execution_count": null
  },
  {
   "metadata": {},
   "cell_type": "code",
   "source": "sns.scatterplot(df_train, x=\"log(Price)\", y=\"log(Pred_Price)\")",
   "id": "706211ae708dddc9",
   "outputs": [],
   "execution_count": null
  },
  {
   "metadata": {},
   "cell_type": "code",
   "source": "",
   "id": "fcf9b4c125a05f46",
   "outputs": [],
   "execution_count": null
  },
  {
   "metadata": {},
   "cell_type": "code",
   "source": "",
   "id": "9babfed883540858",
   "outputs": [],
   "execution_count": null
  },
  {
   "metadata": {},
   "cell_type": "markdown",
   "source": [
    "# The lab work task\n",
    "Solve the regression problem for the one of the presented datasets using the same steps into your work.\n",
    "To get you variant: (your_num % 9), where your_num is your number in the group list.\n",
    "\n",
    "In addition to presented in the example methods consider other ML methods like Support Vector Machine, Gradient Boosting Regression, Bayesian Ridge Regression.\n",
    "\n",
    "Present your work in the Jupyter Notebook variant\n",
    "\n",
    "P.s. in provided data sources you can find examples of solving this problem, but be ready to explain the code and results."
   ],
   "id": "19952dd618576545"
  },
  {
   "metadata": {},
   "cell_type": "markdown",
   "source": [
    "# Data to choose\n",
    "0. [Gold Price Prediction](https://www.kaggle.com/datasets/franciscogcc/financial-data)\n",
    "1. [Possum Regression](https://www.kaggle.com/datasets/abrambeyer/openintro-possum/data)\n",
    "2. [Student Performance](https://www.kaggle.com/datasets/nikhil7280/student-performance-multiple-linear-regression)\n",
    "3. [Boston House Prices](https://www.kaggle.com/datasets/fedesoriano/the-boston-houseprice-data/data)\n",
    "4. [Car Price](https://www.kaggle.com/datasets/hellbuoy/car-price-prediction)\n",
    "5. [Medical Cost](https://www.kaggle.com/datasets/mirichoi0218/insurance)\n",
    "6. [Crab Age Prediction](https://www.kaggle.com/datasets/sidhus/crab-age-prediction)\n",
    "7. [Calculate Concrete Strength](https://www.kaggle.com/datasets/prathamtripathi/regression-with-neural-networking)\n",
    "8. [Advertising dataset](https://www.kaggle.com/datasets/tawfikelmetwally/advertising-dataset)"
   ],
   "id": "ab2c69683a1d1b02"
  },
  {
   "metadata": {},
   "cell_type": "code",
   "source": [
    "df = pd.read_csv(\"./src/CarPrice_Assignment.csv\")\n",
    "df.head()"
   ],
   "id": "21650c23845eb8cc",
   "outputs": [],
   "execution_count": null
  },
  {
   "metadata": {},
   "cell_type": "code",
   "source": "df.columns",
   "id": "10ef4360731f7a01",
   "outputs": [],
   "execution_count": null
  },
  {
   "metadata": {},
   "cell_type": "code",
   "source": "print(df_train.isnull().sum())",
   "id": "99d41c63a2fdd902",
   "outputs": [],
   "execution_count": null
  },
  {
   "metadata": {},
   "cell_type": "code",
   "source": "df_train.duplicated().sum()",
   "id": "d393a404577030d0",
   "outputs": [],
   "execution_count": null
  },
  {
   "metadata": {},
   "cell_type": "code",
   "source": "df_train.info()",
   "id": "1aeb74c7a1475d33",
   "outputs": [],
   "execution_count": null
  },
  {
   "metadata": {},
   "cell_type": "code",
   "source": [
    "cat_val = df_train.select_dtypes(include=['object']).columns\n",
    "num_val = df_train.select_dtypes(include=['int', \"float\"]).columns\n",
    "\n",
    "print(cat_val,'\\n',num_val)"
   ],
   "id": "17dbe5926753f07d",
   "outputs": [],
   "execution_count": null
  },
  {
   "metadata": {},
   "cell_type": "code",
   "source": [
    "for column in df_train.columns:\n",
    "    unique_values = df_train[column].unique()\n",
    "    print(f\"Unique values in column '{column}': {unique_values}\")"
   ],
   "id": "474e1a2c6895035f",
   "outputs": [],
   "execution_count": null
  },
  {
   "metadata": {},
   "cell_type": "code",
   "source": "sns.displot(df['price'],color='blue')",
   "id": "f797a25ed1afded3",
   "outputs": [],
   "execution_count": null
  },
  {
   "metadata": {},
   "cell_type": "code",
   "source": "sns.countplot(data=df_train, x='fueltype', palette='plasma')",
   "id": "66595373768b5233",
   "outputs": [],
   "execution_count": null
  },
  {
   "metadata": {
    "ExecuteTime": {
     "end_time": "2025-05-24T11:09:38.485163Z",
     "start_time": "2025-05-24T11:09:38.327910Z"
    }
   },
   "cell_type": "code",
   "source": [
    "encoding = ColumnTransformer(transformers = [\n",
    "    ('col_tnf', OneHotEncoder(sparse_output=False, drop='first'), [0, 1, 2, 5, 8, 11, 12, 13])\n",
    "], remainder='passthrough')\n",
    "\n",
    "bayes = BayesianRidge()\n",
    "\n",
    "pipe = Pipeline([\n",
    "    ('encoding', encoding),\n",
    "    ('bayes', bayes)\n",
    "])\n",
    "\n",
    "pipe.fit(X_train, y_train)\n",
    "\n",
    "y_train_pred = pipe.predict(X_train)\n",
    "y_pred = pipe.predict(X_test)\n",
    "\n",
    "print('Train R2 score', metrics.r2_score(y_train,y_train_pred))\n",
    "print('Train MAE', metrics.mean_absolute_error(y_train,y_train_pred))\n",
    "print(\"Train MAE on the orig price:\", np.exp(metrics.mean_absolute_error(y_train,y_train_pred)))\n",
    "print(\"Train RMSE on the orig price:\", np.exp(metrics.root_mean_squared_error(y_train,y_train_pred)))\n",
    "print(\"Train MSE on the orig price:\", np.exp(metrics.mean_squared_error(y_train,y_train_pred)), \"\\n\")\n",
    "\n",
    "print('Test R2 score', metrics.r2_score(y_test,y_pred))\n",
    "print('Test MAE', metrics.mean_absolute_error(y_test,y_pred))\n",
    "print(\"Test MAE on the orig price:\", np.exp(metrics.mean_absolute_error(y_test,y_pred)))\n",
    "print(\"Test RMSE on the orig price:\", np.exp(metrics.root_mean_squared_error(y_test,y_pred)))\n",
    "print(\"Test MSE on the orig price:\", np.exp(metrics.mean_squared_error(y_test,y_pred)), \"\\n\")"
   ],
   "id": "c3d939fd3b0e62c0",
   "outputs": [
    {
     "ename": "ValueError",
     "evalue": "could not convert string to float: 'rwd'",
     "output_type": "error",
     "traceback": [
      "\u001B[31m---------------------------------------------------------------------------\u001B[39m",
      "\u001B[31mValueError\u001B[39m                                Traceback (most recent call last)",
      "\u001B[36mCell\u001B[39m\u001B[36m \u001B[39m\u001B[32mIn[41]\u001B[39m\u001B[32m, line 12\u001B[39m\n\u001B[32m      5\u001B[39m bayes = BayesianRidge()\n\u001B[32m      7\u001B[39m pipe = Pipeline([\n\u001B[32m      8\u001B[39m     (\u001B[33m'\u001B[39m\u001B[33mencoding\u001B[39m\u001B[33m'\u001B[39m, encoding),\n\u001B[32m      9\u001B[39m     (\u001B[33m'\u001B[39m\u001B[33mbayes\u001B[39m\u001B[33m'\u001B[39m, bayes)\n\u001B[32m     10\u001B[39m ])\n\u001B[32m---> \u001B[39m\u001B[32m12\u001B[39m \u001B[43mpipe\u001B[49m\u001B[43m.\u001B[49m\u001B[43mfit\u001B[49m\u001B[43m(\u001B[49m\u001B[43mX_train\u001B[49m\u001B[43m,\u001B[49m\u001B[43m \u001B[49m\u001B[43my_train\u001B[49m\u001B[43m)\u001B[49m\n\u001B[32m     14\u001B[39m y_train_pred = pipe.predict(X_train)\n\u001B[32m     15\u001B[39m y_pred = pipe.predict(X_test)\n",
      "\u001B[36mFile \u001B[39m\u001B[32m~\\AppData\\Local\\pypoetry\\Cache\\virtualenvs\\ml-SIO4DIeI-py3.12\\Lib\\site-packages\\sklearn\\base.py:1389\u001B[39m, in \u001B[36m_fit_context.<locals>.decorator.<locals>.wrapper\u001B[39m\u001B[34m(estimator, *args, **kwargs)\u001B[39m\n\u001B[32m   1382\u001B[39m     estimator._validate_params()\n\u001B[32m   1384\u001B[39m \u001B[38;5;28;01mwith\u001B[39;00m config_context(\n\u001B[32m   1385\u001B[39m     skip_parameter_validation=(\n\u001B[32m   1386\u001B[39m         prefer_skip_nested_validation \u001B[38;5;129;01mor\u001B[39;00m global_skip_validation\n\u001B[32m   1387\u001B[39m     )\n\u001B[32m   1388\u001B[39m ):\n\u001B[32m-> \u001B[39m\u001B[32m1389\u001B[39m     \u001B[38;5;28;01mreturn\u001B[39;00m \u001B[43mfit_method\u001B[49m\u001B[43m(\u001B[49m\u001B[43mestimator\u001B[49m\u001B[43m,\u001B[49m\u001B[43m \u001B[49m\u001B[43m*\u001B[49m\u001B[43margs\u001B[49m\u001B[43m,\u001B[49m\u001B[43m \u001B[49m\u001B[43m*\u001B[49m\u001B[43m*\u001B[49m\u001B[43mkwargs\u001B[49m\u001B[43m)\u001B[49m\n",
      "\u001B[36mFile \u001B[39m\u001B[32m~\\AppData\\Local\\pypoetry\\Cache\\virtualenvs\\ml-SIO4DIeI-py3.12\\Lib\\site-packages\\sklearn\\pipeline.py:662\u001B[39m, in \u001B[36mPipeline.fit\u001B[39m\u001B[34m(self, X, y, **params)\u001B[39m\n\u001B[32m    656\u001B[39m     \u001B[38;5;28;01mif\u001B[39;00m \u001B[38;5;28mself\u001B[39m._final_estimator != \u001B[33m\"\u001B[39m\u001B[33mpassthrough\u001B[39m\u001B[33m\"\u001B[39m:\n\u001B[32m    657\u001B[39m         last_step_params = \u001B[38;5;28mself\u001B[39m._get_metadata_for_step(\n\u001B[32m    658\u001B[39m             step_idx=\u001B[38;5;28mlen\u001B[39m(\u001B[38;5;28mself\u001B[39m) - \u001B[32m1\u001B[39m,\n\u001B[32m    659\u001B[39m             step_params=routed_params[\u001B[38;5;28mself\u001B[39m.steps[-\u001B[32m1\u001B[39m][\u001B[32m0\u001B[39m]],\n\u001B[32m    660\u001B[39m             all_params=params,\n\u001B[32m    661\u001B[39m         )\n\u001B[32m--> \u001B[39m\u001B[32m662\u001B[39m         \u001B[38;5;28;43mself\u001B[39;49m\u001B[43m.\u001B[49m\u001B[43m_final_estimator\u001B[49m\u001B[43m.\u001B[49m\u001B[43mfit\u001B[49m\u001B[43m(\u001B[49m\u001B[43mXt\u001B[49m\u001B[43m,\u001B[49m\u001B[43m \u001B[49m\u001B[43my\u001B[49m\u001B[43m,\u001B[49m\u001B[43m \u001B[49m\u001B[43m*\u001B[49m\u001B[43m*\u001B[49m\u001B[43mlast_step_params\u001B[49m\u001B[43m[\u001B[49m\u001B[33;43m\"\u001B[39;49m\u001B[33;43mfit\u001B[39;49m\u001B[33;43m\"\u001B[39;49m\u001B[43m]\u001B[49m\u001B[43m)\u001B[49m\n\u001B[32m    664\u001B[39m \u001B[38;5;28;01mreturn\u001B[39;00m \u001B[38;5;28mself\u001B[39m\n",
      "\u001B[36mFile \u001B[39m\u001B[32m~\\AppData\\Local\\pypoetry\\Cache\\virtualenvs\\ml-SIO4DIeI-py3.12\\Lib\\site-packages\\sklearn\\base.py:1389\u001B[39m, in \u001B[36m_fit_context.<locals>.decorator.<locals>.wrapper\u001B[39m\u001B[34m(estimator, *args, **kwargs)\u001B[39m\n\u001B[32m   1382\u001B[39m     estimator._validate_params()\n\u001B[32m   1384\u001B[39m \u001B[38;5;28;01mwith\u001B[39;00m config_context(\n\u001B[32m   1385\u001B[39m     skip_parameter_validation=(\n\u001B[32m   1386\u001B[39m         prefer_skip_nested_validation \u001B[38;5;129;01mor\u001B[39;00m global_skip_validation\n\u001B[32m   1387\u001B[39m     )\n\u001B[32m   1388\u001B[39m ):\n\u001B[32m-> \u001B[39m\u001B[32m1389\u001B[39m     \u001B[38;5;28;01mreturn\u001B[39;00m \u001B[43mfit_method\u001B[49m\u001B[43m(\u001B[49m\u001B[43mestimator\u001B[49m\u001B[43m,\u001B[49m\u001B[43m \u001B[49m\u001B[43m*\u001B[49m\u001B[43margs\u001B[49m\u001B[43m,\u001B[49m\u001B[43m \u001B[49m\u001B[43m*\u001B[49m\u001B[43m*\u001B[49m\u001B[43mkwargs\u001B[49m\u001B[43m)\u001B[49m\n",
      "\u001B[36mFile \u001B[39m\u001B[32m~\\AppData\\Local\\pypoetry\\Cache\\virtualenvs\\ml-SIO4DIeI-py3.12\\Lib\\site-packages\\sklearn\\linear_model\\_bayes.py:238\u001B[39m, in \u001B[36mBayesianRidge.fit\u001B[39m\u001B[34m(self, X, y, sample_weight)\u001B[39m\n\u001B[32m    216\u001B[39m \u001B[38;5;129m@_fit_context\u001B[39m(prefer_skip_nested_validation=\u001B[38;5;28;01mTrue\u001B[39;00m)\n\u001B[32m    217\u001B[39m \u001B[38;5;28;01mdef\u001B[39;00m\u001B[38;5;250m \u001B[39m\u001B[34mfit\u001B[39m(\u001B[38;5;28mself\u001B[39m, X, y, sample_weight=\u001B[38;5;28;01mNone\u001B[39;00m):\n\u001B[32m    218\u001B[39m \u001B[38;5;250m    \u001B[39m\u001B[33;03m\"\"\"Fit the model.\u001B[39;00m\n\u001B[32m    219\u001B[39m \n\u001B[32m    220\u001B[39m \u001B[33;03m    Parameters\u001B[39;00m\n\u001B[32m   (...)\u001B[39m\u001B[32m    236\u001B[39m \u001B[33;03m        Returns the instance itself.\u001B[39;00m\n\u001B[32m    237\u001B[39m \u001B[33;03m    \"\"\"\u001B[39;00m\n\u001B[32m--> \u001B[39m\u001B[32m238\u001B[39m     X, y = \u001B[43mvalidate_data\u001B[49m\u001B[43m(\u001B[49m\n\u001B[32m    239\u001B[39m \u001B[43m        \u001B[49m\u001B[38;5;28;43mself\u001B[39;49m\u001B[43m,\u001B[49m\n\u001B[32m    240\u001B[39m \u001B[43m        \u001B[49m\u001B[43mX\u001B[49m\u001B[43m,\u001B[49m\n\u001B[32m    241\u001B[39m \u001B[43m        \u001B[49m\u001B[43my\u001B[49m\u001B[43m,\u001B[49m\n\u001B[32m    242\u001B[39m \u001B[43m        \u001B[49m\u001B[43mdtype\u001B[49m\u001B[43m=\u001B[49m\u001B[43m[\u001B[49m\u001B[43mnp\u001B[49m\u001B[43m.\u001B[49m\u001B[43mfloat64\u001B[49m\u001B[43m,\u001B[49m\u001B[43m \u001B[49m\u001B[43mnp\u001B[49m\u001B[43m.\u001B[49m\u001B[43mfloat32\u001B[49m\u001B[43m]\u001B[49m\u001B[43m,\u001B[49m\n\u001B[32m    243\u001B[39m \u001B[43m        \u001B[49m\u001B[43mforce_writeable\u001B[49m\u001B[43m=\u001B[49m\u001B[38;5;28;43;01mTrue\u001B[39;49;00m\u001B[43m,\u001B[49m\n\u001B[32m    244\u001B[39m \u001B[43m        \u001B[49m\u001B[43my_numeric\u001B[49m\u001B[43m=\u001B[49m\u001B[38;5;28;43;01mTrue\u001B[39;49;00m\u001B[43m,\u001B[49m\n\u001B[32m    245\u001B[39m \u001B[43m    \u001B[49m\u001B[43m)\u001B[49m\n\u001B[32m    246\u001B[39m     dtype = X.dtype\n\u001B[32m    248\u001B[39m     \u001B[38;5;28;01mif\u001B[39;00m sample_weight \u001B[38;5;129;01mis\u001B[39;00m \u001B[38;5;129;01mnot\u001B[39;00m \u001B[38;5;28;01mNone\u001B[39;00m:\n",
      "\u001B[36mFile \u001B[39m\u001B[32m~\\AppData\\Local\\pypoetry\\Cache\\virtualenvs\\ml-SIO4DIeI-py3.12\\Lib\\site-packages\\sklearn\\utils\\validation.py:2961\u001B[39m, in \u001B[36mvalidate_data\u001B[39m\u001B[34m(_estimator, X, y, reset, validate_separately, skip_check_array, **check_params)\u001B[39m\n\u001B[32m   2959\u001B[39m         y = check_array(y, input_name=\u001B[33m\"\u001B[39m\u001B[33my\u001B[39m\u001B[33m\"\u001B[39m, **check_y_params)\n\u001B[32m   2960\u001B[39m     \u001B[38;5;28;01melse\u001B[39;00m:\n\u001B[32m-> \u001B[39m\u001B[32m2961\u001B[39m         X, y = \u001B[43mcheck_X_y\u001B[49m\u001B[43m(\u001B[49m\u001B[43mX\u001B[49m\u001B[43m,\u001B[49m\u001B[43m \u001B[49m\u001B[43my\u001B[49m\u001B[43m,\u001B[49m\u001B[43m \u001B[49m\u001B[43m*\u001B[49m\u001B[43m*\u001B[49m\u001B[43mcheck_params\u001B[49m\u001B[43m)\u001B[49m\n\u001B[32m   2962\u001B[39m     out = X, y\n\u001B[32m   2964\u001B[39m \u001B[38;5;28;01mif\u001B[39;00m \u001B[38;5;129;01mnot\u001B[39;00m no_val_X \u001B[38;5;129;01mand\u001B[39;00m check_params.get(\u001B[33m\"\u001B[39m\u001B[33mensure_2d\u001B[39m\u001B[33m\"\u001B[39m, \u001B[38;5;28;01mTrue\u001B[39;00m):\n",
      "\u001B[36mFile \u001B[39m\u001B[32m~\\AppData\\Local\\pypoetry\\Cache\\virtualenvs\\ml-SIO4DIeI-py3.12\\Lib\\site-packages\\sklearn\\utils\\validation.py:1370\u001B[39m, in \u001B[36mcheck_X_y\u001B[39m\u001B[34m(X, y, accept_sparse, accept_large_sparse, dtype, order, copy, force_writeable, force_all_finite, ensure_all_finite, ensure_2d, allow_nd, multi_output, ensure_min_samples, ensure_min_features, y_numeric, estimator)\u001B[39m\n\u001B[32m   1364\u001B[39m     \u001B[38;5;28;01mraise\u001B[39;00m \u001B[38;5;167;01mValueError\u001B[39;00m(\n\u001B[32m   1365\u001B[39m         \u001B[33mf\u001B[39m\u001B[33m\"\u001B[39m\u001B[38;5;132;01m{\u001B[39;00mestimator_name\u001B[38;5;132;01m}\u001B[39;00m\u001B[33m requires y to be passed, but the target y is None\u001B[39m\u001B[33m\"\u001B[39m\n\u001B[32m   1366\u001B[39m     )\n\u001B[32m   1368\u001B[39m ensure_all_finite = _deprecate_force_all_finite(force_all_finite, ensure_all_finite)\n\u001B[32m-> \u001B[39m\u001B[32m1370\u001B[39m X = \u001B[43mcheck_array\u001B[49m\u001B[43m(\u001B[49m\n\u001B[32m   1371\u001B[39m \u001B[43m    \u001B[49m\u001B[43mX\u001B[49m\u001B[43m,\u001B[49m\n\u001B[32m   1372\u001B[39m \u001B[43m    \u001B[49m\u001B[43maccept_sparse\u001B[49m\u001B[43m=\u001B[49m\u001B[43maccept_sparse\u001B[49m\u001B[43m,\u001B[49m\n\u001B[32m   1373\u001B[39m \u001B[43m    \u001B[49m\u001B[43maccept_large_sparse\u001B[49m\u001B[43m=\u001B[49m\u001B[43maccept_large_sparse\u001B[49m\u001B[43m,\u001B[49m\n\u001B[32m   1374\u001B[39m \u001B[43m    \u001B[49m\u001B[43mdtype\u001B[49m\u001B[43m=\u001B[49m\u001B[43mdtype\u001B[49m\u001B[43m,\u001B[49m\n\u001B[32m   1375\u001B[39m \u001B[43m    \u001B[49m\u001B[43morder\u001B[49m\u001B[43m=\u001B[49m\u001B[43morder\u001B[49m\u001B[43m,\u001B[49m\n\u001B[32m   1376\u001B[39m \u001B[43m    \u001B[49m\u001B[43mcopy\u001B[49m\u001B[43m=\u001B[49m\u001B[43mcopy\u001B[49m\u001B[43m,\u001B[49m\n\u001B[32m   1377\u001B[39m \u001B[43m    \u001B[49m\u001B[43mforce_writeable\u001B[49m\u001B[43m=\u001B[49m\u001B[43mforce_writeable\u001B[49m\u001B[43m,\u001B[49m\n\u001B[32m   1378\u001B[39m \u001B[43m    \u001B[49m\u001B[43mensure_all_finite\u001B[49m\u001B[43m=\u001B[49m\u001B[43mensure_all_finite\u001B[49m\u001B[43m,\u001B[49m\n\u001B[32m   1379\u001B[39m \u001B[43m    \u001B[49m\u001B[43mensure_2d\u001B[49m\u001B[43m=\u001B[49m\u001B[43mensure_2d\u001B[49m\u001B[43m,\u001B[49m\n\u001B[32m   1380\u001B[39m \u001B[43m    \u001B[49m\u001B[43mallow_nd\u001B[49m\u001B[43m=\u001B[49m\u001B[43mallow_nd\u001B[49m\u001B[43m,\u001B[49m\n\u001B[32m   1381\u001B[39m \u001B[43m    \u001B[49m\u001B[43mensure_min_samples\u001B[49m\u001B[43m=\u001B[49m\u001B[43mensure_min_samples\u001B[49m\u001B[43m,\u001B[49m\n\u001B[32m   1382\u001B[39m \u001B[43m    \u001B[49m\u001B[43mensure_min_features\u001B[49m\u001B[43m=\u001B[49m\u001B[43mensure_min_features\u001B[49m\u001B[43m,\u001B[49m\n\u001B[32m   1383\u001B[39m \u001B[43m    \u001B[49m\u001B[43mestimator\u001B[49m\u001B[43m=\u001B[49m\u001B[43mestimator\u001B[49m\u001B[43m,\u001B[49m\n\u001B[32m   1384\u001B[39m \u001B[43m    \u001B[49m\u001B[43minput_name\u001B[49m\u001B[43m=\u001B[49m\u001B[33;43m\"\u001B[39;49m\u001B[33;43mX\u001B[39;49m\u001B[33;43m\"\u001B[39;49m\u001B[43m,\u001B[49m\n\u001B[32m   1385\u001B[39m \u001B[43m\u001B[49m\u001B[43m)\u001B[49m\n\u001B[32m   1387\u001B[39m y = _check_y(y, multi_output=multi_output, y_numeric=y_numeric, estimator=estimator)\n\u001B[32m   1389\u001B[39m check_consistent_length(X, y)\n",
      "\u001B[36mFile \u001B[39m\u001B[32m~\\AppData\\Local\\pypoetry\\Cache\\virtualenvs\\ml-SIO4DIeI-py3.12\\Lib\\site-packages\\sklearn\\utils\\validation.py:1055\u001B[39m, in \u001B[36mcheck_array\u001B[39m\u001B[34m(array, accept_sparse, accept_large_sparse, dtype, order, copy, force_writeable, force_all_finite, ensure_all_finite, ensure_non_negative, ensure_2d, allow_nd, ensure_min_samples, ensure_min_features, estimator, input_name)\u001B[39m\n\u001B[32m   1053\u001B[39m         array = xp.astype(array, dtype, copy=\u001B[38;5;28;01mFalse\u001B[39;00m)\n\u001B[32m   1054\u001B[39m     \u001B[38;5;28;01melse\u001B[39;00m:\n\u001B[32m-> \u001B[39m\u001B[32m1055\u001B[39m         array = \u001B[43m_asarray_with_order\u001B[49m\u001B[43m(\u001B[49m\u001B[43marray\u001B[49m\u001B[43m,\u001B[49m\u001B[43m \u001B[49m\u001B[43morder\u001B[49m\u001B[43m=\u001B[49m\u001B[43morder\u001B[49m\u001B[43m,\u001B[49m\u001B[43m \u001B[49m\u001B[43mdtype\u001B[49m\u001B[43m=\u001B[49m\u001B[43mdtype\u001B[49m\u001B[43m,\u001B[49m\u001B[43m \u001B[49m\u001B[43mxp\u001B[49m\u001B[43m=\u001B[49m\u001B[43mxp\u001B[49m\u001B[43m)\u001B[49m\n\u001B[32m   1056\u001B[39m \u001B[38;5;28;01mexcept\u001B[39;00m ComplexWarning \u001B[38;5;28;01mas\u001B[39;00m complex_warning:\n\u001B[32m   1057\u001B[39m     \u001B[38;5;28;01mraise\u001B[39;00m \u001B[38;5;167;01mValueError\u001B[39;00m(\n\u001B[32m   1058\u001B[39m         \u001B[33m\"\u001B[39m\u001B[33mComplex data not supported\u001B[39m\u001B[38;5;130;01m\\n\u001B[39;00m\u001B[38;5;132;01m{}\u001B[39;00m\u001B[38;5;130;01m\\n\u001B[39;00m\u001B[33m\"\u001B[39m.format(array)\n\u001B[32m   1059\u001B[39m     ) \u001B[38;5;28;01mfrom\u001B[39;00m\u001B[38;5;250m \u001B[39m\u001B[34;01mcomplex_warning\u001B[39;00m\n",
      "\u001B[36mFile \u001B[39m\u001B[32m~\\AppData\\Local\\pypoetry\\Cache\\virtualenvs\\ml-SIO4DIeI-py3.12\\Lib\\site-packages\\sklearn\\utils\\_array_api.py:839\u001B[39m, in \u001B[36m_asarray_with_order\u001B[39m\u001B[34m(array, dtype, order, copy, xp, device)\u001B[39m\n\u001B[32m    837\u001B[39m     array = numpy.array(array, order=order, dtype=dtype)\n\u001B[32m    838\u001B[39m \u001B[38;5;28;01melse\u001B[39;00m:\n\u001B[32m--> \u001B[39m\u001B[32m839\u001B[39m     array = \u001B[43mnumpy\u001B[49m\u001B[43m.\u001B[49m\u001B[43masarray\u001B[49m\u001B[43m(\u001B[49m\u001B[43marray\u001B[49m\u001B[43m,\u001B[49m\u001B[43m \u001B[49m\u001B[43morder\u001B[49m\u001B[43m=\u001B[49m\u001B[43morder\u001B[49m\u001B[43m,\u001B[49m\u001B[43m \u001B[49m\u001B[43mdtype\u001B[49m\u001B[43m=\u001B[49m\u001B[43mdtype\u001B[49m\u001B[43m)\u001B[49m\n\u001B[32m    841\u001B[39m \u001B[38;5;66;03m# At this point array is a NumPy ndarray. We convert it to an array\u001B[39;00m\n\u001B[32m    842\u001B[39m \u001B[38;5;66;03m# container that is consistent with the input's namespace.\u001B[39;00m\n\u001B[32m    843\u001B[39m \u001B[38;5;28;01mreturn\u001B[39;00m xp.asarray(array)\n",
      "\u001B[31mValueError\u001B[39m: could not convert string to float: 'rwd'"
     ]
    }
   ],
   "execution_count": 41
  }
 ],
 "metadata": {
  "kernelspec": {
   "display_name": "Python 3",
   "language": "python",
   "name": "python3"
  },
  "language_info": {
   "codemirror_mode": {
    "name": "ipython",
    "version": 2
   },
   "file_extension": ".py",
   "mimetype": "text/x-python",
   "name": "python",
   "nbconvert_exporter": "python",
   "pygments_lexer": "ipython2",
   "version": "2.7.6"
  }
 },
 "nbformat": 4,
 "nbformat_minor": 5
}
