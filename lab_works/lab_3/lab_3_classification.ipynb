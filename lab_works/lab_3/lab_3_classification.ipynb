{
 "cells": [
  {
   "metadata": {},
   "cell_type": "markdown",
   "source": [
    "# Lab_2: Using simple classification methods for solving classification problem\n",
    "# Task:\n",
    "1. Do data preprocessing & data visualization as it was in the 1st lab work\n",
    "2. Solve classification problem for the selected dataset.\n",
    "3. Use `examples/fisher_irises.ipynb` as baseline for your experiments\n",
    "4. Try to optimize hyperparameters of some model"
   ],
   "id": "e38ac7dbbb5993c8"
  },
  {
   "metadata": {},
   "cell_type": "markdown",
   "source": [
    "# Datasets for classification\n",
    "1. [Mushroom Classification](https://www.kaggle.com/datasets/uciml/mushroom-classification)\n",
    "2. [Fetal Health Classification](https://www.kaggle.com/datasets/andrewmvd/fetal-health-classification)\n",
    "3. [Glass Classification](https://www.kaggle.com/datasets/uciml/glass)\n",
    "4. [Gender Classification Dataset](https://www.kaggle.com/datasets/elakiricoder/gender-classification-dataset)\n",
    "5. [Weather Type Classification](https://www.kaggle.com/datasets/nikhil7280/weather-type-classification)\n",
    "6. [Star Type Classification / NASA](https://www.kaggle.com/datasets/brsdincer/star-type-classification)\n",
    "7. [Happiness Classification Dataset](https://www.kaggle.com/datasets/priyanshusethi/happiness-classification-dataset)\n",
    "8. [NASA: Asteroids Classification\n",
    "Data Collected from NASA API](https://www.kaggle.com/datasets/shrutimehta/nasa-asteroids-classification)\n",
    "9. [CS:GO Round Winner Classification](https://www.kaggle.com/datasets/christianlillelund/csgo-round-winner-classification)\n",
    "10. [Heart Disease Classification Dataset](https://www.kaggle.com/datasets/bharath011/heart-disease-classification-dataset)\n",
    "11. [Early Classification of Diabetes](https://www.kaggle.com/datasets/andrewmvd/early-diabetes-classification)\n",
    "12. [Credit Risk Classification Dataset](https://www.kaggle.com/datasets/praveengovi/credit-risk-classification-dataset)"
   ],
   "id": "9389b7e9525071c3"
  },
  {
   "metadata": {},
   "cell_type": "code",
   "source": "",
   "id": "80ffd9e8874c93ac",
   "outputs": [],
   "execution_count": null
  },
  {
   "metadata": {},
   "cell_type": "code",
   "source": "",
   "id": "cfdfc59f9949f4f1",
   "outputs": [],
   "execution_count": null
  },
  {
   "metadata": {},
   "cell_type": "code",
   "source": "",
   "id": "7650e30004b9260c",
   "outputs": [],
   "execution_count": null
  },
  {
   "metadata": {},
   "cell_type": "code",
   "source": "",
   "id": "e9bc3bfbf72bef39",
   "outputs": [],
   "execution_count": null
  },
  {
   "metadata": {},
   "cell_type": "code",
   "source": "",
   "id": "8da91718fe6793ea",
   "outputs": [],
   "execution_count": null
  },
  {
   "metadata": {},
   "cell_type": "code",
   "source": "",
   "id": "976e8b0cd1d8d0f3",
   "outputs": [],
   "execution_count": null
  },
  {
   "metadata": {},
   "cell_type": "code",
   "source": "",
   "id": "f228a113e398d140",
   "outputs": [],
   "execution_count": null
  },
  {
   "metadata": {},
   "cell_type": "code",
   "source": "",
   "id": "8b23eda63e04b13b",
   "outputs": [],
   "execution_count": null
  }
 ],
 "metadata": {
  "kernelspec": {
   "display_name": "Python 3",
   "language": "python",
   "name": "python3"
  },
  "language_info": {
   "codemirror_mode": {
    "name": "ipython",
    "version": 2
   },
   "file_extension": ".py",
   "mimetype": "text/x-python",
   "name": "python",
   "nbconvert_exporter": "python",
   "pygments_lexer": "ipython2",
   "version": "2.7.6"
  }
 },
 "nbformat": 4,
 "nbformat_minor": 5
}
