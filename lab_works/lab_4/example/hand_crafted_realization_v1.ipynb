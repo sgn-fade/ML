{
 "cells": [
  {
   "cell_type": "markdown",
   "source": [
    "# Import dependencies for preprocessing the data"
   ],
   "metadata": {
    "collapsed": false
   }
  },
  {
   "cell_type": "code",
   "execution_count": 1,
   "outputs": [],
   "source": [
    "import pandas as pd\n",
    "import numpy as np\n",
    "\n",
    "from sklearn.preprocessing import LabelEncoder, OneHotEncoder"
   ],
   "metadata": {
    "collapsed": false
   }
  },
  {
   "cell_type": "code",
   "execution_count": 2,
   "outputs": [],
   "source": [
    "# Load the data from file\n",
    "\n",
    "dataset = pd.read_csv(\"../preprocessing_stuff/PCA/data/irises/IRIS.csv\")\n",
    "x_data = dataset[[\"sepal_length\", \"sepal_width\", \"petal_length\", \"petal_width\"]]"
   ],
   "metadata": {
    "collapsed": false
   }
  },
  {
   "cell_type": "code",
   "execution_count": 3,
   "outputs": [
    {
     "name": "stdout",
     "output_type": "stream",
     "text": [
      "x_data MEAN:\n",
      "sepal_length    5.843333\n",
      "sepal_width     3.054000\n",
      "petal_length    3.758667\n",
      "petal_width     1.198667\n",
      "dtype: float64\n",
      "\n",
      "x_data STD:\n",
      "sepal_length    0.828066\n",
      "sepal_width     0.433594\n",
      "petal_length    1.764420\n",
      "petal_width     0.763161\n",
      "dtype: float64\n"
     ]
    }
   ],
   "source": [
    "print(f\"x_data MEAN:\\n{x_data.mean()}\\n\")\n",
    "print(f\"x_data STD:\\n{x_data.std()}\")"
   ],
   "metadata": {
    "collapsed": false
   }
  },
  {
   "cell_type": "code",
   "execution_count": 4,
   "outputs": [],
   "source": [
    "# Normalize the data\n",
    "\n",
    "x_data -= x_data.mean(axis=0)\n",
    "x_data /= x_data.std(axis=0)"
   ],
   "metadata": {
    "collapsed": false
   }
  },
  {
   "cell_type": "code",
   "execution_count": 5,
   "outputs": [
    {
     "name": "stdout",
     "output_type": "stream",
     "text": [
      "x_data MEAN:\n",
      "sepal_length   -5.210647e-16\n",
      "sepal_width    -6.631732e-16\n",
      "petal_length    1.894781e-16\n",
      "petal_width    -1.894781e-16\n",
      "dtype: float64\n",
      "\n",
      "x_data STD:\n",
      "sepal_length    1.0\n",
      "sepal_width     1.0\n",
      "petal_length    1.0\n",
      "petal_width     1.0\n",
      "dtype: float64\n"
     ]
    }
   ],
   "source": [
    "print(f\"x_data MEAN:\\n{x_data.mean()}\\n\")\n",
    "print(f\"x_data STD:\\n{x_data.std()}\")"
   ],
   "metadata": {
    "collapsed": false
   }
  },
  {
   "cell_type": "code",
   "execution_count": 6,
   "outputs": [
    {
     "name": "stdout",
     "output_type": "stream",
     "text": [
      "[[1. 0. 0.]\n",
      " [1. 0. 0.]\n",
      " [1. 0. 0.]\n",
      " [1. 0. 0.]\n",
      " [1. 0. 0.]\n",
      " [1. 0. 0.]\n",
      " [1. 0. 0.]\n",
      " [1. 0. 0.]\n",
      " [1. 0. 0.]\n",
      " [1. 0. 0.]\n",
      " [1. 0. 0.]\n",
      " [1. 0. 0.]\n",
      " [1. 0. 0.]\n",
      " [1. 0. 0.]\n",
      " [1. 0. 0.]\n",
      " [1. 0. 0.]\n",
      " [1. 0. 0.]\n",
      " [1. 0. 0.]\n",
      " [1. 0. 0.]\n",
      " [1. 0. 0.]\n",
      " [1. 0. 0.]\n",
      " [1. 0. 0.]\n",
      " [1. 0. 0.]\n",
      " [1. 0. 0.]\n",
      " [1. 0. 0.]\n",
      " [1. 0. 0.]\n",
      " [1. 0. 0.]\n",
      " [1. 0. 0.]\n",
      " [1. 0. 0.]\n",
      " [1. 0. 0.]\n",
      " [1. 0. 0.]\n",
      " [1. 0. 0.]\n",
      " [1. 0. 0.]\n",
      " [1. 0. 0.]\n",
      " [1. 0. 0.]\n",
      " [1. 0. 0.]\n",
      " [1. 0. 0.]\n",
      " [1. 0. 0.]\n",
      " [1. 0. 0.]\n",
      " [1. 0. 0.]\n",
      " [1. 0. 0.]\n",
      " [1. 0. 0.]\n",
      " [1. 0. 0.]\n",
      " [1. 0. 0.]\n",
      " [1. 0. 0.]\n",
      " [1. 0. 0.]\n",
      " [1. 0. 0.]\n",
      " [1. 0. 0.]\n",
      " [1. 0. 0.]\n",
      " [1. 0. 0.]\n",
      " [0. 1. 0.]\n",
      " [0. 1. 0.]\n",
      " [0. 1. 0.]\n",
      " [0. 1. 0.]\n",
      " [0. 1. 0.]\n",
      " [0. 1. 0.]\n",
      " [0. 1. 0.]\n",
      " [0. 1. 0.]\n",
      " [0. 1. 0.]\n",
      " [0. 1. 0.]\n",
      " [0. 1. 0.]\n",
      " [0. 1. 0.]\n",
      " [0. 1. 0.]\n",
      " [0. 1. 0.]\n",
      " [0. 1. 0.]\n",
      " [0. 1. 0.]\n",
      " [0. 1. 0.]\n",
      " [0. 1. 0.]\n",
      " [0. 1. 0.]\n",
      " [0. 1. 0.]\n",
      " [0. 1. 0.]\n",
      " [0. 1. 0.]\n",
      " [0. 1. 0.]\n",
      " [0. 1. 0.]\n",
      " [0. 1. 0.]\n",
      " [0. 1. 0.]\n",
      " [0. 1. 0.]\n",
      " [0. 1. 0.]\n",
      " [0. 1. 0.]\n",
      " [0. 1. 0.]\n",
      " [0. 1. 0.]\n",
      " [0. 1. 0.]\n",
      " [0. 1. 0.]\n",
      " [0. 1. 0.]\n",
      " [0. 1. 0.]\n",
      " [0. 1. 0.]\n",
      " [0. 1. 0.]\n",
      " [0. 1. 0.]\n",
      " [0. 1. 0.]\n",
      " [0. 1. 0.]\n",
      " [0. 1. 0.]\n",
      " [0. 1. 0.]\n",
      " [0. 1. 0.]\n",
      " [0. 1. 0.]\n",
      " [0. 1. 0.]\n",
      " [0. 1. 0.]\n",
      " [0. 1. 0.]\n",
      " [0. 1. 0.]\n",
      " [0. 1. 0.]\n",
      " [0. 1. 0.]\n",
      " [0. 0. 1.]\n",
      " [0. 0. 1.]\n",
      " [0. 0. 1.]\n",
      " [0. 0. 1.]\n",
      " [0. 0. 1.]\n",
      " [0. 0. 1.]\n",
      " [0. 0. 1.]\n",
      " [0. 0. 1.]\n",
      " [0. 0. 1.]\n",
      " [0. 0. 1.]\n",
      " [0. 0. 1.]\n",
      " [0. 0. 1.]\n",
      " [0. 0. 1.]\n",
      " [0. 0. 1.]\n",
      " [0. 0. 1.]\n",
      " [0. 0. 1.]\n",
      " [0. 0. 1.]\n",
      " [0. 0. 1.]\n",
      " [0. 0. 1.]\n",
      " [0. 0. 1.]\n",
      " [0. 0. 1.]\n",
      " [0. 0. 1.]\n",
      " [0. 0. 1.]\n",
      " [0. 0. 1.]\n",
      " [0. 0. 1.]\n",
      " [0. 0. 1.]\n",
      " [0. 0. 1.]\n",
      " [0. 0. 1.]\n",
      " [0. 0. 1.]\n",
      " [0. 0. 1.]\n",
      " [0. 0. 1.]\n",
      " [0. 0. 1.]\n",
      " [0. 0. 1.]\n",
      " [0. 0. 1.]\n",
      " [0. 0. 1.]\n",
      " [0. 0. 1.]\n",
      " [0. 0. 1.]\n",
      " [0. 0. 1.]\n",
      " [0. 0. 1.]\n",
      " [0. 0. 1.]\n",
      " [0. 0. 1.]\n",
      " [0. 0. 1.]\n",
      " [0. 0. 1.]\n",
      " [0. 0. 1.]\n",
      " [0. 0. 1.]\n",
      " [0. 0. 1.]\n",
      " [0. 0. 1.]\n",
      " [0. 0. 1.]\n",
      " [0. 0. 1.]\n",
      " [0. 0. 1.]]\n"
     ]
    }
   ],
   "source": [
    "# Onehot encode labels\n",
    "\n",
    "label_encoder = LabelEncoder()\n",
    "onehot_encoder = OneHotEncoder(sparse=False)\n",
    "\n",
    "labels = dataset[\"species\"]\n",
    "coded_labels = label_encoder.fit_transform(labels)\n",
    "y_data = onehot_encoder.fit_transform(coded_labels.reshape(-1, 1))\n",
    "\n",
    "print(y_data)"
   ],
   "metadata": {
    "collapsed": false
   }
  },
  {
   "cell_type": "code",
   "execution_count": 7,
   "outputs": [],
   "source": [
    "x_data = x_data.to_numpy()"
   ],
   "metadata": {
    "collapsed": false
   }
  },
  {
   "cell_type": "code",
   "execution_count": 8,
   "outputs": [],
   "source": [
    "# Shuffle the data\n",
    "\n",
    "np.random.seed(seed=42)\n",
    "perm = np.random.permutation(len(x_data))\n",
    "x_data = x_data[perm]\n",
    "y_data = y_data[perm]"
   ],
   "metadata": {
    "collapsed": false
   }
  },
  {
   "cell_type": "code",
   "execution_count": 9,
   "outputs": [],
   "source": [
    "# Train / Test split the data\n",
    "\n",
    "train_count = int(len(x_data) * 0.8)\n",
    "\n",
    "x_train = x_data[:train_count]\n",
    "y_train = y_data[:train_count]\n",
    "\n",
    "x_test = x_data[train_count:]\n",
    "y_test = y_data[train_count:]"
   ],
   "metadata": {
    "collapsed": false
   }
  },
  {
   "cell_type": "code",
   "execution_count": 10,
   "outputs": [
    {
     "name": "stdout",
     "output_type": "stream",
     "text": [
      "[ 0.30995914 -0.58580104  0.53350852  0.00174712]\n",
      "[0. 1. 0.]\n"
     ]
    }
   ],
   "source": [
    "print(x_train[0])\n",
    "print(y_train[0])"
   ],
   "metadata": {
    "collapsed": false
   }
  },
  {
   "cell_type": "markdown",
   "source": [
    "# Build The model"
   ],
   "metadata": {
    "collapsed": false
   }
  },
  {
   "cell_type": "code",
   "execution_count": 11,
   "metadata": {
    "collapsed": true
   },
   "outputs": [],
   "source": [
    "import numpy as np\n",
    "from tqdm import tqdm"
   ]
  },
  {
   "cell_type": "code",
   "execution_count": 12,
   "outputs": [],
   "source": [
    "# Define the ReLU activation function\n",
    "def relu(x):\n",
    "    return np.maximum(x, 0)\n",
    "\n",
    "\n",
    "# Define the softmax activation function\n",
    "def softmax(x):\n",
    "    e_x = np.exp(x - np.max(x, axis=1, keepdims=True))\n",
    "    return e_x / np.sum(e_x, axis=1, keepdims=True)\n",
    "\n",
    "\n",
    "# Define a neural network with one hidden layer\n",
    "class NeuralNetwork:\n",
    "    def __init__(self, input_size, hidden_size_0, hidden_size_1, output_size):\n",
    "        # ReLU 0\n",
    "        self.W0 = np.random.randn(input_size, hidden_size_0) * 0.01\n",
    "        self.b0 = np.zeros((1, hidden_size_0))\n",
    "\n",
    "        # ReLU 1\n",
    "        self.W1 = np.random.randn(hidden_size_0, hidden_size_1) * 0.01\n",
    "        self.b1 = np.zeros((1, hidden_size_1))\n",
    "\n",
    "        # Softmax 2\n",
    "        self.W2 = np.random.randn(hidden_size_1, output_size) * 0.01\n",
    "        self.b2 = np.zeros((1, output_size))\n",
    "\n",
    "    def forward(self, X):\n",
    "        # ReLU 0\n",
    "        self.Z0 = np.dot(X, self.W0) + self.b0\n",
    "        self.A0 = relu(self.Z0)\n",
    "\n",
    "        # ReLU 1\n",
    "        self.Z1 = np.dot(self.A0, self.W1) + self.b1\n",
    "        self.A1 = relu(self.Z1)\n",
    "\n",
    "        # Softmax 2\n",
    "        self.Z2 = np.dot(self.A1, self.W2) + self.b2\n",
    "        self.A2 = softmax(self.Z2)\n",
    "        return self.A2\n",
    "\n",
    "    def backward(self, X, y, learning_rate):\n",
    "        num_examples = X.shape[0]\n",
    "\n",
    "        dZ2 = self.A2 - y\n",
    "        dW2 = np.dot(self.A1.T, dZ2) / num_examples\n",
    "        db2 = np.sum(dZ2, axis=0, keepdims=True) / num_examples\n",
    "        dA1 = np.dot(dZ2, self.W2.T)\n",
    "\n",
    "        dZ1 = dA1 * (self.Z1 > 0)\n",
    "        dW1 = np.dot(self.A0.T, dZ1) / num_examples\n",
    "        db1 = np.sum(dZ1, axis=0, keepdims=True) / num_examples\n",
    "        dA0 = np.dot(dZ1, self.W1.T)\n",
    "\n",
    "        dZ0 = dA0 * (self.Z0 > 0)\n",
    "        dW0 = np.dot(X.T, dZ0) / num_examples\n",
    "        db0 = np.sum(dZ0, axis=0, keepdims=True) / num_examples\n",
    "\n",
    "        self.W2 -= learning_rate * dW2\n",
    "        self.b2 -= learning_rate * db2\n",
    "        self.W1 -= learning_rate * dW1\n",
    "        self.b1 -= learning_rate * db1\n",
    "        self.W0 -= learning_rate * dW0\n",
    "        self.b0 -= learning_rate * db0"
   ],
   "metadata": {
    "collapsed": false
   }
  },
  {
   "cell_type": "markdown",
   "source": [
    "# Use full functions"
   ],
   "metadata": {
    "collapsed": false
   }
  },
  {
   "cell_type": "code",
   "execution_count": 13,
   "outputs": [],
   "source": [
    "def compute_categorical_cross_entropy_loss(y_true, y_pred):\n",
    "    \"\"\"\n",
    "    Calculate categorical cross-entropy loss.\n",
    "\n",
    "    Arguments:\n",
    "    y_true -- true labels (one-hot encoded)\n",
    "    y_pred -- predicted probability distribution over the classes (softmax output)\n",
    "\n",
    "    Returns:\n",
    "    loss -- categorical cross-entropy loss\n",
    "    \"\"\"\n",
    "    # Add a small epsilon value to prevent division by zero\n",
    "    epsilon = 1e-8\n",
    "\n",
    "    # Calculate categorical cross-entropy loss\n",
    "    N = y_true.shape[0]\n",
    "    loss = -1/N * np.sum(y_true * np.log(y_pred + epsilon))\n",
    "\n",
    "    return loss"
   ],
   "metadata": {
    "collapsed": false
   }
  },
  {
   "cell_type": "code",
   "execution_count": 14,
   "outputs": [],
   "source": [
    "def compute_accuracy(y_true, y_pred):\n",
    "    \"\"\"\n",
    "    Compute the accuracy of the predicted probabilities relative to the true labels.\n",
    "\n",
    "    Arguments:\n",
    "    y_true -- a numpy array of shape (num_examples, num_classes) containing the true labels in one-hot format\n",
    "    y_pred -- a numpy array of shape (num_examples, num_classes) containing the predicted probabilities\n",
    "\n",
    "    Returns:\n",
    "    accuracy -- a scalar representing the fraction of examples that were classified correctly\n",
    "    \"\"\"\n",
    "    # Determine the predicted classes\n",
    "    y_pred_classes = np.argmax(y_pred, axis=1)\n",
    "\n",
    "    # Determine the true classes\n",
    "    y_true_classes = np.argmax(y_true, axis=1)\n",
    "\n",
    "    # Compute the accuracy\n",
    "    num_correct = np.sum(y_pred_classes == y_true_classes)\n",
    "    num_examples = y_true.shape[0]\n",
    "    accuracy = num_correct / num_examples\n",
    "\n",
    "    return accuracy"
   ],
   "metadata": {
    "collapsed": false
   }
  },
  {
   "cell_type": "markdown",
   "source": [
    "# Build and train the model"
   ],
   "metadata": {
    "collapsed": false
   }
  },
  {
   "cell_type": "code",
   "execution_count": 15,
   "outputs": [
    {
     "name": "stderr",
     "output_type": "stream",
     "text": [
      "100%|██████████| 10000/10000 [00:01<00:00, 5767.02it/s]\n"
     ]
    }
   ],
   "source": [
    "# Create a neural network\n",
    "nn = NeuralNetwork(4, 6, 4, 3)\n",
    "\n",
    "# Train the neural network\n",
    "learning_rate = 0.1\n",
    "num_epochs = 10_000\n",
    "\n",
    "val_loss_history = []\n",
    "val_acc_history = []\n",
    "\n",
    "train_loss_history = []\n",
    "train_acc_history = []\n",
    "\n",
    "for i in tqdm(range(num_epochs)):\n",
    "    # Perform a forward pass through the network\n",
    "    y_pred_train = nn.forward(x_train)\n",
    "\n",
    "    # Compute the loss and accuracy on the training set\n",
    "    loss_train = compute_categorical_cross_entropy_loss(y_train, y_pred_train)\n",
    "    acc_train = compute_accuracy(y_train, y_pred_train)\n",
    "\n",
    "    # Perform a backward pass through the network\n",
    "    nn.backward(x_train, y_train, learning_rate)\n",
    "\n",
    "    # Perform a forward pass through the network on the test set\n",
    "    y_pred_test = nn.forward(x_test)\n",
    "\n",
    "    # Compute the loss and accuracy on the test set\n",
    "    loss_test = compute_categorical_cross_entropy_loss(y_test, y_pred_test)\n",
    "    acc_test = compute_accuracy(y_test, y_pred_test)\n",
    "\n",
    "    train_loss_history.append(loss_train)\n",
    "    train_acc_history.append(acc_train)\n",
    "    val_loss_history.append(loss_test)\n",
    "    val_acc_history.append(acc_test)\n",
    "\n",
    "    # Print the loss and accuracy on the training and test sets\n",
    "    # if i % 100 == 0:\n",
    "    #     print(f\"Epoch {i}: train_loss={loss_train:.4f}, train_acc={acc_train:.4f}, test_loss={loss_test:.4f}, test_acc={acc_test:.4f}\")"
   ],
   "metadata": {
    "collapsed": false
   }
  },
  {
   "cell_type": "markdown",
   "source": [
    "# Show results of training"
   ],
   "metadata": {
    "collapsed": false
   }
  },
  {
   "cell_type": "code",
   "execution_count": 16,
   "outputs": [
    {
     "data": {
      "text/plain": "<Figure size 640x480 with 1 Axes>",
      "image/png": "[encoded data removed]"
     },
     "metadata": {},
     "output_type": "display_data"
    }
   ],
   "source": [
    "import matplotlib.pyplot as plt\n",
    "\n",
    "epochs = range(1, len(train_loss_history) + 1)\n",
    "plt.plot(epochs, train_loss_history, label=\"Training Loss\")\n",
    "plt.plot(epochs, val_loss_history, label=\"Validation Loss\")\n",
    "plt.title(\"Train & Val Loss\")\n",
    "plt.xlabel(\"Epochs\")\n",
    "plt.ylabel(\"Loss\")\n",
    "plt.legend()\n",
    "plt.show()"
   ],
   "metadata": {
    "collapsed": false
   }
  },
  {
   "cell_type": "code",
   "execution_count": 17,
   "outputs": [
    {
     "data": {
      "text/plain": "<Figure size 640x480 with 1 Axes>",
      "image/png": "[encoded data removed]"
     },
     "metadata": {},
     "output_type": "display_data"
    }
   ],
   "source": [
    "plt.plot(epochs, train_acc_history, label=\"Training Accuracy\")\n",
    "plt.plot(epochs, val_acc_history, label=\"Validation Accuracy\")\n",
    "plt.title(\"Train & Val Acc\")\n",
    "plt.xlabel(\"Epochs\")\n",
    "plt.ylabel(\"Acc\")\n",
    "plt.legend()\n",
    "plt.show()"
   ],
   "metadata": {
    "collapsed": false
   }
  }
 ],
 "metadata": {
  "kernelspec": {
   "display_name": "Python 3",
   "language": "python",
   "name": "python3"
  },
  "language_info": {
   "codemirror_mode": {
    "name": "ipython",
    "version": 2
   },
   "file_extension": ".py",
   "mimetype": "text/x-python",
   "name": "python",
   "nbconvert_exporter": "python",
   "pygments_lexer": "ipython2",
   "version": "2.7.6"
  }
 },
 "nbformat": 4,
 "nbformat_minor": 0
}
