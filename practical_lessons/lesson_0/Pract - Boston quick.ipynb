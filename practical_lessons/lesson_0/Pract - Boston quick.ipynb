{
 "cells": [
  {
   "cell_type": "code",
   "execution_count": 1,
   "metadata": {},
   "outputs": [],
   "source": [
    "import pandas as pd\n",
    "import matplotlib.pyplot as plt\n",
    "import numpy as np\n",
    "from sklearn.preprocessing import LabelEncoder\n",
    "from sklearn import linear_model\n",
    "import sklearn.linear_model as lm\n",
    "from sklearn.model_selection import train_test_split\n",
    "import seaborn as sns\n",
    "\n",
    "target_feature = 'SalePrice'\n",
    "\n",
    "%matplotlib inline"
   ]
  },
  {
   "cell_type": "code",
   "execution_count": 3,
   "metadata": {},
   "outputs": [
    {
     "name": "stdout",
     "output_type": "stream",
     "text": [
      "<class 'pandas.core.frame.DataFrame'>\n",
      "RangeIndex: 1460 entries, 0 to 1459\n",
      "Data columns (total 81 columns):\n",
      " #   Column         Non-Null Count  Dtype  \n",
      "---  ------         --------------  -----  \n",
      " 0   Id             1460 non-null   int64  \n",
      " 1   MSSubClass     1460 non-null   int64  \n",
      " 2   MSZoning       1460 non-null   object \n",
      " 3   LotFrontage    1201 non-null   float64\n",
      " 4   LotArea        1460 non-null   int64  \n",
      " 5   Street         1460 non-null   object \n",
      " 6   Alley          91 non-null     object \n",
      " 7   LotShape       1460 non-null   object \n",
      " 8   LandContour    1460 non-null   object \n",
      " 9   Utilities      1460 non-null   object \n",
      " 10  LotConfig      1460 non-null   object \n",
      " 11  LandSlope      1460 non-null   object \n",
      " 12  Neighborhood   1460 non-null   object \n",
      " 13  Condition1     1460 non-null   object \n",
      " 14  Condition2     1460 non-null   object \n",
      " 15  BldgType       1460 non-null   object \n",
      " 16  HouseStyle     1460 non-null   object \n",
      " 17  OverallQual    1460 non-null   int64  \n",
      " 18  OverallCond    1460 non-null   int64  \n",
      " 19  YearBuilt      1460 non-null   int64  \n",
      " 20  YearRemodAdd   1460 non-null   int64  \n",
      " 21  RoofStyle      1460 non-null   object \n",
      " 22  RoofMatl       1460 non-null   object \n",
      " 23  Exterior1st    1460 non-null   object \n",
      " 24  Exterior2nd    1460 non-null   object \n",
      " 25  MasVnrType     1452 non-null   object \n",
      " 26  MasVnrArea     1452 non-null   float64\n",
      " 27  ExterQual      1460 non-null   object \n",
      " 28  ExterCond      1460 non-null   object \n",
      " 29  Foundation     1460 non-null   object \n",
      " 30  BsmtQual       1423 non-null   object \n",
      " 31  BsmtCond       1423 non-null   object \n",
      " 32  BsmtExposure   1422 non-null   object \n",
      " 33  BsmtFinType1   1423 non-null   object \n",
      " 34  BsmtFinSF1     1460 non-null   int64  \n",
      " 35  BsmtFinType2   1422 non-null   object \n",
      " 36  BsmtFinSF2     1460 non-null   int64  \n",
      " 37  BsmtUnfSF      1460 non-null   int64  \n",
      " 38  TotalBsmtSF    1460 non-null   int64  \n",
      " 39  Heating        1460 non-null   object \n",
      " 40  HeatingQC      1460 non-null   object \n",
      " 41  CentralAir     1460 non-null   object \n",
      " 42  Electrical     1459 non-null   object \n",
      " 43  1stFlrSF       1460 non-null   int64  \n",
      " 44  2ndFlrSF       1460 non-null   int64  \n",
      " 45  LowQualFinSF   1460 non-null   int64  \n",
      " 46  GrLivArea      1460 non-null   int64  \n",
      " 47  BsmtFullBath   1460 non-null   int64  \n",
      " 48  BsmtHalfBath   1460 non-null   int64  \n",
      " 49  FullBath       1460 non-null   int64  \n",
      " 50  HalfBath       1460 non-null   int64  \n",
      " 51  BedroomAbvGr   1460 non-null   int64  \n",
      " 52  KitchenAbvGr   1460 non-null   int64  \n",
      " 53  KitchenQual    1460 non-null   object \n",
      " 54  TotRmsAbvGrd   1460 non-null   int64  \n",
      " 55  Functional     1460 non-null   object \n",
      " 56  Fireplaces     1460 non-null   int64  \n",
      " 57  FireplaceQu    770 non-null    object \n",
      " 58  GarageType     1379 non-null   object \n",
      " 59  GarageYrBlt    1379 non-null   float64\n",
      " 60  GarageFinish   1379 non-null   object \n",
      " 61  GarageCars     1460 non-null   int64  \n",
      " 62  GarageArea     1460 non-null   int64  \n",
      " 63  GarageQual     1379 non-null   object \n",
      " 64  GarageCond     1379 non-null   object \n",
      " 65  PavedDrive     1460 non-null   object \n",
      " 66  WoodDeckSF     1460 non-null   int64  \n",
      " 67  OpenPorchSF    1460 non-null   int64  \n",
      " 68  EnclosedPorch  1460 non-null   int64  \n",
      " 69  3SsnPorch      1460 non-null   int64  \n",
      " 70  ScreenPorch    1460 non-null   int64  \n",
      " 71  PoolArea       1460 non-null   int64  \n",
      " 72  PoolQC         7 non-null      object \n",
      " 73  Fence          281 non-null    object \n",
      " 74  MiscFeature    54 non-null     object \n",
      " 75  MiscVal        1460 non-null   int64  \n",
      " 76  MoSold         1460 non-null   int64  \n",
      " 77  YrSold         1460 non-null   int64  \n",
      " 78  SaleType       1460 non-null   object \n",
      " 79  SaleCondition  1460 non-null   object \n",
      " 80  SalePrice      1460 non-null   int64  \n",
      "dtypes: float64(3), int64(35), object(43)\n",
      "memory usage: 924.0+ KB\n"
     ]
    }
   ],
   "source": [
    "df_train = pd.read_csv('train_boston.csv')\n",
    "df_train.info()"
   ]
  },
  {
   "cell_type": "code",
   "execution_count": 36,
   "metadata": {},
   "outputs": [
    {
     "data": {
      "text/html": [
       "<div>\n",
       "<style scoped>\n",
       "    .dataframe tbody tr th:only-of-type {\n",
       "        vertical-align: middle;\n",
       "    }\n",
       "\n",
       "    .dataframe tbody tr th {\n",
       "        vertical-align: top;\n",
       "    }\n",
       "\n",
       "    .dataframe thead th {\n",
       "        text-align: right;\n",
       "    }\n",
       "</style>\n",
       "<table border=\"1\" class=\"dataframe\">\n",
       "  <thead>\n",
       "    <tr style=\"text-align: right;\">\n",
       "      <th></th>\n",
       "      <th>Id</th>\n",
       "      <th>MSSubClass</th>\n",
       "      <th>MSZoning</th>\n",
       "      <th>LotFrontage</th>\n",
       "      <th>LotArea</th>\n",
       "      <th>Street</th>\n",
       "      <th>Alley</th>\n",
       "      <th>LotShape</th>\n",
       "      <th>LandContour</th>\n",
       "      <th>Utilities</th>\n",
       "      <th>...</th>\n",
       "      <th>PoolArea</th>\n",
       "      <th>PoolQC</th>\n",
       "      <th>Fence</th>\n",
       "      <th>MiscFeature</th>\n",
       "      <th>MiscVal</th>\n",
       "      <th>MoSold</th>\n",
       "      <th>YrSold</th>\n",
       "      <th>SaleType</th>\n",
       "      <th>SaleCondition</th>\n",
       "      <th>SalePrice</th>\n",
       "    </tr>\n",
       "  </thead>\n",
       "  <tbody>\n",
       "    <tr>\n",
       "      <th>0</th>\n",
       "      <td>1</td>\n",
       "      <td>60</td>\n",
       "      <td>RL</td>\n",
       "      <td>65.0</td>\n",
       "      <td>8450</td>\n",
       "      <td>Pave</td>\n",
       "      <td>NaN</td>\n",
       "      <td>Reg</td>\n",
       "      <td>Lvl</td>\n",
       "      <td>AllPub</td>\n",
       "      <td>...</td>\n",
       "      <td>0</td>\n",
       "      <td>NaN</td>\n",
       "      <td>NaN</td>\n",
       "      <td>NaN</td>\n",
       "      <td>0</td>\n",
       "      <td>2</td>\n",
       "      <td>2008</td>\n",
       "      <td>WD</td>\n",
       "      <td>Normal</td>\n",
       "      <td>208500</td>\n",
       "    </tr>\n",
       "    <tr>\n",
       "      <th>1</th>\n",
       "      <td>2</td>\n",
       "      <td>20</td>\n",
       "      <td>RL</td>\n",
       "      <td>80.0</td>\n",
       "      <td>9600</td>\n",
       "      <td>Pave</td>\n",
       "      <td>NaN</td>\n",
       "      <td>Reg</td>\n",
       "      <td>Lvl</td>\n",
       "      <td>AllPub</td>\n",
       "      <td>...</td>\n",
       "      <td>0</td>\n",
       "      <td>NaN</td>\n",
       "      <td>NaN</td>\n",
       "      <td>NaN</td>\n",
       "      <td>0</td>\n",
       "      <td>5</td>\n",
       "      <td>2007</td>\n",
       "      <td>WD</td>\n",
       "      <td>Normal</td>\n",
       "      <td>181500</td>\n",
       "    </tr>\n",
       "    <tr>\n",
       "      <th>2</th>\n",
       "      <td>3</td>\n",
       "      <td>60</td>\n",
       "      <td>RL</td>\n",
       "      <td>68.0</td>\n",
       "      <td>11250</td>\n",
       "      <td>Pave</td>\n",
       "      <td>NaN</td>\n",
       "      <td>IR1</td>\n",
       "      <td>Lvl</td>\n",
       "      <td>AllPub</td>\n",
       "      <td>...</td>\n",
       "      <td>0</td>\n",
       "      <td>NaN</td>\n",
       "      <td>NaN</td>\n",
       "      <td>NaN</td>\n",
       "      <td>0</td>\n",
       "      <td>9</td>\n",
       "      <td>2008</td>\n",
       "      <td>WD</td>\n",
       "      <td>Normal</td>\n",
       "      <td>223500</td>\n",
       "    </tr>\n",
       "    <tr>\n",
       "      <th>3</th>\n",
       "      <td>4</td>\n",
       "      <td>70</td>\n",
       "      <td>RL</td>\n",
       "      <td>60.0</td>\n",
       "      <td>9550</td>\n",
       "      <td>Pave</td>\n",
       "      <td>NaN</td>\n",
       "      <td>IR1</td>\n",
       "      <td>Lvl</td>\n",
       "      <td>AllPub</td>\n",
       "      <td>...</td>\n",
       "      <td>0</td>\n",
       "      <td>NaN</td>\n",
       "      <td>NaN</td>\n",
       "      <td>NaN</td>\n",
       "      <td>0</td>\n",
       "      <td>2</td>\n",
       "      <td>2006</td>\n",
       "      <td>WD</td>\n",
       "      <td>Abnorml</td>\n",
       "      <td>140000</td>\n",
       "    </tr>\n",
       "    <tr>\n",
       "      <th>4</th>\n",
       "      <td>5</td>\n",
       "      <td>60</td>\n",
       "      <td>RL</td>\n",
       "      <td>84.0</td>\n",
       "      <td>14260</td>\n",
       "      <td>Pave</td>\n",
       "      <td>NaN</td>\n",
       "      <td>IR1</td>\n",
       "      <td>Lvl</td>\n",
       "      <td>AllPub</td>\n",
       "      <td>...</td>\n",
       "      <td>0</td>\n",
       "      <td>NaN</td>\n",
       "      <td>NaN</td>\n",
       "      <td>NaN</td>\n",
       "      <td>0</td>\n",
       "      <td>12</td>\n",
       "      <td>2008</td>\n",
       "      <td>WD</td>\n",
       "      <td>Normal</td>\n",
       "      <td>250000</td>\n",
       "    </tr>\n",
       "  </tbody>\n",
       "</table>\n",
       "<p>5 rows × 81 columns</p>\n",
       "</div>"
      ],
      "text/plain": [
       "   Id  MSSubClass MSZoning  LotFrontage  LotArea Street Alley LotShape  \\\n",
       "0   1          60       RL         65.0     8450   Pave   NaN      Reg   \n",
       "1   2          20       RL         80.0     9600   Pave   NaN      Reg   \n",
       "2   3          60       RL         68.0    11250   Pave   NaN      IR1   \n",
       "3   4          70       RL         60.0     9550   Pave   NaN      IR1   \n",
       "4   5          60       RL         84.0    14260   Pave   NaN      IR1   \n",
       "\n",
       "  LandContour Utilities  ... PoolArea PoolQC Fence MiscFeature MiscVal MoSold  \\\n",
       "0         Lvl    AllPub  ...        0    NaN   NaN         NaN       0      2   \n",
       "1         Lvl    AllPub  ...        0    NaN   NaN         NaN       0      5   \n",
       "2         Lvl    AllPub  ...        0    NaN   NaN         NaN       0      9   \n",
       "3         Lvl    AllPub  ...        0    NaN   NaN         NaN       0      2   \n",
       "4         Lvl    AllPub  ...        0    NaN   NaN         NaN       0     12   \n",
       "\n",
       "  YrSold  SaleType  SaleCondition  SalePrice  \n",
       "0   2008        WD         Normal     208500  \n",
       "1   2007        WD         Normal     181500  \n",
       "2   2008        WD         Normal     223500  \n",
       "3   2006        WD        Abnorml     140000  \n",
       "4   2008        WD         Normal     250000  \n",
       "\n",
       "[5 rows x 81 columns]"
      ]
     },
     "execution_count": 36,
     "metadata": {},
     "output_type": "execute_result"
    }
   ],
   "source": [
    "df_train.head()"
   ]
  },
  {
   "cell_type": "code",
   "execution_count": 37,
   "metadata": {},
   "outputs": [
    {
     "data": {
      "text/html": [
       "<div>\n",
       "<style scoped>\n",
       "    .dataframe tbody tr th:only-of-type {\n",
       "        vertical-align: middle;\n",
       "    }\n",
       "\n",
       "    .dataframe tbody tr th {\n",
       "        vertical-align: top;\n",
       "    }\n",
       "\n",
       "    .dataframe thead th {\n",
       "        text-align: right;\n",
       "    }\n",
       "</style>\n",
       "<table border=\"1\" class=\"dataframe\">\n",
       "  <thead>\n",
       "    <tr style=\"text-align: right;\">\n",
       "      <th></th>\n",
       "      <th>GrLivArea</th>\n",
       "      <th>SalePrice</th>\n",
       "    </tr>\n",
       "  </thead>\n",
       "  <tbody>\n",
       "    <tr>\n",
       "      <th>count</th>\n",
       "      <td>1460.000000</td>\n",
       "      <td>1460.000000</td>\n",
       "    </tr>\n",
       "    <tr>\n",
       "      <th>mean</th>\n",
       "      <td>1515.463699</td>\n",
       "      <td>180921.195890</td>\n",
       "    </tr>\n",
       "    <tr>\n",
       "      <th>std</th>\n",
       "      <td>525.480383</td>\n",
       "      <td>79442.502883</td>\n",
       "    </tr>\n",
       "    <tr>\n",
       "      <th>min</th>\n",
       "      <td>334.000000</td>\n",
       "      <td>34900.000000</td>\n",
       "    </tr>\n",
       "    <tr>\n",
       "      <th>25%</th>\n",
       "      <td>1129.500000</td>\n",
       "      <td>129975.000000</td>\n",
       "    </tr>\n",
       "    <tr>\n",
       "      <th>50%</th>\n",
       "      <td>1464.000000</td>\n",
       "      <td>163000.000000</td>\n",
       "    </tr>\n",
       "    <tr>\n",
       "      <th>75%</th>\n",
       "      <td>1776.750000</td>\n",
       "      <td>214000.000000</td>\n",
       "    </tr>\n",
       "    <tr>\n",
       "      <th>max</th>\n",
       "      <td>5642.000000</td>\n",
       "      <td>755000.000000</td>\n",
       "    </tr>\n",
       "  </tbody>\n",
       "</table>\n",
       "</div>"
      ],
      "text/plain": [
       "         GrLivArea      SalePrice\n",
       "count  1460.000000    1460.000000\n",
       "mean   1515.463699  180921.195890\n",
       "std     525.480383   79442.502883\n",
       "min     334.000000   34900.000000\n",
       "25%    1129.500000  129975.000000\n",
       "50%    1464.000000  163000.000000\n",
       "75%    1776.750000  214000.000000\n",
       "max    5642.000000  755000.000000"
      ]
     },
     "execution_count": 37,
     "metadata": {},
     "output_type": "execute_result"
    }
   ],
   "source": [
    "df_train[['GrLivArea','SalePrice']].describe()"
   ]
  },
  {
   "cell_type": "markdown",
   "metadata": {},
   "source": [
    "## Подивимося відсоток нульових значень у ознаках"
   ]
  },
  {
   "cell_type": "code",
   "execution_count": 6,
   "metadata": {},
   "outputs": [
    {
     "name": "stdout",
     "output_type": "stream",
     "text": [
      "             Total   Percent\n",
      "PoolQC        1453  0.995205\n",
      "MiscFeature   1406  0.963014\n",
      "Alley         1369  0.937671\n",
      "Fence         1179  0.807534\n",
      "FireplaceQu    690  0.472603\n",
      "...            ...       ...\n",
      "ExterQual        0  0.000000\n",
      "Exterior2nd      0  0.000000\n",
      "Exterior1st      0  0.000000\n",
      "RoofMatl         0  0.000000\n",
      "SalePrice        0  0.000000\n",
      "\n",
      "[81 rows x 2 columns]\n",
      "0       208500\n",
      "1       181500\n",
      "2       223500\n",
      "3       140000\n",
      "4       250000\n",
      "         ...  \n",
      "1455    175000\n",
      "1456    210000\n",
      "1457    266500\n",
      "1458    142125\n",
      "1459    147500\n",
      "Name: SalePrice, Length: 1460, dtype: int64\n"
     ]
    }
   ],
   "source": [
    "total = df_train.isnull().sum().sort_values(ascending=False)\n",
    "percent = (df_train.isnull().sum() / df_train.isnull().count()).sort_values(ascending=False)\n",
    "missing_data = pd.concat([total, percent], axis=1, keys=['Total', 'Percent'])\n",
    "print(missing_data)\n",
    "print(df_train[missing_data[missing_data['Percent'] == 0].index]['SalePrice'])"
   ]
  },
  {
   "cell_type": "markdown",
   "metadata": {},
   "source": [
    "## Видалимо всі ознаки, у яких є нульові значення"
   ]
  },
  {
   "cell_type": "code",
   "execution_count": 7,
   "metadata": {
    "scrolled": true
   },
   "outputs": [
    {
     "name": "stdout",
     "output_type": "stream",
     "text": [
      "<class 'pandas.core.frame.DataFrame'>\n",
      "RangeIndex: 1460 entries, 0 to 1459\n",
      "Data columns (total 62 columns):\n",
      " #   Column         Non-Null Count  Dtype \n",
      "---  ------         --------------  ----- \n",
      " 0   Id             1460 non-null   int64 \n",
      " 1   MSSubClass     1460 non-null   int64 \n",
      " 2   MSZoning       1460 non-null   object\n",
      " 3   LotArea        1460 non-null   int64 \n",
      " 4   Street         1460 non-null   object\n",
      " 5   LotShape       1460 non-null   object\n",
      " 6   LandContour    1460 non-null   object\n",
      " 7   Utilities      1460 non-null   object\n",
      " 8   LotConfig      1460 non-null   object\n",
      " 9   LandSlope      1460 non-null   object\n",
      " 10  Neighborhood   1460 non-null   object\n",
      " 11  Condition1     1460 non-null   object\n",
      " 12  Condition2     1460 non-null   object\n",
      " 13  BldgType       1460 non-null   object\n",
      " 14  HouseStyle     1460 non-null   object\n",
      " 15  OverallQual    1460 non-null   int64 \n",
      " 16  OverallCond    1460 non-null   int64 \n",
      " 17  YearBuilt      1460 non-null   int64 \n",
      " 18  YearRemodAdd   1460 non-null   int64 \n",
      " 19  RoofStyle      1460 non-null   object\n",
      " 20  RoofMatl       1460 non-null   object\n",
      " 21  Exterior1st    1460 non-null   object\n",
      " 22  Exterior2nd    1460 non-null   object\n",
      " 23  ExterQual      1460 non-null   object\n",
      " 24  ExterCond      1460 non-null   object\n",
      " 25  Foundation     1460 non-null   object\n",
      " 26  BsmtFinSF1     1460 non-null   int64 \n",
      " 27  BsmtFinSF2     1460 non-null   int64 \n",
      " 28  BsmtUnfSF      1460 non-null   int64 \n",
      " 29  TotalBsmtSF    1460 non-null   int64 \n",
      " 30  Heating        1460 non-null   object\n",
      " 31  HeatingQC      1460 non-null   object\n",
      " 32  CentralAir     1460 non-null   object\n",
      " 33  1stFlrSF       1460 non-null   int64 \n",
      " 34  2ndFlrSF       1460 non-null   int64 \n",
      " 35  LowQualFinSF   1460 non-null   int64 \n",
      " 36  GrLivArea      1460 non-null   int64 \n",
      " 37  BsmtFullBath   1460 non-null   int64 \n",
      " 38  BsmtHalfBath   1460 non-null   int64 \n",
      " 39  FullBath       1460 non-null   int64 \n",
      " 40  HalfBath       1460 non-null   int64 \n",
      " 41  BedroomAbvGr   1460 non-null   int64 \n",
      " 42  KitchenAbvGr   1460 non-null   int64 \n",
      " 43  KitchenQual    1460 non-null   object\n",
      " 44  TotRmsAbvGrd   1460 non-null   int64 \n",
      " 45  Functional     1460 non-null   object\n",
      " 46  Fireplaces     1460 non-null   int64 \n",
      " 47  GarageCars     1460 non-null   int64 \n",
      " 48  GarageArea     1460 non-null   int64 \n",
      " 49  PavedDrive     1460 non-null   object\n",
      " 50  WoodDeckSF     1460 non-null   int64 \n",
      " 51  OpenPorchSF    1460 non-null   int64 \n",
      " 52  EnclosedPorch  1460 non-null   int64 \n",
      " 53  3SsnPorch      1460 non-null   int64 \n",
      " 54  ScreenPorch    1460 non-null   int64 \n",
      " 55  PoolArea       1460 non-null   int64 \n",
      " 56  MiscVal        1460 non-null   int64 \n",
      " 57  MoSold         1460 non-null   int64 \n",
      " 58  YrSold         1460 non-null   int64 \n",
      " 59  SaleType       1460 non-null   object\n",
      " 60  SaleCondition  1460 non-null   object\n",
      " 61  SalePrice      1460 non-null   int64 \n",
      "dtypes: int64(35), object(27)\n",
      "memory usage: 707.3+ KB\n"
     ]
    },
    {
     "name": "stderr",
     "output_type": "stream",
     "text": [
      "C:\\Users\\mishy\\AppData\\Local\\Temp\\ipykernel_3340\\2967972881.py:1: FutureWarning: In a future version of pandas all arguments of DataFrame.drop except for the argument 'labels' will be keyword-only.\n",
      "  updated_set = df_train.drop(missing_data[missing_data['Percent'] != 0].index, 1)\n"
     ]
    }
   ],
   "source": [
    "updated_set = df_train.drop(missing_data[missing_data['Percent'] != 0].index, 1)\n",
    "updated_set.info()"
   ]
  },
  {
   "cell_type": "markdown",
   "metadata": {},
   "source": [
    "## Перевіримо, що більше ознак з порожніми значеннями немає"
   ]
  },
  {
   "cell_type": "code",
   "execution_count": 8,
   "metadata": {},
   "outputs": [
    {
     "name": "stdout",
     "output_type": "stream",
     "text": [
      "              Total  Percent\n",
      "Id                0      0.0\n",
      "Fireplaces        0      0.0\n",
      "1stFlrSF          0      0.0\n",
      "2ndFlrSF          0      0.0\n",
      "LowQualFinSF      0      0.0\n",
      "...             ...      ...\n",
      "Foundation        0      0.0\n",
      "BsmtFinSF1        0      0.0\n",
      "BsmtFinSF2        0      0.0\n",
      "BsmtUnfSF         0      0.0\n",
      "SalePrice         0      0.0\n",
      "\n",
      "[62 rows x 2 columns]\n",
      "<class 'pandas.core.frame.DataFrame'>\n",
      "RangeIndex: 1460 entries, 0 to 1459\n",
      "Data columns (total 62 columns):\n",
      " #   Column         Non-Null Count  Dtype \n",
      "---  ------         --------------  ----- \n",
      " 0   Id             1460 non-null   int64 \n",
      " 1   MSSubClass     1460 non-null   int64 \n",
      " 2   MSZoning       1460 non-null   object\n",
      " 3   LotArea        1460 non-null   int64 \n",
      " 4   Street         1460 non-null   object\n",
      " 5   LotShape       1460 non-null   object\n",
      " 6   LandContour    1460 non-null   object\n",
      " 7   Utilities      1460 non-null   object\n",
      " 8   LotConfig      1460 non-null   object\n",
      " 9   LandSlope      1460 non-null   object\n",
      " 10  Neighborhood   1460 non-null   object\n",
      " 11  Condition1     1460 non-null   object\n",
      " 12  Condition2     1460 non-null   object\n",
      " 13  BldgType       1460 non-null   object\n",
      " 14  HouseStyle     1460 non-null   object\n",
      " 15  OverallQual    1460 non-null   int64 \n",
      " 16  OverallCond    1460 non-null   int64 \n",
      " 17  YearBuilt      1460 non-null   int64 \n",
      " 18  YearRemodAdd   1460 non-null   int64 \n",
      " 19  RoofStyle      1460 non-null   object\n",
      " 20  RoofMatl       1460 non-null   object\n",
      " 21  Exterior1st    1460 non-null   object\n",
      " 22  Exterior2nd    1460 non-null   object\n",
      " 23  ExterQual      1460 non-null   object\n",
      " 24  ExterCond      1460 non-null   object\n",
      " 25  Foundation     1460 non-null   object\n",
      " 26  BsmtFinSF1     1460 non-null   int64 \n",
      " 27  BsmtFinSF2     1460 non-null   int64 \n",
      " 28  BsmtUnfSF      1460 non-null   int64 \n",
      " 29  TotalBsmtSF    1460 non-null   int64 \n",
      " 30  Heating        1460 non-null   object\n",
      " 31  HeatingQC      1460 non-null   object\n",
      " 32  CentralAir     1460 non-null   object\n",
      " 33  1stFlrSF       1460 non-null   int64 \n",
      " 34  2ndFlrSF       1460 non-null   int64 \n",
      " 35  LowQualFinSF   1460 non-null   int64 \n",
      " 36  GrLivArea      1460 non-null   int64 \n",
      " 37  BsmtFullBath   1460 non-null   int64 \n",
      " 38  BsmtHalfBath   1460 non-null   int64 \n",
      " 39  FullBath       1460 non-null   int64 \n",
      " 40  HalfBath       1460 non-null   int64 \n",
      " 41  BedroomAbvGr   1460 non-null   int64 \n",
      " 42  KitchenAbvGr   1460 non-null   int64 \n",
      " 43  KitchenQual    1460 non-null   object\n",
      " 44  TotRmsAbvGrd   1460 non-null   int64 \n",
      " 45  Functional     1460 non-null   object\n",
      " 46  Fireplaces     1460 non-null   int64 \n",
      " 47  GarageCars     1460 non-null   int64 \n",
      " 48  GarageArea     1460 non-null   int64 \n",
      " 49  PavedDrive     1460 non-null   object\n",
      " 50  WoodDeckSF     1460 non-null   int64 \n",
      " 51  OpenPorchSF    1460 non-null   int64 \n",
      " 52  EnclosedPorch  1460 non-null   int64 \n",
      " 53  3SsnPorch      1460 non-null   int64 \n",
      " 54  ScreenPorch    1460 non-null   int64 \n",
      " 55  PoolArea       1460 non-null   int64 \n",
      " 56  MiscVal        1460 non-null   int64 \n",
      " 57  MoSold         1460 non-null   int64 \n",
      " 58  YrSold         1460 non-null   int64 \n",
      " 59  SaleType       1460 non-null   object\n",
      " 60  SaleCondition  1460 non-null   object\n",
      " 61  SalePrice      1460 non-null   int64 \n",
      "dtypes: int64(35), object(27)\n",
      "memory usage: 707.3+ KB\n"
     ]
    },
    {
     "name": "stderr",
     "output_type": "stream",
     "text": [
      "C:\\Users\\mishy\\AppData\\Local\\Temp\\ipykernel_3340\\3345054399.py:5: FutureWarning: In a future version of pandas all arguments of DataFrame.drop except for the argument 'labels' will be keyword-only.\n",
      "  updated_set = updated_set.drop(missing_data[missing_data['Percent'] > 0].index, 1)\n"
     ]
    }
   ],
   "source": [
    "total = updated_set.isnull().sum().sort_values(ascending=False)\n",
    "percent = (updated_set.isnull().sum() / updated_set.isnull().count()).sort_values(ascending=False)\n",
    "missing_data = pd.concat([total, percent], axis=1, keys=['Total', 'Percent'])\n",
    "print(missing_data)\n",
    "updated_set = updated_set.drop(missing_data[missing_data['Percent'] > 0].index, 1)\n",
    "updated_set.info()"
   ]
  },
  {
   "cell_type": "markdown",
   "metadata": {},
   "source": [
    "## Будуємо матрицю кореляцій"
   ]
  },
  {
   "cell_type": "code",
   "execution_count": 9,
   "metadata": {},
   "outputs": [
    {
     "name": "stdout",
     "output_type": "stream",
     "text": [
      "Id              -0.021917\n",
      "MSSubClass      -0.084284\n",
      "OverallCond     -0.077856\n",
      "BsmtFinSF2      -0.011378\n",
      "LowQualFinSF    -0.025606\n",
      "BsmtHalfBath    -0.016844\n",
      "KitchenAbvGr    -0.135907\n",
      "EnclosedPorch   -0.128578\n",
      "3SsnPorch        0.044584\n",
      "PoolArea         0.092404\n",
      "MiscVal         -0.021190\n",
      "MoSold           0.046432\n",
      "YrSold          -0.028923\n",
      "Name: SalePrice, dtype: float64\n"
     ]
    }
   ],
   "source": [
    "corr_matrix = updated_set.corr() # calc correlation\n",
    "target_corr_features = corr_matrix[target_feature][corr_matrix[target_feature] < 0.1]\n",
    "print(target_corr_features)"
   ]
  },
  {
   "cell_type": "code",
   "execution_count": 10,
   "metadata": {},
   "outputs": [
    {
     "data": {
      "text/plain": [
       "<AxesSubplot:>"
      ]
     },
     "execution_count": 10,
     "metadata": {},
     "output_type": "execute_result"
    },
    {
     "data": {
      "image/png": "[encoded data removed]",
      "text/plain": [
       "<Figure size 640x480 with 2 Axes>"
      ]
     },
     "metadata": {},
     "output_type": "display_data"
    }
   ],
   "source": [
    "sns.heatmap(corr_matrix)"
   ]
  },
  {
   "cell_type": "markdown",
   "metadata": {},
   "source": [
    "## Видаляємо ознаки з низькою кореляцією"
   ]
  },
  {
   "cell_type": "code",
   "execution_count": 11,
   "metadata": {},
   "outputs": [
    {
     "name": "stdout",
     "output_type": "stream",
     "text": [
      "<class 'pandas.core.frame.DataFrame'>\n",
      "RangeIndex: 1460 entries, 0 to 1459\n",
      "Data columns (total 49 columns):\n",
      " #   Column         Non-Null Count  Dtype \n",
      "---  ------         --------------  ----- \n",
      " 0   MSZoning       1460 non-null   object\n",
      " 1   LotArea        1460 non-null   int64 \n",
      " 2   Street         1460 non-null   object\n",
      " 3   LotShape       1460 non-null   object\n",
      " 4   LandContour    1460 non-null   object\n",
      " 5   Utilities      1460 non-null   object\n",
      " 6   LotConfig      1460 non-null   object\n",
      " 7   LandSlope      1460 non-null   object\n",
      " 8   Neighborhood   1460 non-null   object\n",
      " 9   Condition1     1460 non-null   object\n",
      " 10  Condition2     1460 non-null   object\n",
      " 11  BldgType       1460 non-null   object\n",
      " 12  HouseStyle     1460 non-null   object\n",
      " 13  OverallQual    1460 non-null   int64 \n",
      " 14  YearBuilt      1460 non-null   int64 \n",
      " 15  YearRemodAdd   1460 non-null   int64 \n",
      " 16  RoofStyle      1460 non-null   object\n",
      " 17  RoofMatl       1460 non-null   object\n",
      " 18  Exterior1st    1460 non-null   object\n",
      " 19  Exterior2nd    1460 non-null   object\n",
      " 20  ExterQual      1460 non-null   object\n",
      " 21  ExterCond      1460 non-null   object\n",
      " 22  Foundation     1460 non-null   object\n",
      " 23  BsmtFinSF1     1460 non-null   int64 \n",
      " 24  BsmtUnfSF      1460 non-null   int64 \n",
      " 25  TotalBsmtSF    1460 non-null   int64 \n",
      " 26  Heating        1460 non-null   object\n",
      " 27  HeatingQC      1460 non-null   object\n",
      " 28  CentralAir     1460 non-null   object\n",
      " 29  1stFlrSF       1460 non-null   int64 \n",
      " 30  2ndFlrSF       1460 non-null   int64 \n",
      " 31  GrLivArea      1460 non-null   int64 \n",
      " 32  BsmtFullBath   1460 non-null   int64 \n",
      " 33  FullBath       1460 non-null   int64 \n",
      " 34  HalfBath       1460 non-null   int64 \n",
      " 35  BedroomAbvGr   1460 non-null   int64 \n",
      " 36  KitchenQual    1460 non-null   object\n",
      " 37  TotRmsAbvGrd   1460 non-null   int64 \n",
      " 38  Functional     1460 non-null   object\n",
      " 39  Fireplaces     1460 non-null   int64 \n",
      " 40  GarageCars     1460 non-null   int64 \n",
      " 41  GarageArea     1460 non-null   int64 \n",
      " 42  PavedDrive     1460 non-null   object\n",
      " 43  WoodDeckSF     1460 non-null   int64 \n",
      " 44  OpenPorchSF    1460 non-null   int64 \n",
      " 45  ScreenPorch    1460 non-null   int64 \n",
      " 46  SaleType       1460 non-null   object\n",
      " 47  SaleCondition  1460 non-null   object\n",
      " 48  SalePrice      1460 non-null   int64 \n",
      "dtypes: int64(22), object(27)\n",
      "memory usage: 559.0+ KB\n"
     ]
    },
    {
     "name": "stderr",
     "output_type": "stream",
     "text": [
      "C:\\Users\\mishy\\AppData\\Local\\Temp\\ipykernel_3340\\2595213126.py:2: FutureWarning: In a future version of pandas all arguments of DataFrame.drop except for the argument 'labels' will be keyword-only.\n",
      "  result = updated_set.drop(keys, 1)\n"
     ]
    }
   ],
   "source": [
    "keys = corr_matrix[target_feature][corr_matrix[target_feature] <= 0.1][corr_matrix[target_feature] != 1.0].keys()\n",
    "result = updated_set.drop(keys, 1)\n",
    "result.info()"
   ]
  },
  {
   "cell_type": "code",
   "execution_count": 12,
   "metadata": {},
   "outputs": [
    {
     "data": {
      "text/plain": [
       "<AxesSubplot:>"
      ]
     },
     "execution_count": 12,
     "metadata": {},
     "output_type": "execute_result"
    },
    {
     "data": {
      "image/png": "[encoded data removed]",
      "text/plain": [
       "<Figure size 640x480 with 2 Axes>"
      ]
     },
     "metadata": {},
     "output_type": "display_data"
    }
   ],
   "source": [
    "sns.heatmap(result.corr())"
   ]
  },
  {
   "cell_type": "markdown",
   "metadata": {},
   "source": [
    "## Розбираємось з ознаками з нечисловими значеннями"
   ]
  },
  {
   "cell_type": "code",
   "execution_count": 13,
   "metadata": {},
   "outputs": [],
   "source": [
    "types = result.dtypes\n",
    "no_numerical_keys = []\n",
    "for key in result.keys():\n",
    "    if types[key] == np.object_:\n",
    "        no_numerical_keys.append(key) # get names of no numerical features"
   ]
  },
  {
   "cell_type": "code",
   "execution_count": 14,
   "metadata": {},
   "outputs": [
    {
     "name": "stdout",
     "output_type": "stream",
     "text": [
      "<class 'pandas.core.frame.DataFrame'>\n",
      "RangeIndex: 1460 entries, 0 to 1459\n",
      "Data columns (total 22 columns):\n",
      " #   Column        Non-Null Count  Dtype\n",
      "---  ------        --------------  -----\n",
      " 0   LotArea       1460 non-null   int64\n",
      " 1   OverallQual   1460 non-null   int64\n",
      " 2   YearBuilt     1460 non-null   int64\n",
      " 3   YearRemodAdd  1460 non-null   int64\n",
      " 4   BsmtFinSF1    1460 non-null   int64\n",
      " 5   BsmtUnfSF     1460 non-null   int64\n",
      " 6   TotalBsmtSF   1460 non-null   int64\n",
      " 7   1stFlrSF      1460 non-null   int64\n",
      " 8   2ndFlrSF      1460 non-null   int64\n",
      " 9   GrLivArea     1460 non-null   int64\n",
      " 10  BsmtFullBath  1460 non-null   int64\n",
      " 11  FullBath      1460 non-null   int64\n",
      " 12  HalfBath      1460 non-null   int64\n",
      " 13  BedroomAbvGr  1460 non-null   int64\n",
      " 14  TotRmsAbvGrd  1460 non-null   int64\n",
      " 15  Fireplaces    1460 non-null   int64\n",
      " 16  GarageCars    1460 non-null   int64\n",
      " 17  GarageArea    1460 non-null   int64\n",
      " 18  WoodDeckSF    1460 non-null   int64\n",
      " 19  OpenPorchSF   1460 non-null   int64\n",
      " 20  ScreenPorch   1460 non-null   int64\n",
      " 21  SalePrice     1460 non-null   int64\n",
      "dtypes: int64(22)\n",
      "memory usage: 251.1 KB\n"
     ]
    },
    {
     "name": "stderr",
     "output_type": "stream",
     "text": [
      "C:\\Users\\mishy\\AppData\\Local\\Temp\\ipykernel_3340\\3958528197.py:1: FutureWarning: In a future version of pandas all arguments of DataFrame.drop except for the argument 'labels' will be keyword-only.\n",
      "  no_text = result.drop(no_numerical_keys, 1)\n"
     ]
    }
   ],
   "source": [
    "no_text = result.drop(no_numerical_keys, 1)\n",
    "no_text.info()"
   ]
  },
  {
   "cell_type": "code",
   "execution_count": 15,
   "metadata": {},
   "outputs": [],
   "source": [
    "norm_set = no_text #.drop(exclude_feature, 1)\n",
    "feature_keys = norm_set.keys()\n",
    "return_norm_set = (norm_set[feature_keys[:]][:] - norm_set[feature_keys[:]].mean()) / norm_set[feature_keys[:]].max()"
   ]
  },
  {
   "cell_type": "code",
   "execution_count": 16,
   "metadata": {
    "scrolled": true
   },
   "outputs": [
    {
     "data": {
      "text/html": [
       "<div>\n",
       "<style scoped>\n",
       "    .dataframe tbody tr th:only-of-type {\n",
       "        vertical-align: middle;\n",
       "    }\n",
       "\n",
       "    .dataframe tbody tr th {\n",
       "        vertical-align: top;\n",
       "    }\n",
       "\n",
       "    .dataframe thead th {\n",
       "        text-align: right;\n",
       "    }\n",
       "</style>\n",
       "<table border=\"1\" class=\"dataframe\">\n",
       "  <thead>\n",
       "    <tr style=\"text-align: right;\">\n",
       "      <th></th>\n",
       "      <th>LotArea</th>\n",
       "      <th>OverallQual</th>\n",
       "      <th>YearBuilt</th>\n",
       "      <th>YearRemodAdd</th>\n",
       "      <th>BsmtFinSF1</th>\n",
       "      <th>BsmtUnfSF</th>\n",
       "      <th>TotalBsmtSF</th>\n",
       "      <th>1stFlrSF</th>\n",
       "      <th>2ndFlrSF</th>\n",
       "      <th>GrLivArea</th>\n",
       "      <th>...</th>\n",
       "      <th>HalfBath</th>\n",
       "      <th>BedroomAbvGr</th>\n",
       "      <th>TotRmsAbvGrd</th>\n",
       "      <th>Fireplaces</th>\n",
       "      <th>GarageCars</th>\n",
       "      <th>GarageArea</th>\n",
       "      <th>WoodDeckSF</th>\n",
       "      <th>OpenPorchSF</th>\n",
       "      <th>ScreenPorch</th>\n",
       "      <th>SalePrice</th>\n",
       "    </tr>\n",
       "  </thead>\n",
       "  <tbody>\n",
       "    <tr>\n",
       "      <th>0</th>\n",
       "      <td>8450</td>\n",
       "      <td>7</td>\n",
       "      <td>2003</td>\n",
       "      <td>2003</td>\n",
       "      <td>706</td>\n",
       "      <td>150</td>\n",
       "      <td>856</td>\n",
       "      <td>856</td>\n",
       "      <td>854</td>\n",
       "      <td>1710</td>\n",
       "      <td>...</td>\n",
       "      <td>1</td>\n",
       "      <td>3</td>\n",
       "      <td>8</td>\n",
       "      <td>0</td>\n",
       "      <td>2</td>\n",
       "      <td>548</td>\n",
       "      <td>0</td>\n",
       "      <td>61</td>\n",
       "      <td>0</td>\n",
       "      <td>208500</td>\n",
       "    </tr>\n",
       "    <tr>\n",
       "      <th>1</th>\n",
       "      <td>9600</td>\n",
       "      <td>6</td>\n",
       "      <td>1976</td>\n",
       "      <td>1976</td>\n",
       "      <td>978</td>\n",
       "      <td>284</td>\n",
       "      <td>1262</td>\n",
       "      <td>1262</td>\n",
       "      <td>0</td>\n",
       "      <td>1262</td>\n",
       "      <td>...</td>\n",
       "      <td>0</td>\n",
       "      <td>3</td>\n",
       "      <td>6</td>\n",
       "      <td>1</td>\n",
       "      <td>2</td>\n",
       "      <td>460</td>\n",
       "      <td>298</td>\n",
       "      <td>0</td>\n",
       "      <td>0</td>\n",
       "      <td>181500</td>\n",
       "    </tr>\n",
       "    <tr>\n",
       "      <th>2</th>\n",
       "      <td>11250</td>\n",
       "      <td>7</td>\n",
       "      <td>2001</td>\n",
       "      <td>2002</td>\n",
       "      <td>486</td>\n",
       "      <td>434</td>\n",
       "      <td>920</td>\n",
       "      <td>920</td>\n",
       "      <td>866</td>\n",
       "      <td>1786</td>\n",
       "      <td>...</td>\n",
       "      <td>1</td>\n",
       "      <td>3</td>\n",
       "      <td>6</td>\n",
       "      <td>1</td>\n",
       "      <td>2</td>\n",
       "      <td>608</td>\n",
       "      <td>0</td>\n",
       "      <td>42</td>\n",
       "      <td>0</td>\n",
       "      <td>223500</td>\n",
       "    </tr>\n",
       "    <tr>\n",
       "      <th>3</th>\n",
       "      <td>9550</td>\n",
       "      <td>7</td>\n",
       "      <td>1915</td>\n",
       "      <td>1970</td>\n",
       "      <td>216</td>\n",
       "      <td>540</td>\n",
       "      <td>756</td>\n",
       "      <td>961</td>\n",
       "      <td>756</td>\n",
       "      <td>1717</td>\n",
       "      <td>...</td>\n",
       "      <td>0</td>\n",
       "      <td>3</td>\n",
       "      <td>7</td>\n",
       "      <td>1</td>\n",
       "      <td>3</td>\n",
       "      <td>642</td>\n",
       "      <td>0</td>\n",
       "      <td>35</td>\n",
       "      <td>0</td>\n",
       "      <td>140000</td>\n",
       "    </tr>\n",
       "    <tr>\n",
       "      <th>4</th>\n",
       "      <td>14260</td>\n",
       "      <td>8</td>\n",
       "      <td>2000</td>\n",
       "      <td>2000</td>\n",
       "      <td>655</td>\n",
       "      <td>490</td>\n",
       "      <td>1145</td>\n",
       "      <td>1145</td>\n",
       "      <td>1053</td>\n",
       "      <td>2198</td>\n",
       "      <td>...</td>\n",
       "      <td>1</td>\n",
       "      <td>4</td>\n",
       "      <td>9</td>\n",
       "      <td>1</td>\n",
       "      <td>3</td>\n",
       "      <td>836</td>\n",
       "      <td>192</td>\n",
       "      <td>84</td>\n",
       "      <td>0</td>\n",
       "      <td>250000</td>\n",
       "    </tr>\n",
       "  </tbody>\n",
       "</table>\n",
       "<p>5 rows × 22 columns</p>\n",
       "</div>"
      ],
      "text/plain": [
       "   LotArea  OverallQual  YearBuilt  YearRemodAdd  BsmtFinSF1  BsmtUnfSF  \\\n",
       "0     8450            7       2003          2003         706        150   \n",
       "1     9600            6       1976          1976         978        284   \n",
       "2    11250            7       2001          2002         486        434   \n",
       "3     9550            7       1915          1970         216        540   \n",
       "4    14260            8       2000          2000         655        490   \n",
       "\n",
       "   TotalBsmtSF  1stFlrSF  2ndFlrSF  GrLivArea  ...  HalfBath  BedroomAbvGr  \\\n",
       "0          856       856       854       1710  ...         1             3   \n",
       "1         1262      1262         0       1262  ...         0             3   \n",
       "2          920       920       866       1786  ...         1             3   \n",
       "3          756       961       756       1717  ...         0             3   \n",
       "4         1145      1145      1053       2198  ...         1             4   \n",
       "\n",
       "   TotRmsAbvGrd  Fireplaces  GarageCars  GarageArea  WoodDeckSF  OpenPorchSF  \\\n",
       "0             8           0           2         548           0           61   \n",
       "1             6           1           2         460         298            0   \n",
       "2             6           1           2         608           0           42   \n",
       "3             7           1           3         642           0           35   \n",
       "4             9           1           3         836         192           84   \n",
       "\n",
       "   ScreenPorch  SalePrice  \n",
       "0            0     208500  \n",
       "1            0     181500  \n",
       "2            0     223500  \n",
       "3            0     140000  \n",
       "4            0     250000  \n",
       "\n",
       "[5 rows x 22 columns]"
      ]
     },
     "execution_count": 16,
     "metadata": {},
     "output_type": "execute_result"
    }
   ],
   "source": [
    "norm_set.head()"
   ]
  },
  {
   "cell_type": "code",
   "execution_count": 17,
   "metadata": {},
   "outputs": [
    {
     "data": {
      "text/html": [
       "<div>\n",
       "<style scoped>\n",
       "    .dataframe tbody tr th:only-of-type {\n",
       "        vertical-align: middle;\n",
       "    }\n",
       "\n",
       "    .dataframe tbody tr th {\n",
       "        vertical-align: top;\n",
       "    }\n",
       "\n",
       "    .dataframe thead th {\n",
       "        text-align: right;\n",
       "    }\n",
       "</style>\n",
       "<table border=\"1\" class=\"dataframe\">\n",
       "  <thead>\n",
       "    <tr style=\"text-align: right;\">\n",
       "      <th></th>\n",
       "      <th>LotArea</th>\n",
       "      <th>OverallQual</th>\n",
       "      <th>YearBuilt</th>\n",
       "      <th>YearRemodAdd</th>\n",
       "      <th>BsmtFinSF1</th>\n",
       "      <th>BsmtUnfSF</th>\n",
       "      <th>TotalBsmtSF</th>\n",
       "      <th>1stFlrSF</th>\n",
       "      <th>2ndFlrSF</th>\n",
       "      <th>GrLivArea</th>\n",
       "      <th>...</th>\n",
       "      <th>HalfBath</th>\n",
       "      <th>BedroomAbvGr</th>\n",
       "      <th>TotRmsAbvGrd</th>\n",
       "      <th>Fireplaces</th>\n",
       "      <th>GarageCars</th>\n",
       "      <th>GarageArea</th>\n",
       "      <th>WoodDeckSF</th>\n",
       "      <th>OpenPorchSF</th>\n",
       "      <th>ScreenPorch</th>\n",
       "      <th>SalePrice</th>\n",
       "    </tr>\n",
       "  </thead>\n",
       "  <tbody>\n",
       "    <tr>\n",
       "      <th>0</th>\n",
       "      <td>-0.009602</td>\n",
       "      <td>0.090068</td>\n",
       "      <td>0.015787</td>\n",
       "      <td>0.009022</td>\n",
       "      <td>0.046485</td>\n",
       "      <td>-0.178613</td>\n",
       "      <td>-0.032967</td>\n",
       "      <td>-0.065351</td>\n",
       "      <td>0.245524</td>\n",
       "      <td>0.034480</td>\n",
       "      <td>...</td>\n",
       "      <td>0.308562</td>\n",
       "      <td>0.016695</td>\n",
       "      <td>0.105871</td>\n",
       "      <td>-0.204338</td>\n",
       "      <td>0.058219</td>\n",
       "      <td>0.052905</td>\n",
       "      <td>-0.109970</td>\n",
       "      <td>0.026215</td>\n",
       "      <td>-0.031377</td>\n",
       "      <td>0.036528</td>\n",
       "    </tr>\n",
       "    <tr>\n",
       "      <th>1</th>\n",
       "      <td>-0.004259</td>\n",
       "      <td>-0.009932</td>\n",
       "      <td>0.002354</td>\n",
       "      <td>-0.004411</td>\n",
       "      <td>0.094678</td>\n",
       "      <td>-0.121250</td>\n",
       "      <td>0.033481</td>\n",
       "      <td>0.021179</td>\n",
       "      <td>-0.168035</td>\n",
       "      <td>-0.044924</td>\n",
       "      <td>...</td>\n",
       "      <td>-0.191438</td>\n",
       "      <td>0.016695</td>\n",
       "      <td>-0.036986</td>\n",
       "      <td>0.128995</td>\n",
       "      <td>0.058219</td>\n",
       "      <td>-0.009154</td>\n",
       "      <td>0.237754</td>\n",
       "      <td>-0.085302</td>\n",
       "      <td>-0.031377</td>\n",
       "      <td>0.000767</td>\n",
       "    </tr>\n",
       "    <tr>\n",
       "      <th>2</th>\n",
       "      <td>0.003406</td>\n",
       "      <td>0.090068</td>\n",
       "      <td>0.014792</td>\n",
       "      <td>0.008525</td>\n",
       "      <td>0.007505</td>\n",
       "      <td>-0.057038</td>\n",
       "      <td>-0.022493</td>\n",
       "      <td>-0.051711</td>\n",
       "      <td>0.251335</td>\n",
       "      <td>0.047950</td>\n",
       "      <td>...</td>\n",
       "      <td>0.308562</td>\n",
       "      <td>0.016695</td>\n",
       "      <td>-0.036986</td>\n",
       "      <td>0.128995</td>\n",
       "      <td>0.058219</td>\n",
       "      <td>0.095219</td>\n",
       "      <td>-0.109970</td>\n",
       "      <td>-0.008520</td>\n",
       "      <td>-0.031377</td>\n",
       "      <td>0.056396</td>\n",
       "    </tr>\n",
       "    <tr>\n",
       "      <th>3</th>\n",
       "      <td>-0.004492</td>\n",
       "      <td>0.090068</td>\n",
       "      <td>-0.027994</td>\n",
       "      <td>-0.007396</td>\n",
       "      <td>-0.040333</td>\n",
       "      <td>-0.011661</td>\n",
       "      <td>-0.049334</td>\n",
       "      <td>-0.042972</td>\n",
       "      <td>0.198067</td>\n",
       "      <td>0.035721</td>\n",
       "      <td>...</td>\n",
       "      <td>-0.191438</td>\n",
       "      <td>0.016695</td>\n",
       "      <td>0.034442</td>\n",
       "      <td>0.128995</td>\n",
       "      <td>0.308219</td>\n",
       "      <td>0.119196</td>\n",
       "      <td>-0.109970</td>\n",
       "      <td>-0.021317</td>\n",
       "      <td>-0.031377</td>\n",
       "      <td>-0.054200</td>\n",
       "    </tr>\n",
       "    <tr>\n",
       "      <th>4</th>\n",
       "      <td>0.017390</td>\n",
       "      <td>0.190068</td>\n",
       "      <td>0.014295</td>\n",
       "      <td>0.007529</td>\n",
       "      <td>0.037449</td>\n",
       "      <td>-0.033065</td>\n",
       "      <td>0.014332</td>\n",
       "      <td>-0.003757</td>\n",
       "      <td>0.341892</td>\n",
       "      <td>0.120974</td>\n",
       "      <td>...</td>\n",
       "      <td>0.308562</td>\n",
       "      <td>0.141695</td>\n",
       "      <td>0.177299</td>\n",
       "      <td>0.128995</td>\n",
       "      <td>0.308219</td>\n",
       "      <td>0.256008</td>\n",
       "      <td>0.114067</td>\n",
       "      <td>0.068263</td>\n",
       "      <td>-0.031377</td>\n",
       "      <td>0.091495</td>\n",
       "    </tr>\n",
       "  </tbody>\n",
       "</table>\n",
       "<p>5 rows × 22 columns</p>\n",
       "</div>"
      ],
      "text/plain": [
       "    LotArea  OverallQual  YearBuilt  YearRemodAdd  BsmtFinSF1  BsmtUnfSF  \\\n",
       "0 -0.009602     0.090068   0.015787      0.009022    0.046485  -0.178613   \n",
       "1 -0.004259    -0.009932   0.002354     -0.004411    0.094678  -0.121250   \n",
       "2  0.003406     0.090068   0.014792      0.008525    0.007505  -0.057038   \n",
       "3 -0.004492     0.090068  -0.027994     -0.007396   -0.040333  -0.011661   \n",
       "4  0.017390     0.190068   0.014295      0.007529    0.037449  -0.033065   \n",
       "\n",
       "   TotalBsmtSF  1stFlrSF  2ndFlrSF  GrLivArea  ...  HalfBath  BedroomAbvGr  \\\n",
       "0    -0.032967 -0.065351  0.245524   0.034480  ...  0.308562      0.016695   \n",
       "1     0.033481  0.021179 -0.168035  -0.044924  ... -0.191438      0.016695   \n",
       "2    -0.022493 -0.051711  0.251335   0.047950  ...  0.308562      0.016695   \n",
       "3    -0.049334 -0.042972  0.198067   0.035721  ... -0.191438      0.016695   \n",
       "4     0.014332 -0.003757  0.341892   0.120974  ...  0.308562      0.141695   \n",
       "\n",
       "   TotRmsAbvGrd  Fireplaces  GarageCars  GarageArea  WoodDeckSF  OpenPorchSF  \\\n",
       "0      0.105871   -0.204338    0.058219    0.052905   -0.109970     0.026215   \n",
       "1     -0.036986    0.128995    0.058219   -0.009154    0.237754    -0.085302   \n",
       "2     -0.036986    0.128995    0.058219    0.095219   -0.109970    -0.008520   \n",
       "3      0.034442    0.128995    0.308219    0.119196   -0.109970    -0.021317   \n",
       "4      0.177299    0.128995    0.308219    0.256008    0.114067     0.068263   \n",
       "\n",
       "   ScreenPorch  SalePrice  \n",
       "0    -0.031377   0.036528  \n",
       "1    -0.031377   0.000767  \n",
       "2    -0.031377   0.056396  \n",
       "3    -0.031377  -0.054200  \n",
       "4    -0.031377   0.091495  \n",
       "\n",
       "[5 rows x 22 columns]"
      ]
     },
     "execution_count": 17,
     "metadata": {},
     "output_type": "execute_result"
    }
   ],
   "source": [
    "return_norm_set.head()"
   ]
  },
  {
   "cell_type": "markdown",
   "metadata": {},
   "source": [
    "## Виділяємо частину набору даних для валідації"
   ]
  },
  {
   "cell_type": "code",
   "execution_count": 18,
   "metadata": {},
   "outputs": [
    {
     "name": "stderr",
     "output_type": "stream",
     "text": [
      "C:\\Users\\mishy\\AppData\\Local\\Temp\\ipykernel_3340\\3020421452.py:1: FutureWarning: In a future version of pandas all arguments of DataFrame.drop except for the argument 'labels' will be keyword-only.\n",
      "  X_train = return_norm_set[:return_norm_set.shape[0]-290].drop(target_feature, 1)\n",
      "C:\\Users\\mishy\\AppData\\Local\\Temp\\ipykernel_3340\\3020421452.py:2: FutureWarning: In a future version of pandas all arguments of DataFrame.drop except for the argument 'labels' will be keyword-only.\n",
      "  X_test = return_norm_set[return_norm_set.shape[0]-290:].drop(target_feature, 1)\n"
     ]
    }
   ],
   "source": [
    "X_train = return_norm_set[:return_norm_set.shape[0]-290].drop(target_feature, 1)\n",
    "X_test = return_norm_set[return_norm_set.shape[0]-290:].drop(target_feature, 1)\n",
    "y_train = return_norm_set.SalePrice[:return_norm_set.shape[0]-290]\n",
    "y_test = return_norm_set.SalePrice[return_norm_set.shape[0]-290:]"
   ]
  },
  {
   "cell_type": "markdown",
   "metadata": {},
   "source": [
    "## Ділимо тренувальний сет"
   ]
  },
  {
   "cell_type": "code",
   "execution_count": 19,
   "metadata": {},
   "outputs": [],
   "source": [
    "train_set, test_set, target_train, target_test = train_test_split(X_train.values, y_train.values, test_size=0.2)"
   ]
  },
  {
   "cell_type": "code",
   "execution_count": 20,
   "metadata": {
    "scrolled": false
   },
   "outputs": [
    {
     "data": {
      "text/plain": [
       "(936, 21)"
      ]
     },
     "execution_count": 20,
     "metadata": {},
     "output_type": "execute_result"
    }
   ],
   "source": [
    "train_set.shape"
   ]
  },
  {
   "cell_type": "code",
   "execution_count": 21,
   "metadata": {},
   "outputs": [
    {
     "data": {
      "text/plain": [
       "(936,)"
      ]
     },
     "execution_count": 21,
     "metadata": {},
     "output_type": "execute_result"
    }
   ],
   "source": [
    "target_train.shape"
   ]
  },
  {
   "cell_type": "markdown",
   "metadata": {},
   "source": [
    "## Створюємо та навчаємо лінійну модель"
   ]
  },
  {
   "cell_type": "code",
   "execution_count": 22,
   "metadata": {},
   "outputs": [
    {
     "name": "stderr",
     "output_type": "stream",
     "text": [
      "D:\\anaconda3\\lib\\site-packages\\sklearn\\linear_model\\_base.py:148: FutureWarning: 'normalize' was deprecated in version 1.0 and will be removed in 1.2. Please leave the normalize parameter to its default value to silence this warning. The default behavior of this estimator is to not do any normalization. If normalization is needed please use sklearn.preprocessing.StandardScaler instead.\n",
      "  warnings.warn(\n"
     ]
    },
    {
     "data": {
      "text/plain": [
       "LinearRegression(normalize=False)"
      ]
     },
     "execution_count": 22,
     "metadata": {},
     "output_type": "execute_result"
    }
   ],
   "source": [
    "skm = lm.LinearRegression(fit_intercept=True, normalize=False)\n",
    "skm.fit(train_set, target_train)"
   ]
  },
  {
   "cell_type": "markdown",
   "metadata": {},
   "source": [
    "## Перевіряємо результат"
   ]
  },
  {
   "cell_type": "code",
   "execution_count": 23,
   "metadata": {},
   "outputs": [
    {
     "data": {
      "text/plain": [
       "0.8305388214747684"
      ]
     },
     "execution_count": 23,
     "metadata": {},
     "output_type": "execute_result"
    }
   ],
   "source": [
    "from sklearn.metrics import r2_score\n",
    "r2_score(target_train, skm.predict(train_set))"
   ]
  },
  {
   "cell_type": "code",
   "execution_count": 24,
   "metadata": {},
   "outputs": [
    {
     "data": {
      "text/plain": [
       "0.5929463147188533"
      ]
     },
     "execution_count": 24,
     "metadata": {},
     "output_type": "execute_result"
    }
   ],
   "source": [
    "r2_score(y_test.values, skm.predict(X_test.values))"
   ]
  },
  {
   "cell_type": "markdown",
   "metadata": {},
   "source": []
  },
  {
   "cell_type": "code",
   "execution_count": null,
   "metadata": {},
   "outputs": [],
   "source": []
  },
  {
   "cell_type": "markdown",
   "metadata": {},
   "source": [
    "## Пробуємо інші регресійні моделі"
   ]
  },
  {
   "cell_type": "code",
   "execution_count": 25,
   "metadata": {},
   "outputs": [],
   "source": [
    "from sklearn.linear_model import LassoCV, LassoLarsCV, Ridge, RidgeCV\n",
    "from sklearn.model_selection import cross_val_score\n",
    "\n",
    "def rmse_cv(model):\n",
    "    rmse= np.sqrt(-cross_val_score(model, X_train, y_train, scoring=\"neg_mean_squared_error\", cv = 5))\n",
    "    return(rmse)"
   ]
  },
  {
   "cell_type": "code",
   "execution_count": 26,
   "metadata": {},
   "outputs": [],
   "source": [
    "model_lasso = LassoCV(alphas = [100, 10, 1, 0.1, 0.001, 0.0002], cv = 5).fit(X_train, y_train)"
   ]
  },
  {
   "cell_type": "code",
   "execution_count": 33,
   "metadata": {},
   "outputs": [
    {
     "data": {
      "text/plain": [
       "0.6126950094340924"
      ]
     },
     "execution_count": 33,
     "metadata": {},
     "output_type": "execute_result"
    }
   ],
   "source": [
    "preds = pd.DataFrame({\"preds\":model_lasso.predict(X_test), \"true\":y_test})\n",
    "r2_score(preds.preds, preds.true)"
   ]
  },
  {
   "cell_type": "code",
   "execution_count": 29,
   "metadata": {},
   "outputs": [],
   "source": [
    "model_ridge = Ridge()"
   ]
  },
  {
   "cell_type": "code",
   "execution_count": 30,
   "metadata": {},
   "outputs": [],
   "source": [
    "alphas = [0.001,0.05, 0.1, 0.3, 1, 3, 5, 10]\n",
    "cv_ridge = [rmse_cv(Ridge(alpha = alpha)).mean() \n",
    "            for alpha in alphas]"
   ]
  },
  {
   "cell_type": "code",
   "execution_count": 31,
   "metadata": {},
   "outputs": [],
   "source": [
    "cv_ridge = pd.Series(cv_ridge, index = alphas)"
   ]
  },
  {
   "cell_type": "code",
   "execution_count": 34,
   "metadata": {},
   "outputs": [
    {
     "data": {
      "text/plain": [
       "0.6098364950750278"
      ]
     },
     "execution_count": 34,
     "metadata": {},
     "output_type": "execute_result"
    }
   ],
   "source": [
    "model_ridge.fit(X_train, y_train)\n",
    "r2_score(model_ridge.predict(X_test), y_test)"
   ]
  },
  {
   "cell_type": "code",
   "execution_count": null,
   "metadata": {},
   "outputs": [],
   "source": []
  }
 ],
 "metadata": {
  "kernelspec": {
   "display_name": "Python 3 (ipykernel)",
   "language": "python",
   "name": "python3"
  },
  "language_info": {
   "codemirror_mode": {
    "name": "ipython",
    "version": 3
   },
   "file_extension": ".py",
   "mimetype": "text/x-python",
   "name": "python",
   "nbconvert_exporter": "python",
   "pygments_lexer": "ipython3",
   "version": "3.9.13"
  }
 },
 "nbformat": 4,
 "nbformat_minor": 2
}
