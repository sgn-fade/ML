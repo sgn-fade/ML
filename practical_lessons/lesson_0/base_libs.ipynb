{
 "cells": [
  {
   "metadata": {},
   "cell_type": "markdown",
   "source": "# Numpy",
   "id": "3a38f434dae77539"
  },
  {
   "metadata": {
    "ExecuteTime": {
     "end_time": "2025-02-21T11:48:47.347046Z",
     "start_time": "2025-02-21T11:48:47.343310Z"
    }
   },
   "cell_type": "code",
   "source": [
    "aaa = [1, 0, \"ahdh\", -1.591, [1, 3, \"bbb\"], None, 9]\n",
    "aaa.append(\"New Obj\")\n",
    "aaa.extend([4, 5, 6])"
   ],
   "id": "7c8a6559a7e63d1c",
   "outputs": [],
   "execution_count": 1
  },
  {
   "metadata": {
    "ExecuteTime": {
     "end_time": "2025-02-21T11:51:24.979418Z",
     "start_time": "2025-02-21T11:51:24.975543Z"
    }
   },
   "cell_type": "code",
   "source": "import numpy as np",
   "id": "5822b8997ed8c67",
   "outputs": [],
   "execution_count": 2
  },
  {
   "metadata": {
    "ExecuteTime": {
     "end_time": "2025-02-21T11:53:05.564399Z",
     "start_time": "2025-02-21T11:53:05.556622Z"
    }
   },
   "cell_type": "code",
   "source": [
    "np_a = np.array([0, 1, 3, 4, 5, 6, 7])\n",
    "np_b = np.array([0, -1, 0, 1 , 0, 1, -1])\n",
    "np_a"
   ],
   "id": "501daef801f54b82",
   "outputs": [
    {
     "data": {
      "text/plain": [
       "array([0, 1, 3, 4, 5, 6, 7])"
      ]
     },
     "execution_count": 4,
     "metadata": {},
     "output_type": "execute_result"
    }
   ],
   "execution_count": 4
  },
  {
   "metadata": {
    "ExecuteTime": {
     "end_time": "2025-02-21T11:53:48.825441Z",
     "start_time": "2025-02-21T11:53:48.818934Z"
    }
   },
   "cell_type": "code",
   "source": "np_a * np_b",
   "id": "2d70abe28331acd",
   "outputs": [
    {
     "data": {
      "text/plain": [
       "array([ 0, -1,  0,  4,  0,  6, -7])"
      ]
     },
     "execution_count": 5,
     "metadata": {},
     "output_type": "execute_result"
    }
   ],
   "execution_count": 5
  },
  {
   "metadata": {
    "ExecuteTime": {
     "end_time": "2025-02-21T11:53:58.696839Z",
     "start_time": "2025-02-21T11:53:58.691741Z"
    }
   },
   "cell_type": "code",
   "source": "np_a.dot(np_b)",
   "id": "3ad198841925d5a4",
   "outputs": [
    {
     "data": {
      "text/plain": [
       "np.int64(2)"
      ]
     },
     "execution_count": 6,
     "metadata": {},
     "output_type": "execute_result"
    }
   ],
   "execution_count": 6
  },
  {
   "metadata": {
    "ExecuteTime": {
     "end_time": "2025-02-21T11:54:37.945809Z",
     "start_time": "2025-02-21T11:54:37.940549Z"
    }
   },
   "cell_type": "code",
   "source": "np_a * 100",
   "id": "7738ee8d7bfdb9fe",
   "outputs": [
    {
     "data": {
      "text/plain": [
       "array([  0, 100, 300, 400, 500, 600, 700])"
      ]
     },
     "execution_count": 7,
     "metadata": {},
     "output_type": "execute_result"
    }
   ],
   "execution_count": 7
  },
  {
   "metadata": {
    "ExecuteTime": {
     "end_time": "2025-02-21T11:54:44.945970Z",
     "start_time": "2025-02-21T11:54:44.940516Z"
    }
   },
   "cell_type": "code",
   "source": "100 * np_a",
   "id": "5d5f13acaaba3abb",
   "outputs": [
    {
     "data": {
      "text/plain": [
       "array([  0, 100, 300, 400, 500, 600, 700])"
      ]
     },
     "execution_count": 8,
     "metadata": {},
     "output_type": "execute_result"
    }
   ],
   "execution_count": 8
  },
  {
   "metadata": {
    "ExecuteTime": {
     "end_time": "2025-02-21T11:54:53.253444Z",
     "start_time": "2025-02-21T11:54:53.248424Z"
    }
   },
   "cell_type": "code",
   "source": "np_a ** 3",
   "id": "2b40f56b44922544",
   "outputs": [
    {
     "data": {
      "text/plain": [
       "array([  0,   1,  27,  64, 125, 216, 343])"
      ]
     },
     "execution_count": 9,
     "metadata": {},
     "output_type": "execute_result"
    }
   ],
   "execution_count": 9
  },
  {
   "metadata": {
    "ExecuteTime": {
     "end_time": "2025-02-21T11:54:58.980935Z",
     "start_time": "2025-02-21T11:54:58.975407Z"
    }
   },
   "cell_type": "code",
   "source": "3 ** np_a",
   "id": "6d32c0d137cc8374",
   "outputs": [
    {
     "data": {
      "text/plain": [
       "array([   1,    3,   27,   81,  243,  729, 2187])"
      ]
     },
     "execution_count": 10,
     "metadata": {},
     "output_type": "execute_result"
    }
   ],
   "execution_count": 10
  },
  {
   "metadata": {
    "ExecuteTime": {
     "end_time": "2025-02-21T11:55:17.650092Z",
     "start_time": "2025-02-21T11:55:17.645066Z"
    }
   },
   "cell_type": "code",
   "source": "np_a - np_b ",
   "id": "679552ce704fd94e",
   "outputs": [
    {
     "data": {
      "text/plain": [
       "array([0, 2, 3, 3, 5, 5, 8])"
      ]
     },
     "execution_count": 11,
     "metadata": {},
     "output_type": "execute_result"
    }
   ],
   "execution_count": 11
  },
  {
   "metadata": {
    "ExecuteTime": {
     "end_time": "2025-02-21T11:56:15.308028Z",
     "start_time": "2025-02-21T11:56:15.303232Z"
    }
   },
   "cell_type": "code",
   "source": "np_a.dtype",
   "id": "e0ebb428b6c9be8f",
   "outputs": [
    {
     "data": {
      "text/plain": [
       "dtype('int64')"
      ]
     },
     "execution_count": 12,
     "metadata": {},
     "output_type": "execute_result"
    }
   ],
   "execution_count": 12
  },
  {
   "metadata": {
    "ExecuteTime": {
     "end_time": "2025-02-21T11:56:23.944332Z",
     "start_time": "2025-02-21T11:56:23.939031Z"
    }
   },
   "cell_type": "code",
   "source": "np_a.shape",
   "id": "d20eb99dfdc48439",
   "outputs": [
    {
     "data": {
      "text/plain": [
       "(7,)"
      ]
     },
     "execution_count": 13,
     "metadata": {},
     "output_type": "execute_result"
    }
   ],
   "execution_count": 13
  },
  {
   "metadata": {
    "ExecuteTime": {
     "end_time": "2025-02-21T11:59:55.992617Z",
     "start_time": "2025-02-21T11:59:55.983813Z"
    }
   },
   "cell_type": "code",
   "source": [
    "np_cc = np.array([37, 129, 3444, 4, 5, 6, 7])\n",
    "np_c = np.array(np_cc, dtype=\"float64\")"
   ],
   "id": "234cbb5af87131b3",
   "outputs": [],
   "execution_count": 24
  },
  {
   "metadata": {
    "ExecuteTime": {
     "end_time": "2025-02-21T11:59:56.485883Z",
     "start_time": "2025-02-21T11:59:56.480681Z"
    }
   },
   "cell_type": "code",
   "source": "np_c",
   "id": "eee9ec88fa513ae8",
   "outputs": [
    {
     "data": {
      "text/plain": [
       "array([  37.,  129., 3444.,    4.,    5.,    6.,    7.])"
      ]
     },
     "execution_count": 25,
     "metadata": {},
     "output_type": "execute_result"
    }
   ],
   "execution_count": 25
  },
  {
   "metadata": {},
   "cell_type": "code",
   "outputs": [],
   "execution_count": null,
   "source": "",
   "id": "ed51eac3a31710d5"
  },
  {
   "metadata": {
    "ExecuteTime": {
     "end_time": "2025-02-21T12:01:47.446722Z",
     "start_time": "2025-02-21T12:01:47.442511Z"
    }
   },
   "cell_type": "code",
   "source": [
    "mat_A = np.array([\n",
    "    [0, 1, 0,],\n",
    "    [1, 1, 1,],\n",
    "    [0, 1, 1],\n",
    "])"
   ],
   "id": "1a4d53caa7d8171a",
   "outputs": [],
   "execution_count": 29
  },
  {
   "metadata": {
    "ExecuteTime": {
     "end_time": "2025-02-21T12:01:00.698127Z",
     "start_time": "2025-02-21T12:01:00.691522Z"
    }
   },
   "cell_type": "code",
   "source": "mat_A * 199",
   "id": "78b8463884c0fb21",
   "outputs": [
    {
     "data": {
      "text/plain": [
       "array([[  0, 199,   0],\n",
       "       [199, 199, 199],\n",
       "       [  0, 199, 199]])"
      ]
     },
     "execution_count": 27,
     "metadata": {},
     "output_type": "execute_result"
    }
   ],
   "execution_count": 27
  },
  {
   "metadata": {
    "ExecuteTime": {
     "end_time": "2025-02-21T12:01:49.516932Z",
     "start_time": "2025-02-21T12:01:49.512809Z"
    }
   },
   "cell_type": "code",
   "source": [
    "mat_B = np.array([\n",
    "    [1.0, 31, 0,],\n",
    "    [41.0, -11, 1,],\n",
    "    [0, 0.99, -1],\n",
    "])"
   ],
   "id": "78735b417297f435",
   "outputs": [],
   "execution_count": 30
  },
  {
   "metadata": {
    "ExecuteTime": {
     "end_time": "2025-02-21T12:01:54.989595Z",
     "start_time": "2025-02-21T12:01:54.984149Z"
    }
   },
   "cell_type": "code",
   "source": "mat_A * mat_B",
   "id": "79f82385c3fe43ca",
   "outputs": [
    {
     "data": {
      "text/plain": [
       "array([[  0.  ,  31.  ,   0.  ],\n",
       "       [ 41.  , -11.  ,   1.  ],\n",
       "       [  0.  ,   0.99,  -1.  ]])"
      ]
     },
     "execution_count": 31,
     "metadata": {},
     "output_type": "execute_result"
    }
   ],
   "execution_count": 31
  },
  {
   "metadata": {
    "ExecuteTime": {
     "end_time": "2025-02-21T12:02:15.290155Z",
     "start_time": "2025-02-21T12:02:15.282414Z"
    }
   },
   "cell_type": "code",
   "source": "mat_A.dot(mat_B)",
   "id": "a796f8b3ecc46a12",
   "outputs": [
    {
     "data": {
      "text/plain": [
       "array([[ 41.  , -11.  ,   1.  ],\n",
       "       [ 42.  ,  20.99,   0.  ],\n",
       "       [ 41.  , -10.01,   0.  ]])"
      ]
     },
     "execution_count": 32,
     "metadata": {},
     "output_type": "execute_result"
    }
   ],
   "execution_count": 32
  },
  {
   "metadata": {
    "ExecuteTime": {
     "end_time": "2025-02-21T12:02:28.448088Z",
     "start_time": "2025-02-21T12:02:28.441733Z"
    }
   },
   "cell_type": "code",
   "source": "mat_B.dot(mat_A)",
   "id": "4352f97c8001e3ec",
   "outputs": [
    {
     "data": {
      "text/plain": [
       "array([[ 3.1e+01,  3.2e+01,  3.1e+01],\n",
       "       [-1.1e+01,  3.1e+01, -1.0e+01],\n",
       "       [ 9.9e-01, -1.0e-02, -1.0e-02]])"
      ]
     },
     "execution_count": 33,
     "metadata": {},
     "output_type": "execute_result"
    }
   ],
   "execution_count": 33
  },
  {
   "metadata": {},
   "cell_type": "code",
   "outputs": [],
   "execution_count": null,
   "source": "",
   "id": "f3a8c4059d0219dd"
  },
  {
   "metadata": {},
   "cell_type": "markdown",
   "source": "# Pandas",
   "id": "894f4d2075beefa5"
  },
  {
   "metadata": {},
   "cell_type": "markdown",
   "source": "pd.Series pd.DataFrame",
   "id": "f96dc68e6d71e52c"
  },
  {
   "metadata": {
    "ExecuteTime": {
     "end_time": "2025-02-21T12:05:05.708729Z",
     "start_time": "2025-02-21T12:05:05.704856Z"
    }
   },
   "cell_type": "code",
   "source": "import pandas as pd",
   "id": "c16202f0df9f6a73",
   "outputs": [],
   "execution_count": 34
  },
  {
   "metadata": {
    "ExecuteTime": {
     "end_time": "2025-02-21T12:06:09.230089Z",
     "start_time": "2025-02-21T12:06:09.223569Z"
    }
   },
   "cell_type": "code",
   "source": [
    "series = pd.Series([4, 7, -5, 3])\n",
    "series"
   ],
   "id": "acb2dcc1a6d996ab",
   "outputs": [
    {
     "data": {
      "text/plain": [
       "0    4\n",
       "1    7\n",
       "2   -5\n",
       "3    3\n",
       "dtype: int64"
      ]
     },
     "execution_count": 37,
     "metadata": {},
     "output_type": "execute_result"
    }
   ],
   "execution_count": 37
  },
  {
   "metadata": {
    "ExecuteTime": {
     "end_time": "2025-02-21T12:06:45.225401Z",
     "start_time": "2025-02-21T12:06:45.219626Z"
    }
   },
   "cell_type": "code",
   "source": [
    "series = pd.Series([4, 7, -5, 3], name=\"My Numbers\")\n",
    "series"
   ],
   "id": "c1fca8d6eb7d78a9",
   "outputs": [
    {
     "data": {
      "text/plain": [
       "0    4\n",
       "1    7\n",
       "2   -5\n",
       "3    3\n",
       "Name: My Numbers, dtype: int64"
      ]
     },
     "execution_count": 40,
     "metadata": {},
     "output_type": "execute_result"
    }
   ],
   "execution_count": 40
  },
  {
   "metadata": {
    "ExecuteTime": {
     "end_time": "2025-02-21T12:07:29.067659Z",
     "start_time": "2025-02-21T12:07:29.058604Z"
    }
   },
   "cell_type": "code",
   "source": [
    "series = pd.Series([4, 7, -5, 3], name=\"My Numbers\", index=[1, 2, 3, 4])\n",
    "series"
   ],
   "id": "9536f3fc9ee97fd3",
   "outputs": [
    {
     "data": {
      "text/plain": [
       "1    4\n",
       "2    7\n",
       "3   -5\n",
       "4    3\n",
       "Name: My Numbers, dtype: int64"
      ]
     },
     "execution_count": 43,
     "metadata": {},
     "output_type": "execute_result"
    }
   ],
   "execution_count": 43
  },
  {
   "metadata": {
    "ExecuteTime": {
     "end_time": "2025-02-21T12:07:44.989516Z",
     "start_time": "2025-02-21T12:07:44.982970Z"
    }
   },
   "cell_type": "code",
   "source": [
    "series = pd.Series([4, 7, -5, 3], name=\"My Numbers\", index=[\"a\", \"b\", \"c\", \"d\"])\n",
    "series"
   ],
   "id": "8f0772313ded69cf",
   "outputs": [
    {
     "data": {
      "text/plain": [
       "a    4\n",
       "b    7\n",
       "c   -5\n",
       "d    3\n",
       "Name: My Numbers, dtype: int64"
      ]
     },
     "execution_count": 44,
     "metadata": {},
     "output_type": "execute_result"
    }
   ],
   "execution_count": 44
  },
  {
   "metadata": {
    "ExecuteTime": {
     "end_time": "2025-02-21T12:07:50.089108Z",
     "start_time": "2025-02-21T12:07:50.082024Z"
    }
   },
   "cell_type": "code",
   "source": "series[\"b\"]",
   "id": "d4e4b4f889d24c54",
   "outputs": [
    {
     "data": {
      "text/plain": [
       "np.int64(7)"
      ]
     },
     "execution_count": 45,
     "metadata": {},
     "output_type": "execute_result"
    }
   ],
   "execution_count": 45
  },
  {
   "metadata": {
    "ExecuteTime": {
     "end_time": "2025-02-21T12:08:35.664866Z",
     "start_time": "2025-02-21T12:08:35.657461Z"
    }
   },
   "cell_type": "code",
   "source": [
    "sdata = {'Ohio': 35000, 'Texas': 71000, 'Oregon': 16000, 'Utah': 5000}\n",
    "obj3 = pd.Series(sdata, name=\"USA States\")\n",
    "obj3"
   ],
   "id": "8f0ade9669546008",
   "outputs": [
    {
     "data": {
      "text/plain": [
       "Ohio      35000\n",
       "Texas     71000\n",
       "Oregon    16000\n",
       "Utah       5000\n",
       "Name: USA States, dtype: int64"
      ]
     },
     "execution_count": 46,
     "metadata": {},
     "output_type": "execute_result"
    }
   ],
   "execution_count": 46
  },
  {
   "metadata": {
    "ExecuteTime": {
     "end_time": "2025-02-21T12:08:57.772321Z",
     "start_time": "2025-02-21T12:08:57.765866Z"
    }
   },
   "cell_type": "code",
   "source": "obj3 * 3",
   "id": "364cac17f546decf",
   "outputs": [
    {
     "data": {
      "text/plain": [
       "Ohio      105000\n",
       "Texas     213000\n",
       "Oregon     48000\n",
       "Utah       15000\n",
       "Name: USA States, dtype: int64"
      ]
     },
     "execution_count": 47,
     "metadata": {},
     "output_type": "execute_result"
    }
   ],
   "execution_count": 47
  },
  {
   "metadata": {},
   "cell_type": "code",
   "outputs": [],
   "execution_count": null,
   "source": "",
   "id": "2717fcefdb21aa3a"
  },
  {
   "metadata": {
    "ExecuteTime": {
     "end_time": "2025-02-21T12:09:16.309598Z",
     "start_time": "2025-02-21T12:09:16.299700Z"
    }
   },
   "cell_type": "code",
   "source": [
    "data = {\n",
    "    'state': ['Ohio', 'Ohio', 'Ohio', 'Nevada', 'Nevada', 'Nevada', 'UTA'],\n",
    "    'year': [2000, 2001, 2002, None, 2002, 2003, 2004],\n",
    "    'pop': [1.5, None, 3.6, 2.4, 2.9, 3.2, None]\n",
    "}\n",
    "frame = pd.DataFrame(data)\n",
    "frame"
   ],
   "id": "27044b2fba61d8c6",
   "outputs": [
    {
     "data": {
      "text/plain": [
       "    state    year  pop\n",
       "0    Ohio  2000.0  1.5\n",
       "1    Ohio  2001.0  NaN\n",
       "2    Ohio  2002.0  3.6\n",
       "3  Nevada     NaN  2.4\n",
       "4  Nevada  2002.0  2.9\n",
       "5  Nevada  2003.0  3.2\n",
       "6     UTA  2004.0  NaN"
      ],
      "text/html": [
       "<div>\n",
       "<style scoped>\n",
       "    .dataframe tbody tr th:only-of-type {\n",
       "        vertical-align: middle;\n",
       "    }\n",
       "\n",
       "    .dataframe tbody tr th {\n",
       "        vertical-align: top;\n",
       "    }\n",
       "\n",
       "    .dataframe thead th {\n",
       "        text-align: right;\n",
       "    }\n",
       "</style>\n",
       "<table border=\"1\" class=\"dataframe\">\n",
       "  <thead>\n",
       "    <tr style=\"text-align: right;\">\n",
       "      <th></th>\n",
       "      <th>state</th>\n",
       "      <th>year</th>\n",
       "      <th>pop</th>\n",
       "    </tr>\n",
       "  </thead>\n",
       "  <tbody>\n",
       "    <tr>\n",
       "      <th>0</th>\n",
       "      <td>Ohio</td>\n",
       "      <td>2000.0</td>\n",
       "      <td>1.5</td>\n",
       "    </tr>\n",
       "    <tr>\n",
       "      <th>1</th>\n",
       "      <td>Ohio</td>\n",
       "      <td>2001.0</td>\n",
       "      <td>NaN</td>\n",
       "    </tr>\n",
       "    <tr>\n",
       "      <th>2</th>\n",
       "      <td>Ohio</td>\n",
       "      <td>2002.0</td>\n",
       "      <td>3.6</td>\n",
       "    </tr>\n",
       "    <tr>\n",
       "      <th>3</th>\n",
       "      <td>Nevada</td>\n",
       "      <td>NaN</td>\n",
       "      <td>2.4</td>\n",
       "    </tr>\n",
       "    <tr>\n",
       "      <th>4</th>\n",
       "      <td>Nevada</td>\n",
       "      <td>2002.0</td>\n",
       "      <td>2.9</td>\n",
       "    </tr>\n",
       "    <tr>\n",
       "      <th>5</th>\n",
       "      <td>Nevada</td>\n",
       "      <td>2003.0</td>\n",
       "      <td>3.2</td>\n",
       "    </tr>\n",
       "    <tr>\n",
       "      <th>6</th>\n",
       "      <td>UTA</td>\n",
       "      <td>2004.0</td>\n",
       "      <td>NaN</td>\n",
       "    </tr>\n",
       "  </tbody>\n",
       "</table>\n",
       "</div>"
      ]
     },
     "execution_count": 48,
     "metadata": {},
     "output_type": "execute_result"
    }
   ],
   "execution_count": 48
  },
  {
   "metadata": {
    "ExecuteTime": {
     "end_time": "2025-02-21T12:10:32.159453Z",
     "start_time": "2025-02-21T12:10:32.153515Z"
    }
   },
   "cell_type": "code",
   "source": "frame[\"pop\"]",
   "id": "9ad8f6de19a56904",
   "outputs": [
    {
     "data": {
      "text/plain": [
       "0    1.5\n",
       "1    NaN\n",
       "2    3.6\n",
       "3    2.4\n",
       "4    2.9\n",
       "5    3.2\n",
       "6    NaN\n",
       "Name: pop, dtype: float64"
      ]
     },
     "execution_count": 52,
     "metadata": {},
     "output_type": "execute_result"
    }
   ],
   "execution_count": 52
  },
  {
   "metadata": {
    "ExecuteTime": {
     "end_time": "2025-02-21T12:10:32.503746Z",
     "start_time": "2025-02-21T12:10:32.498375Z"
    }
   },
   "cell_type": "code",
   "source": "type(frame[\"pop\"])",
   "id": "4e4af589d2584cfd",
   "outputs": [
    {
     "data": {
      "text/plain": [
       "pandas.core.series.Series"
      ]
     },
     "execution_count": 53,
     "metadata": {},
     "output_type": "execute_result"
    }
   ],
   "execution_count": 53
  },
  {
   "metadata": {
    "ExecuteTime": {
     "end_time": "2025-02-21T12:15:59.517439Z",
     "start_time": "2025-02-21T12:15:59.506723Z"
    }
   },
   "cell_type": "code",
   "source": "cl_frame = frame.dropna().copy(deep=True)",
   "id": "95785707fc99f5fa",
   "outputs": [],
   "execution_count": 67
  },
  {
   "metadata": {
    "ExecuteTime": {
     "end_time": "2025-02-21T12:16:00.048462Z",
     "start_time": "2025-02-21T12:16:00.036788Z"
    }
   },
   "cell_type": "code",
   "source": "cl_frame",
   "id": "71da09c9fe13b26a",
   "outputs": [
    {
     "data": {
      "text/plain": [
       "    state    year  pop\n",
       "0    Ohio  2000.0  1.5\n",
       "2    Ohio  2002.0  3.6\n",
       "4  Nevada  2002.0  2.9\n",
       "5  Nevada  2003.0  3.2"
      ],
      "text/html": [
       "<div>\n",
       "<style scoped>\n",
       "    .dataframe tbody tr th:only-of-type {\n",
       "        vertical-align: middle;\n",
       "    }\n",
       "\n",
       "    .dataframe tbody tr th {\n",
       "        vertical-align: top;\n",
       "    }\n",
       "\n",
       "    .dataframe thead th {\n",
       "        text-align: right;\n",
       "    }\n",
       "</style>\n",
       "<table border=\"1\" class=\"dataframe\">\n",
       "  <thead>\n",
       "    <tr style=\"text-align: right;\">\n",
       "      <th></th>\n",
       "      <th>state</th>\n",
       "      <th>year</th>\n",
       "      <th>pop</th>\n",
       "    </tr>\n",
       "  </thead>\n",
       "  <tbody>\n",
       "    <tr>\n",
       "      <th>0</th>\n",
       "      <td>Ohio</td>\n",
       "      <td>2000.0</td>\n",
       "      <td>1.5</td>\n",
       "    </tr>\n",
       "    <tr>\n",
       "      <th>2</th>\n",
       "      <td>Ohio</td>\n",
       "      <td>2002.0</td>\n",
       "      <td>3.6</td>\n",
       "    </tr>\n",
       "    <tr>\n",
       "      <th>4</th>\n",
       "      <td>Nevada</td>\n",
       "      <td>2002.0</td>\n",
       "      <td>2.9</td>\n",
       "    </tr>\n",
       "    <tr>\n",
       "      <th>5</th>\n",
       "      <td>Nevada</td>\n",
       "      <td>2003.0</td>\n",
       "      <td>3.2</td>\n",
       "    </tr>\n",
       "  </tbody>\n",
       "</table>\n",
       "</div>"
      ]
     },
     "execution_count": 68,
     "metadata": {},
     "output_type": "execute_result"
    }
   ],
   "execution_count": 68
  },
  {
   "metadata": {
    "ExecuteTime": {
     "end_time": "2025-02-21T12:16:01.945596Z",
     "start_time": "2025-02-21T12:16:01.941138Z"
    }
   },
   "cell_type": "code",
   "source": [
    "year_per_pop: pd.Series = cl_frame[\"year\"] / cl_frame[\"pop\"]\n",
    "cl_frame[\"year_per_pop\"] = year_per_pop.tolist()"
   ],
   "id": "749b20ac64837bd2",
   "outputs": [],
   "execution_count": 69
  },
  {
   "metadata": {
    "ExecuteTime": {
     "end_time": "2025-02-21T12:16:04.597706Z",
     "start_time": "2025-02-21T12:16:04.588564Z"
    }
   },
   "cell_type": "code",
   "source": "cl_frame",
   "id": "f11431717b44df40",
   "outputs": [
    {
     "data": {
      "text/plain": [
       "    state    year  pop  year_per_pop\n",
       "0    Ohio  2000.0  1.5   1333.333333\n",
       "2    Ohio  2002.0  3.6    556.111111\n",
       "4  Nevada  2002.0  2.9    690.344828\n",
       "5  Nevada  2003.0  3.2    625.937500"
      ],
      "text/html": [
       "<div>\n",
       "<style scoped>\n",
       "    .dataframe tbody tr th:only-of-type {\n",
       "        vertical-align: middle;\n",
       "    }\n",
       "\n",
       "    .dataframe tbody tr th {\n",
       "        vertical-align: top;\n",
       "    }\n",
       "\n",
       "    .dataframe thead th {\n",
       "        text-align: right;\n",
       "    }\n",
       "</style>\n",
       "<table border=\"1\" class=\"dataframe\">\n",
       "  <thead>\n",
       "    <tr style=\"text-align: right;\">\n",
       "      <th></th>\n",
       "      <th>state</th>\n",
       "      <th>year</th>\n",
       "      <th>pop</th>\n",
       "      <th>year_per_pop</th>\n",
       "    </tr>\n",
       "  </thead>\n",
       "  <tbody>\n",
       "    <tr>\n",
       "      <th>0</th>\n",
       "      <td>Ohio</td>\n",
       "      <td>2000.0</td>\n",
       "      <td>1.5</td>\n",
       "      <td>1333.333333</td>\n",
       "    </tr>\n",
       "    <tr>\n",
       "      <th>2</th>\n",
       "      <td>Ohio</td>\n",
       "      <td>2002.0</td>\n",
       "      <td>3.6</td>\n",
       "      <td>556.111111</td>\n",
       "    </tr>\n",
       "    <tr>\n",
       "      <th>4</th>\n",
       "      <td>Nevada</td>\n",
       "      <td>2002.0</td>\n",
       "      <td>2.9</td>\n",
       "      <td>690.344828</td>\n",
       "    </tr>\n",
       "    <tr>\n",
       "      <th>5</th>\n",
       "      <td>Nevada</td>\n",
       "      <td>2003.0</td>\n",
       "      <td>3.2</td>\n",
       "      <td>625.937500</td>\n",
       "    </tr>\n",
       "  </tbody>\n",
       "</table>\n",
       "</div>"
      ]
     },
     "execution_count": 70,
     "metadata": {},
     "output_type": "execute_result"
    }
   ],
   "execution_count": 70
  },
  {
   "metadata": {
    "ExecuteTime": {
     "end_time": "2025-02-21T12:16:05.333557Z",
     "start_time": "2025-02-21T12:16:05.329252Z"
    }
   },
   "cell_type": "code",
   "source": "cl_frame[\"new_col\"] = [1, 3, 4, 5]",
   "id": "b725fbd5c7b2403f",
   "outputs": [],
   "execution_count": 71
  },
  {
   "metadata": {
    "ExecuteTime": {
     "end_time": "2025-02-21T12:16:08.293532Z",
     "start_time": "2025-02-21T12:16:08.283999Z"
    }
   },
   "cell_type": "code",
   "source": "cl_frame",
   "id": "86b67408aa5e42ec",
   "outputs": [
    {
     "data": {
      "text/plain": [
       "    state    year  pop  year_per_pop  new_col\n",
       "0    Ohio  2000.0  1.5   1333.333333        1\n",
       "2    Ohio  2002.0  3.6    556.111111        3\n",
       "4  Nevada  2002.0  2.9    690.344828        4\n",
       "5  Nevada  2003.0  3.2    625.937500        5"
      ],
      "text/html": [
       "<div>\n",
       "<style scoped>\n",
       "    .dataframe tbody tr th:only-of-type {\n",
       "        vertical-align: middle;\n",
       "    }\n",
       "\n",
       "    .dataframe tbody tr th {\n",
       "        vertical-align: top;\n",
       "    }\n",
       "\n",
       "    .dataframe thead th {\n",
       "        text-align: right;\n",
       "    }\n",
       "</style>\n",
       "<table border=\"1\" class=\"dataframe\">\n",
       "  <thead>\n",
       "    <tr style=\"text-align: right;\">\n",
       "      <th></th>\n",
       "      <th>state</th>\n",
       "      <th>year</th>\n",
       "      <th>pop</th>\n",
       "      <th>year_per_pop</th>\n",
       "      <th>new_col</th>\n",
       "    </tr>\n",
       "  </thead>\n",
       "  <tbody>\n",
       "    <tr>\n",
       "      <th>0</th>\n",
       "      <td>Ohio</td>\n",
       "      <td>2000.0</td>\n",
       "      <td>1.5</td>\n",
       "      <td>1333.333333</td>\n",
       "      <td>1</td>\n",
       "    </tr>\n",
       "    <tr>\n",
       "      <th>2</th>\n",
       "      <td>Ohio</td>\n",
       "      <td>2002.0</td>\n",
       "      <td>3.6</td>\n",
       "      <td>556.111111</td>\n",
       "      <td>3</td>\n",
       "    </tr>\n",
       "    <tr>\n",
       "      <th>4</th>\n",
       "      <td>Nevada</td>\n",
       "      <td>2002.0</td>\n",
       "      <td>2.9</td>\n",
       "      <td>690.344828</td>\n",
       "      <td>4</td>\n",
       "    </tr>\n",
       "    <tr>\n",
       "      <th>5</th>\n",
       "      <td>Nevada</td>\n",
       "      <td>2003.0</td>\n",
       "      <td>3.2</td>\n",
       "      <td>625.937500</td>\n",
       "      <td>5</td>\n",
       "    </tr>\n",
       "  </tbody>\n",
       "</table>\n",
       "</div>"
      ]
     },
     "execution_count": 72,
     "metadata": {},
     "output_type": "execute_result"
    }
   ],
   "execution_count": 72
  },
  {
   "metadata": {
    "ExecuteTime": {
     "end_time": "2025-02-21T12:17:22.158087Z",
     "start_time": "2025-02-21T12:17:22.147149Z"
    }
   },
   "cell_type": "code",
   "source": "cl_frame[[\"year\", \"pop\", \"year_per_pop\"]].corr()",
   "id": "685d9f37b694acc3",
   "outputs": [
    {
     "data": {
      "text/plain": [
       "                  year       pop  year_per_pop\n",
       "year          1.000000  0.870572     -0.914956\n",
       "pop           0.870572  1.000000     -0.986145\n",
       "year_per_pop -0.914956 -0.986145      1.000000"
      ],
      "text/html": [
       "<div>\n",
       "<style scoped>\n",
       "    .dataframe tbody tr th:only-of-type {\n",
       "        vertical-align: middle;\n",
       "    }\n",
       "\n",
       "    .dataframe tbody tr th {\n",
       "        vertical-align: top;\n",
       "    }\n",
       "\n",
       "    .dataframe thead th {\n",
       "        text-align: right;\n",
       "    }\n",
       "</style>\n",
       "<table border=\"1\" class=\"dataframe\">\n",
       "  <thead>\n",
       "    <tr style=\"text-align: right;\">\n",
       "      <th></th>\n",
       "      <th>year</th>\n",
       "      <th>pop</th>\n",
       "      <th>year_per_pop</th>\n",
       "    </tr>\n",
       "  </thead>\n",
       "  <tbody>\n",
       "    <tr>\n",
       "      <th>year</th>\n",
       "      <td>1.000000</td>\n",
       "      <td>0.870572</td>\n",
       "      <td>-0.914956</td>\n",
       "    </tr>\n",
       "    <tr>\n",
       "      <th>pop</th>\n",
       "      <td>0.870572</td>\n",
       "      <td>1.000000</td>\n",
       "      <td>-0.986145</td>\n",
       "    </tr>\n",
       "    <tr>\n",
       "      <th>year_per_pop</th>\n",
       "      <td>-0.914956</td>\n",
       "      <td>-0.986145</td>\n",
       "      <td>1.000000</td>\n",
       "    </tr>\n",
       "  </tbody>\n",
       "</table>\n",
       "</div>"
      ]
     },
     "execution_count": 73,
     "metadata": {},
     "output_type": "execute_result"
    }
   ],
   "execution_count": 73
  },
  {
   "metadata": {},
   "cell_type": "code",
   "outputs": [],
   "execution_count": null,
   "source": "",
   "id": "99b4ca24ed5dc144"
  },
  {
   "metadata": {
    "ExecuteTime": {
     "end_time": "2025-02-21T12:21:40.765438Z",
     "start_time": "2025-02-21T12:21:40.757746Z"
    }
   },
   "cell_type": "code",
   "source": "df_titanic = pd.read_csv(\"test.csv\")",
   "id": "cef540d9d1233aeb",
   "outputs": [],
   "execution_count": 77
  },
  {
   "metadata": {
    "ExecuteTime": {
     "end_time": "2025-02-21T12:21:43.759134Z",
     "start_time": "2025-02-21T12:21:43.747683Z"
    }
   },
   "cell_type": "code",
   "source": "df_titanic",
   "id": "9426dc36ad8c722e",
   "outputs": [
    {
     "data": {
      "text/plain": [
       "     PassengerId  Pclass                                          Name  \\\n",
       "0            892       3                              Kelly, Mr. James   \n",
       "1            893       3              Wilkes, Mrs. James (Ellen Needs)   \n",
       "2            894       2                     Myles, Mr. Thomas Francis   \n",
       "3            895       3                              Wirz, Mr. Albert   \n",
       "4            896       3  Hirvonen, Mrs. Alexander (Helga E Lindqvist)   \n",
       "..           ...     ...                                           ...   \n",
       "413         1305       3                            Spector, Mr. Woolf   \n",
       "414         1306       1                  Oliva y Ocana, Dona. Fermina   \n",
       "415         1307       3                  Saether, Mr. Simon Sivertsen   \n",
       "416         1308       3                           Ware, Mr. Frederick   \n",
       "417         1309       3                      Peter, Master. Michael J   \n",
       "\n",
       "        Sex   Age  SibSp  Parch              Ticket      Fare Cabin Embarked  \n",
       "0      male  34.5      0      0              330911    7.8292   NaN        Q  \n",
       "1    female  47.0      1      0              363272    7.0000   NaN        S  \n",
       "2      male  62.0      0      0              240276    9.6875   NaN        Q  \n",
       "3      male  27.0      0      0              315154    8.6625   NaN        S  \n",
       "4    female  22.0      1      1             3101298   12.2875   NaN        S  \n",
       "..      ...   ...    ...    ...                 ...       ...   ...      ...  \n",
       "413    male   NaN      0      0           A.5. 3236    8.0500   NaN        S  \n",
       "414  female  39.0      0      0            PC 17758  108.9000  C105        C  \n",
       "415    male  38.5      0      0  SOTON/O.Q. 3101262    7.2500   NaN        S  \n",
       "416    male   NaN      0      0              359309    8.0500   NaN        S  \n",
       "417    male   NaN      1      1                2668   22.3583   NaN        C  \n",
       "\n",
       "[418 rows x 11 columns]"
      ],
      "text/html": [
       "<div>\n",
       "<style scoped>\n",
       "    .dataframe tbody tr th:only-of-type {\n",
       "        vertical-align: middle;\n",
       "    }\n",
       "\n",
       "    .dataframe tbody tr th {\n",
       "        vertical-align: top;\n",
       "    }\n",
       "\n",
       "    .dataframe thead th {\n",
       "        text-align: right;\n",
       "    }\n",
       "</style>\n",
       "<table border=\"1\" class=\"dataframe\">\n",
       "  <thead>\n",
       "    <tr style=\"text-align: right;\">\n",
       "      <th></th>\n",
       "      <th>PassengerId</th>\n",
       "      <th>Pclass</th>\n",
       "      <th>Name</th>\n",
       "      <th>Sex</th>\n",
       "      <th>Age</th>\n",
       "      <th>SibSp</th>\n",
       "      <th>Parch</th>\n",
       "      <th>Ticket</th>\n",
       "      <th>Fare</th>\n",
       "      <th>Cabin</th>\n",
       "      <th>Embarked</th>\n",
       "    </tr>\n",
       "  </thead>\n",
       "  <tbody>\n",
       "    <tr>\n",
       "      <th>0</th>\n",
       "      <td>892</td>\n",
       "      <td>3</td>\n",
       "      <td>Kelly, Mr. James</td>\n",
       "      <td>male</td>\n",
       "      <td>34.5</td>\n",
       "      <td>0</td>\n",
       "      <td>0</td>\n",
       "      <td>330911</td>\n",
       "      <td>7.8292</td>\n",
       "      <td>NaN</td>\n",
       "      <td>Q</td>\n",
       "    </tr>\n",
       "    <tr>\n",
       "      <th>1</th>\n",
       "      <td>893</td>\n",
       "      <td>3</td>\n",
       "      <td>Wilkes, Mrs. James (Ellen Needs)</td>\n",
       "      <td>female</td>\n",
       "      <td>47.0</td>\n",
       "      <td>1</td>\n",
       "      <td>0</td>\n",
       "      <td>363272</td>\n",
       "      <td>7.0000</td>\n",
       "      <td>NaN</td>\n",
       "      <td>S</td>\n",
       "    </tr>\n",
       "    <tr>\n",
       "      <th>2</th>\n",
       "      <td>894</td>\n",
       "      <td>2</td>\n",
       "      <td>Myles, Mr. Thomas Francis</td>\n",
       "      <td>male</td>\n",
       "      <td>62.0</td>\n",
       "      <td>0</td>\n",
       "      <td>0</td>\n",
       "      <td>240276</td>\n",
       "      <td>9.6875</td>\n",
       "      <td>NaN</td>\n",
       "      <td>Q</td>\n",
       "    </tr>\n",
       "    <tr>\n",
       "      <th>3</th>\n",
       "      <td>895</td>\n",
       "      <td>3</td>\n",
       "      <td>Wirz, Mr. Albert</td>\n",
       "      <td>male</td>\n",
       "      <td>27.0</td>\n",
       "      <td>0</td>\n",
       "      <td>0</td>\n",
       "      <td>315154</td>\n",
       "      <td>8.6625</td>\n",
       "      <td>NaN</td>\n",
       "      <td>S</td>\n",
       "    </tr>\n",
       "    <tr>\n",
       "      <th>4</th>\n",
       "      <td>896</td>\n",
       "      <td>3</td>\n",
       "      <td>Hirvonen, Mrs. Alexander (Helga E Lindqvist)</td>\n",
       "      <td>female</td>\n",
       "      <td>22.0</td>\n",
       "      <td>1</td>\n",
       "      <td>1</td>\n",
       "      <td>3101298</td>\n",
       "      <td>12.2875</td>\n",
       "      <td>NaN</td>\n",
       "      <td>S</td>\n",
       "    </tr>\n",
       "    <tr>\n",
       "      <th>...</th>\n",
       "      <td>...</td>\n",
       "      <td>...</td>\n",
       "      <td>...</td>\n",
       "      <td>...</td>\n",
       "      <td>...</td>\n",
       "      <td>...</td>\n",
       "      <td>...</td>\n",
       "      <td>...</td>\n",
       "      <td>...</td>\n",
       "      <td>...</td>\n",
       "      <td>...</td>\n",
       "    </tr>\n",
       "    <tr>\n",
       "      <th>413</th>\n",
       "      <td>1305</td>\n",
       "      <td>3</td>\n",
       "      <td>Spector, Mr. Woolf</td>\n",
       "      <td>male</td>\n",
       "      <td>NaN</td>\n",
       "      <td>0</td>\n",
       "      <td>0</td>\n",
       "      <td>A.5. 3236</td>\n",
       "      <td>8.0500</td>\n",
       "      <td>NaN</td>\n",
       "      <td>S</td>\n",
       "    </tr>\n",
       "    <tr>\n",
       "      <th>414</th>\n",
       "      <td>1306</td>\n",
       "      <td>1</td>\n",
       "      <td>Oliva y Ocana, Dona. Fermina</td>\n",
       "      <td>female</td>\n",
       "      <td>39.0</td>\n",
       "      <td>0</td>\n",
       "      <td>0</td>\n",
       "      <td>PC 17758</td>\n",
       "      <td>108.9000</td>\n",
       "      <td>C105</td>\n",
       "      <td>C</td>\n",
       "    </tr>\n",
       "    <tr>\n",
       "      <th>415</th>\n",
       "      <td>1307</td>\n",
       "      <td>3</td>\n",
       "      <td>Saether, Mr. Simon Sivertsen</td>\n",
       "      <td>male</td>\n",
       "      <td>38.5</td>\n",
       "      <td>0</td>\n",
       "      <td>0</td>\n",
       "      <td>SOTON/O.Q. 3101262</td>\n",
       "      <td>7.2500</td>\n",
       "      <td>NaN</td>\n",
       "      <td>S</td>\n",
       "    </tr>\n",
       "    <tr>\n",
       "      <th>416</th>\n",
       "      <td>1308</td>\n",
       "      <td>3</td>\n",
       "      <td>Ware, Mr. Frederick</td>\n",
       "      <td>male</td>\n",
       "      <td>NaN</td>\n",
       "      <td>0</td>\n",
       "      <td>0</td>\n",
       "      <td>359309</td>\n",
       "      <td>8.0500</td>\n",
       "      <td>NaN</td>\n",
       "      <td>S</td>\n",
       "    </tr>\n",
       "    <tr>\n",
       "      <th>417</th>\n",
       "      <td>1309</td>\n",
       "      <td>3</td>\n",
       "      <td>Peter, Master. Michael J</td>\n",
       "      <td>male</td>\n",
       "      <td>NaN</td>\n",
       "      <td>1</td>\n",
       "      <td>1</td>\n",
       "      <td>2668</td>\n",
       "      <td>22.3583</td>\n",
       "      <td>NaN</td>\n",
       "      <td>C</td>\n",
       "    </tr>\n",
       "  </tbody>\n",
       "</table>\n",
       "<p>418 rows × 11 columns</p>\n",
       "</div>"
      ]
     },
     "execution_count": 78,
     "metadata": {},
     "output_type": "execute_result"
    }
   ],
   "execution_count": 78
  },
  {
   "metadata": {},
   "cell_type": "markdown",
   "source": "# Matplotlib + Seaborn",
   "id": "d7d1cc444f5b8350"
  },
  {
   "metadata": {
    "ExecuteTime": {
     "end_time": "2025-02-21T12:21:47.582343Z",
     "start_time": "2025-02-21T12:21:47.578834Z"
    }
   },
   "cell_type": "code",
   "source": "import matplotlib.pyplot as plt",
   "id": "972567496a2a43db",
   "outputs": [],
   "execution_count": 79
  },
  {
   "metadata": {
    "ExecuteTime": {
     "end_time": "2025-02-21T12:21:52.215760Z",
     "start_time": "2025-02-21T12:21:51.954589Z"
    }
   },
   "cell_type": "code",
   "source": "df_titanic[\"Age\"].plot(kind=\"hist\")",
   "id": "728fc389aa1947c2",
   "outputs": [
    {
     "data": {
      "text/plain": [
       "<Axes: ylabel='Frequency'>"
      ]
     },
     "execution_count": 80,
     "metadata": {},
     "output_type": "execute_result"
    },
    {
     "data": {
      "text/plain": [
       "<Figure size 640x480 with 1 Axes>"
      ],
      "image/png": "[encoded data removed]"
     },
     "metadata": {},
     "output_type": "display_data"
    }
   ],
   "execution_count": 80
  },
  {
   "metadata": {
    "ExecuteTime": {
     "end_time": "2025-02-21T12:22:25.423854Z",
     "start_time": "2025-02-21T12:22:25.275072Z"
    }
   },
   "cell_type": "code",
   "source": "df_titanic.plot(kind=\"scatter\", x=\"Age\", y=\"Fare\")",
   "id": "20b4e44653b6242f",
   "outputs": [
    {
     "data": {
      "text/plain": [
       "<Axes: xlabel='Age', ylabel='Fare'>"
      ]
     },
     "execution_count": 81,
     "metadata": {},
     "output_type": "execute_result"
    },
    {
     "data": {
      "text/plain": [
       "<Figure size 640x480 with 1 Axes>"
      ],
      "image/png": "[encoded data removed]"
     },
     "metadata": {},
     "output_type": "display_data"
    }
   ],
   "execution_count": 81
  },
  {
   "metadata": {
    "ExecuteTime": {
     "end_time": "2025-02-21T12:23:00.142901Z",
     "start_time": "2025-02-21T12:23:00.138371Z"
    }
   },
   "cell_type": "code",
   "source": "set(df_titanic[\"Sex\"])",
   "id": "a3395b110f8157a8",
   "outputs": [
    {
     "data": {
      "text/plain": [
       "{'female', 'male'}"
      ]
     },
     "execution_count": 83,
     "metadata": {},
     "output_type": "execute_result"
    }
   ],
   "execution_count": 83
  },
  {
   "metadata": {
    "ExecuteTime": {
     "end_time": "2025-02-21T12:23:51.874014Z",
     "start_time": "2025-02-21T12:23:51.869432Z"
    }
   },
   "cell_type": "code",
   "source": "df_titanic[\"Sex_Num\"] = [0 if val == \"male\" else 1 for val in list(df_titanic[\"Sex\"])]",
   "id": "a308a52bda3b87ad",
   "outputs": [],
   "execution_count": 84
  },
  {
   "metadata": {
    "ExecuteTime": {
     "end_time": "2025-02-21T12:24:04.797843Z",
     "start_time": "2025-02-21T12:24:04.644774Z"
    }
   },
   "cell_type": "code",
   "source": "df_titanic.plot(kind=\"scatter\", x=\"Age\", y=\"Sex_Num\")",
   "id": "629f901e9c42861c",
   "outputs": [
    {
     "data": {
      "text/plain": [
       "<Axes: xlabel='Age', ylabel='Sex_Num'>"
      ]
     },
     "execution_count": 85,
     "metadata": {},
     "output_type": "execute_result"
    },
    {
     "data": {
      "text/plain": [
       "<Figure size 640x480 with 1 Axes>"
      ],
      "image/png": "[encoded data removed]"
     },
     "metadata": {},
     "output_type": "display_data"
    }
   ],
   "execution_count": 85
  },
  {
   "metadata": {
    "ExecuteTime": {
     "end_time": "2025-02-21T12:24:56.016235Z",
     "start_time": "2025-02-21T12:24:55.883243Z"
    }
   },
   "cell_type": "code",
   "source": "df_titanic.plot(kind=\"scatter\", x=\"Fare\", y=\"Sex_Num\")",
   "id": "5920cfb153950e51",
   "outputs": [
    {
     "data": {
      "text/plain": [
       "<Axes: xlabel='Fare', ylabel='Sex_Num'>"
      ]
     },
     "execution_count": 86,
     "metadata": {},
     "output_type": "execute_result"
    },
    {
     "data": {
      "text/plain": [
       "<Figure size 640x480 with 1 Axes>"
      ],
      "image/png": "[encoded data removed]"
     },
     "metadata": {},
     "output_type": "display_data"
    }
   ],
   "execution_count": 86
  },
  {
   "metadata": {
    "ExecuteTime": {
     "end_time": "2025-02-21T12:26:18.870948Z",
     "start_time": "2025-02-21T12:26:18.769391Z"
    }
   },
   "cell_type": "code",
   "source": "df_titanic[[\"Age\", \"Fare\", \"Parch\"]].plot(kind='box')",
   "id": "e2bbb45fd89fcf6d",
   "outputs": [
    {
     "data": {
      "text/plain": [
       "<Axes: >"
      ]
     },
     "execution_count": 88,
     "metadata": {},
     "output_type": "execute_result"
    },
    {
     "data": {
      "text/plain": [
       "<Figure size 640x480 with 1 Axes>"
      ],
      "image/png": "[encoded data removed]"
     },
     "metadata": {},
     "output_type": "display_data"
    }
   ],
   "execution_count": 88
  },
  {
   "metadata": {
    "ExecuteTime": {
     "end_time": "2025-02-21T12:27:30.891210Z",
     "start_time": "2025-02-21T12:27:30.887017Z"
    }
   },
   "cell_type": "code",
   "source": "import seaborn as sns",
   "id": "a8b125ea66b3f3c7",
   "outputs": [],
   "execution_count": 89
  },
  {
   "metadata": {
    "ExecuteTime": {
     "end_time": "2025-02-21T12:27:39.648642Z",
     "start_time": "2025-02-21T12:27:39.385321Z"
    }
   },
   "cell_type": "code",
   "source": [
    "sns.heatmap(\n",
    "    df_titanic[[\"Pclass\", \"Age\", \"SibSp\", \"Fare\", \"Sex_Num\"]].corr(), \n",
    "    annot=True, cmap='coolwarm',\n",
    ")\n",
    "plt.show()"
   ],
   "id": "3dde0c55b8b91b80",
   "outputs": [
    {
     "data": {
      "text/plain": [
       "<Figure size 640x480 with 2 Axes>"
      ],
      "image/png": "[encoded data removed]"
     },
     "metadata": {},
     "output_type": "display_data"
    }
   ],
   "execution_count": 90
  },
  {
   "metadata": {},
   "cell_type": "code",
   "outputs": [],
   "execution_count": null,
   "source": "",
   "id": "2ca5fc88b044f471"
  },
  {
   "metadata": {},
   "cell_type": "code",
   "outputs": [],
   "execution_count": null,
   "source": "",
   "id": "a0382a655e93f7ef"
  }
 ],
 "metadata": {
  "kernelspec": {
   "display_name": "Python 3",
   "language": "python",
   "name": "python3"
  },
  "language_info": {
   "codemirror_mode": {
    "name": "ipython",
    "version": 2
   },
   "file_extension": ".py",
   "mimetype": "text/x-python",
   "name": "python",
   "nbconvert_exporter": "python",
   "pygments_lexer": "ipython2",
   "version": "2.7.6"
  }
 },
 "nbformat": 4,
 "nbformat_minor": 5
}
