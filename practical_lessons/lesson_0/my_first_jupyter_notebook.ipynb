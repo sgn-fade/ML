{
 "cells": [
  {
   "metadata": {},
   "cell_type": "markdown",
   "source": "# Numpy",
   "id": "50f55fe470c6cacd"
  },
  {
   "metadata": {
    "ExecuteTime": {
     "end_time": "2025-02-17T08:43:37.562131Z",
     "start_time": "2025-02-17T08:43:37.556734Z"
    }
   },
   "cell_type": "code",
   "source": "vec_list_a = [1, 2, 3]",
   "id": "1ade6b784328f2f1",
   "outputs": [],
   "execution_count": 17
  },
  {
   "metadata": {
    "ExecuteTime": {
     "end_time": "2025-02-17T08:43:38.044616Z",
     "start_time": "2025-02-17T08:43:38.040852Z"
    }
   },
   "cell_type": "code",
   "source": [
    "mat_list_a =[\n",
    "    [1, 2],\n",
    "    [3, 4],\n",
    "]"
   ],
   "id": "24283e3c63bf5cbf",
   "outputs": [],
   "execution_count": 18
  },
  {
   "metadata": {
    "ExecuteTime": {
     "end_time": "2025-02-17T08:44:01.246446Z",
     "start_time": "2025-02-17T08:44:01.241086Z"
    }
   },
   "cell_type": "code",
   "source": "len(vec_list_a)",
   "id": "cadd1baf95f63ddf",
   "outputs": [
    {
     "data": {
      "text/plain": [
       "3"
      ]
     },
     "execution_count": 21,
     "metadata": {},
     "output_type": "execute_result"
    }
   ],
   "execution_count": 21
  },
  {
   "metadata": {
    "ExecuteTime": {
     "end_time": "2025-02-17T08:44:09.941097Z",
     "start_time": "2025-02-17T08:44:09.935807Z"
    }
   },
   "cell_type": "code",
   "source": "len(mat_list_a)",
   "id": "43882a50e045b4e0",
   "outputs": [
    {
     "data": {
      "text/plain": [
       "2"
      ]
     },
     "execution_count": 22,
     "metadata": {},
     "output_type": "execute_result"
    }
   ],
   "execution_count": 22
  },
  {
   "metadata": {
    "ExecuteTime": {
     "end_time": "2025-02-17T08:44:21.541943Z",
     "start_time": "2025-02-17T08:44:21.535522Z"
    }
   },
   "cell_type": "code",
   "source": "len(mat_list_a[0])",
   "id": "9d7969ac12a41924",
   "outputs": [
    {
     "data": {
      "text/plain": [
       "2"
      ]
     },
     "execution_count": 23,
     "metadata": {},
     "output_type": "execute_result"
    }
   ],
   "execution_count": 23
  },
  {
   "metadata": {},
   "cell_type": "code",
   "outputs": [],
   "execution_count": null,
   "source": "",
   "id": "c4dbf8cde97ccb2"
  },
  {
   "metadata": {},
   "cell_type": "code",
   "outputs": [],
   "execution_count": null,
   "source": "",
   "id": "d2dd4adf44dbddb2"
  },
  {
   "metadata": {},
   "cell_type": "code",
   "outputs": [],
   "execution_count": null,
   "source": "",
   "id": "b7484b2ed48dd72"
  },
  {
   "metadata": {
    "ExecuteTime": {
     "end_time": "2025-02-17T08:39:02.266427Z",
     "start_time": "2025-02-17T08:39:01.378629Z"
    }
   },
   "cell_type": "code",
   "source": "import numpy as np",
   "id": "818c900199070588",
   "outputs": [],
   "execution_count": 2
  },
  {
   "metadata": {
    "ExecuteTime": {
     "end_time": "2025-02-17T08:40:00.364140Z",
     "start_time": "2025-02-17T08:40:00.360783Z"
    }
   },
   "cell_type": "code",
   "source": "vec_a = np.array(vec_a)",
   "id": "22219ba1e3754dbe",
   "outputs": [],
   "execution_count": 4
  },
  {
   "metadata": {
    "ExecuteTime": {
     "end_time": "2025-02-17T08:40:08.853669Z",
     "start_time": "2025-02-17T08:40:08.844359Z"
    }
   },
   "cell_type": "code",
   "source": "vec_a",
   "id": "61cb48ba5b064737",
   "outputs": [
    {
     "data": {
      "text/plain": [
       "array([1, 2, 3])"
      ]
     },
     "execution_count": 5,
     "metadata": {},
     "output_type": "execute_result"
    }
   ],
   "execution_count": 5
  },
  {
   "metadata": {
    "ExecuteTime": {
     "end_time": "2025-02-17T08:41:29.939683Z",
     "start_time": "2025-02-17T08:41:29.936017Z"
    }
   },
   "cell_type": "code",
   "source": "mat_a = np.array(mat_a)",
   "id": "7643f2be44bd9482",
   "outputs": [],
   "execution_count": 9
  },
  {
   "metadata": {
    "ExecuteTime": {
     "end_time": "2025-02-17T08:41:32.508709Z",
     "start_time": "2025-02-17T08:41:32.503989Z"
    }
   },
   "cell_type": "code",
   "source": "mat_a",
   "id": "5d5aeb1f1a3ceecf",
   "outputs": [
    {
     "data": {
      "text/plain": [
       "array([[1, 2],\n",
       "       [3, 4]])"
      ]
     },
     "execution_count": 11,
     "metadata": {},
     "output_type": "execute_result"
    }
   ],
   "execution_count": 11
  },
  {
   "metadata": {
    "ExecuteTime": {
     "end_time": "2025-02-17T08:41:57.922510Z",
     "start_time": "2025-02-17T08:41:57.917990Z"
    }
   },
   "cell_type": "code",
   "source": "print(mat_a)",
   "id": "8edfc6283bff2741",
   "outputs": [
    {
     "name": "stdout",
     "output_type": "stream",
     "text": [
      "[[1 2]\n",
      " [3 4]]\n"
     ]
    }
   ],
   "execution_count": 12
  },
  {
   "metadata": {},
   "cell_type": "markdown",
   "source": "## Show shape of np.array",
   "id": "aed10c1c99e7b6b0"
  },
  {
   "metadata": {
    "ExecuteTime": {
     "end_time": "2025-02-17T08:42:18.006552Z",
     "start_time": "2025-02-17T08:42:18.002101Z"
    }
   },
   "cell_type": "code",
   "source": "vec_a.shape",
   "id": "aa7db630ad80717e",
   "outputs": [
    {
     "data": {
      "text/plain": [
       "(3,)"
      ]
     },
     "execution_count": 13,
     "metadata": {},
     "output_type": "execute_result"
    }
   ],
   "execution_count": 13
  },
  {
   "metadata": {
    "ExecuteTime": {
     "end_time": "2025-02-17T08:42:25.957969Z",
     "start_time": "2025-02-17T08:42:25.951352Z"
    }
   },
   "cell_type": "code",
   "source": "mat_a.shape",
   "id": "a139c94d02b7a72",
   "outputs": [
    {
     "data": {
      "text/plain": [
       "(2, 2)"
      ]
     },
     "execution_count": 14,
     "metadata": {},
     "output_type": "execute_result"
    }
   ],
   "execution_count": 14
  },
  {
   "metadata": {},
   "cell_type": "markdown",
   "source": "## Show # of dims of np.array",
   "id": "87fb0664488ff2cc"
  },
  {
   "metadata": {
    "ExecuteTime": {
     "end_time": "2025-02-17T08:42:44.798932Z",
     "start_time": "2025-02-17T08:42:44.793802Z"
    }
   },
   "cell_type": "code",
   "source": "vec_a.ndim",
   "id": "f4d97525f5619393",
   "outputs": [
    {
     "data": {
      "text/plain": [
       "1"
      ]
     },
     "execution_count": 15,
     "metadata": {},
     "output_type": "execute_result"
    }
   ],
   "execution_count": 15
  },
  {
   "metadata": {
    "ExecuteTime": {
     "end_time": "2025-02-17T08:42:51.512360Z",
     "start_time": "2025-02-17T08:42:51.507355Z"
    }
   },
   "cell_type": "code",
   "source": "mat_a.ndim",
   "id": "c03200d089037819",
   "outputs": [
    {
     "data": {
      "text/plain": [
       "2"
      ]
     },
     "execution_count": 16,
     "metadata": {},
     "output_type": "execute_result"
    }
   ],
   "execution_count": 16
  },
  {
   "metadata": {},
   "cell_type": "markdown",
   "source": "## Operations with np.arrays",
   "id": "bbb6a18555e23db"
  },
  {
   "metadata": {
    "ExecuteTime": {
     "end_time": "2025-02-17T08:49:36.157685Z",
     "start_time": "2025-02-17T08:49:36.151675Z"
    }
   },
   "cell_type": "code",
   "source": [
    "vec_b = np.array([3, 4, 5, 1, 2, 3, 0, 1, 0])\n",
    "vec_c = np.array([4, 5, 6, 3, 4, 4, 1, 2, 1])\n",
    "vec_d = np.array([-3, 4, -5, 1, 2, 3, 0, -1, 0])\n",
    "vec_e = np.array([-3.145, 4.1, -5, 1, 2, 3, 0, -1.1111, 0], dtype='int8')\n",
    "vec_j = np.array([-3.145, 4.1, -5, 1, 2, 3, 0, -1.1111, 0])"
   ],
   "id": "b48197df14254e18",
   "outputs": [],
   "execution_count": 31
  },
  {
   "metadata": {
    "ExecuteTime": {
     "end_time": "2025-02-17T08:48:23.144717Z",
     "start_time": "2025-02-17T08:48:23.138719Z"
    }
   },
   "cell_type": "code",
   "source": "vec_b.dtype",
   "id": "327f38599db3a924",
   "outputs": [
    {
     "data": {
      "text/plain": [
       "dtype('int64')"
      ]
     },
     "execution_count": 26,
     "metadata": {},
     "output_type": "execute_result"
    }
   ],
   "execution_count": 26
  },
  {
   "metadata": {
    "ExecuteTime": {
     "end_time": "2025-02-17T08:49:10.489388Z",
     "start_time": "2025-02-17T08:49:10.484199Z"
    }
   },
   "cell_type": "code",
   "source": "vec_e.dtype",
   "id": "13da7391576b91ad",
   "outputs": [
    {
     "data": {
      "text/plain": [
       "dtype('int8')"
      ]
     },
     "execution_count": 29,
     "metadata": {},
     "output_type": "execute_result"
    }
   ],
   "execution_count": 29
  },
  {
   "metadata": {
    "ExecuteTime": {
     "end_time": "2025-02-17T08:49:19.186092Z",
     "start_time": "2025-02-17T08:49:19.180549Z"
    }
   },
   "cell_type": "code",
   "source": "vec_e",
   "id": "4f7bd5fc59333ce4",
   "outputs": [
    {
     "data": {
      "text/plain": [
       "array([-3,  4, -5,  1,  2,  3,  0, -1,  0], dtype=int8)"
      ]
     },
     "execution_count": 30,
     "metadata": {},
     "output_type": "execute_result"
    }
   ],
   "execution_count": 30
  },
  {
   "metadata": {},
   "cell_type": "code",
   "outputs": [],
   "execution_count": null,
   "source": "",
   "id": "e263ef5dbc78a08"
  },
  {
   "metadata": {
    "ExecuteTime": {
     "end_time": "2025-02-17T08:49:49.597233Z",
     "start_time": "2025-02-17T08:49:49.592210Z"
    }
   },
   "cell_type": "code",
   "source": "vec_b * 3",
   "id": "76d3843fc1b74296",
   "outputs": [
    {
     "data": {
      "text/plain": [
       "array([ 9, 12, 15,  3,  6,  9,  0,  3,  0])"
      ]
     },
     "execution_count": 32,
     "metadata": {},
     "output_type": "execute_result"
    }
   ],
   "execution_count": 32
  },
  {
   "metadata": {
    "ExecuteTime": {
     "end_time": "2025-02-17T08:50:13.252761Z",
     "start_time": "2025-02-17T08:50:13.247958Z"
    }
   },
   "cell_type": "code",
   "source": "3 * vec_b",
   "id": "6bf4ec43e4df15ad",
   "outputs": [
    {
     "data": {
      "text/plain": [
       "array([ 9, 12, 15,  3,  6,  9,  0,  3,  0])"
      ]
     },
     "execution_count": 33,
     "metadata": {},
     "output_type": "execute_result"
    }
   ],
   "execution_count": 33
  },
  {
   "metadata": {
    "ExecuteTime": {
     "end_time": "2025-02-17T08:50:54.876119Z",
     "start_time": "2025-02-17T08:50:54.871303Z"
    }
   },
   "cell_type": "code",
   "source": "vec_b * vec_d",
   "id": "4ce5a34b69603e10",
   "outputs": [
    {
     "data": {
      "text/plain": [
       "array([ -9,  16, -25,   1,   4,   9,   0,  -1,   0])"
      ]
     },
     "execution_count": 35,
     "metadata": {},
     "output_type": "execute_result"
    }
   ],
   "execution_count": 35
  },
  {
   "metadata": {
    "ExecuteTime": {
     "end_time": "2025-02-17T08:51:14.870519Z",
     "start_time": "2025-02-17T08:51:14.865149Z"
    }
   },
   "cell_type": "code",
   "source": "np.sum(vec_b * vec_d)",
   "id": "6660f9c832a95b38",
   "outputs": [
    {
     "data": {
      "text/plain": [
       "np.int64(-5)"
      ]
     },
     "execution_count": 36,
     "metadata": {},
     "output_type": "execute_result"
    }
   ],
   "execution_count": 36
  },
  {
   "metadata": {
    "ExecuteTime": {
     "end_time": "2025-02-17T08:52:22.127313Z",
     "start_time": "2025-02-17T08:52:22.121747Z"
    }
   },
   "cell_type": "code",
   "source": "vec_b.dot(vec_d)",
   "id": "48434bb6e9a7e466",
   "outputs": [
    {
     "data": {
      "text/plain": [
       "np.int64(-5)"
      ]
     },
     "execution_count": 40,
     "metadata": {},
     "output_type": "execute_result"
    }
   ],
   "execution_count": 40
  },
  {
   "metadata": {},
   "cell_type": "code",
   "outputs": [],
   "execution_count": null,
   "source": "",
   "id": "83c7df41e8f30d6a"
  },
  {
   "metadata": {
    "ExecuteTime": {
     "end_time": "2025-02-17T08:53:37.263771Z",
     "start_time": "2025-02-17T08:53:37.258946Z"
    }
   },
   "cell_type": "code",
   "source": [
    "mat_A = np.array([\n",
    "    [0, 1, 3,],\n",
    "    [-1, 2, 0,],\n",
    "    [1, 3, 5,],\n",
    "])\n",
    "\n",
    "mat_B = np.array([\n",
    "    [2, 0, 0,],\n",
    "    [-3, 5, -1,],\n",
    "    [2, 1, 6,],\n",
    "])"
   ],
   "id": "5ec6b3adf34af61d",
   "outputs": [],
   "execution_count": 41
  },
  {
   "metadata": {
    "ExecuteTime": {
     "end_time": "2025-02-17T08:53:45.236231Z",
     "start_time": "2025-02-17T08:53:45.231481Z"
    }
   },
   "cell_type": "code",
   "source": "mat_A.T",
   "id": "a3e9fa46ad62a40c",
   "outputs": [
    {
     "data": {
      "text/plain": [
       "array([[ 0, -1,  1],\n",
       "       [ 1,  2,  3],\n",
       "       [ 3,  0,  5]])"
      ]
     },
     "execution_count": 42,
     "metadata": {},
     "output_type": "execute_result"
    }
   ],
   "execution_count": 42
  },
  {
   "metadata": {
    "ExecuteTime": {
     "end_time": "2025-02-17T08:54:28.371692Z",
     "start_time": "2025-02-17T08:54:28.366050Z"
    }
   },
   "cell_type": "code",
   "source": "mat_A * mat_B",
   "id": "f34c5c3f485fb720",
   "outputs": [
    {
     "data": {
      "text/plain": [
       "array([[ 0,  0,  0],\n",
       "       [ 3, 10,  0],\n",
       "       [ 2,  3, 30]])"
      ]
     },
     "execution_count": 43,
     "metadata": {},
     "output_type": "execute_result"
    }
   ],
   "execution_count": 43
  },
  {
   "metadata": {
    "ExecuteTime": {
     "end_time": "2025-02-17T08:54:47.500708Z",
     "start_time": "2025-02-17T08:54:47.494360Z"
    }
   },
   "cell_type": "code",
   "source": "mat_A.dot(mat_B)",
   "id": "4151424e0e3b3e11",
   "outputs": [
    {
     "data": {
      "text/plain": [
       "array([[ 3,  8, 17],\n",
       "       [-8, 10, -2],\n",
       "       [ 3, 20, 27]])"
      ]
     },
     "execution_count": 44,
     "metadata": {},
     "output_type": "execute_result"
    }
   ],
   "execution_count": 44
  },
  {
   "metadata": {
    "ExecuteTime": {
     "end_time": "2025-02-17T08:55:08.095091Z",
     "start_time": "2025-02-17T08:55:08.089556Z"
    }
   },
   "cell_type": "code",
   "source": "mat_A + mat_B",
   "id": "54eb3b9e2ec75124",
   "outputs": [
    {
     "data": {
      "text/plain": [
       "array([[ 2,  1,  3],\n",
       "       [-4,  7, -1],\n",
       "       [ 3,  4, 11]])"
      ]
     },
     "execution_count": 45,
     "metadata": {},
     "output_type": "execute_result"
    }
   ],
   "execution_count": 45
  },
  {
   "metadata": {
    "ExecuteTime": {
     "end_time": "2025-02-17T08:55:40.878634Z",
     "start_time": "2025-02-17T08:55:40.871411Z"
    }
   },
   "cell_type": "code",
   "source": "mat_A ** 2",
   "id": "93e2f8381d6028cf",
   "outputs": [
    {
     "data": {
      "text/plain": [
       "array([[ 0,  1,  9],\n",
       "       [ 1,  4,  0],\n",
       "       [ 1,  9, 25]])"
      ]
     },
     "execution_count": 46,
     "metadata": {},
     "output_type": "execute_result"
    }
   ],
   "execution_count": 46
  },
  {
   "metadata": {},
   "cell_type": "code",
   "outputs": [],
   "execution_count": null,
   "source": "",
   "id": "99a0101b43aea08a"
  },
  {
   "metadata": {},
   "cell_type": "markdown",
   "source": "## Creating",
   "id": "2f72c4e92f98e20b"
  },
  {
   "metadata": {
    "ExecuteTime": {
     "end_time": "2025-02-17T08:56:38.998925Z",
     "start_time": "2025-02-17T08:56:38.993344Z"
    }
   },
   "cell_type": "code",
   "source": "np.zeros((3,))",
   "id": "a000f4b93fc522a8",
   "outputs": [
    {
     "data": {
      "text/plain": [
       "array([0., 0., 0.])"
      ]
     },
     "execution_count": 47,
     "metadata": {},
     "output_type": "execute_result"
    }
   ],
   "execution_count": 47
  },
  {
   "metadata": {
    "ExecuteTime": {
     "end_time": "2025-02-17T08:56:51.034789Z",
     "start_time": "2025-02-17T08:56:51.028377Z"
    }
   },
   "cell_type": "code",
   "source": "np.zeros((3,3))",
   "id": "17d281ddf9dcfa6b",
   "outputs": [
    {
     "data": {
      "text/plain": [
       "array([[0., 0., 0.],\n",
       "       [0., 0., 0.],\n",
       "       [0., 0., 0.]])"
      ]
     },
     "execution_count": 48,
     "metadata": {},
     "output_type": "execute_result"
    }
   ],
   "execution_count": 48
  },
  {
   "metadata": {
    "ExecuteTime": {
     "end_time": "2025-02-17T08:56:57.252590Z",
     "start_time": "2025-02-17T08:56:57.246169Z"
    }
   },
   "cell_type": "code",
   "source": "np.zeros((3,3,3))",
   "id": "5bb225045c906eb2",
   "outputs": [
    {
     "data": {
      "text/plain": [
       "array([[[0., 0., 0.],\n",
       "        [0., 0., 0.],\n",
       "        [0., 0., 0.]],\n",
       "\n",
       "       [[0., 0., 0.],\n",
       "        [0., 0., 0.],\n",
       "        [0., 0., 0.]],\n",
       "\n",
       "       [[0., 0., 0.],\n",
       "        [0., 0., 0.],\n",
       "        [0., 0., 0.]]])"
      ]
     },
     "execution_count": 49,
     "metadata": {},
     "output_type": "execute_result"
    }
   ],
   "execution_count": 49
  },
  {
   "metadata": {
    "ExecuteTime": {
     "end_time": "2025-02-17T08:57:15.673482Z",
     "start_time": "2025-02-17T08:57:15.667919Z"
    }
   },
   "cell_type": "code",
   "source": "np.ones((3, 3))",
   "id": "363ad5217ecef36a",
   "outputs": [
    {
     "data": {
      "text/plain": [
       "array([[1., 1., 1.],\n",
       "       [1., 1., 1.],\n",
       "       [1., 1., 1.]])"
      ]
     },
     "execution_count": 50,
     "metadata": {},
     "output_type": "execute_result"
    }
   ],
   "execution_count": 50
  },
  {
   "metadata": {
    "ExecuteTime": {
     "end_time": "2025-02-17T08:57:33.248286Z",
     "start_time": "2025-02-17T08:57:33.242736Z"
    }
   },
   "cell_type": "code",
   "source": "np.identity(3)",
   "id": "455d8038f7af4dc0",
   "outputs": [
    {
     "data": {
      "text/plain": [
       "array([[1., 0., 0.],\n",
       "       [0., 1., 0.],\n",
       "       [0., 0., 1.]])"
      ]
     },
     "execution_count": 52,
     "metadata": {},
     "output_type": "execute_result"
    }
   ],
   "execution_count": 52
  },
  {
   "metadata": {
    "ExecuteTime": {
     "end_time": "2025-02-17T08:58:23.218694Z",
     "start_time": "2025-02-17T08:58:23.212808Z"
    }
   },
   "cell_type": "code",
   "source": "np.empty((2, 5))",
   "id": "cd36cdf7a4c192b5",
   "outputs": [
    {
     "data": {
      "text/plain": [
       "array([[6.23042070e-307, 4.67296746e-307, 1.69121096e-306,\n",
       "        1.24611674e-306, 1.89146896e-307],\n",
       "       [7.56571288e-307, 3.11525958e-307, 1.24610723e-306,\n",
       "        1.29061142e-306, 5.53353523e-322]])"
      ]
     },
     "execution_count": 63,
     "metadata": {},
     "output_type": "execute_result"
    }
   ],
   "execution_count": 63
  },
  {
   "metadata": {},
   "cell_type": "code",
   "outputs": [],
   "execution_count": null,
   "source": "",
   "id": "2a2189fe9e871747"
  },
  {
   "metadata": {},
   "cell_type": "code",
   "outputs": [],
   "execution_count": null,
   "source": "",
   "id": "17ce171b6347912d"
  },
  {
   "metadata": {},
   "cell_type": "markdown",
   "source": "# Pandas: (pd.Series, pd.DataFrame)",
   "id": "c5d67377b86442c8"
  },
  {
   "metadata": {
    "ExecuteTime": {
     "end_time": "2025-02-17T09:00:07.691352Z",
     "start_time": "2025-02-17T09:00:07.687012Z"
    }
   },
   "cell_type": "code",
   "source": "import pandas as pd",
   "id": "b11c8818dcf81e52",
   "outputs": [],
   "execution_count": 64
  },
  {
   "metadata": {},
   "cell_type": "markdown",
   "source": "## pd.Series",
   "id": "108293a8f331dcbe"
  },
  {
   "metadata": {
    "ExecuteTime": {
     "end_time": "2025-02-17T09:00:51.273952Z",
     "start_time": "2025-02-17T09:00:51.268078Z"
    }
   },
   "cell_type": "code",
   "source": "obj = pd.Series([4, 7, -5, 3])",
   "id": "eb0e41e3f59900a5",
   "outputs": [],
   "execution_count": 65
  },
  {
   "metadata": {
    "ExecuteTime": {
     "end_time": "2025-02-17T09:00:54.374048Z",
     "start_time": "2025-02-17T09:00:54.367414Z"
    }
   },
   "cell_type": "code",
   "source": "obj",
   "id": "1704de3a60aa431d",
   "outputs": [
    {
     "data": {
      "text/plain": [
       "0    4\n",
       "1    7\n",
       "2   -5\n",
       "3    3\n",
       "dtype: int64"
      ]
     },
     "execution_count": 66,
     "metadata": {},
     "output_type": "execute_result"
    }
   ],
   "execution_count": 66
  },
  {
   "metadata": {
    "ExecuteTime": {
     "end_time": "2025-02-17T09:01:22.392996Z",
     "start_time": "2025-02-17T09:01:22.388538Z"
    }
   },
   "cell_type": "code",
   "source": "obj.values",
   "id": "b97488937f88d3b6",
   "outputs": [
    {
     "data": {
      "text/plain": [
       "array([ 4,  7, -5,  3])"
      ]
     },
     "execution_count": 67,
     "metadata": {},
     "output_type": "execute_result"
    }
   ],
   "execution_count": 67
  },
  {
   "metadata": {
    "ExecuteTime": {
     "end_time": "2025-02-17T09:01:33.808237Z",
     "start_time": "2025-02-17T09:01:33.802706Z"
    }
   },
   "cell_type": "code",
   "source": "obj.index",
   "id": "b0dcf21839b151d8",
   "outputs": [
    {
     "data": {
      "text/plain": [
       "RangeIndex(start=0, stop=4, step=1)"
      ]
     },
     "execution_count": 68,
     "metadata": {},
     "output_type": "execute_result"
    }
   ],
   "execution_count": 68
  },
  {
   "metadata": {
    "ExecuteTime": {
     "end_time": "2025-02-17T09:01:48.382304Z",
     "start_time": "2025-02-17T09:01:48.377784Z"
    }
   },
   "cell_type": "code",
   "source": "obj.index = [3, 4, 5, 6]",
   "id": "e16ee9a195dd2bd7",
   "outputs": [],
   "execution_count": 69
  },
  {
   "metadata": {
    "ExecuteTime": {
     "end_time": "2025-02-17T09:01:51.269126Z",
     "start_time": "2025-02-17T09:01:51.263081Z"
    }
   },
   "cell_type": "code",
   "source": "obj",
   "id": "d06ed9ef23cc20a5",
   "outputs": [
    {
     "data": {
      "text/plain": [
       "3    4\n",
       "4    7\n",
       "5   -5\n",
       "6    3\n",
       "dtype: int64"
      ]
     },
     "execution_count": 70,
     "metadata": {},
     "output_type": "execute_result"
    }
   ],
   "execution_count": 70
  },
  {
   "metadata": {
    "ExecuteTime": {
     "end_time": "2025-02-17T09:02:05.215569Z",
     "start_time": "2025-02-17T09:02:05.209149Z"
    }
   },
   "cell_type": "code",
   "source": [
    "obj2 = pd.Series([4, 7, -5, 3], index=['d', 'b', 'a', 'c'])\n",
    "obj2"
   ],
   "id": "b368cab0137ee65e",
   "outputs": [
    {
     "data": {
      "text/plain": [
       "d    4\n",
       "b    7\n",
       "a   -5\n",
       "c    3\n",
       "dtype: int64"
      ]
     },
     "execution_count": 71,
     "metadata": {},
     "output_type": "execute_result"
    }
   ],
   "execution_count": 71
  },
  {
   "metadata": {
    "ExecuteTime": {
     "end_time": "2025-02-17T09:03:06.810315Z",
     "start_time": "2025-02-17T09:03:06.803024Z"
    }
   },
   "cell_type": "code",
   "source": [
    "sdata = {'Ohio': 35000, 'Texas': 71000, 'Oregon': 16000, 'Utah': 5000}\n",
    "obj3 = pd.Series(sdata, name=\"USA States\")\n",
    "obj3"
   ],
   "id": "a07b238aeba5ccee",
   "outputs": [
    {
     "data": {
      "text/plain": [
       "Ohio      35000\n",
       "Texas     71000\n",
       "Oregon    16000\n",
       "Utah       5000\n",
       "Name: USA States, dtype: int64"
      ]
     },
     "execution_count": 73,
     "metadata": {},
     "output_type": "execute_result"
    }
   ],
   "execution_count": 73
  },
  {
   "metadata": {},
   "cell_type": "markdown",
   "source": "## pd.DataFrame",
   "id": "99b0f8ba32b696e5"
  },
  {
   "metadata": {
    "ExecuteTime": {
     "end_time": "2025-02-17T09:09:44.055894Z",
     "start_time": "2025-02-17T09:09:44.045102Z"
    }
   },
   "cell_type": "code",
   "source": [
    "data = {\n",
    "    'state': ['Ohio', 'Ohio', 'Ohio', 'Nevada', 'Nevada', 'Nevada', 'UTA'],\n",
    "    'year': [2000, 2001, 2002, None, 2002, 2003, 2004],\n",
    "    'pop': [1.5, None, 3.6, 2.4, 2.9, 3.2, None]\n",
    "}\n",
    "frame = pd.DataFrame(data)\n",
    "frame"
   ],
   "id": "c848524f22d80050",
   "outputs": [
    {
     "data": {
      "text/plain": [
       "    state    year  pop\n",
       "0    Ohio  2000.0  1.5\n",
       "1    Ohio  2001.0  NaN\n",
       "2    Ohio  2002.0  3.6\n",
       "3  Nevada     NaN  2.4\n",
       "4  Nevada  2002.0  2.9\n",
       "5  Nevada  2003.0  3.2\n",
       "6     UTA  2004.0  NaN"
      ],
      "text/html": [
       "<div>\n",
       "<style scoped>\n",
       "    .dataframe tbody tr th:only-of-type {\n",
       "        vertical-align: middle;\n",
       "    }\n",
       "\n",
       "    .dataframe tbody tr th {\n",
       "        vertical-align: top;\n",
       "    }\n",
       "\n",
       "    .dataframe thead th {\n",
       "        text-align: right;\n",
       "    }\n",
       "</style>\n",
       "<table border=\"1\" class=\"dataframe\">\n",
       "  <thead>\n",
       "    <tr style=\"text-align: right;\">\n",
       "      <th></th>\n",
       "      <th>state</th>\n",
       "      <th>year</th>\n",
       "      <th>pop</th>\n",
       "    </tr>\n",
       "  </thead>\n",
       "  <tbody>\n",
       "    <tr>\n",
       "      <th>0</th>\n",
       "      <td>Ohio</td>\n",
       "      <td>2000.0</td>\n",
       "      <td>1.5</td>\n",
       "    </tr>\n",
       "    <tr>\n",
       "      <th>1</th>\n",
       "      <td>Ohio</td>\n",
       "      <td>2001.0</td>\n",
       "      <td>NaN</td>\n",
       "    </tr>\n",
       "    <tr>\n",
       "      <th>2</th>\n",
       "      <td>Ohio</td>\n",
       "      <td>2002.0</td>\n",
       "      <td>3.6</td>\n",
       "    </tr>\n",
       "    <tr>\n",
       "      <th>3</th>\n",
       "      <td>Nevada</td>\n",
       "      <td>NaN</td>\n",
       "      <td>2.4</td>\n",
       "    </tr>\n",
       "    <tr>\n",
       "      <th>4</th>\n",
       "      <td>Nevada</td>\n",
       "      <td>2002.0</td>\n",
       "      <td>2.9</td>\n",
       "    </tr>\n",
       "    <tr>\n",
       "      <th>5</th>\n",
       "      <td>Nevada</td>\n",
       "      <td>2003.0</td>\n",
       "      <td>3.2</td>\n",
       "    </tr>\n",
       "    <tr>\n",
       "      <th>6</th>\n",
       "      <td>UTA</td>\n",
       "      <td>2004.0</td>\n",
       "      <td>NaN</td>\n",
       "    </tr>\n",
       "  </tbody>\n",
       "</table>\n",
       "</div>"
      ]
     },
     "execution_count": 85,
     "metadata": {},
     "output_type": "execute_result"
    }
   ],
   "execution_count": 85
  },
  {
   "metadata": {
    "ExecuteTime": {
     "end_time": "2025-02-17T09:04:57.527112Z",
     "start_time": "2025-02-17T09:04:57.521838Z"
    }
   },
   "cell_type": "code",
   "source": "frame['state']",
   "id": "794bef42a7d60d0f",
   "outputs": [
    {
     "data": {
      "text/plain": [
       "0      Ohio\n",
       "1      Ohio\n",
       "2      Ohio\n",
       "3    Nevada\n",
       "4    Nevada\n",
       "5    Nevada\n",
       "Name: state, dtype: object"
      ]
     },
     "execution_count": 75,
     "metadata": {},
     "output_type": "execute_result"
    }
   ],
   "execution_count": 75
  },
  {
   "metadata": {
    "ExecuteTime": {
     "end_time": "2025-02-17T09:05:11.492909Z",
     "start_time": "2025-02-17T09:05:11.486834Z"
    }
   },
   "cell_type": "code",
   "source": "frame['year']",
   "id": "67b4f3fc216acb44",
   "outputs": [
    {
     "data": {
      "text/plain": [
       "0    2000\n",
       "1    2001\n",
       "2    2002\n",
       "3    2001\n",
       "4    2002\n",
       "5    2003\n",
       "Name: year, dtype: int64"
      ]
     },
     "execution_count": 76,
     "metadata": {},
     "output_type": "execute_result"
    }
   ],
   "execution_count": 76
  },
  {
   "metadata": {
    "ExecuteTime": {
     "end_time": "2025-02-17T09:05:42.123713Z",
     "start_time": "2025-02-17T09:05:42.112465Z"
    }
   },
   "cell_type": "code",
   "source": [
    "frame2 = pd.DataFrame(data, columns=['year', 'state', 'pop', 'debt'],\n",
    "                      index=['one', 'two', 'three', 'four','five', 'six'])\n",
    "frame2"
   ],
   "id": "c6c108468490329",
   "outputs": [
    {
     "data": {
      "text/plain": [
       "       year   state  pop debt\n",
       "one    2000    Ohio  1.5  NaN\n",
       "two    2001    Ohio  1.7  NaN\n",
       "three  2002    Ohio  3.6  NaN\n",
       "four   2001  Nevada  2.4  NaN\n",
       "five   2002  Nevada  2.9  NaN\n",
       "six    2003  Nevada  3.2  NaN"
      ],
      "text/html": [
       "<div>\n",
       "<style scoped>\n",
       "    .dataframe tbody tr th:only-of-type {\n",
       "        vertical-align: middle;\n",
       "    }\n",
       "\n",
       "    .dataframe tbody tr th {\n",
       "        vertical-align: top;\n",
       "    }\n",
       "\n",
       "    .dataframe thead th {\n",
       "        text-align: right;\n",
       "    }\n",
       "</style>\n",
       "<table border=\"1\" class=\"dataframe\">\n",
       "  <thead>\n",
       "    <tr style=\"text-align: right;\">\n",
       "      <th></th>\n",
       "      <th>year</th>\n",
       "      <th>state</th>\n",
       "      <th>pop</th>\n",
       "      <th>debt</th>\n",
       "    </tr>\n",
       "  </thead>\n",
       "  <tbody>\n",
       "    <tr>\n",
       "      <th>one</th>\n",
       "      <td>2000</td>\n",
       "      <td>Ohio</td>\n",
       "      <td>1.5</td>\n",
       "      <td>NaN</td>\n",
       "    </tr>\n",
       "    <tr>\n",
       "      <th>two</th>\n",
       "      <td>2001</td>\n",
       "      <td>Ohio</td>\n",
       "      <td>1.7</td>\n",
       "      <td>NaN</td>\n",
       "    </tr>\n",
       "    <tr>\n",
       "      <th>three</th>\n",
       "      <td>2002</td>\n",
       "      <td>Ohio</td>\n",
       "      <td>3.6</td>\n",
       "      <td>NaN</td>\n",
       "    </tr>\n",
       "    <tr>\n",
       "      <th>four</th>\n",
       "      <td>2001</td>\n",
       "      <td>Nevada</td>\n",
       "      <td>2.4</td>\n",
       "      <td>NaN</td>\n",
       "    </tr>\n",
       "    <tr>\n",
       "      <th>five</th>\n",
       "      <td>2002</td>\n",
       "      <td>Nevada</td>\n",
       "      <td>2.9</td>\n",
       "      <td>NaN</td>\n",
       "    </tr>\n",
       "    <tr>\n",
       "      <th>six</th>\n",
       "      <td>2003</td>\n",
       "      <td>Nevada</td>\n",
       "      <td>3.2</td>\n",
       "      <td>NaN</td>\n",
       "    </tr>\n",
       "  </tbody>\n",
       "</table>\n",
       "</div>"
      ]
     },
     "execution_count": 77,
     "metadata": {},
     "output_type": "execute_result"
    }
   ],
   "execution_count": 77
  },
  {
   "metadata": {
    "ExecuteTime": {
     "end_time": "2025-02-17T09:08:21.345277Z",
     "start_time": "2025-02-17T09:08:21.341703Z"
    }
   },
   "cell_type": "code",
   "source": "frame2[\"debt\"] = list(frame[\"year\"] * frame[\"pop\"])",
   "id": "c08cfc500102a0aa",
   "outputs": [],
   "execution_count": 83
  },
  {
   "metadata": {
    "ExecuteTime": {
     "end_time": "2025-02-17T09:08:22.114741Z",
     "start_time": "2025-02-17T09:08:22.106636Z"
    }
   },
   "cell_type": "code",
   "source": "frame2",
   "id": "ff3388e8dfb9089c",
   "outputs": [
    {
     "data": {
      "text/plain": [
       "       year   state  pop    debt  dept\n",
       "one    2000    Ohio  1.5  3000.0   NaN\n",
       "two    2001    Ohio  1.7  3401.7   NaN\n",
       "three  2002    Ohio  3.6  7207.2   NaN\n",
       "four   2001  Nevada  2.4  4802.4   NaN\n",
       "five   2002  Nevada  2.9  5805.8   NaN\n",
       "six    2003  Nevada  3.2  6409.6   NaN"
      ],
      "text/html": [
       "<div>\n",
       "<style scoped>\n",
       "    .dataframe tbody tr th:only-of-type {\n",
       "        vertical-align: middle;\n",
       "    }\n",
       "\n",
       "    .dataframe tbody tr th {\n",
       "        vertical-align: top;\n",
       "    }\n",
       "\n",
       "    .dataframe thead th {\n",
       "        text-align: right;\n",
       "    }\n",
       "</style>\n",
       "<table border=\"1\" class=\"dataframe\">\n",
       "  <thead>\n",
       "    <tr style=\"text-align: right;\">\n",
       "      <th></th>\n",
       "      <th>year</th>\n",
       "      <th>state</th>\n",
       "      <th>pop</th>\n",
       "      <th>debt</th>\n",
       "      <th>dept</th>\n",
       "    </tr>\n",
       "  </thead>\n",
       "  <tbody>\n",
       "    <tr>\n",
       "      <th>one</th>\n",
       "      <td>2000</td>\n",
       "      <td>Ohio</td>\n",
       "      <td>1.5</td>\n",
       "      <td>3000.0</td>\n",
       "      <td>NaN</td>\n",
       "    </tr>\n",
       "    <tr>\n",
       "      <th>two</th>\n",
       "      <td>2001</td>\n",
       "      <td>Ohio</td>\n",
       "      <td>1.7</td>\n",
       "      <td>3401.7</td>\n",
       "      <td>NaN</td>\n",
       "    </tr>\n",
       "    <tr>\n",
       "      <th>three</th>\n",
       "      <td>2002</td>\n",
       "      <td>Ohio</td>\n",
       "      <td>3.6</td>\n",
       "      <td>7207.2</td>\n",
       "      <td>NaN</td>\n",
       "    </tr>\n",
       "    <tr>\n",
       "      <th>four</th>\n",
       "      <td>2001</td>\n",
       "      <td>Nevada</td>\n",
       "      <td>2.4</td>\n",
       "      <td>4802.4</td>\n",
       "      <td>NaN</td>\n",
       "    </tr>\n",
       "    <tr>\n",
       "      <th>five</th>\n",
       "      <td>2002</td>\n",
       "      <td>Nevada</td>\n",
       "      <td>2.9</td>\n",
       "      <td>5805.8</td>\n",
       "      <td>NaN</td>\n",
       "    </tr>\n",
       "    <tr>\n",
       "      <th>six</th>\n",
       "      <td>2003</td>\n",
       "      <td>Nevada</td>\n",
       "      <td>3.2</td>\n",
       "      <td>6409.6</td>\n",
       "      <td>NaN</td>\n",
       "    </tr>\n",
       "  </tbody>\n",
       "</table>\n",
       "</div>"
      ]
     },
     "execution_count": 84,
     "metadata": {},
     "output_type": "execute_result"
    }
   ],
   "execution_count": 84
  },
  {
   "metadata": {},
   "cell_type": "code",
   "outputs": [],
   "execution_count": null,
   "source": "",
   "id": "5c2df5114c50e575"
  },
  {
   "metadata": {
    "ExecuteTime": {
     "end_time": "2025-02-17T09:10:08.295064Z",
     "start_time": "2025-02-17T09:10:08.285292Z"
    }
   },
   "cell_type": "code",
   "source": "frame",
   "id": "cd7e69e44b3cd46c",
   "outputs": [
    {
     "data": {
      "text/plain": [
       "    state    year  pop\n",
       "0    Ohio  2000.0  1.5\n",
       "1    Ohio  2001.0  NaN\n",
       "2    Ohio  2002.0  3.6\n",
       "3  Nevada     NaN  2.4\n",
       "4  Nevada  2002.0  2.9\n",
       "5  Nevada  2003.0  3.2\n",
       "6     UTA  2004.0  NaN"
      ],
      "text/html": [
       "<div>\n",
       "<style scoped>\n",
       "    .dataframe tbody tr th:only-of-type {\n",
       "        vertical-align: middle;\n",
       "    }\n",
       "\n",
       "    .dataframe tbody tr th {\n",
       "        vertical-align: top;\n",
       "    }\n",
       "\n",
       "    .dataframe thead th {\n",
       "        text-align: right;\n",
       "    }\n",
       "</style>\n",
       "<table border=\"1\" class=\"dataframe\">\n",
       "  <thead>\n",
       "    <tr style=\"text-align: right;\">\n",
       "      <th></th>\n",
       "      <th>state</th>\n",
       "      <th>year</th>\n",
       "      <th>pop</th>\n",
       "    </tr>\n",
       "  </thead>\n",
       "  <tbody>\n",
       "    <tr>\n",
       "      <th>0</th>\n",
       "      <td>Ohio</td>\n",
       "      <td>2000.0</td>\n",
       "      <td>1.5</td>\n",
       "    </tr>\n",
       "    <tr>\n",
       "      <th>1</th>\n",
       "      <td>Ohio</td>\n",
       "      <td>2001.0</td>\n",
       "      <td>NaN</td>\n",
       "    </tr>\n",
       "    <tr>\n",
       "      <th>2</th>\n",
       "      <td>Ohio</td>\n",
       "      <td>2002.0</td>\n",
       "      <td>3.6</td>\n",
       "    </tr>\n",
       "    <tr>\n",
       "      <th>3</th>\n",
       "      <td>Nevada</td>\n",
       "      <td>NaN</td>\n",
       "      <td>2.4</td>\n",
       "    </tr>\n",
       "    <tr>\n",
       "      <th>4</th>\n",
       "      <td>Nevada</td>\n",
       "      <td>2002.0</td>\n",
       "      <td>2.9</td>\n",
       "    </tr>\n",
       "    <tr>\n",
       "      <th>5</th>\n",
       "      <td>Nevada</td>\n",
       "      <td>2003.0</td>\n",
       "      <td>3.2</td>\n",
       "    </tr>\n",
       "    <tr>\n",
       "      <th>6</th>\n",
       "      <td>UTA</td>\n",
       "      <td>2004.0</td>\n",
       "      <td>NaN</td>\n",
       "    </tr>\n",
       "  </tbody>\n",
       "</table>\n",
       "</div>"
      ]
     },
     "execution_count": 86,
     "metadata": {},
     "output_type": "execute_result"
    }
   ],
   "execution_count": 86
  },
  {
   "metadata": {
    "ExecuteTime": {
     "end_time": "2025-02-17T09:10:21.405838Z",
     "start_time": "2025-02-17T09:10:21.397913Z"
    }
   },
   "cell_type": "code",
   "source": "frame.dropna()",
   "id": "3f242a030414740",
   "outputs": [
    {
     "data": {
      "text/plain": [
       "    state    year  pop\n",
       "0    Ohio  2000.0  1.5\n",
       "2    Ohio  2002.0  3.6\n",
       "4  Nevada  2002.0  2.9\n",
       "5  Nevada  2003.0  3.2"
      ],
      "text/html": [
       "<div>\n",
       "<style scoped>\n",
       "    .dataframe tbody tr th:only-of-type {\n",
       "        vertical-align: middle;\n",
       "    }\n",
       "\n",
       "    .dataframe tbody tr th {\n",
       "        vertical-align: top;\n",
       "    }\n",
       "\n",
       "    .dataframe thead th {\n",
       "        text-align: right;\n",
       "    }\n",
       "</style>\n",
       "<table border=\"1\" class=\"dataframe\">\n",
       "  <thead>\n",
       "    <tr style=\"text-align: right;\">\n",
       "      <th></th>\n",
       "      <th>state</th>\n",
       "      <th>year</th>\n",
       "      <th>pop</th>\n",
       "    </tr>\n",
       "  </thead>\n",
       "  <tbody>\n",
       "    <tr>\n",
       "      <th>0</th>\n",
       "      <td>Ohio</td>\n",
       "      <td>2000.0</td>\n",
       "      <td>1.5</td>\n",
       "    </tr>\n",
       "    <tr>\n",
       "      <th>2</th>\n",
       "      <td>Ohio</td>\n",
       "      <td>2002.0</td>\n",
       "      <td>3.6</td>\n",
       "    </tr>\n",
       "    <tr>\n",
       "      <th>4</th>\n",
       "      <td>Nevada</td>\n",
       "      <td>2002.0</td>\n",
       "      <td>2.9</td>\n",
       "    </tr>\n",
       "    <tr>\n",
       "      <th>5</th>\n",
       "      <td>Nevada</td>\n",
       "      <td>2003.0</td>\n",
       "      <td>3.2</td>\n",
       "    </tr>\n",
       "  </tbody>\n",
       "</table>\n",
       "</div>"
      ]
     },
     "execution_count": 87,
     "metadata": {},
     "output_type": "execute_result"
    }
   ],
   "execution_count": 87
  },
  {
   "metadata": {
    "ExecuteTime": {
     "end_time": "2025-02-17T09:11:01.654694Z",
     "start_time": "2025-02-17T09:11:01.644511Z"
    }
   },
   "cell_type": "code",
   "source": "frame.dropna(how=\"all\")",
   "id": "955a3ea2a0304a85",
   "outputs": [
    {
     "data": {
      "text/plain": [
       "    state    year  pop\n",
       "0    Ohio  2000.0  1.5\n",
       "1    Ohio  2001.0  NaN\n",
       "2    Ohio  2002.0  3.6\n",
       "3  Nevada     NaN  2.4\n",
       "4  Nevada  2002.0  2.9\n",
       "5  Nevada  2003.0  3.2\n",
       "6     UTA  2004.0  NaN"
      ],
      "text/html": [
       "<div>\n",
       "<style scoped>\n",
       "    .dataframe tbody tr th:only-of-type {\n",
       "        vertical-align: middle;\n",
       "    }\n",
       "\n",
       "    .dataframe tbody tr th {\n",
       "        vertical-align: top;\n",
       "    }\n",
       "\n",
       "    .dataframe thead th {\n",
       "        text-align: right;\n",
       "    }\n",
       "</style>\n",
       "<table border=\"1\" class=\"dataframe\">\n",
       "  <thead>\n",
       "    <tr style=\"text-align: right;\">\n",
       "      <th></th>\n",
       "      <th>state</th>\n",
       "      <th>year</th>\n",
       "      <th>pop</th>\n",
       "    </tr>\n",
       "  </thead>\n",
       "  <tbody>\n",
       "    <tr>\n",
       "      <th>0</th>\n",
       "      <td>Ohio</td>\n",
       "      <td>2000.0</td>\n",
       "      <td>1.5</td>\n",
       "    </tr>\n",
       "    <tr>\n",
       "      <th>1</th>\n",
       "      <td>Ohio</td>\n",
       "      <td>2001.0</td>\n",
       "      <td>NaN</td>\n",
       "    </tr>\n",
       "    <tr>\n",
       "      <th>2</th>\n",
       "      <td>Ohio</td>\n",
       "      <td>2002.0</td>\n",
       "      <td>3.6</td>\n",
       "    </tr>\n",
       "    <tr>\n",
       "      <th>3</th>\n",
       "      <td>Nevada</td>\n",
       "      <td>NaN</td>\n",
       "      <td>2.4</td>\n",
       "    </tr>\n",
       "    <tr>\n",
       "      <th>4</th>\n",
       "      <td>Nevada</td>\n",
       "      <td>2002.0</td>\n",
       "      <td>2.9</td>\n",
       "    </tr>\n",
       "    <tr>\n",
       "      <th>5</th>\n",
       "      <td>Nevada</td>\n",
       "      <td>2003.0</td>\n",
       "      <td>3.2</td>\n",
       "    </tr>\n",
       "    <tr>\n",
       "      <th>6</th>\n",
       "      <td>UTA</td>\n",
       "      <td>2004.0</td>\n",
       "      <td>NaN</td>\n",
       "    </tr>\n",
       "  </tbody>\n",
       "</table>\n",
       "</div>"
      ]
     },
     "execution_count": 88,
     "metadata": {},
     "output_type": "execute_result"
    }
   ],
   "execution_count": 88
  },
  {
   "metadata": {},
   "cell_type": "code",
   "outputs": [],
   "execution_count": null,
   "source": "",
   "id": "34802706a146a0e4"
  },
  {
   "metadata": {
    "ExecuteTime": {
     "end_time": "2025-02-17T09:13:46.876987Z",
     "start_time": "2025-02-17T09:13:46.871208Z"
    }
   },
   "cell_type": "code",
   "source": "df_titanic = pd.read_csv('test.csv')",
   "id": "acae26d2b7274a01",
   "outputs": [],
   "execution_count": 90
  },
  {
   "metadata": {
    "ExecuteTime": {
     "end_time": "2025-02-17T09:13:53.098179Z",
     "start_time": "2025-02-17T09:13:53.084269Z"
    }
   },
   "cell_type": "code",
   "source": "df_titanic",
   "id": "9fe8520eab707832",
   "outputs": [
    {
     "data": {
      "text/plain": [
       "     PassengerId  Pclass                                          Name  \\\n",
       "0            892       3                              Kelly, Mr. James   \n",
       "1            893       3              Wilkes, Mrs. James (Ellen Needs)   \n",
       "2            894       2                     Myles, Mr. Thomas Francis   \n",
       "3            895       3                              Wirz, Mr. Albert   \n",
       "4            896       3  Hirvonen, Mrs. Alexander (Helga E Lindqvist)   \n",
       "..           ...     ...                                           ...   \n",
       "413         1305       3                            Spector, Mr. Woolf   \n",
       "414         1306       1                  Oliva y Ocana, Dona. Fermina   \n",
       "415         1307       3                  Saether, Mr. Simon Sivertsen   \n",
       "416         1308       3                           Ware, Mr. Frederick   \n",
       "417         1309       3                      Peter, Master. Michael J   \n",
       "\n",
       "        Sex   Age  SibSp  Parch              Ticket      Fare Cabin Embarked  \n",
       "0      male  34.5      0      0              330911    7.8292   NaN        Q  \n",
       "1    female  47.0      1      0              363272    7.0000   NaN        S  \n",
       "2      male  62.0      0      0              240276    9.6875   NaN        Q  \n",
       "3      male  27.0      0      0              315154    8.6625   NaN        S  \n",
       "4    female  22.0      1      1             3101298   12.2875   NaN        S  \n",
       "..      ...   ...    ...    ...                 ...       ...   ...      ...  \n",
       "413    male   NaN      0      0           A.5. 3236    8.0500   NaN        S  \n",
       "414  female  39.0      0      0            PC 17758  108.9000  C105        C  \n",
       "415    male  38.5      0      0  SOTON/O.Q. 3101262    7.2500   NaN        S  \n",
       "416    male   NaN      0      0              359309    8.0500   NaN        S  \n",
       "417    male   NaN      1      1                2668   22.3583   NaN        C  \n",
       "\n",
       "[418 rows x 11 columns]"
      ],
      "text/html": [
       "<div>\n",
       "<style scoped>\n",
       "    .dataframe tbody tr th:only-of-type {\n",
       "        vertical-align: middle;\n",
       "    }\n",
       "\n",
       "    .dataframe tbody tr th {\n",
       "        vertical-align: top;\n",
       "    }\n",
       "\n",
       "    .dataframe thead th {\n",
       "        text-align: right;\n",
       "    }\n",
       "</style>\n",
       "<table border=\"1\" class=\"dataframe\">\n",
       "  <thead>\n",
       "    <tr style=\"text-align: right;\">\n",
       "      <th></th>\n",
       "      <th>PassengerId</th>\n",
       "      <th>Pclass</th>\n",
       "      <th>Name</th>\n",
       "      <th>Sex</th>\n",
       "      <th>Age</th>\n",
       "      <th>SibSp</th>\n",
       "      <th>Parch</th>\n",
       "      <th>Ticket</th>\n",
       "      <th>Fare</th>\n",
       "      <th>Cabin</th>\n",
       "      <th>Embarked</th>\n",
       "    </tr>\n",
       "  </thead>\n",
       "  <tbody>\n",
       "    <tr>\n",
       "      <th>0</th>\n",
       "      <td>892</td>\n",
       "      <td>3</td>\n",
       "      <td>Kelly, Mr. James</td>\n",
       "      <td>male</td>\n",
       "      <td>34.5</td>\n",
       "      <td>0</td>\n",
       "      <td>0</td>\n",
       "      <td>330911</td>\n",
       "      <td>7.8292</td>\n",
       "      <td>NaN</td>\n",
       "      <td>Q</td>\n",
       "    </tr>\n",
       "    <tr>\n",
       "      <th>1</th>\n",
       "      <td>893</td>\n",
       "      <td>3</td>\n",
       "      <td>Wilkes, Mrs. James (Ellen Needs)</td>\n",
       "      <td>female</td>\n",
       "      <td>47.0</td>\n",
       "      <td>1</td>\n",
       "      <td>0</td>\n",
       "      <td>363272</td>\n",
       "      <td>7.0000</td>\n",
       "      <td>NaN</td>\n",
       "      <td>S</td>\n",
       "    </tr>\n",
       "    <tr>\n",
       "      <th>2</th>\n",
       "      <td>894</td>\n",
       "      <td>2</td>\n",
       "      <td>Myles, Mr. Thomas Francis</td>\n",
       "      <td>male</td>\n",
       "      <td>62.0</td>\n",
       "      <td>0</td>\n",
       "      <td>0</td>\n",
       "      <td>240276</td>\n",
       "      <td>9.6875</td>\n",
       "      <td>NaN</td>\n",
       "      <td>Q</td>\n",
       "    </tr>\n",
       "    <tr>\n",
       "      <th>3</th>\n",
       "      <td>895</td>\n",
       "      <td>3</td>\n",
       "      <td>Wirz, Mr. Albert</td>\n",
       "      <td>male</td>\n",
       "      <td>27.0</td>\n",
       "      <td>0</td>\n",
       "      <td>0</td>\n",
       "      <td>315154</td>\n",
       "      <td>8.6625</td>\n",
       "      <td>NaN</td>\n",
       "      <td>S</td>\n",
       "    </tr>\n",
       "    <tr>\n",
       "      <th>4</th>\n",
       "      <td>896</td>\n",
       "      <td>3</td>\n",
       "      <td>Hirvonen, Mrs. Alexander (Helga E Lindqvist)</td>\n",
       "      <td>female</td>\n",
       "      <td>22.0</td>\n",
       "      <td>1</td>\n",
       "      <td>1</td>\n",
       "      <td>3101298</td>\n",
       "      <td>12.2875</td>\n",
       "      <td>NaN</td>\n",
       "      <td>S</td>\n",
       "    </tr>\n",
       "    <tr>\n",
       "      <th>...</th>\n",
       "      <td>...</td>\n",
       "      <td>...</td>\n",
       "      <td>...</td>\n",
       "      <td>...</td>\n",
       "      <td>...</td>\n",
       "      <td>...</td>\n",
       "      <td>...</td>\n",
       "      <td>...</td>\n",
       "      <td>...</td>\n",
       "      <td>...</td>\n",
       "      <td>...</td>\n",
       "    </tr>\n",
       "    <tr>\n",
       "      <th>413</th>\n",
       "      <td>1305</td>\n",
       "      <td>3</td>\n",
       "      <td>Spector, Mr. Woolf</td>\n",
       "      <td>male</td>\n",
       "      <td>NaN</td>\n",
       "      <td>0</td>\n",
       "      <td>0</td>\n",
       "      <td>A.5. 3236</td>\n",
       "      <td>8.0500</td>\n",
       "      <td>NaN</td>\n",
       "      <td>S</td>\n",
       "    </tr>\n",
       "    <tr>\n",
       "      <th>414</th>\n",
       "      <td>1306</td>\n",
       "      <td>1</td>\n",
       "      <td>Oliva y Ocana, Dona. Fermina</td>\n",
       "      <td>female</td>\n",
       "      <td>39.0</td>\n",
       "      <td>0</td>\n",
       "      <td>0</td>\n",
       "      <td>PC 17758</td>\n",
       "      <td>108.9000</td>\n",
       "      <td>C105</td>\n",
       "      <td>C</td>\n",
       "    </tr>\n",
       "    <tr>\n",
       "      <th>415</th>\n",
       "      <td>1307</td>\n",
       "      <td>3</td>\n",
       "      <td>Saether, Mr. Simon Sivertsen</td>\n",
       "      <td>male</td>\n",
       "      <td>38.5</td>\n",
       "      <td>0</td>\n",
       "      <td>0</td>\n",
       "      <td>SOTON/O.Q. 3101262</td>\n",
       "      <td>7.2500</td>\n",
       "      <td>NaN</td>\n",
       "      <td>S</td>\n",
       "    </tr>\n",
       "    <tr>\n",
       "      <th>416</th>\n",
       "      <td>1308</td>\n",
       "      <td>3</td>\n",
       "      <td>Ware, Mr. Frederick</td>\n",
       "      <td>male</td>\n",
       "      <td>NaN</td>\n",
       "      <td>0</td>\n",
       "      <td>0</td>\n",
       "      <td>359309</td>\n",
       "      <td>8.0500</td>\n",
       "      <td>NaN</td>\n",
       "      <td>S</td>\n",
       "    </tr>\n",
       "    <tr>\n",
       "      <th>417</th>\n",
       "      <td>1309</td>\n",
       "      <td>3</td>\n",
       "      <td>Peter, Master. Michael J</td>\n",
       "      <td>male</td>\n",
       "      <td>NaN</td>\n",
       "      <td>1</td>\n",
       "      <td>1</td>\n",
       "      <td>2668</td>\n",
       "      <td>22.3583</td>\n",
       "      <td>NaN</td>\n",
       "      <td>C</td>\n",
       "    </tr>\n",
       "  </tbody>\n",
       "</table>\n",
       "<p>418 rows × 11 columns</p>\n",
       "</div>"
      ]
     },
     "execution_count": 91,
     "metadata": {},
     "output_type": "execute_result"
    }
   ],
   "execution_count": 91
  },
  {
   "metadata": {},
   "cell_type": "markdown",
   "source": "# Matplotlib + Seaborn",
   "id": "b353fadae3bc0bb2"
  },
  {
   "metadata": {
    "ExecuteTime": {
     "end_time": "2025-02-17T09:16:13.875002Z",
     "start_time": "2025-02-17T09:16:12.407731Z"
    }
   },
   "cell_type": "code",
   "source": "import matplotlib.pyplot as plt",
   "id": "d75f0e37c758ed21",
   "outputs": [],
   "execution_count": 92
  },
  {
   "metadata": {
    "ExecuteTime": {
     "end_time": "2025-02-17T09:17:46.103613Z",
     "start_time": "2025-02-17T09:17:45.984887Z"
    }
   },
   "cell_type": "code",
   "source": "df_titanic[\"Age\"].plot(kind=\"hist\")",
   "id": "aff77a725715db11",
   "outputs": [
    {
     "data": {
      "text/plain": [
       "<Axes: ylabel='Frequency'>"
      ]
     },
     "execution_count": 97,
     "metadata": {},
     "output_type": "execute_result"
    },
    {
     "data": {
      "text/plain": [
       "<Figure size 640x480 with 1 Axes>"
      ],
      "image/png": "[encoded data removed]"
     },
     "metadata": {},
     "output_type": "display_data"
    }
   ],
   "execution_count": 97
  },
  {
   "metadata": {
    "ExecuteTime": {
     "end_time": "2025-02-17T09:23:20.624322Z",
     "start_time": "2025-02-17T09:23:20.508513Z"
    }
   },
   "cell_type": "code",
   "source": "df_titanic.plot(kind=\"scatter\", x=\"Age\", y=\"Fare\")",
   "id": "87203bb0f9a55eb3",
   "outputs": [
    {
     "data": {
      "text/plain": [
       "<Axes: xlabel='Age', ylabel='Fare'>"
      ]
     },
     "execution_count": 101,
     "metadata": {},
     "output_type": "execute_result"
    },
    {
     "data": {
      "text/plain": [
       "<Figure size 640x480 with 1 Axes>"
      ],
      "image/png": "[encoded data removed]"
     },
     "metadata": {},
     "output_type": "display_data"
    }
   ],
   "execution_count": 101
  },
  {
   "metadata": {
    "ExecuteTime": {
     "end_time": "2025-02-17T09:24:24.083543Z",
     "start_time": "2025-02-17T09:24:23.948789Z"
    }
   },
   "cell_type": "code",
   "source": "df_titanic.plot(kind='box')",
   "id": "9b10e331b87342f",
   "outputs": [
    {
     "data": {
      "text/plain": [
       "<Axes: >"
      ]
     },
     "execution_count": 102,
     "metadata": {},
     "output_type": "execute_result"
    },
    {
     "data": {
      "text/plain": [
       "<Figure size 640x480 with 1 Axes>"
      ],
      "image/png": "[encoded data removed]"
     },
     "metadata": {},
     "output_type": "display_data"
    }
   ],
   "execution_count": 102
  },
  {
   "metadata": {
    "ExecuteTime": {
     "end_time": "2025-02-17T09:26:46.362737Z",
     "start_time": "2025-02-17T09:26:42.596764Z"
    }
   },
   "cell_type": "code",
   "source": "!pip install seaborn",
   "id": "881808434534363a",
   "outputs": [
    {
     "name": "stdout",
     "output_type": "stream",
     "text": [
      "Collecting seaborn\n",
      "  Using cached seaborn-0.13.2-py3-none-any.whl.metadata (5.4 kB)\n",
      "Requirement already satisfied: numpy!=1.24.0,>=1.20 in d:\\documents\\python_projects\\bulding_ml_models\\.venv\\lib\\site-packages (from seaborn) (2.2.3)\n",
      "Requirement already satisfied: pandas>=1.2 in d:\\documents\\python_projects\\bulding_ml_models\\.venv\\lib\\site-packages (from seaborn) (2.2.3)\n",
      "Requirement already satisfied: matplotlib!=3.6.1,>=3.4 in d:\\documents\\python_projects\\bulding_ml_models\\.venv\\lib\\site-packages (from seaborn) (3.10.0)\n",
      "Requirement already satisfied: contourpy>=1.0.1 in d:\\documents\\python_projects\\bulding_ml_models\\.venv\\lib\\site-packages (from matplotlib!=3.6.1,>=3.4->seaborn) (1.3.1)\n",
      "Requirement already satisfied: cycler>=0.10 in d:\\documents\\python_projects\\bulding_ml_models\\.venv\\lib\\site-packages (from matplotlib!=3.6.1,>=3.4->seaborn) (0.12.1)\n",
      "Requirement already satisfied: fonttools>=4.22.0 in d:\\documents\\python_projects\\bulding_ml_models\\.venv\\lib\\site-packages (from matplotlib!=3.6.1,>=3.4->seaborn) (4.56.0)\n",
      "Requirement already satisfied: kiwisolver>=1.3.1 in d:\\documents\\python_projects\\bulding_ml_models\\.venv\\lib\\site-packages (from matplotlib!=3.6.1,>=3.4->seaborn) (1.4.8)\n",
      "Requirement already satisfied: packaging>=20.0 in d:\\documents\\python_projects\\bulding_ml_models\\.venv\\lib\\site-packages (from matplotlib!=3.6.1,>=3.4->seaborn) (24.2)\n",
      "Requirement already satisfied: pillow>=8 in d:\\documents\\python_projects\\bulding_ml_models\\.venv\\lib\\site-packages (from matplotlib!=3.6.1,>=3.4->seaborn) (11.1.0)\n",
      "Requirement already satisfied: pyparsing>=2.3.1 in d:\\documents\\python_projects\\bulding_ml_models\\.venv\\lib\\site-packages (from matplotlib!=3.6.1,>=3.4->seaborn) (3.2.1)\n",
      "Requirement already satisfied: python-dateutil>=2.7 in d:\\documents\\python_projects\\bulding_ml_models\\.venv\\lib\\site-packages (from matplotlib!=3.6.1,>=3.4->seaborn) (2.9.0.post0)\n",
      "Requirement already satisfied: pytz>=2020.1 in d:\\documents\\python_projects\\bulding_ml_models\\.venv\\lib\\site-packages (from pandas>=1.2->seaborn) (2025.1)\n",
      "Requirement already satisfied: tzdata>=2022.7 in d:\\documents\\python_projects\\bulding_ml_models\\.venv\\lib\\site-packages (from pandas>=1.2->seaborn) (2025.1)\n",
      "Requirement already satisfied: six>=1.5 in d:\\documents\\python_projects\\bulding_ml_models\\.venv\\lib\\site-packages (from python-dateutil>=2.7->matplotlib!=3.6.1,>=3.4->seaborn) (1.17.0)\n",
      "Using cached seaborn-0.13.2-py3-none-any.whl (294 kB)\n",
      "Installing collected packages: seaborn\n",
      "Successfully installed seaborn-0.13.2\n"
     ]
    },
    {
     "name": "stderr",
     "output_type": "stream",
     "text": [
      "\n",
      "[notice] A new release of pip is available: 24.3.1 -> 25.0.1\n",
      "[notice] To update, run: python.exe -m pip install --upgrade pip\n"
     ]
    }
   ],
   "execution_count": 103
  },
  {
   "metadata": {
    "ExecuteTime": {
     "end_time": "2025-02-17T09:26:57.990099Z",
     "start_time": "2025-02-17T09:26:57.729985Z"
    }
   },
   "cell_type": "code",
   "source": "import seaborn as sns",
   "id": "c92a6bd7e3c5b499",
   "outputs": [],
   "execution_count": 104
  },
  {
   "metadata": {
    "ExecuteTime": {
     "end_time": "2025-02-17T09:28:33.173619Z",
     "start_time": "2025-02-17T09:28:33.053785Z"
    }
   },
   "cell_type": "code",
   "source": [
    "sns.scatterplot(x='Age', y='Fare', data=df_titanic)\n",
    "plt.show()"
   ],
   "id": "d5ca37f65d4fe70b",
   "outputs": [
    {
     "data": {
      "text/plain": [
       "<Figure size 640x480 with 1 Axes>"
      ],
      "image/png": "[encoded data removed]"
     },
     "metadata": {},
     "output_type": "display_data"
    }
   ],
   "execution_count": 105
  },
  {
   "metadata": {
    "ExecuteTime": {
     "end_time": "2025-02-17T09:29:20.696835Z",
     "start_time": "2025-02-17T09:29:20.589591Z"
    }
   },
   "cell_type": "code",
   "source": [
    "sns.boxplot(x='Sex', y='Age', data=df_titanic)\n",
    "plt.show()"
   ],
   "id": "3d37b3a57cae90ea",
   "outputs": [
    {
     "data": {
      "text/plain": [
       "<Figure size 640x480 with 1 Axes>"
      ],
      "image/png": "[encoded data removed]"
     },
     "metadata": {},
     "output_type": "display_data"
    }
   ],
   "execution_count": 106
  },
  {
   "metadata": {
    "ExecuteTime": {
     "end_time": "2025-02-17T09:33:40.393825Z",
     "start_time": "2025-02-17T09:33:40.239214Z"
    }
   },
   "cell_type": "code",
   "source": [
    "sns.heatmap(\n",
    "    df_titanic[[\"Pclass\", \"Age\", \"SibSp\", \"Fare\"]].corr(), \n",
    "    annot=True, cmap='coolwarm',\n",
    ")\n",
    "plt.show()"
   ],
   "id": "cec122316e299ec8",
   "outputs": [
    {
     "data": {
      "text/plain": [
       "<Figure size 640x480 with 2 Axes>"
      ],
      "image/png": "[encoded data removed]"
     },
     "metadata": {},
     "output_type": "display_data"
    }
   ],
   "execution_count": 112
  },
  {
   "metadata": {
    "ExecuteTime": {
     "end_time": "2025-02-17T09:31:29.770850Z",
     "start_time": "2025-02-17T09:31:29.761407Z"
    }
   },
   "cell_type": "code",
   "source": "df_titanic[[\"Pclass\", \"Age\", \"SibSp\", \"Fare\"]].corr()",
   "id": "71081c2f757d9e36",
   "outputs": [
    {
     "data": {
      "text/plain": [
       "          Pclass       Age     SibSp      Fare\n",
       "Pclass  1.000000 -0.492143  0.001087 -0.577147\n",
       "Age    -0.492143  1.000000 -0.091587  0.337932\n",
       "SibSp   0.001087 -0.091587  1.000000  0.171539\n",
       "Fare   -0.577147  0.337932  0.171539  1.000000"
      ],
      "text/html": [
       "<div>\n",
       "<style scoped>\n",
       "    .dataframe tbody tr th:only-of-type {\n",
       "        vertical-align: middle;\n",
       "    }\n",
       "\n",
       "    .dataframe tbody tr th {\n",
       "        vertical-align: top;\n",
       "    }\n",
       "\n",
       "    .dataframe thead th {\n",
       "        text-align: right;\n",
       "    }\n",
       "</style>\n",
       "<table border=\"1\" class=\"dataframe\">\n",
       "  <thead>\n",
       "    <tr style=\"text-align: right;\">\n",
       "      <th></th>\n",
       "      <th>Pclass</th>\n",
       "      <th>Age</th>\n",
       "      <th>SibSp</th>\n",
       "      <th>Fare</th>\n",
       "    </tr>\n",
       "  </thead>\n",
       "  <tbody>\n",
       "    <tr>\n",
       "      <th>Pclass</th>\n",
       "      <td>1.000000</td>\n",
       "      <td>-0.492143</td>\n",
       "      <td>0.001087</td>\n",
       "      <td>-0.577147</td>\n",
       "    </tr>\n",
       "    <tr>\n",
       "      <th>Age</th>\n",
       "      <td>-0.492143</td>\n",
       "      <td>1.000000</td>\n",
       "      <td>-0.091587</td>\n",
       "      <td>0.337932</td>\n",
       "    </tr>\n",
       "    <tr>\n",
       "      <th>SibSp</th>\n",
       "      <td>0.001087</td>\n",
       "      <td>-0.091587</td>\n",
       "      <td>1.000000</td>\n",
       "      <td>0.171539</td>\n",
       "    </tr>\n",
       "    <tr>\n",
       "      <th>Fare</th>\n",
       "      <td>-0.577147</td>\n",
       "      <td>0.337932</td>\n",
       "      <td>0.171539</td>\n",
       "      <td>1.000000</td>\n",
       "    </tr>\n",
       "  </tbody>\n",
       "</table>\n",
       "</div>"
      ]
     },
     "execution_count": 109,
     "metadata": {},
     "output_type": "execute_result"
    }
   ],
   "execution_count": 109
  },
  {
   "metadata": {},
   "cell_type": "code",
   "outputs": [],
   "execution_count": null,
   "source": "",
   "id": "68f5260383ff05f"
  },
  {
   "metadata": {},
   "cell_type": "code",
   "outputs": [],
   "execution_count": null,
   "source": "",
   "id": "d793741f145f37a4"
  }
 ],
 "metadata": {
  "kernelspec": {
   "display_name": "Python 3",
   "language": "python",
   "name": "python3"
  },
  "language_info": {
   "codemirror_mode": {
    "name": "ipython",
    "version": 2
   },
   "file_extension": ".py",
   "mimetype": "text/x-python",
   "name": "python",
   "nbconvert_exporter": "python",
   "pygments_lexer": "ipython2",
   "version": "2.7.6"
  }
 },
 "nbformat": 4,
 "nbformat_minor": 5
}
